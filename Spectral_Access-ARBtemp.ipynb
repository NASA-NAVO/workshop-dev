{
 "cells": [
  {
   "cell_type": "markdown",
   "metadata": {},
   "source": [
    "# Retrieve spectra using Simple Spectral Access protocol\n",
    "\n",
    "This notebook is one of a set produced by NAVO to demonstrate data access with python tools. If you have not already, start with the [overview notebook](Overview.ipynb).\n",
    "\n",
    "In this notebook, we show how to search for and retrieve spectra from VO services using the Registry and the __[Simple Spectral Access](http://www.ivoa.net/documents/SSA/)__ (SSA) protocol.\n"
   ]
  },
  {
   "cell_type": "code",
   "execution_count": 2,
   "metadata": {
    "collapsed": true
   },
   "outputs": [],
   "source": [
    "import matplotlib\n",
    "import matplotlib.pyplot as plt\n",
    "import numpy as np\n",
    "%matplotlib inline  \n",
    "import requests, io\n",
    "from astropy.table import Table\n",
    "import astropy.io.fits as fits\n",
    "\n",
    "from navo_utils.registry import Registry\n",
    "from navo_utils.spectra import Spectra, SpectraColumn\n",
    "\n",
    "from astropy.coordinates import SkyCoord\n",
    "\n",
    "## There are a number of relatively unimportant warnings that \n",
    "## show up, so for now, suppress them:\n",
    "import warnings\n",
    "warnings.filterwarnings(\"ignore\")"
   ]
  },
  {
   "cell_type": "markdown",
   "metadata": {},
   "source": [
    "First, we find out what spectral acess services are available in the Registry offering x-ray data:"
   ]
  },
  {
   "cell_type": "code",
   "execution_count": 3,
   "metadata": {
    "collapsed": false,
    "scrolled": true
   },
   "outputs": [
    {
     "data": {
      "text/html": [
       "&lt;Table masked=True length=4&gt;\n",
       "<table id=\"table4424371392\" class=\"table-striped table-bordered table-condensed\">\n",
       "<thead><tr><th>waveband</th><th>short_name</th><th>ivoid</th><th>res_description</th><th>access_url</th><th>reference_url</th><th>publisher</th><th>service_type</th></tr></thead>\n",
       "<thead><tr><th>str56</th><th>str14</th><th>str49</th><th>str678</th><th>str71</th><th>str58</th><th>str36</th><th>str20</th></tr></thead>\n",
       "<tr><td>x-ray#gamma-ray</td><td>HEAVENS @ ISDC</td><td>ivo://wfau.roe.ac.uk/heavens_at_isdc/light-curves</td><td>With time, all HEAVENS products should become available on the Virtual Observatory. In some cases this requires an enhancement of the Virtual Observatory standards. For now the following HEAVENS services are available through the VO: - SIAP Image cutout service for INTEGRAL/ISGRI and JEM-X - Timeseries service for INTEGRAL/ISGRI, JEM-X and OMC Wished features include: - Extended Query Parameters for time intervals - Extended Query Parameters for energy bands - Timeseries service for INTEGRAL/IREM and SPI-ACS - Spectra service for all INTEGRAL instruments</td><td>http://www.isdc.unige.ch/vo-services/lc?</td><td>http://www.isdc.unige.ch/heavens/</td><td>WFAU</td><td>simplespectralaccess</td></tr>\n",
       "<tr><td>radio#millimeter#infrared#optical#uv#euv#x-ray#gamma-ray</td><td>NED/SED</td><td>ivo://ned.ipac/sed_data_near_position</td><td>NED SED Information Discovery Request service: The NASA/IPAC Extragalactic Database (NED) provides a comprehensive fusion of multi-wavelength data for hundreds of millions of objects located beyond the Milky Way galaxy. This service retrieves photometry for objects within a specified radius of a given position. The search region is specified by two parameters: POS [RA and DEC in decimal degrees, ICRF/FK5J2000] and SIZE [degrees]. This service returns a list of NED Object Identifiers (Names), the count of photometric SED measurements for each object, and the URI (ACREF) for the SED Data Retrieval request (accessSED). This service is used by the VO SED analysis tool Iris.</td><td>http://vo.ned.ipac.caltech.edu/services/querySED?REQUEST=queryData&amp;amp;</td><td>http://ned.ipac.caltech.edu/help/data_help.html#ptmydat</td><td>The NASA/IPAC Extragalactic Database</td><td>simplespectralaccess</td></tr>\n",
       "<tr><td>gamma-ray#x-ray</td><td>INTEGRAL/BSC</td><td>ivo://nasa.heasarc/intbsc</td><td>No Description Available</td><td>https://heasarc.gsfc.nasa.gov/xamin/vo/ssa?table=intbsc&amp;amp;</td><td>https://heasarc.gsfc.nasa.gov/W3Browse/all/intbsc.html</td><td>NASA/GSFC HEASARC</td><td>simplespectralaccess</td></tr>\n",
       "<tr><td>x-ray</td><td>Chandra</td><td>ivo://nasa.heasarc/chanmaster</td><td>No Description Available</td><td>https://heasarc.gsfc.nasa.gov/xamin/vo/ssa?table=chanmaster&amp;amp;</td><td>https://heasarc.gsfc.nasa.gov/W3Browse/all/chanmaster.html</td><td>NASA/GSFC HEASARC</td><td>simplespectralaccess</td></tr>\n",
       "</table>"
      ],
      "text/plain": [
       "<Table masked=True length=4>\n",
       "                        waveband                         ...\n",
       "                         str56                           ...\n",
       "-------------------------------------------------------- ...\n",
       "                                         x-ray#gamma-ray ...\n",
       "radio#millimeter#infrared#optical#uv#euv#x-ray#gamma-ray ...\n",
       "                                         gamma-ray#x-ray ...\n",
       "                                                   x-ray ..."
      ]
     },
     "execution_count": 3,
     "metadata": {},
     "output_type": "execute_result"
    }
   ],
   "source": [
    "services=Registry.query(service_type='spectr',waveband='x-ray')\n",
    "services"
   ]
  },
  {
   "cell_type": "markdown",
   "metadata": {},
   "source": [
    "We can look at only the Chandra entry:"
   ]
  },
  {
   "cell_type": "code",
   "execution_count": 4,
   "metadata": {
    "collapsed": false
   },
   "outputs": [
    {
     "data": {
      "text/html": [
       "&lt;Table masked=True length=1&gt;\n",
       "<table id=\"table4536104888\" class=\"table-striped table-bordered table-condensed\">\n",
       "<thead><tr><th>short_name</th><th>access_url</th></tr></thead>\n",
       "<thead><tr><th>str14</th><th>str71</th></tr></thead>\n",
       "<tr><td>Chandra</td><td>https://heasarc.gsfc.nasa.gov/xamin/vo/ssa?table=chanmaster&amp;amp;</td></tr>\n",
       "</table>"
      ],
      "text/plain": [
       "<Table masked=True length=1>\n",
       "short_name                            access_url                           \n",
       "  str14                                 str71                              \n",
       "---------- ----------------------------------------------------------------\n",
       "   Chandra https://heasarc.gsfc.nasa.gov/xamin/vo/ssa?table=chanmaster&amp;"
      ]
     },
     "execution_count": 4,
     "metadata": {},
     "output_type": "execute_result"
    }
   ],
   "source": [
    "chan_tables = services[np.isin(services['short_name'],['Chandra'])]\n",
    "chan_tables['short_name', 'access_url']"
   ]
  },
  {
   "cell_type": "markdown",
   "metadata": {
    "collapsed": true
   },
   "source": [
    "## Chandra Spectrum of the Delta Ori"
   ]
  },
  {
   "cell_type": "code",
   "execution_count": 5,
   "metadata": {
    "collapsed": false
   },
   "outputs": [
    {
     "name": "stdout",
     "output_type": "stream",
     "text": [
      "    Querying service https://heasarc.gsfc.nasa.gov/xamin/vo/ssa?table=chanmaster&amp;\n",
      "    Got 6 results for parameters[0]\n"
     ]
    },
    {
     "data": {
      "text/html": [
       "&lt;SpectraTable masked=True length=6&gt;\n",
       "<table id=\"table4439042928-454390\" class=\"table-striped table-bordered table-condensed\">\n",
       "<thead><tr><th>idx</th><th>obsid</th><th>status</th><th>name</th><th>ra</th><th>dec</th><th>time</th><th>detector</th><th>grating</th><th>exposure</th><th>type</th><th>pi</th><th>public_date</th><th>SSA_start_time</th><th>SSA_tmid</th><th>SSA_stop_time</th><th>SSA_duration</th><th>SSA_ra</th><th>SSA_dec</th><th>SSA_coord_obs</th><th>SSA_title</th><th>SSA_reference</th><th>SSA_datalength</th><th>SSA_datamodel</th><th>SSA_instrument</th><th>SSA_publisher</th><th>SSA_format</th><th>SSA_fov</th><th>SSA_wavelength_min</th><th>SSA_wavelength_max</th><th>SSA_bandwidth</th><th>SSA_bandpass</th></tr></thead>\n",
       "<thead><tr><th></th><th></th><th></th><th></th><th>deg</th><th>deg</th><th>mjd</th><th></th><th></th><th>s</th><th></th><th></th><th>mjd</th><th>mjd</th><th>mjd</th><th>mjd</th><th>s</th><th>deg</th><th>deg</th><th>deg</th><th></th><th></th><th></th><th></th><th></th><th></th><th></th><th>deg</th><th>meter</th><th>meter</th><th>meter</th><th>meter</th></tr></thead>\n",
       "<tr><td>0</td><td>639</td><td>archived</td><td>DELTA ORI</td><td>83.00125</td><td>-0.29917</td><td>51556.1364</td><td>ACIS-S</td><td>HETG</td><td>49680</td><td>GO</td><td>Cassinelli</td><td>52037</td><td>51556.1364</td><td>51556.43650057151</td><td>51556.735856340485</td><td>49680.0</td><td>83.00125</td><td>-0.29917</td><td>--</td><td>acisf00639N004_pha2</td><td>https://heasarc.gsfc.nasa.gov/FTP/chandra/data/science/ao01/cat2/639/primary/acisf00639N004_pha2.fits.gz</td><td>12.0</td><td>Spectrum-1.0</td><td>ACIS-S</td><td>HEASARC</td><td>application/fits</td><td>0.81</td><td>1.2398e-10</td><td>6.1992e-09</td><td>6.07522e-09</td><td>3.16159e-09</td></tr>\n",
       "<tr><td>1</td><td>7416</td><td>archived</td><td>delta Ori HD 36486</td><td>83.00167</td><td>-0.29908</td><td>54413.4270</td><td>HRC-S</td><td>LETG</td><td>97080</td><td>GO</td><td>Raassen</td><td>54783</td><td>54413.427</td><td>54413.99748095434</td><td>54414.56715379722</td><td>97080.0</td><td>83.00167</td><td>-0.29908</td><td>--</td><td>hrcf07416N003_pha2</td><td>https://heasarc.gsfc.nasa.gov/FTP/chandra/data/science/ao08/cat2/7416/primary/hrcf07416N003_pha2.fits.gz</td><td>2.0</td><td>Spectrum-1.0</td><td>HRC-S</td><td>HEASARC</td><td>application/fits</td><td>0.81</td><td>1.2398e-10</td><td>6.1992e-09</td><td>6.07522e-09</td><td>3.16159e-09</td></tr>\n",
       "<tr><td>2</td><td>14567</td><td>archived</td><td>Delta Ori</td><td>83.00167</td><td>-0.29908</td><td>56280.7037</td><td>ACIS-S</td><td>HETG</td><td>116500</td><td>GO</td><td>Corcoran</td><td>56647</td><td>56280.7037</td><td>56281.38982472211</td><td>56282.07517784063</td><td>116500.0</td><td>83.00167</td><td>-0.29908</td><td>--</td><td>acisf14567N002_pha2</td><td>https://heasarc.gsfc.nasa.gov/FTP/chandra/data/science/ao14/cat2/14567/primary/acisf14567N002_pha2.fits.gz</td><td>12.0</td><td>Spectrum-1.0</td><td>ACIS-S</td><td>HEASARC</td><td>application/fits</td><td>0.81</td><td>1.2398e-10</td><td>6.1992e-09</td><td>6.07522e-09</td><td>3.16159e-09</td></tr>\n",
       "<tr><td>3</td><td>14568</td><td>archived</td><td>Delta Ori</td><td>83.00167</td><td>-0.29908</td><td>56288.1612</td><td>ACIS-S</td><td>HETG</td><td>123600</td><td>GO</td><td>Corcoran</td><td>56655</td><td>56288.1612</td><td>56288.89025076302</td><td>56289.61850203206</td><td>123600.0</td><td>83.00167</td><td>-0.29908</td><td>--</td><td>acisf14568N002_pha2</td><td>https://heasarc.gsfc.nasa.gov/FTP/chandra/data/science/ao14/cat2/14568/primary/acisf14568N002_pha2.fits.gz</td><td>12.0</td><td>Spectrum-1.0</td><td>ACIS-S</td><td>HEASARC</td><td>application/fits</td><td>0.81</td><td>1.2398e-10</td><td>6.1992e-09</td><td>6.07522e-09</td><td>3.16159e-09</td></tr>\n",
       "<tr><td>4</td><td>14569</td><td>archived</td><td>Delta Ori</td><td>83.00167</td><td>-0.29908</td><td>56283.2540</td><td>ACIS-S</td><td>HETG</td><td>120850</td><td>GO</td><td>Corcoran</td><td>56650</td><td>56283.254</td><td>56283.96498017049</td><td>56284.67520199699</td><td>120850.0</td><td>83.00167</td><td>-0.29908</td><td>--</td><td>acisf14569N002_pha2</td><td>https://heasarc.gsfc.nasa.gov/FTP/chandra/data/science/ao14/cat2/14569/primary/acisf14569N002_pha2.fits.gz</td><td>12.0</td><td>Spectrum-1.0</td><td>ACIS-S</td><td>HEASARC</td><td>application/fits</td><td>0.81</td><td>1.2398e-10</td><td>6.1992e-09</td><td>6.07522e-09</td><td>3.16159e-09</td></tr>\n",
       "<tr><td>5</td><td>14570</td><td>archived</td><td>Delta Ori</td><td>83.00167</td><td>-0.29908</td><td>56285.5508</td><td>ACIS-S</td><td>HETG</td><td>124100</td><td>GO</td><td>Corcoran</td><td>56652</td><td>56285.5508</td><td>56286.28389746857</td><td>56287.016223824656</td><td>124100.0</td><td>83.00167</td><td>-0.29908</td><td>--</td><td>acisf14570N002_pha2</td><td>https://heasarc.gsfc.nasa.gov/FTP/chandra/data/science/ao14/cat2/14570/primary/acisf14570N002_pha2.fits.gz</td><td>12.0</td><td>Spectrum-1.0</td><td>ACIS-S</td><td>HEASARC</td><td>application/fits</td><td>0.81</td><td>1.2398e-10</td><td>6.1992e-09</td><td>6.07522e-09</td><td>3.16159e-09</td></tr>\n",
       "</table><style>table.dataTable {clear: both; width: auto !important; margin: 0 !important;}\n",
       ".dataTables_info, .dataTables_length, .dataTables_filter, .dataTables_paginate{\n",
       "display: inline-block; margin-right: 1em; }\n",
       ".paginate_button { margin-right: 5px; }\n",
       "</style>\n",
       "<script>\n",
       "\n",
       "var astropy_sort_num = function(a, b) {\n",
       "    var a_num = parseFloat(a);\n",
       "    var b_num = parseFloat(b);\n",
       "\n",
       "    if (isNaN(a_num) && isNaN(b_num))\n",
       "        return ((a < b) ? -1 : ((a > b) ? 1 : 0));\n",
       "    else if (!isNaN(a_num) && !isNaN(b_num))\n",
       "        return ((a_num < b_num) ? -1 : ((a_num > b_num) ? 1 : 0));\n",
       "    else\n",
       "        return isNaN(a_num) ? -1 : 1;\n",
       "}\n",
       "\n",
       "require.config({paths: {\n",
       "    datatables: 'https://cdn.datatables.net/1.10.12/js/jquery.dataTables.min'\n",
       "}});\n",
       "require([\"datatables\"], function(){\n",
       "    console.log(\"$('#table4439042928-454390').dataTable()\");\n",
       "    \n",
       "jQuery.extend( jQuery.fn.dataTableExt.oSort, {\n",
       "    \"optionalnum-asc\": astropy_sort_num,\n",
       "    \"optionalnum-desc\": function (a,b) { return -astropy_sort_num(a, b); }\n",
       "});\n",
       "\n",
       "    $('#table4439042928-454390').dataTable({\n",
       "        order: [],\n",
       "        pageLength: 50,\n",
       "        lengthMenu: [[10, 25, 50, 100, 500, 1000, -1], [10, 25, 50, 100, 500, 1000, 'All']],\n",
       "        pagingType: \"full_numbers\",\n",
       "        columnDefs: [{targets: [0, 4, 5, 6, 9, 12, 13, 14, 15, 16, 17, 18, 19, 27, 28, 29, 30, 31], type: \"optionalnum\"}]\n",
       "    });\n",
       "});\n",
       "</script>\n"
      ],
      "text/plain": [
       "<IPython.core.display.HTML object>"
      ]
     },
     "execution_count": 5,
     "metadata": {},
     "output_type": "execute_result"
    }
   ],
   "source": [
    "delori=SkyCoord.from_name(\"delta ori\")\n",
    "pos='{},{}'.format(delori.ra.deg,delori.dec.deg)\n",
    "\n",
    "spec_tables=Spectra.query(service=chan_tables[0],coords=pos,radius=0.1,verbose=True)\n",
    "\n",
    "spec_tables[0]['time'].format='.4f'\n",
    "spec_tables[0].show_in_notebook()\n",
    "\n"
   ]
  },
  {
   "cell_type": "code",
   "execution_count": 6,
   "metadata": {
    "collapsed": false
   },
   "outputs": [
    {
     "name": "stdout",
     "output_type": "stream",
     "text": [
      "FITS spectrum written to downloads/chandra_spectrum.fits\n",
      "\n"
     ]
    }
   ],
   "source": [
    "hdu_list=Spectra.get_fits(spec_tables[0][5])\n",
    "# Or write it to disk\n",
    "Spectra.get_fits(spec_tables[0][5],filename='downloads/chandra_spectrum.fits')"
   ]
  },
  {
   "cell_type": "markdown",
   "metadata": {},
   "source": [
    "## Simple example of plotting a spectrum"
   ]
  },
  {
   "cell_type": "code",
   "execution_count": 7,
   "metadata": {
    "collapsed": false
   },
   "outputs": [
    {
     "data": {
      "text/html": [
       "&lt;Table length=12&gt;\n",
       "<table id=\"table4467847632\" class=\"table-striped table-bordered table-condensed\">\n",
       "<thead><tr><th>SPEC_NUM</th><th>TG_M</th><th>TG_PART</th><th>TG_SRCID</th><th>X</th><th>Y</th><th>CHANNEL [8192]</th><th>COUNTS [8192]</th><th>STAT_ERR [8192]</th><th>BACKGROUND_UP [8192]</th><th>BACKGROUND_DOWN [8192]</th><th>BIN_LO [8192]</th><th>BIN_HI [8192]</th></tr></thead>\n",
       "<thead><tr><th>int16</th><th>int16</th><th>int16</th><th>int16</th><th>float32</th><th>float32</th><th>int16</th><th>int16</th><th>float32</th><th>int16</th><th>int16</th><th>float64</th><th>float64</th></tr></thead>\n",
       "<tr><td>1</td><td>-3</td><td>1</td><td>1</td><td>4113.775</td><td>4083.7346</td><td>1 .. 8192</td><td>0 .. 0</td><td>1.8660254 .. 1.8660254</td><td>0 .. 0</td><td>0 .. 0</td><td>7.159166666667378 .. 0.3333333333333333</td><td>7.160000000000712 .. 0.33416666666666667</td></tr>\n",
       "<tr><td>2</td><td>-2</td><td>1</td><td>1</td><td>4113.775</td><td>4083.7346</td><td>1 .. 8192</td><td>0 .. 0</td><td>1.8660254 .. 1.8660254</td><td>0 .. 0</td><td>0 .. 0</td><td>10.738750000000886 .. 0.5</td><td>10.740000000000887 .. 0.50125</td></tr>\n",
       "<tr><td>3</td><td>-1</td><td>1</td><td>1</td><td>4113.775</td><td>4083.7346</td><td>1 .. 8192</td><td>0 .. 0</td><td>1.8660254 .. 1.8660254</td><td>0 .. 0</td><td>0 .. 0</td><td>21.477500000001772 .. 1.0</td><td>21.480000000001773 .. 1.0025</td></tr>\n",
       "<tr><td>4</td><td>1</td><td>1</td><td>1</td><td>4113.775</td><td>4083.7346</td><td>1 .. 8192</td><td>0 .. 0</td><td>1.8660254 .. 1.8660254</td><td>0 .. 0</td><td>0 .. 0</td><td>21.477500000001772 .. 1.0</td><td>21.480000000001773 .. 1.0025</td></tr>\n",
       "<tr><td>5</td><td>2</td><td>1</td><td>1</td><td>4113.775</td><td>4083.7346</td><td>1 .. 8192</td><td>0 .. 0</td><td>1.8660254 .. 1.8660254</td><td>0 .. 0</td><td>0 .. 0</td><td>10.738750000000886 .. 0.5</td><td>10.740000000000887 .. 0.50125</td></tr>\n",
       "<tr><td>6</td><td>3</td><td>1</td><td>1</td><td>4113.775</td><td>4083.7346</td><td>1 .. 8192</td><td>0 .. 0</td><td>1.8660254 .. 1.8660254</td><td>0 .. 0</td><td>0 .. 0</td><td>7.159166666667378 .. 0.3333333333333333</td><td>7.160000000000712 .. 0.33416666666666667</td></tr>\n",
       "<tr><td>7</td><td>-3</td><td>2</td><td>1</td><td>4113.775</td><td>4083.7346</td><td>1 .. 8192</td><td>0 .. 0</td><td>1.8660254 .. 1.8660254</td><td>0 .. 0</td><td>0 .. 0</td><td>13.985000000001373 .. 0.3333333333333333</td><td>13.98666666666804 .. 0.33499999999999996</td></tr>\n",
       "<tr><td>8</td><td>-2</td><td>2</td><td>1</td><td>4113.775</td><td>4083.7346</td><td>1 .. 8192</td><td>0 .. 0</td><td>1.8660254 .. 1.8660254</td><td>0 .. 0</td><td>0 .. 0</td><td>20.977500000001505 .. 0.5</td><td>20.980000000001507 .. 0.5025</td></tr>\n",
       "<tr><td>9</td><td>-1</td><td>2</td><td>1</td><td>4113.775</td><td>4083.7346</td><td>1 .. 8192</td><td>0 .. 0</td><td>1.8660254 .. 1.8660254</td><td>0 .. 0</td><td>0 .. 0</td><td>41.95500000000301 .. 1.0</td><td>41.960000000003014 .. 1.005</td></tr>\n",
       "<tr><td>10</td><td>1</td><td>2</td><td>1</td><td>4113.775</td><td>4083.7346</td><td>1 .. 8192</td><td>0 .. 0</td><td>1.8660254 .. 1.8660254</td><td>0 .. 0</td><td>0 .. 0</td><td>41.95500000000301 .. 1.0</td><td>41.960000000003014 .. 1.005</td></tr>\n",
       "<tr><td>11</td><td>2</td><td>2</td><td>1</td><td>4113.775</td><td>4083.7346</td><td>1 .. 8192</td><td>0 .. 0</td><td>1.8660254 .. 1.8660254</td><td>0 .. 0</td><td>0 .. 0</td><td>20.977500000001505 .. 0.5</td><td>20.980000000001507 .. 0.5025</td></tr>\n",
       "<tr><td>12</td><td>3</td><td>2</td><td>1</td><td>4113.775</td><td>4083.7346</td><td>1 .. 8192</td><td>0 .. 0</td><td>1.8660254 .. 1.8660254</td><td>0 .. 0</td><td>0 .. 0</td><td>13.985000000001373 .. 0.3333333333333333</td><td>13.98666666666804 .. 0.33499999999999996</td></tr>\n",
       "</table>"
      ],
      "text/plain": [
       "<Table length=12>\n",
       "SPEC_NUM  TG_M ...              BIN_HI [8192]              \n",
       " int16   int16 ...                 float64                 \n",
       "-------- ----- ... ----------------------------------------\n",
       "       1    -3 ... 7.160000000000712 .. 0.33416666666666667\n",
       "       2    -2 ...            10.740000000000887 .. 0.50125\n",
       "       3    -1 ...             21.480000000001773 .. 1.0025\n",
       "       4     1 ...             21.480000000001773 .. 1.0025\n",
       "       5     2 ...            10.740000000000887 .. 0.50125\n",
       "       6     3 ... 7.160000000000712 .. 0.33416666666666667\n",
       "       7    -3 ... 13.98666666666804 .. 0.33499999999999996\n",
       "       8    -2 ...             20.980000000001507 .. 0.5025\n",
       "       9    -1 ...              41.960000000003014 .. 1.005\n",
       "      10     1 ...              41.960000000003014 .. 1.005\n",
       "      11     2 ...             20.980000000001507 .. 0.5025\n",
       "      12     3 ... 13.98666666666804 .. 0.33499999999999996"
      ]
     },
     "execution_count": 7,
     "metadata": {},
     "output_type": "execute_result"
    }
   ],
   "source": [
    "spec_table=Table(hdu_list[1].data)\n",
    "spec_table"
   ]
  },
  {
   "cell_type": "code",
   "execution_count": 8,
   "metadata": {
    "collapsed": false
   },
   "outputs": [
    {
     "data": {
      "image/png": "[encoded data removed]",
      "text/plain": [
       "<matplotlib.figure.Figure at 0x10f07d630>"
      ]
     },
     "metadata": {},
     "output_type": "display_data"
    }
   ],
   "source": [
    "for i in range(len(spec_table)):\n",
    "    matplotlib.rcParams['figure.figsize'] = (10, 8)\n",
    "    ax=plt.subplot(6,2,i+1)\n",
    "    pha = plt.plot( spec_table['CHANNEL'][i],spec_table['COUNTS'][i])\n",
    "    ax.set_yscale('log')\n",
    "    if spec_table['TG_PART'][i] == 1:\n",
    "        instr='HEG'\n",
    "    if spec_table['TG_PART'][i] == 2:\n",
    "        instr='MEG'\n",
    "    if spec_table['TG_PART'][i] == 3:\n",
    "        instr='LEG'\n",
    "    ax.set_title(\"{grating}{order:+d}\".format(grating=instr, order=spec_table['TG_M'][i]))\n",
    "    plt.tight_layout()\n"
   ]
  },
  {
   "cell_type": "markdown",
   "metadata": {},
   "source": [
    "## <font color=red> Antara: This is still not very exciting but then if we follow the necessary steps to make a pretty spectrum, we are deviating from the VO stuff and veering into plotting and PyXSPEC tutorial. Not sure if we should continue or not. Also VO doesn't provide the necessary response file so we need to use stored files... </font>"
   ]
  },
  {
   "cell_type": "markdown",
   "metadata": {},
   "source": [
    "### Continuing with making a pretty spectrum, but this now requires PyXSPEC, response files (in the data directory): \n",
    "\n"
   ]
  },
  {
   "cell_type": "code",
   "execution_count": 11,
   "metadata": {
    "collapsed": false
   },
   "outputs": [
    {
     "ename": "ModuleNotFoundError",
     "evalue": "No module named 'chain'",
     "output_type": "error",
     "traceback": [
      "\u001b[0;31m---------------------------------------------------------------------------\u001b[0m",
      "\u001b[0;31mModuleNotFoundError\u001b[0m                       Traceback (most recent call last)",
      "\u001b[0;32m<ipython-input-11-bdf819d32909>\u001b[0m in \u001b[0;36m<module>\u001b[0;34m()\u001b[0m\n\u001b[0;32m----> 1\u001b[0;31m \u001b[0;32mimport\u001b[0m \u001b[0mxspec\u001b[0m\u001b[0;34m\u001b[0m\u001b[0m\n\u001b[0m\u001b[1;32m      2\u001b[0m \u001b[0;31m## For capturing Xspec terminal output\u001b[0m\u001b[0;34m\u001b[0m\u001b[0;34m\u001b[0m\u001b[0m\n\u001b[1;32m      3\u001b[0m \u001b[0;31m##  See https://github.com/minrk/wurlitzer\u001b[0m\u001b[0;34m\u001b[0m\u001b[0;34m\u001b[0m\u001b[0m\n\u001b[1;32m      4\u001b[0m \u001b[0;32mfrom\u001b[0m \u001b[0mwurlitzer\u001b[0m \u001b[0;32mimport\u001b[0m \u001b[0msys_pipes\u001b[0m\u001b[0;34m\u001b[0m\u001b[0m\n\u001b[1;32m      5\u001b[0m \u001b[0mxspec\u001b[0m\u001b[0;34m.\u001b[0m\u001b[0mXset\u001b[0m\u001b[0;34m.\u001b[0m\u001b[0mallowPrompting\u001b[0m \u001b[0;34m=\u001b[0m \u001b[0;32mFalse\u001b[0m \u001b[0;31m# keeps pyxspec from hanging, waiting for a response to a prompt\u001b[0m\u001b[0;34m\u001b[0m\u001b[0m\n",
      "\u001b[0;32m~/Applications/Science/scisoft/heasoft-6.19/x86_64-apple-darwin15.3.0/lib/python/xspec/__init__.py\u001b[0m in \u001b[0;36m<module>\u001b[0;34m()\u001b[0m\n\u001b[1;32m     62\u001b[0m \u001b[0;34m\u001b[0m\u001b[0m\n\u001b[1;32m     63\u001b[0m \"\"\"\n\u001b[0;32m---> 64\u001b[0;31m \u001b[0;32mfrom\u001b[0m \u001b[0mchain\u001b[0m \u001b[0;32mimport\u001b[0m \u001b[0mChainManager\u001b[0m\u001b[0;34m,\u001b[0m \u001b[0mAllChains\u001b[0m\u001b[0;34m,\u001b[0m \u001b[0mChain\u001b[0m\u001b[0;34m\u001b[0m\u001b[0m\n\u001b[0m\u001b[1;32m     65\u001b[0m \u001b[0;32mfrom\u001b[0m \u001b[0mfit\u001b[0m \u001b[0;32mimport\u001b[0m \u001b[0mFitManager\u001b[0m\u001b[0;34m,\u001b[0m \u001b[0mFit\u001b[0m\u001b[0;34m\u001b[0m\u001b[0m\n\u001b[1;32m     66\u001b[0m \u001b[0;32mfrom\u001b[0m \u001b[0mdata\u001b[0m \u001b[0;32mimport\u001b[0m \u001b[0mFakeitSettings\u001b[0m\u001b[0;34m,\u001b[0m \u001b[0mDataManager\u001b[0m\u001b[0;34m,\u001b[0m \u001b[0mAllData\u001b[0m\u001b[0;34m\u001b[0m\u001b[0m\n",
      "\u001b[0;31mModuleNotFoundError\u001b[0m: No module named 'chain'"
     ]
    }
   ],
   "source": [
    "import xspec\n",
    "## For capturing Xspec terminal output\n",
    "##  See https://github.com/minrk/wurlitzer\n",
    "from wurlitzer import sys_pipes\n",
    "xspec.Xset.allowPrompting = False # keeps pyxspec from hanging, waiting for a response to a prompt\n",
    "##  The type II PHA files contain multiple spectra, and we tell Xspec to select with the \n",
    "##  curly bracket notation and the number starting from 1 (not zero):\n",
    "with sys_pipes():\n",
    "    pha = xspec.Spectrum(\"downloads/chandra_spectrum.fits{10}\")\n",
    "    ##  As mentioned above, this is retrieved off-line for now.\n",
    "    #pha.response=\"tgcat/obs_19792_tgid_5277/heg_1.rmf.gz\"\n",
    "    #pha.response.arf=\"tgcat/obs_19792_tgid_5277/heg_1.arf.gz\"    \n",
    "    #pha.response=\"tgcat/obs_19792_tgid_5277/meg_1.rmf.gz\"\n",
    "    #pha.response.arf=\"tgcat/obs_19792_tgid_5277/meg_1.arf.gz\"\n",
    "    pha.response=\"aux/my_rmf.fits.gz\"\n",
    "    pha.response.arf=\"aux/my_arf.fits.gz\""
   ]
  },
  {
   "cell_type": "code",
   "execution_count": null,
   "metadata": {
    "collapsed": true
   },
   "outputs": [],
   "source": [
    "with sys_pipes():\n",
    "    m = xspec.Model(\"tbabs*po+ga\")"
   ]
  }
 ],
 "metadata": {
  "anaconda-cloud": {},
  "kernelspec": {
   "display_name": "Python [py36]",
   "language": "python",
   "name": "Python [py36]"
  },
  "language_info": {
   "codemirror_mode": {
    "name": "ipython",
    "version": 3
   },
   "file_extension": ".py",
   "mimetype": "text/x-python",
   "name": "python",
   "nbconvert_exporter": "python",
   "pygments_lexer": "ipython3",
   "version": "3.6.4"
  },
  "nav_menu": {},
  "toc": {
   "navigate_menu": true,
   "number_sections": true,
   "sideBar": true,
   "threshold": 6,
   "toc_cell": false,
   "toc_section_display": "block",
   "toc_window_display": true
  }
 },
 "nbformat": 4,
 "nbformat_minor": 1
}
