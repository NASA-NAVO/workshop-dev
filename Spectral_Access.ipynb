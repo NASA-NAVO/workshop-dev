{
 "cells": [
  {
   "cell_type": "markdown",
   "metadata": {},
   "source": [
    "# Retrieve spectra using Simple Spectral Access protocol\n",
    "\n",
    "This notebook is one of a set produced by NAVO to demonstrate data access with python tools. If you have not already, start with the [overview notebook](Overview.ipynb).\n",
    "\n",
    "In this notebook, we show how to search for and retrieve spectra from VO services using the Registry and the __[Simple Spectral Access](http://www.ivoa.net/documents/SSA/)__ (SSA) protocol.\n"
   ]
  },
  {
   "cell_type": "code",
   "execution_count": 1,
   "metadata": {},
   "outputs": [],
   "source": [
    "import matplotlib\n",
    "import matplotlib.pyplot as plt\n",
    "import numpy as np\n",
    "%matplotlib inline  \n",
    "import requests, io\n",
    "from astropy.table import Table\n",
    "import astropy.io.fits as fits\n",
    "\n",
    "from navo_utils.registry import Registry\n",
    "from navo_utils.spectra import Spectra, SpectraColumn\n",
    "\n",
    "from astropy.coordinates import SkyCoord\n",
    "\n",
    "## There are a number of relatively unimportant warnings that \n",
    "## show up, so for now, suppress them:\n",
    "import warnings\n",
    "warnings.filterwarnings(\"ignore\")"
   ]
  },
  {
   "cell_type": "markdown",
   "metadata": {},
   "source": [
    "First, we find out what spectral acess services are available in the Registry offering x-ray data:"
   ]
  },
  {
   "cell_type": "code",
   "execution_count": 2,
   "metadata": {
    "scrolled": true
   },
   "outputs": [
    {
     "data": {
      "text/html": [
       "&lt;Table masked=True length=4&gt;\n",
       "<table id=\"table4529758416\" class=\"table-striped table-bordered table-condensed\">\n",
       "<thead><tr><th>waveband</th><th>short_name</th><th>ivoid</th><th>res_description</th><th>access_url</th><th>reference_url</th><th>publisher</th><th>service_type</th></tr></thead>\n",
       "<thead><tr><th>unicode56</th><th>unicode14</th><th>unicode49</th><th>unicode678</th><th>unicode71</th><th>unicode58</th><th>unicode36</th><th>unicode20</th></tr></thead>\n",
       "<tr><td>x-ray#gamma-ray</td><td>HEAVENS @ ISDC</td><td>ivo://wfau.roe.ac.uk/heavens_at_isdc/light-curves</td><td>With time, all HEAVENS products should become available on the Virtual Observatory. In some cases this requires an enhancement of the Virtual Observatory standards. For now the following HEAVENS services are available through the VO: - SIAP Image cutout service for INTEGRAL/ISGRI and JEM-X - Timeseries service for INTEGRAL/ISGRI, JEM-X and OMC Wished features include: - Extended Query Parameters for time intervals - Extended Query Parameters for energy bands - Timeseries service for INTEGRAL/IREM and SPI-ACS - Spectra service for all INTEGRAL instruments</td><td>http://www.isdc.unige.ch/vo-services/lc?</td><td>http://www.isdc.unige.ch/heavens/</td><td>WFAU</td><td>simplespectralaccess</td></tr>\n",
       "<tr><td>radio#millimeter#infrared#optical#uv#euv#x-ray#gamma-ray</td><td>NED/SED</td><td>ivo://ned.ipac/sed_data_near_position</td><td>NED SED Information Discovery Request service: The NASA/IPAC Extragalactic Database (NED) provides a comprehensive fusion of multi-wavelength data for hundreds of millions of objects located beyond the Milky Way galaxy. This service retrieves photometry for objects within a specified radius of a given position. The search region is specified by two parameters: POS [RA and DEC in decimal degrees, ICRF/FK5J2000] and SIZE [degrees]. This service returns a list of NED Object Identifiers (Names), the count of photometric SED measurements for each object, and the URI (ACREF) for the SED Data Retrieval request (accessSED). This service is used by the VO SED analysis tool Iris.</td><td>http://vo.ned.ipac.caltech.edu/services/querySED?REQUEST=queryData&amp;amp;</td><td>http://ned.ipac.caltech.edu/help/data_help.html#ptmydat</td><td>The NASA/IPAC Extragalactic Database</td><td>simplespectralaccess</td></tr>\n",
       "<tr><td>gamma-ray#x-ray</td><td>INTEGRAL/BSC</td><td>ivo://nasa.heasarc/intbsc</td><td>No Description Available</td><td>https://heasarc.gsfc.nasa.gov/xamin/vo/ssa?table=intbsc&amp;amp;</td><td>https://heasarc.gsfc.nasa.gov/W3Browse/all/intbsc.html</td><td>NASA/GSFC HEASARC</td><td>simplespectralaccess</td></tr>\n",
       "<tr><td>x-ray</td><td>Chandra</td><td>ivo://nasa.heasarc/chanmaster</td><td>No Description Available</td><td>https://heasarc.gsfc.nasa.gov/xamin/vo/ssa?table=chanmaster&amp;amp;</td><td>https://heasarc.gsfc.nasa.gov/W3Browse/all/chanmaster.html</td><td>NASA/GSFC HEASARC</td><td>simplespectralaccess</td></tr>\n",
       "</table>"
      ],
      "text/plain": [
       "<Table masked=True length=4>\n",
       "                        waveband                         ...\n",
       "                       unicode56                         ...\n",
       "-------------------------------------------------------- ...\n",
       "                                         x-ray#gamma-ray ...\n",
       "radio#millimeter#infrared#optical#uv#euv#x-ray#gamma-ray ...\n",
       "                                         gamma-ray#x-ray ...\n",
       "                                                   x-ray ..."
      ]
     },
     "execution_count": 2,
     "metadata": {},
     "output_type": "execute_result"
    }
   ],
   "source": [
    "services=Registry.query(service_type='spectr',waveband='x-ray')\n",
    "services"
   ]
  },
  {
   "cell_type": "markdown",
   "metadata": {},
   "source": [
    "We can look at only the Chandra entry:"
   ]
  },
  {
   "cell_type": "code",
   "execution_count": 3,
   "metadata": {},
   "outputs": [
    {
     "data": {
      "text/html": [
       "&lt;Table masked=True length=1&gt;\n",
       "<table id=\"table4533300624\" class=\"table-striped table-bordered table-condensed\">\n",
       "<thead><tr><th>short_name</th><th>access_url</th></tr></thead>\n",
       "<thead><tr><th>unicode14</th><th>unicode71</th></tr></thead>\n",
       "<tr><td>Chandra</td><td>https://heasarc.gsfc.nasa.gov/xamin/vo/ssa?table=chanmaster&amp;amp;</td></tr>\n",
       "</table>"
      ],
      "text/plain": [
       "<Table masked=True length=1>\n",
       "short_name                            access_url                           \n",
       "unicode14                             unicode71                            \n",
       "---------- ----------------------------------------------------------------\n",
       "   Chandra https://heasarc.gsfc.nasa.gov/xamin/vo/ssa?table=chanmaster&amp;"
      ]
     },
     "execution_count": 3,
     "metadata": {},
     "output_type": "execute_result"
    }
   ],
   "source": [
    "chan_tables = services[np.isin(services['short_name'],['Chandra'])]\n",
    "chan_tables['short_name', 'access_url']"
   ]
  },
  {
   "cell_type": "markdown",
   "metadata": {
    "collapsed": true
   },
   "source": [
    "## Chandra Spectrum of Delta Ori"
   ]
  },
  {
   "cell_type": "code",
   "execution_count": 4,
   "metadata": {},
   "outputs": [
    {
     "name": "stdout",
     "output_type": "stream",
     "text": [
      "    Querying service https://heasarc.gsfc.nasa.gov/xamin/vo/ssa?table=chanmaster&amp;\n",
      "    Got 6 results for parameters[0]\n"
     ]
    },
    {
     "data": {
      "text/html": [
       "&lt;SpectraTable masked=True length=6&gt;\n",
       "<table id=\"table4479357392-213149\" class=\"table-striped table-bordered table-condensed\">\n",
       "<thead><tr><th>idx</th><th>obsid</th><th>status</th><th>name</th><th>ra</th><th>dec</th><th>time</th><th>detector</th><th>grating</th><th>exposure</th><th>type</th><th>pi</th><th>public_date</th><th>SSA_start_time</th><th>SSA_tmid</th><th>SSA_stop_time</th><th>SSA_duration</th><th>SSA_ra</th><th>SSA_dec</th><th>SSA_coord_obs</th><th>SSA_title</th><th>SSA_reference</th><th>SSA_datalength</th><th>SSA_datamodel</th><th>SSA_instrument</th><th>SSA_publisher</th><th>SSA_format</th><th>SSA_fov</th><th>SSA_wavelength_min</th><th>SSA_wavelength_max</th><th>SSA_bandwidth</th><th>SSA_bandpass</th></tr></thead>\n",
       "<thead><tr><th></th><th></th><th></th><th></th><th>deg</th><th>deg</th><th>mjd</th><th></th><th></th><th>s</th><th></th><th></th><th>mjd</th><th>mjd</th><th>mjd</th><th>mjd</th><th>s</th><th>deg</th><th>deg</th><th>deg</th><th></th><th></th><th></th><th></th><th></th><th></th><th></th><th>deg</th><th>meter</th><th>meter</th><th>meter</th><th>meter</th></tr></thead>\n",
       "<tr><td>0</td><td>639</td><td>archived</td><td>DELTA ORI</td><td>83.00125</td><td>-0.29917</td><td>51556.1364</td><td>ACIS-S</td><td>HETG</td><td>49680</td><td>GO</td><td>Cassinelli</td><td>52037</td><td>51556.136400000003</td><td>51556.436500571508</td><td>51556.735856340485</td><td>49680.0</td><td>83.001249999999999</td><td>-0.29916999999999999</td><td>--</td><td>acisf00639N004_pha2</td><td>https://heasarc.gsfc.nasa.gov/FTP/chandra/data/science/ao01/cat2/639/primary/acisf00639N004_pha2.fits.gz</td><td>12.0</td><td>Spectrum-1.0</td><td>ACIS-S</td><td>HEASARC</td><td>application/fits</td><td>0.81000000000000005</td><td>1.2397999999999999e-10</td><td>6.1991999999999999e-09</td><td>6.0752199999999996e-09</td><td>3.16159e-09</td></tr>\n",
       "<tr><td>1</td><td>7416</td><td>archived</td><td>delta Ori HD 36486</td><td>83.00167</td><td>-0.29908</td><td>54413.4270</td><td>HRC-S</td><td>LETG</td><td>97080</td><td>GO</td><td>Raassen</td><td>54783</td><td>54413.427000000003</td><td>54413.997480954342</td><td>54414.567153797223</td><td>97080.0</td><td>83.001670000000004</td><td>-0.29908000000000001</td><td>--</td><td>hrcf07416N003_pha2</td><td>https://heasarc.gsfc.nasa.gov/FTP/chandra/data/science/ao08/cat2/7416/primary/hrcf07416N003_pha2.fits.gz</td><td>2.0</td><td>Spectrum-1.0</td><td>HRC-S</td><td>HEASARC</td><td>application/fits</td><td>0.81000000000000005</td><td>1.2397999999999999e-10</td><td>6.1991999999999999e-09</td><td>6.0752199999999996e-09</td><td>3.16159e-09</td></tr>\n",
       "<tr><td>2</td><td>14567</td><td>archived</td><td>Delta Ori</td><td>83.00167</td><td>-0.29908</td><td>56280.7037</td><td>ACIS-S</td><td>HETG</td><td>116500</td><td>GO</td><td>Corcoran</td><td>56647</td><td>56280.703699999998</td><td>56281.389824722108</td><td>56282.075177840627</td><td>116500.0</td><td>83.001670000000004</td><td>-0.29908000000000001</td><td>--</td><td>acisf14567N002_pha2</td><td>https://heasarc.gsfc.nasa.gov/FTP/chandra/data/science/ao14/cat2/14567/primary/acisf14567N002_pha2.fits.gz</td><td>12.0</td><td>Spectrum-1.0</td><td>ACIS-S</td><td>HEASARC</td><td>application/fits</td><td>0.81000000000000005</td><td>1.2397999999999999e-10</td><td>6.1991999999999999e-09</td><td>6.0752199999999996e-09</td><td>3.16159e-09</td></tr>\n",
       "<tr><td>3</td><td>14568</td><td>archived</td><td>Delta Ori</td><td>83.00167</td><td>-0.29908</td><td>56288.1612</td><td>ACIS-S</td><td>HETG</td><td>123600</td><td>GO</td><td>Corcoran</td><td>56655</td><td>56288.161200000002</td><td>56288.890250763019</td><td>56289.618502032063</td><td>123600.0</td><td>83.001670000000004</td><td>-0.29908000000000001</td><td>--</td><td>acisf14568N002_pha2</td><td>https://heasarc.gsfc.nasa.gov/FTP/chandra/data/science/ao14/cat2/14568/primary/acisf14568N002_pha2.fits.gz</td><td>12.0</td><td>Spectrum-1.0</td><td>ACIS-S</td><td>HEASARC</td><td>application/fits</td><td>0.81000000000000005</td><td>1.2397999999999999e-10</td><td>6.1991999999999999e-09</td><td>6.0752199999999996e-09</td><td>3.16159e-09</td></tr>\n",
       "<tr><td>4</td><td>14569</td><td>archived</td><td>Delta Ori</td><td>83.00167</td><td>-0.29908</td><td>56283.2540</td><td>ACIS-S</td><td>HETG</td><td>120850</td><td>GO</td><td>Corcoran</td><td>56650</td><td>56283.254000000001</td><td>56283.964980170487</td><td>56284.675201996994</td><td>120850.0</td><td>83.001670000000004</td><td>-0.29908000000000001</td><td>--</td><td>acisf14569N002_pha2</td><td>https://heasarc.gsfc.nasa.gov/FTP/chandra/data/science/ao14/cat2/14569/primary/acisf14569N002_pha2.fits.gz</td><td>12.0</td><td>Spectrum-1.0</td><td>ACIS-S</td><td>HEASARC</td><td>application/fits</td><td>0.81000000000000005</td><td>1.2397999999999999e-10</td><td>6.1991999999999999e-09</td><td>6.0752199999999996e-09</td><td>3.16159e-09</td></tr>\n",
       "<tr><td>5</td><td>14570</td><td>archived</td><td>Delta Ori</td><td>83.00167</td><td>-0.29908</td><td>56285.5508</td><td>ACIS-S</td><td>HETG</td><td>124100</td><td>GO</td><td>Corcoran</td><td>56652</td><td>56285.550799999997</td><td>56286.283897468573</td><td>56287.016223824656</td><td>124100.0</td><td>83.001670000000004</td><td>-0.29908000000000001</td><td>--</td><td>acisf14570N002_pha2</td><td>https://heasarc.gsfc.nasa.gov/FTP/chandra/data/science/ao14/cat2/14570/primary/acisf14570N002_pha2.fits.gz</td><td>12.0</td><td>Spectrum-1.0</td><td>ACIS-S</td><td>HEASARC</td><td>application/fits</td><td>0.81000000000000005</td><td>1.2397999999999999e-10</td><td>6.1991999999999999e-09</td><td>6.0752199999999996e-09</td><td>3.16159e-09</td></tr>\n",
       "</table><style>table.dataTable {clear: both; width: auto !important; margin: 0 !important;}\n",
       ".dataTables_info, .dataTables_length, .dataTables_filter, .dataTables_paginate{\n",
       "display: inline-block; margin-right: 1em; }\n",
       ".paginate_button { margin-right: 5px; }\n",
       "</style>\n",
       "<script>\n",
       "\n",
       "var astropy_sort_num = function(a, b) {\n",
       "    var a_num = parseFloat(a);\n",
       "    var b_num = parseFloat(b);\n",
       "\n",
       "    if (isNaN(a_num) && isNaN(b_num))\n",
       "        return ((a < b) ? -1 : ((a > b) ? 1 : 0));\n",
       "    else if (!isNaN(a_num) && !isNaN(b_num))\n",
       "        return ((a_num < b_num) ? -1 : ((a_num > b_num) ? 1 : 0));\n",
       "    else\n",
       "        return isNaN(a_num) ? -1 : 1;\n",
       "}\n",
       "\n",
       "require.config({paths: {\n",
       "    datatables: 'https://cdn.datatables.net/1.10.12/js/jquery.dataTables.min'\n",
       "}});\n",
       "require([\"datatables\"], function(){\n",
       "    console.log(\"$('#table4479357392-213149').dataTable()\");\n",
       "    \n",
       "jQuery.extend( jQuery.fn.dataTableExt.oSort, {\n",
       "    \"optionalnum-asc\": astropy_sort_num,\n",
       "    \"optionalnum-desc\": function (a,b) { return -astropy_sort_num(a, b); }\n",
       "});\n",
       "\n",
       "    $('#table4479357392-213149').dataTable({\n",
       "        order: [],\n",
       "        pageLength: 50,\n",
       "        lengthMenu: [[10, 25, 50, 100, 500, 1000, -1], [10, 25, 50, 100, 500, 1000, 'All']],\n",
       "        pagingType: \"full_numbers\",\n",
       "        columnDefs: [{targets: [0, 4, 5, 6, 9, 12, 13, 14, 15, 16, 17, 18, 19, 27, 28, 29, 30, 31], type: \"optionalnum\"}]\n",
       "    });\n",
       "});\n",
       "</script>\n"
      ],
      "text/plain": [
       "<IPython.core.display.HTML object>"
      ]
     },
     "execution_count": 4,
     "metadata": {},
     "output_type": "execute_result"
    }
   ],
   "source": [
    "delori=SkyCoord.from_name(\"delta ori\")\n",
    "pos='{},{}'.format(delori.ra.deg,delori.dec.deg)\n",
    "\n",
    "spec_tables=Spectra.query(service=chan_tables[0],coords=pos,radius=0.1,verbose=True)\n",
    "\n",
    "spec_tables[0]['time'].format='.4f'\n",
    "spec_tables[0].show_in_notebook()"
   ]
  },
  {
   "cell_type": "code",
   "execution_count": 5,
   "metadata": {},
   "outputs": [
    {
     "name": "stdout",
     "output_type": "stream",
     "text": [
      "FITS spectrum written to downloads/chandra_spectrum.fits\n",
      "\n"
     ]
    }
   ],
   "source": [
    "hdu_list=Spectra.get_fits(spec_tables[0][0])\n",
    "# Or write it to disk\n",
    "Spectra.get_fits(spec_tables[0][0],filename='downloads/chandra_spectrum.fits')"
   ]
  },
  {
   "cell_type": "markdown",
   "metadata": {},
   "source": [
    "## Simple example of plotting a spectrum"
   ]
  },
  {
   "cell_type": "code",
   "execution_count": 6,
   "metadata": {},
   "outputs": [
    {
     "data": {
      "text/html": [
       "&lt;Table length=12&gt;\n",
       "<table id=\"table4542443408\" class=\"table-striped table-bordered table-condensed\">\n",
       "<thead><tr><th>SPEC_NUM</th><th>TG_M</th><th>TG_PART</th><th>TG_SRCID</th><th>X</th><th>Y</th><th>CHANNEL [8192]</th><th>COUNTS [8192]</th><th>STAT_ERR [8192]</th><th>BACKGROUND_UP [8192]</th><th>BACKGROUND_DOWN [8192]</th><th>BIN_LO [8192]</th><th>BIN_HI [8192]</th></tr></thead>\n",
       "<thead><tr><th>int16</th><th>int16</th><th>int16</th><th>int16</th><th>float32</th><th>float32</th><th>int16</th><th>int16</th><th>float32</th><th>int16</th><th>int16</th><th>float64</th><th>float64</th></tr></thead>\n",
       "<tr><td>1</td><td>-3</td><td>1</td><td>1</td><td>4102.81</td><td>4131.83</td><td>1 .. 8192</td><td>0 .. 0</td><td>1.86603 .. 1.86603</td><td>0 .. 0</td><td>0 .. 0</td><td>7.15916666667 .. 0.333333333333</td><td>7.16 .. 0.334166666667</td></tr>\n",
       "<tr><td>2</td><td>-2</td><td>1</td><td>1</td><td>4102.81</td><td>4131.83</td><td>1 .. 8192</td><td>0 .. 0</td><td>1.86603 .. 1.86603</td><td>0 .. 0</td><td>0 .. 0</td><td>10.73875 .. 0.5</td><td>10.74 .. 0.50125</td></tr>\n",
       "<tr><td>3</td><td>-1</td><td>1</td><td>1</td><td>4102.81</td><td>4131.83</td><td>1 .. 8192</td><td>0 .. 0</td><td>1.86603 .. 1.86603</td><td>0 .. 0</td><td>0 .. 0</td><td>21.4775 .. 1.0</td><td>21.48 .. 1.0025</td></tr>\n",
       "<tr><td>4</td><td>1</td><td>1</td><td>1</td><td>4102.81</td><td>4131.83</td><td>1 .. 8192</td><td>0 .. 0</td><td>1.86603 .. 1.86603</td><td>0 .. 0</td><td>0 .. 0</td><td>21.4775 .. 1.0</td><td>21.48 .. 1.0025</td></tr>\n",
       "<tr><td>5</td><td>2</td><td>1</td><td>1</td><td>4102.81</td><td>4131.83</td><td>1 .. 8192</td><td>0 .. 0</td><td>1.86603 .. 1.86603</td><td>0 .. 0</td><td>0 .. 0</td><td>10.73875 .. 0.5</td><td>10.74 .. 0.50125</td></tr>\n",
       "<tr><td>6</td><td>3</td><td>1</td><td>1</td><td>4102.81</td><td>4131.83</td><td>1 .. 8192</td><td>0 .. 0</td><td>1.86603 .. 1.86603</td><td>0 .. 0</td><td>0 .. 0</td><td>7.15916666667 .. 0.333333333333</td><td>7.16 .. 0.334166666667</td></tr>\n",
       "<tr><td>7</td><td>-3</td><td>2</td><td>1</td><td>4102.81</td><td>4131.83</td><td>1 .. 8192</td><td>0 .. 0</td><td>1.86603 .. 1.86603</td><td>0 .. 0</td><td>0 .. 0</td><td>13.985 .. 0.333333333333</td><td>13.9866666667 .. 0.335</td></tr>\n",
       "<tr><td>8</td><td>-2</td><td>2</td><td>1</td><td>4102.81</td><td>4131.83</td><td>1 .. 8192</td><td>0 .. 0</td><td>1.86603 .. 1.86603</td><td>0 .. 0</td><td>0 .. 0</td><td>20.9775 .. 0.5</td><td>20.98 .. 0.5025</td></tr>\n",
       "<tr><td>9</td><td>-1</td><td>2</td><td>1</td><td>4102.81</td><td>4131.83</td><td>1 .. 8192</td><td>0 .. 0</td><td>1.86603 .. 1.86603</td><td>0 .. 0</td><td>0 .. 0</td><td>41.955 .. 1.0</td><td>41.96 .. 1.005</td></tr>\n",
       "<tr><td>10</td><td>1</td><td>2</td><td>1</td><td>4102.81</td><td>4131.83</td><td>1 .. 8192</td><td>0 .. 0</td><td>1.86603 .. 1.86603</td><td>0 .. 0</td><td>0 .. 0</td><td>41.955 .. 1.0</td><td>41.96 .. 1.005</td></tr>\n",
       "<tr><td>11</td><td>2</td><td>2</td><td>1</td><td>4102.81</td><td>4131.83</td><td>1 .. 8192</td><td>0 .. 0</td><td>1.86603 .. 1.86603</td><td>0 .. 0</td><td>0 .. 0</td><td>20.9775 .. 0.5</td><td>20.98 .. 0.5025</td></tr>\n",
       "<tr><td>12</td><td>3</td><td>2</td><td>1</td><td>4102.81</td><td>4131.83</td><td>1 .. 8192</td><td>0 .. 0</td><td>1.86603 .. 1.86603</td><td>0 .. 0</td><td>0 .. 0</td><td>13.985 .. 0.333333333333</td><td>13.9866666667 .. 0.335</td></tr>\n",
       "</table>"
      ],
      "text/plain": [
       "<Table length=12>\n",
       "SPEC_NUM  TG_M ...          BIN_LO [8192]              BIN_HI [8192]     \n",
       " int16   int16 ...             float64                    float64        \n",
       "-------- ----- ... ------------------------------- ----------------------\n",
       "       1    -3 ... 7.15916666667 .. 0.333333333333 7.16 .. 0.334166666667\n",
       "       2    -2 ...                 10.73875 .. 0.5       10.74 .. 0.50125\n",
       "       3    -1 ...                  21.4775 .. 1.0        21.48 .. 1.0025\n",
       "       4     1 ...                  21.4775 .. 1.0        21.48 .. 1.0025\n",
       "       5     2 ...                 10.73875 .. 0.5       10.74 .. 0.50125\n",
       "       6     3 ... 7.15916666667 .. 0.333333333333 7.16 .. 0.334166666667\n",
       "       7    -3 ...        13.985 .. 0.333333333333 13.9866666667 .. 0.335\n",
       "       8    -2 ...                  20.9775 .. 0.5        20.98 .. 0.5025\n",
       "       9    -1 ...                   41.955 .. 1.0         41.96 .. 1.005\n",
       "      10     1 ...                   41.955 .. 1.0         41.96 .. 1.005\n",
       "      11     2 ...                  20.9775 .. 0.5        20.98 .. 0.5025\n",
       "      12     3 ...        13.985 .. 0.333333333333 13.9866666667 .. 0.335"
      ]
     },
     "execution_count": 6,
     "metadata": {},
     "output_type": "execute_result"
    }
   ],
   "source": [
    "spec_table=Table(hdu_list[1].data)\n",
    "spec_table"
   ]
  },
  {
   "cell_type": "code",
   "execution_count": 7,
   "metadata": {},
   "outputs": [
    {
     "data": {
      "image/png": "[encoded data removed]",
      "text/plain": [
       "<matplotlib.figure.Figure at 0x10ec9bc90>"
      ]
     },
     "metadata": {},
     "output_type": "display_data"
    }
   ],
   "source": [
    "hist=plt.hist(spec_table[8]['COUNTS'], 100)"
   ]
  },
  {
   "cell_type": "markdown",
   "metadata": {},
   "source": [
    "## <font color=red> I think we need a more illustrative spectrum. ;)</font>"
   ]
  },
  {
   "cell_type": "code",
   "execution_count": null,
   "metadata": {},
   "outputs": [],
   "source": []
  }
 ],
 "metadata": {
  "anaconda-cloud": {},
  "kernelspec": {
   "display_name": "Python 2",
   "language": "python",
   "name": "python2"
  },
  "language_info": {
   "codemirror_mode": {
    "name": "ipython",
    "version": 2
   },
   "file_extension": ".py",
   "mimetype": "text/x-python",
   "name": "python",
   "nbconvert_exporter": "python",
   "pygments_lexer": "ipython2",
   "version": "2.7.14"
  },
  "nav_menu": {},
  "toc": {
   "navigate_menu": true,
   "number_sections": true,
   "sideBar": true,
   "threshold": 6,
   "toc_cell": false,
   "toc_section_display": "block",
   "toc_window_display": true
  }
 },
 "nbformat": 4,
 "nbformat_minor": 1
}
