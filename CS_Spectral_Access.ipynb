{
 "cells": [
  {
   "cell_type": "markdown",
   "metadata": {},
   "source": [
    "# Retrieve spectra using Simple Spectral Access protocol\n",
    "\n",
    "This notebook is one of a set produced by NAVO to demonstrate data access with python tools. \n",
    "\n",
    "In this notebook, we show how to search for and retrieve spectra from VO services using the Registry and the __[Simple Spectral Access](http://www.ivoa.net/documents/SSA/)__ (SSA) protocol.\n"
   ]
  },
  {
   "cell_type": "code",
   "execution_count": 1,
   "metadata": {},
   "outputs": [],
   "source": [
    "import matplotlib\n",
    "import matplotlib.pyplot as plt\n",
    "import numpy as np\n",
    "%matplotlib inline  \n",
    "import requests, io\n",
    "from astropy.table import Table\n",
    "import astropy.io.fits as fits\n",
    "\n",
    "import pyvo as vo\n",
    "\n",
    "from astropy.coordinates import SkyCoord\n",
    "\n",
    "## There are a number of relatively unimportant warnings that \n",
    "## show up, so for now, suppress them:\n",
    "import warnings\n",
    "warnings.filterwarnings(\"ignore\")"
   ]
  },
  {
   "cell_type": "markdown",
   "metadata": {},
   "source": [
    "First, we find out what spectral acess services ('ssa') are available in the Registry offering x-ray data:"
   ]
  },
  {
   "cell_type": "code",
   "execution_count": 8,
   "metadata": {
    "scrolled": true
   },
   "outputs": [
    {
     "data": {
      "text/html": [
       "<i>Table masked=True length=4</i>\n",
       "<table id=\"table34838972232\" class=\"table-striped table-bordered table-condensed\">\n",
       "<thead><tr><th>ivoid</th><th>short_name</th></tr></thead>\n",
       "<thead><tr><th>object</th><th>object</th></tr></thead>\n",
       "<tr><td>ivo://nasa.heasarc/chanmaster</td><td>Chandra</td></tr>\n",
       "<tr><td>ivo://nasa.heasarc/intbsc</td><td>INTEGRAL/BSC</td></tr>\n",
       "<tr><td>ivo://ned.ipac/sed_data_near_position</td><td>NED/SED</td></tr>\n",
       "<tr><td>ivo://wfau.roe.ac.uk/heavens_at_isdc/light-curves</td><td>HEAVENS @ ISDC</td></tr>\n",
       "</table>"
      ],
      "text/plain": [
       "<Table masked=True length=4>\n",
       "                      ivoid                         short_name  \n",
       "                      object                          object    \n",
       "------------------------------------------------- --------------\n",
       "                    ivo://nasa.heasarc/chanmaster        Chandra\n",
       "                        ivo://nasa.heasarc/intbsc   INTEGRAL/BSC\n",
       "            ivo://ned.ipac/sed_data_near_position        NED/SED\n",
       "ivo://wfau.roe.ac.uk/heavens_at_isdc/light-curves HEAVENS @ ISDC"
      ]
     },
     "execution_count": 8,
     "metadata": {},
     "output_type": "execute_result"
    }
   ],
   "source": [
    "services=vo.regsearch(servicetype='ssa',waveband='x-ray')\n",
    "services.table['ivoid','short_name']"
   ]
  },
  {
   "cell_type": "markdown",
   "metadata": {},
   "source": [
    "We can look at only the Chandra entry:"
   ]
  },
  {
   "cell_type": "code",
   "execution_count": 11,
   "metadata": {},
   "outputs": [],
   "source": [
    "chandra_service=services[int(np.where(np.isin(services.table['short_name'],b'Chandra'))[0][0])]\n"
   ]
  },
  {
   "cell_type": "markdown",
   "metadata": {
    "collapsed": true
   },
   "source": [
    "## Chandra Spectrum of the Delta Ori"
   ]
  },
  {
   "cell_type": "code",
   "execution_count": 13,
   "metadata": {},
   "outputs": [
    {
     "data": {
      "text/html": [
       "<i>Table masked=True length=6</i>\n",
       "<table id=\"table34836972096\" class=\"table-striped table-bordered table-condensed\">\n",
       "<thead><tr><th>obsid</th><th>status</th><th>name</th><th>ra</th><th>dec</th><th>time</th><th>detector</th><th>grating</th><th>exposure</th><th>type</th><th>pi</th><th>public_date</th><th>SSA_start_time</th><th>SSA_tmid</th><th>SSA_stop_time</th><th>SSA_duration</th><th>SSA_coord_obs</th><th>SSA_ra</th><th>SSA_dec</th><th>SSA_title</th><th>SSA_reference</th><th>SSA_datalength</th><th>SSA_datamodel</th><th>SSA_instrument</th><th>SSA_publisher</th><th>SSA_format</th><th>SSA_fov</th><th>SSA_wavelength_min</th><th>SSA_wavelength_max</th><th>SSA_bandwidth</th><th>SSA_bandpass</th></tr></thead>\n",
       "<thead><tr><th></th><th></th><th></th><th>deg</th><th>deg</th><th>mjd</th><th></th><th></th><th>s</th><th></th><th></th><th>mjd</th><th>mjd</th><th>mjd</th><th>mjd</th><th>s</th><th>deg</th><th>deg</th><th>deg</th><th></th><th></th><th></th><th></th><th></th><th></th><th></th><th>deg</th><th>meter</th><th>meter</th><th>meter</th><th>meter</th></tr></thead>\n",
       "<thead><tr><th>object</th><th>object</th><th>object</th><th>float64</th><th>float64</th><th>float64</th><th>object</th><th>object</th><th>float64</th><th>object</th><th>object</th><th>int32</th><th>float64</th><th>float64</th><th>float64</th><th>float64</th><th>float64</th><th>float64</th><th>float64</th><th>object</th><th>object</th><th>object</th><th>object</th><th>object</th><th>object</th><th>object</th><th>float64</th><th>float64</th><th>float64</th><th>float64</th><th>float64</th></tr></thead>\n",
       "<tr><td>639</td><td>archived</td><td>DELTA ORI</td><td>83.00125</td><td>-0.29917</td><td>51556.1364</td><td>ACIS-S</td><td>HETG</td><td>49680</td><td>GO</td><td>Cassinelli</td><td>52037</td><td>51556.136400463</td><td>51556.43650057151</td><td>51556.735856340485</td><td>49680.0</td><td>--</td><td>83.00125</td><td>-0.29917</td><td>acisf00639N004_pha2</td><td>https://heasarc.gsfc.nasa.gov/FTP/chandra/data/science/ao01/cat2/639/primary/acisf00639N004_pha2.fits.gz</td><td>12.0</td><td>Spectrum-1.0</td><td>ACIS-S</td><td>HEASARC</td><td>application/fits</td><td>0.81</td><td>1.2398e-10</td><td>6.1992e-09</td><td>6.07522e-09</td><td>3.16159e-09</td></tr>\n",
       "<tr><td>7416</td><td>archived</td><td>delta Ori HD 36486</td><td>83.00167</td><td>-0.29908</td><td>54413.427</td><td>HRC-S</td><td>LETG</td><td>97080</td><td>GO</td><td>Raassen</td><td>54783</td><td>54413.4270486111</td><td>54413.99748095434</td><td>54414.56715379722</td><td>97080.0</td><td>--</td><td>83.00167</td><td>-0.29908</td><td>hrcf07416N003_pha2</td><td>https://heasarc.gsfc.nasa.gov/FTP/chandra/data/science/ao08/cat2/7416/primary/hrcf07416N003_pha2.fits.gz</td><td>2.0</td><td>Spectrum-1.0</td><td>HRC-S</td><td>HEASARC</td><td>application/fits</td><td>0.81</td><td>1.2398e-10</td><td>6.1992e-09</td><td>6.07522e-09</td><td>3.16159e-09</td></tr>\n",
       "<tr><td>14567</td><td>archived</td><td>Delta Ori</td><td>83.00167</td><td>-0.29908</td><td>56280.7037</td><td>ACIS-S</td><td>HETG</td><td>116500</td><td>GO</td><td>Corcoran</td><td>56647</td><td>56280.7036921296</td><td>56281.38982472211</td><td>56282.07517784063</td><td>116500.0</td><td>--</td><td>83.00167</td><td>-0.29908</td><td>acisf14567N002_pha2</td><td>https://heasarc.gsfc.nasa.gov/FTP/chandra/data/science/ao14/cat2/14567/primary/acisf14567N002_pha2.fits.gz</td><td>12.0</td><td>Spectrum-1.0</td><td>ACIS-S</td><td>HEASARC</td><td>application/fits</td><td>0.81</td><td>1.2398e-10</td><td>6.1992e-09</td><td>6.07522e-09</td><td>3.16159e-09</td></tr>\n",
       "<tr><td>14568</td><td>archived</td><td>Delta Ori</td><td>83.00167</td><td>-0.29908</td><td>56288.1612</td><td>ACIS-S</td><td>HETG</td><td>123600</td><td>GO</td><td>Corcoran</td><td>56655</td><td>56288.1612268519</td><td>56288.89025076302</td><td>56289.61850203206</td><td>123600.0</td><td>--</td><td>83.00167</td><td>-0.29908</td><td>acisf14568N002_pha2</td><td>https://heasarc.gsfc.nasa.gov/FTP/chandra/data/science/ao14/cat2/14568/primary/acisf14568N002_pha2.fits.gz</td><td>12.0</td><td>Spectrum-1.0</td><td>ACIS-S</td><td>HEASARC</td><td>application/fits</td><td>0.81</td><td>1.2398e-10</td><td>6.1992e-09</td><td>6.07522e-09</td><td>3.16159e-09</td></tr>\n",
       "<tr><td>14569</td><td>archived</td><td>Delta Ori</td><td>83.00167</td><td>-0.29908</td><td>56283.254</td><td>ACIS-S</td><td>HETG</td><td>120850</td><td>GO</td><td>Corcoran</td><td>56650</td><td>56283.2539814815</td><td>56283.96498017049</td><td>56284.67520199699</td><td>120850.0</td><td>--</td><td>83.00167</td><td>-0.29908</td><td>acisf14569N002_pha2</td><td>https://heasarc.gsfc.nasa.gov/FTP/chandra/data/science/ao14/cat2/14569/primary/acisf14569N002_pha2.fits.gz</td><td>12.0</td><td>Spectrum-1.0</td><td>ACIS-S</td><td>HEASARC</td><td>application/fits</td><td>0.81</td><td>1.2398e-10</td><td>6.1992e-09</td><td>6.07522e-09</td><td>3.16159e-09</td></tr>\n",
       "<tr><td>14570</td><td>archived</td><td>Delta Ori</td><td>83.00167</td><td>-0.29908</td><td>56285.5508</td><td>ACIS-S</td><td>HETG</td><td>124100</td><td>GO</td><td>Corcoran</td><td>56652</td><td>56285.5507986111</td><td>56286.28389746857</td><td>56287.016223824656</td><td>124100.0</td><td>--</td><td>83.00167</td><td>-0.29908</td><td>acisf14570N002_pha2</td><td>https://heasarc.gsfc.nasa.gov/FTP/chandra/data/science/ao14/cat2/14570/primary/acisf14570N002_pha2.fits.gz</td><td>12.0</td><td>Spectrum-1.0</td><td>ACIS-S</td><td>HEASARC</td><td>application/fits</td><td>0.81</td><td>1.2398e-10</td><td>6.1992e-09</td><td>6.07522e-09</td><td>3.16159e-09</td></tr>\n",
       "</table>"
      ],
      "text/plain": [
       "<Table masked=True length=6>\n",
       "obsid   status         name        ... SSA_bandwidth SSA_bandpass\n",
       "                                   ...     meter        meter    \n",
       "object  object        object       ...    float64      float64   \n",
       "------ -------- ------------------ ... ------------- ------------\n",
       "   639 archived          DELTA ORI ...   6.07522e-09  3.16159e-09\n",
       "  7416 archived delta Ori HD 36486 ...   6.07522e-09  3.16159e-09\n",
       " 14567 archived          Delta Ori ...   6.07522e-09  3.16159e-09\n",
       " 14568 archived          Delta Ori ...   6.07522e-09  3.16159e-09\n",
       " 14569 archived          Delta Ori ...   6.07522e-09  3.16159e-09\n",
       " 14570 archived          Delta Ori ...   6.07522e-09  3.16159e-09"
      ]
     },
     "execution_count": 13,
     "metadata": {},
     "output_type": "execute_result"
    }
   ],
   "source": [
    "delori=SkyCoord.from_name(\"delta ori\")\n",
    "spec_tables=chandra_service.search(pos=delori,radius=0.1)\n",
    "spec_tables.table\n",
    "\n",
    "#spec_tables[0]['time'].format='.4f'\n",
    "#spec_tables[0].show_in_notebook()\n",
    "\n"
   ]
  },
  {
   "cell_type": "code",
   "execution_count": 16,
   "metadata": {},
   "outputs": [
    {
     "name": "stdout",
     "output_type": "stream",
     "text": [
      "Downloading https://heasarc.gsfc.nasa.gov/FTP/chandra/data/science/ao01/cat2/639/primary/acisf00639N004_pha2.fits.gz [Done]\n"
     ]
    }
   ],
   "source": [
    "hdu_list=fits.open(spec_tables[0].getdataurl())"
   ]
  },
  {
   "cell_type": "markdown",
   "metadata": {},
   "source": [
    "## Simple example of plotting a spectrum"
   ]
  },
  {
   "cell_type": "code",
   "execution_count": 17,
   "metadata": {},
   "outputs": [
    {
     "data": {
      "text/html": [
       "<i>Table length=12</i>\n",
       "<table id=\"table34840832600\" class=\"table-striped table-bordered table-condensed\">\n",
       "<thead><tr><th>SPEC_NUM</th><th>TG_M</th><th>TG_PART</th><th>TG_SRCID</th><th>X</th><th>Y</th><th>CHANNEL [8192]</th><th>COUNTS [8192]</th><th>STAT_ERR [8192]</th><th>BACKGROUND_UP [8192]</th><th>BACKGROUND_DOWN [8192]</th><th>BIN_LO [8192]</th><th>BIN_HI [8192]</th></tr></thead>\n",
       "<thead><tr><th>int16</th><th>int16</th><th>int16</th><th>int16</th><th>float32</th><th>float32</th><th>int16</th><th>int16</th><th>float32</th><th>int16</th><th>int16</th><th>float64</th><th>float64</th></tr></thead>\n",
       "<tr><td>1</td><td>-3</td><td>1</td><td>1</td><td>4102.815</td><td>4131.828</td><td>1 .. 8192</td><td>0 .. 0</td><td>1.8660254 .. 1.8660254</td><td>0 .. 0</td><td>0 .. 0</td><td>7.159166666667378 .. 0.3333333333333333</td><td>7.160000000000712 .. 0.33416666666666667</td></tr>\n",
       "<tr><td>2</td><td>-2</td><td>1</td><td>1</td><td>4102.815</td><td>4131.828</td><td>1 .. 8192</td><td>0 .. 0</td><td>1.8660254 .. 1.8660254</td><td>0 .. 0</td><td>0 .. 0</td><td>10.738750000000886 .. 0.5</td><td>10.740000000000887 .. 0.50125</td></tr>\n",
       "<tr><td>3</td><td>-1</td><td>1</td><td>1</td><td>4102.815</td><td>4131.828</td><td>1 .. 8192</td><td>0 .. 0</td><td>1.8660254 .. 1.8660254</td><td>0 .. 0</td><td>0 .. 0</td><td>21.477500000001772 .. 1.0</td><td>21.480000000001773 .. 1.0025</td></tr>\n",
       "<tr><td>4</td><td>1</td><td>1</td><td>1</td><td>4102.815</td><td>4131.828</td><td>1 .. 8192</td><td>0 .. 0</td><td>1.8660254 .. 1.8660254</td><td>0 .. 0</td><td>0 .. 0</td><td>21.477500000001772 .. 1.0</td><td>21.480000000001773 .. 1.0025</td></tr>\n",
       "<tr><td>5</td><td>2</td><td>1</td><td>1</td><td>4102.815</td><td>4131.828</td><td>1 .. 8192</td><td>0 .. 0</td><td>1.8660254 .. 1.8660254</td><td>0 .. 0</td><td>0 .. 0</td><td>10.738750000000886 .. 0.5</td><td>10.740000000000887 .. 0.50125</td></tr>\n",
       "<tr><td>6</td><td>3</td><td>1</td><td>1</td><td>4102.815</td><td>4131.828</td><td>1 .. 8192</td><td>0 .. 0</td><td>1.8660254 .. 1.8660254</td><td>0 .. 0</td><td>0 .. 0</td><td>7.159166666667378 .. 0.3333333333333333</td><td>7.160000000000712 .. 0.33416666666666667</td></tr>\n",
       "<tr><td>7</td><td>-3</td><td>2</td><td>1</td><td>4102.815</td><td>4131.828</td><td>1 .. 8192</td><td>0 .. 0</td><td>1.8660254 .. 1.8660254</td><td>0 .. 0</td><td>0 .. 0</td><td>13.985000000001373 .. 0.3333333333333333</td><td>13.98666666666804 .. 0.33499999999999996</td></tr>\n",
       "<tr><td>8</td><td>-2</td><td>2</td><td>1</td><td>4102.815</td><td>4131.828</td><td>1 .. 8192</td><td>0 .. 0</td><td>1.8660254 .. 1.8660254</td><td>0 .. 0</td><td>0 .. 0</td><td>20.977500000001505 .. 0.5</td><td>20.980000000001507 .. 0.5025</td></tr>\n",
       "<tr><td>9</td><td>-1</td><td>2</td><td>1</td><td>4102.815</td><td>4131.828</td><td>1 .. 8192</td><td>0 .. 0</td><td>1.8660254 .. 1.8660254</td><td>0 .. 0</td><td>0 .. 0</td><td>41.95500000000301 .. 1.0</td><td>41.960000000003014 .. 1.005</td></tr>\n",
       "<tr><td>10</td><td>1</td><td>2</td><td>1</td><td>4102.815</td><td>4131.828</td><td>1 .. 8192</td><td>0 .. 0</td><td>1.8660254 .. 1.8660254</td><td>0 .. 0</td><td>0 .. 0</td><td>41.95500000000301 .. 1.0</td><td>41.960000000003014 .. 1.005</td></tr>\n",
       "<tr><td>11</td><td>2</td><td>2</td><td>1</td><td>4102.815</td><td>4131.828</td><td>1 .. 8192</td><td>0 .. 0</td><td>1.8660254 .. 1.8660254</td><td>0 .. 0</td><td>0 .. 0</td><td>20.977500000001505 .. 0.5</td><td>20.980000000001507 .. 0.5025</td></tr>\n",
       "<tr><td>12</td><td>3</td><td>2</td><td>1</td><td>4102.815</td><td>4131.828</td><td>1 .. 8192</td><td>0 .. 0</td><td>1.8660254 .. 1.8660254</td><td>0 .. 0</td><td>0 .. 0</td><td>13.985000000001373 .. 0.3333333333333333</td><td>13.98666666666804 .. 0.33499999999999996</td></tr>\n",
       "</table>"
      ],
      "text/plain": [
       "<Table length=12>\n",
       "SPEC_NUM  TG_M ...              BIN_HI [8192]              \n",
       " int16   int16 ...                 float64                 \n",
       "-------- ----- ... ----------------------------------------\n",
       "       1    -3 ... 7.160000000000712 .. 0.33416666666666667\n",
       "       2    -2 ...            10.740000000000887 .. 0.50125\n",
       "       3    -1 ...             21.480000000001773 .. 1.0025\n",
       "       4     1 ...             21.480000000001773 .. 1.0025\n",
       "       5     2 ...            10.740000000000887 .. 0.50125\n",
       "       6     3 ... 7.160000000000712 .. 0.33416666666666667\n",
       "       7    -3 ... 13.98666666666804 .. 0.33499999999999996\n",
       "       8    -2 ...             20.980000000001507 .. 0.5025\n",
       "       9    -1 ...              41.960000000003014 .. 1.005\n",
       "      10     1 ...              41.960000000003014 .. 1.005\n",
       "      11     2 ...             20.980000000001507 .. 0.5025\n",
       "      12     3 ... 13.98666666666804 .. 0.33499999999999996"
      ]
     },
     "execution_count": 17,
     "metadata": {},
     "output_type": "execute_result"
    }
   ],
   "source": [
    "spec_table=Table(hdu_list[1].data)\n",
    "spec_table"
   ]
  },
  {
   "cell_type": "code",
   "execution_count": 18,
   "metadata": {},
   "outputs": [
    {
     "data": {
      "image/png": "[encoded data removed]",
      "text/plain": [
       "<Figure size 720x576 with 12 Axes>"
      ]
     },
     "metadata": {
      "needs_background": "light"
     },
     "output_type": "display_data"
    }
   ],
   "source": [
    "for i in range(len(spec_table)):\n",
    "    matplotlib.rcParams['figure.figsize'] = (10, 8)\n",
    "    ax=plt.subplot(6,2,i+1)\n",
    "    pha = plt.plot( spec_table['CHANNEL'][i],spec_table['COUNTS'][i])\n",
    "    ax.set_yscale('log')\n",
    "    if spec_table['TG_PART'][i] == 1:\n",
    "        instr='HEG'\n",
    "    if spec_table['TG_PART'][i] == 2:\n",
    "        instr='MEG'\n",
    "    if spec_table['TG_PART'][i] == 3:\n",
    "        instr='LEG'\n",
    "    ax.set_title(\"{grating}{order:+d}\".format(grating=instr, order=spec_table['TG_M'][i]))\n",
    "    plt.tight_layout()\n"
   ]
  },
  {
   "cell_type": "markdown",
   "metadata": {},
   "source": [
    "This can then be analyzed in your favorite spectral analysis tool, e.g., [pyXspec](https://heasarc.gsfc.nasa.gov/xanadu/xspec/python/html/index.html).  (For the winter 2018 AAS workshop, we demonstrated this in a [notebook](https://github.com/NASA-NAVO/aas_workshop_2018/blob/master/heasarc/heasarc_Spectral_Access.ipynb) that you can consult for how to use pyXspec, but the pyXspec documentation will have more information.)  "
   ]
  },
  {
   "cell_type": "code",
   "execution_count": null,
   "metadata": {},
   "outputs": [],
   "source": []
  }
 ],
 "metadata": {
  "anaconda-cloud": {},
  "kernelspec": {
   "display_name": "Python [conda env:navo-py3]",
   "language": "python",
   "name": "conda-env-navo-py3-py"
  },
  "language_info": {
   "codemirror_mode": {
    "name": "ipython",
    "version": 3
   },
   "file_extension": ".py",
   "mimetype": "text/x-python",
   "name": "python",
   "nbconvert_exporter": "python",
   "pygments_lexer": "ipython3",
   "version": "3.6.6"
  },
  "nav_menu": {},
  "toc": {
   "navigate_menu": true,
   "number_sections": true,
   "sideBar": true,
   "threshold": 6,
   "toc_cell": false,
   "toc_section_display": "block",
   "toc_window_display": true
  }
 },
 "nbformat": 4,
 "nbformat_minor": 1
}
