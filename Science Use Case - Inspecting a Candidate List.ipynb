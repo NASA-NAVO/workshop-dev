{
 "cells": [
  {
   "cell_type": "markdown",
   "metadata": {},
   "source": [
    "# Science User Case - Inspecting a Candidate List"
   ]
  },
  {
   "cell_type": "markdown",
   "metadata": {},
   "source": [
    "Find available data for a list of objects. Here's the paper: https://ui.adsabs.harvard.edu//#abs/2016ApJ...817..109O/abstract\n",
    "\n",
    "Table 1 has a list of super spirals."
   ]
  },
  {
   "cell_type": "markdown",
   "metadata": {},
   "source": [
    "## Write a query to get Table 1 from the Super Spirals paper in machine-readable form. I don't know how to do this!"
   ]
  },
  {
   "cell_type": "code",
   "execution_count": null,
   "metadata": {
    "collapsed": true
   },
   "outputs": [],
   "source": []
  },
  {
   "cell_type": "markdown",
   "metadata": {},
   "source": [
    "## For each NED Name in the table, query NED to find the coordinates."
   ]
  },
  {
   "cell_type": "markdown",
   "metadata": {},
   "source": [
    "Hint: Use astroquery.ned!"
   ]
  },
  {
   "cell_type": "code",
   "execution_count": 1,
   "metadata": {},
   "outputs": [
    {
     "data": {
      "text/plain": [
       "['No.',\n",
       " 'Object Name',\n",
       " 'RA(deg)',\n",
       " 'DEC(deg)',\n",
       " 'Type',\n",
       " 'Velocity',\n",
       " 'Redshift',\n",
       " 'Redshift Flag',\n",
       " 'Magnitude and Filter',\n",
       " 'Distance (arcmin)',\n",
       " 'References',\n",
       " 'Notes',\n",
       " 'Photometry Points',\n",
       " 'Positions',\n",
       " 'Redshift Points',\n",
       " 'Diameter Points',\n",
       " 'Associations']"
      ]
     },
     "execution_count": 1,
     "metadata": {},
     "output_type": "execute_result"
    }
   ],
   "source": [
    "from astroquery.ned import Ned\n",
    "result_table = Ned.query_object(\"NGC 224\")\n",
    "#print(result_table) # an astropy.table.Table\n",
    "result_table.colnames"
   ]
  },
  {
   "cell_type": "code",
   "execution_count": 2,
   "metadata": {},
   "outputs": [
    {
     "data": {
      "text/html": [
       "&lt;Table masked=True length=1&gt;\n",
       "<table id=\"table4604125312\" class=\"table-striped table-bordered table-condensed\">\n",
       "<thead><tr><th>RA(deg)</th><th>DEC(deg)</th></tr></thead>\n",
       "<thead><tr><th>degrees</th><th>degrees</th></tr></thead>\n",
       "<thead><tr><th>float64</th><th>float64</th></tr></thead>\n",
       "<tr><td>10.68479</td><td>41.269060000000003</td></tr>\n",
       "</table>"
      ],
      "text/plain": [
       "<Table masked=True length=1>\n",
       " RA(deg)        DEC(deg)     \n",
       " degrees        degrees      \n",
       " float64        float64      \n",
       "---------- ------------------\n",
       "  10.68479 41.269060000000003"
      ]
     },
     "execution_count": 2,
     "metadata": {},
     "output_type": "execute_result"
    }
   ],
   "source": [
    "result_table['RA(deg)', 'DEC(deg)']"
   ]
  },
  {
   "cell_type": "markdown",
   "metadata": {},
   "source": [
    "## Grab the SDSS images for each super spiral"
   ]
  },
  {
   "cell_type": "markdown",
   "metadata": {},
   "source": [
    "Hint: Use astroquery.sdss!"
   ]
  },
  {
   "cell_type": "code",
   "execution_count": 3,
   "metadata": {},
   "outputs": [
    {
     "name": "stdout",
     "output_type": "stream",
     "text": [
      "      ra           dec             objid        ... run2d instrument\n",
      "------------- ------------- ------------------- ... ----- ----------\n",
      "2.02344596303 14.8398237521 1237652943176138868 ...    26       SDSS\n"
     ]
    },
    {
     "name": "stderr",
     "output_type": "stream",
     "text": [
      "/Users/desai/anaconda3/lib/python3.6/site-packages/astroquery/sdss/__init__.py:29: UserWarning: Experimental: SDSS has not yet been refactored to have its API match the rest of astroquery (but it's nearly there).\n",
      "  warnings.warn(\"Experimental: SDSS has not yet been refactored to have its API \"\n"
     ]
    }
   ],
   "source": [
    "from astroquery.sdss import SDSS\n",
    "from astropy import coordinates as coords\n",
    "pos = coords.SkyCoord('0h8m05.63s +14d50m23.3s', frame='icrs')\n",
    "xid = SDSS.query_region(pos, spectro=True)\n",
    "print(xid)"
   ]
  },
  {
   "cell_type": "code",
   "execution_count": 4,
   "metadata": {},
   "outputs": [
    {
     "name": "stdout",
     "output_type": "stream",
     "text": [
      "[[<astropy.io.fits.hdu.image.PrimaryHDU object at 0x112a54588>, <astropy.io.fits.hdu.image.ImageHDU object at 0x112a5aef0>, <astropy.io.fits.hdu.table.BinTableHDU object at 0x112a1b5c0>, <astropy.io.fits.hdu.table.BinTableHDU object at 0x112a4feb8>]]\n"
     ]
    }
   ],
   "source": [
    "sdss_images = SDSS.get_images(matches=xid, band='r')\n",
    "len(sdss_images)\n",
    "print(sdss_images)"
   ]
  },
  {
   "cell_type": "markdown",
   "metadata": {},
   "source": [
    "## Grab the WISE images for each super spiral"
   ]
  },
  {
   "cell_type": "markdown",
   "metadata": {},
   "source": [
    "### Search the Registry for WISE image services."
   ]
  },
  {
   "cell_type": "code",
   "execution_count": 5,
   "metadata": {},
   "outputs": [],
   "source": [
    "# Find all WISE image services.\n",
    "import sys\n",
    "sys.path.append('workshop-dev-master')\n",
    "from navo_utils.registry import Registry\n",
    "from navo_utils.image import Image, ImageColumn\n",
    "from navo_utils.spectra import Spectra, SpectraColumn\n",
    "from navo_utils.cone import Cone\n",
    "from navo_utils.tap import Tap\n",
    "from navo_utils.utils import astropy_table_from_votable_response\n",
    "\n",
    "wise_services = Registry.query(source='wise', service_type='image')\n"
   ]
  },
  {
   "cell_type": "code",
   "execution_count": 6,
   "metadata": {},
   "outputs": [
    {
     "data": {
      "text/html": [
       "&lt;MaskedColumn name=&apos;short_name&apos; dtype=&apos;str16&apos; length=8&gt;\n",
       "<table>\n",
       "<tr><td>WISE 3-Band L3a</td></tr>\n",
       "<tr><td>AllWISE L3a</td></tr>\n",
       "<tr><td>WISE 3-Band L1b</td></tr>\n",
       "<tr><td>NEOWISE-R L1b</td></tr>\n",
       "<tr><td>WISE All-Sky L3A</td></tr>\n",
       "<tr><td>WISE All-Sky L1b</td></tr>\n",
       "<tr><td>WISE 2-Band L1b</td></tr>\n",
       "<tr><td>WISE</td></tr>\n",
       "</table>"
      ],
      "text/plain": [
       "<MaskedColumn name='short_name' dtype='str16' length=8>\n",
       " WISE 3-Band L3a\n",
       "     AllWISE L3a\n",
       " WISE 3-Band L1b\n",
       "   NEOWISE-R L1b\n",
       "WISE All-Sky L3A\n",
       "WISE All-Sky L1b\n",
       " WISE 2-Band L1b\n",
       "            WISE"
      ]
     },
     "execution_count": 6,
     "metadata": {},
     "output_type": "execute_result"
    }
   ],
   "source": [
    "wise_services['short_name']"
   ]
  },
  {
   "cell_type": "code",
   "execution_count": 7,
   "metadata": {},
   "outputs": [
    {
     "data": {
      "text/plain": [
       "'https://irsa.ipac.caltech.edu/ibe/sia/wise/allwise/p3am_cdd?'"
      ]
     },
     "execution_count": 7,
     "metadata": {},
     "output_type": "execute_result"
    }
   ],
   "source": [
    "search_list = wise_services[1]['access_url']\n",
    "search_list"
   ]
  },
  {
   "cell_type": "markdown",
   "metadata": {},
   "source": [
    "### Query the AllWISE image service for those that cover the Super Spirals."
   ]
  },
  {
   "cell_type": "code",
   "execution_count": 8,
   "metadata": {},
   "outputs": [
    {
     "data": {
      "text/html": [
       "&lt;ImageTable masked=True length=4&gt;\n",
       "<table id=\"table4615372984-883930\" class=\"table-striped table-bordered table-condensed\">\n",
       "<thead><tr><th>idx</th><th>sia_title</th><th>sia_url</th><th>sia_naxes</th><th>sia_fmt</th><th>sia_ra</th><th>sia_dec</th><th>sia_naxis</th><th>sia_crpix</th><th>sia_crval</th><th>sia_proj</th><th>sia_scale</th><th>sia_cd</th><th>sia_bp_id</th><th>sia_bp_ref</th><th>sia_bp_hi</th><th>sia_bp_lo</th><th>magzp</th><th>magzpunc</th><th>unc_url</th><th>cov_url</th><th>coadd_id</th></tr></thead>\n",
       "<thead><tr><th></th><th></th><th></th><th></th><th></th><th>deg</th><th>deg</th><th></th><th>pix</th><th>deg</th><th></th><th>deg / pix</th><th>deg / pix</th><th></th><th></th><th></th><th></th><th></th><th></th><th></th><th></th><th></th></tr></thead>\n",
       "<tr><td>0</td><td>W3 Coadd 1853p045_ac51</td><td>https://irsa.ipac.caltech.edu/ibe/data/wise/allwise/p3am_cdd/18/1853/1853p045_ac51/1853p045_ac51-w3-int-3.fits</td><td>2</td><td>image/fits</td><td>185.31632500000001</td><td>4.5433329999999996</td><td>[4095 4095]</td><td>[2048.0 2048.0]</td><td>[185.316325 4.543333]</td><td>SIN</td><td>[-0.0003819444391411 0.0003819444391411]</td><td>[-0.0003819444391411 -0.0 -0.0 0.0003819444391411]</td><td>W3</td><td>1.1559999999999999e-05</td><td>1.6269999999999998e-05</td><td>7.6000000000000001e-06</td><td>18.0</td><td>0.012</td><td>https://irsa.ipac.caltech.edu/ibe/data/wise/allwise/p3am_cdd/18/1853/1853p045_ac51/1853p045_ac51-w3-unc-3.fits.gz</td><td>https://irsa.ipac.caltech.edu/ibe/data/wise/allwise/p3am_cdd/18/1853/1853p045_ac51/1853p045_ac51-w3-cov-3.fits.gz</td><td>1853p045_ac51</td></tr>\n",
       "<tr><td>1</td><td>W2 Coadd 1853p045_ac51</td><td>https://irsa.ipac.caltech.edu/ibe/data/wise/allwise/p3am_cdd/18/1853/1853p045_ac51/1853p045_ac51-w2-int-3.fits</td><td>2</td><td>image/fits</td><td>185.31632500000001</td><td>4.5433329999999996</td><td>[4095 4095]</td><td>[2048.0 2048.0]</td><td>[185.316325 4.543333]</td><td>SIN</td><td>[-0.0003819444391411 0.0003819444391411]</td><td>[-0.0003819444391411 -0.0 -0.0 0.0003819444391411]</td><td>W2</td><td>4.6e-06</td><td>5.1900000000000003e-06</td><td>4.0199999999999996e-06</td><td>19.5</td><td>0.0070000000000000001</td><td>https://irsa.ipac.caltech.edu/ibe/data/wise/allwise/p3am_cdd/18/1853/1853p045_ac51/1853p045_ac51-w2-unc-3.fits.gz</td><td>https://irsa.ipac.caltech.edu/ibe/data/wise/allwise/p3am_cdd/18/1853/1853p045_ac51/1853p045_ac51-w2-cov-3.fits.gz</td><td>1853p045_ac51</td></tr>\n",
       "<tr><td>2</td><td>W4 Coadd 1853p045_ac51</td><td>https://irsa.ipac.caltech.edu/ibe/data/wise/allwise/p3am_cdd/18/1853/1853p045_ac51/1853p045_ac51-w4-int-3.fits</td><td>2</td><td>image/fits</td><td>185.31632500000001</td><td>4.5433329999999996</td><td>[4095 4095]</td><td>[2048.0 2048.0]</td><td>[185.316325 4.543333]</td><td>SIN</td><td>[-0.0003819444391411 0.0003819444391411]</td><td>[-0.0003819444391411 -0.0 -0.0 0.0003819444391411]</td><td>W4</td><td>2.209e-05</td><td>2.336e-05</td><td>1.984e-05</td><td>13.0</td><td>0.012</td><td>https://irsa.ipac.caltech.edu/ibe/data/wise/allwise/p3am_cdd/18/1853/1853p045_ac51/1853p045_ac51-w4-unc-3.fits.gz</td><td>https://irsa.ipac.caltech.edu/ibe/data/wise/allwise/p3am_cdd/18/1853/1853p045_ac51/1853p045_ac51-w4-cov-3.fits.gz</td><td>1853p045_ac51</td></tr>\n",
       "<tr><td>3</td><td>W1 Coadd 1853p045_ac51</td><td>https://irsa.ipac.caltech.edu/ibe/data/wise/allwise/p3am_cdd/18/1853/1853p045_ac51/1853p045_ac51-w1-int-3.fits</td><td>2</td><td>image/fits</td><td>185.31632500000001</td><td>4.5433329999999996</td><td>[4095 4095]</td><td>[2048.0 2048.0]</td><td>[185.316325 4.543333]</td><td>SIN</td><td>[-0.0003819444391411 0.0003819444391411]</td><td>[-0.0003819444391411 -0.0 -0.0 0.0003819444391411]</td><td>W1</td><td>3.3500000000000001e-06</td><td>3.7799999999999998e-06</td><td>3.1300000000000001e-06</td><td>20.5</td><td>0.0060000000000000001</td><td>https://irsa.ipac.caltech.edu/ibe/data/wise/allwise/p3am_cdd/18/1853/1853p045_ac51/1853p045_ac51-w1-unc-3.fits.gz</td><td>https://irsa.ipac.caltech.edu/ibe/data/wise/allwise/p3am_cdd/18/1853/1853p045_ac51/1853p045_ac51-w1-cov-3.fits.gz</td><td>1853p045_ac51</td></tr>\n",
       "</table><style>table.dataTable {clear: both; width: auto !important; margin: 0 !important;}\n",
       ".dataTables_info, .dataTables_length, .dataTables_filter, .dataTables_paginate{\n",
       "display: inline-block; margin-right: 1em; }\n",
       ".paginate_button { margin-right: 5px; }\n",
       "</style>\n",
       "<script>\n",
       "\n",
       "var astropy_sort_num = function(a, b) {\n",
       "    var a_num = parseFloat(a);\n",
       "    var b_num = parseFloat(b);\n",
       "\n",
       "    if (isNaN(a_num) && isNaN(b_num))\n",
       "        return ((a < b) ? -1 : ((a > b) ? 1 : 0));\n",
       "    else if (!isNaN(a_num) && !isNaN(b_num))\n",
       "        return ((a_num < b_num) ? -1 : ((a_num > b_num) ? 1 : 0));\n",
       "    else\n",
       "        return isNaN(a_num) ? -1 : 1;\n",
       "}\n",
       "\n",
       "require.config({paths: {\n",
       "    datatables: 'https://cdn.datatables.net/1.10.12/js/jquery.dataTables.min'\n",
       "}});\n",
       "require([\"datatables\"], function(){\n",
       "    console.log(\"$('#table4615372984-883930').dataTable()\");\n",
       "    \n",
       "jQuery.extend( jQuery.fn.dataTableExt.oSort, {\n",
       "    \"optionalnum-asc\": astropy_sort_num,\n",
       "    \"optionalnum-desc\": function (a,b) { return -astropy_sort_num(a, b); }\n",
       "});\n",
       "\n",
       "    $('#table4615372984-883930').dataTable({\n",
       "        order: [],\n",
       "        pageLength: 50,\n",
       "        lengthMenu: [[10, 25, 50, 100, 500, 1000, -1], [10, 25, 50, 100, 500, 1000, 'All']],\n",
       "        pagingType: \"full_numbers\",\n",
       "        columnDefs: [{targets: [0, 3, 5, 6, 14, 15, 16, 17, 18], type: \"optionalnum\"}]\n",
       "    });\n",
       "});\n",
       "</script>\n"
      ],
      "text/plain": [
       "<IPython.core.display.HTML object>"
      ]
     },
     "execution_count": 8,
     "metadata": {},
     "output_type": "execute_result"
    }
   ],
   "source": [
    "# Specify the query coordinates.  \n",
    "# The query expects a SkyCoord, or any string that can be parsed in to a SkyCoord.\n",
    "from astropy.coordinates import SkyCoord\n",
    "\n",
    "sc = SkyCoord(185.47873, 4.47365, unit=\"deg\")\n",
    "\n",
    "# Choose a search size. Zero means the image must contain the search point.\n",
    "size = '0'  #diameter in degrees\n",
    "\n",
    "# Perform the query on the WISE service.\n",
    "result_list = Image.query(coords=sc, radius=size, service='https://irsa.ipac.caltech.edu/ibe/sia/wise/allwise/p3am_cdd?')\n",
    "\n",
    "# The result is a list of tables, one for each coordinate in the query.\n",
    "# In this case, we only input one coordinate, so there will only be one result \n",
    "# table in the list.\n",
    "table = result_list[0]\n",
    "table.show_in_notebook()"
   ]
  },
  {
   "cell_type": "code",
   "execution_count": 9,
   "metadata": {},
   "outputs": [],
   "source": [
    "import workshop_utils.utils\n",
    "url = 'https://irsa.ipac.caltech.edu/ibe/data/wise/allwise/p3am_cdd/18/1853/1853p045_ac51/1853p045_ac51-w1-int-3.fits'\n",
    "out_file_path = workshop_utils.utils.download_file(url, directory='.')"
   ]
  },
  {
   "cell_type": "markdown",
   "metadata": {},
   "source": [
    "## Grab the HST images for each super spiral"
   ]
  },
  {
   "cell_type": "markdown",
   "metadata": {},
   "source": [
    "## Plot the SDSS and WISE images next to each other"
   ]
  },
  {
   "cell_type": "code",
   "execution_count": null,
   "metadata": {
    "collapsed": true
   },
   "outputs": [],
   "source": []
  }
 ],
 "metadata": {
  "kernelspec": {
   "display_name": "Python 3",
   "language": "python",
   "name": "python3"
  },
  "language_info": {
   "codemirror_mode": {
    "name": "ipython",
    "version": 3
   },
   "file_extension": ".py",
   "mimetype": "text/x-python",
   "name": "python",
   "nbconvert_exporter": "python",
   "pygments_lexer": "ipython3",
   "version": "3.6.3"
  }
 },
 "nbformat": 4,
 "nbformat_minor": 2
}
