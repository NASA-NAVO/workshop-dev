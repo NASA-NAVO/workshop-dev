{
 "cells": [
  {
   "cell_type": "markdown",
   "metadata": {},
   "source": [
    "# Science User Case - Inspecting a Candidate List"
   ]
  },
  {
   "cell_type": "code",
   "execution_count": 184,
   "metadata": {
    "collapsed": true
   },
   "outputs": [],
   "source": [
    "import warnings\n",
    "warnings.filterwarnings(\"ignore\")\n",
    "import sys\n",
    "sys.path.append('workshop-dev-master')\n",
    "from navo_utils.registry import Registry\n",
    "from navo_utils.image import Image, ImageColumn\n",
    "from navo_utils.spectra import Spectra, SpectraColumn\n",
    "from navo_utils.cone import Cone\n",
    "from navo_utils.tap import Tap\n",
    "from navo_utils.utils import astropy_table_from_votable_response\n",
    "from astropy.table import Table\n",
    "\n",
    "# Utility functions used in the workshop.\n",
    "import navo_utils.utils"
   ]
  },
  {
   "cell_type": "markdown",
   "metadata": {},
   "source": [
    "Find available data for a list of objects. Here's the paper: https://ui.adsabs.harvard.edu//#abs/2016ApJ...817..109O/abstract\n",
    "\n",
    "Table 1 has a list of super spirals."
   ]
  },
  {
   "cell_type": "markdown",
   "metadata": {},
   "source": [
    "## Search NED for objects in this refcode"
   ]
  },
  {
   "cell_type": "code",
   "execution_count": 185,
   "metadata": {},
   "outputs": [
    {
     "data": {
      "text/html": [
       "&lt;Table masked=True length=62&gt;\n",
       "<table id=\"table4556025248-360393\" class=\"table-striped table-bordered table-condensed\">\n",
       "<thead><tr><th>idx</th><th>No.</th><th>Object Name</th><th>RA(deg)</th><th>DEC(deg)</th><th>Type</th><th>Velocity</th><th>Redshift</th><th>Redshift Flag</th><th>Magnitude and Filter</th><th>Distance (arcmin)</th><th>References</th><th>Notes</th><th>Photometry Points</th><th>Positions</th><th>Redshift Points</th><th>Diameter Points</th><th>Associations</th></tr></thead>\n",
       "<thead><tr><th></th><th></th><th></th><th>degrees</th><th>degrees</th><th></th><th>km / s</th><th></th><th></th><th></th><th>arcm</th><th></th><th></th><th></th><th></th><th></th><th></th><th></th></tr></thead>\n",
       "<tr><td>0</td><td>1</td><td>2MASX J00155012-1002427</td><td>3.95892</td><td>-10.045109999999999</td><td>G</td><td>52788.0</td><td>0.17608299999999999</td><td></td><td>17.5g</td><td>--</td><td>10</td><td>0</td><td>51</td><td>5</td><td>3</td><td>10</td><td>0</td></tr>\n",
       "<tr><td>1</td><td>2</td><td>2MASX J00380781-0109365</td><td>9.5325199999999999</td><td>-1.1602399999999999</td><td>G</td><td>62565.0</td><td>0.20869499999999999</td><td></td><td>18.0g</td><td>--</td><td>10</td><td>0</td><td>59</td><td>7</td><td>3</td><td>10</td><td>0</td></tr>\n",
       "<tr><td>2</td><td>3</td><td>2MASS J04042287-0541349</td><td>61.095480000000002</td><td>-5.6930300000000003</td><td>G</td><td>75138.0</td><td>0.250635</td><td></td><td>18.6g</td><td>--</td><td>4</td><td>0</td><td>49</td><td>7</td><td>4</td><td>8</td><td>0</td></tr>\n",
       "<tr><td>3</td><td>4</td><td>2MASX J07380615+2823592</td><td>114.52567999999999</td><td>28.39995</td><td>G</td><td>69255.0</td><td>0.23100999999999999</td><td></td><td>18.0g</td><td>--</td><td>8</td><td>0</td><td>54</td><td>5</td><td>3</td><td>10</td><td>0</td></tr>\n",
       "<tr><td>4</td><td>5</td><td>2MASX J07550424+1353261</td><td>118.76776</td><td>13.890650000000001</td><td>G</td><td>66754.0</td><td>0.22266900000000001</td><td></td><td>18.5g</td><td>--</td><td>7</td><td>0</td><td>38</td><td>5</td><td>3</td><td>6</td><td>0</td></tr>\n",
       "<tr><td>5</td><td>6</td><td>2MASX J08265512+1811476</td><td>126.72969000000001</td><td>18.196650000000002</td><td>G</td><td>79608.0</td><td>0.26554299999999997</td><td></td><td>18.4g</td><td>--</td><td>4</td><td>0</td><td>34</td><td>4</td><td>3</td><td>6</td><td>0</td></tr>\n",
       "<tr><td>6</td><td>7</td><td>2MASX J08542169+0449308</td><td>133.59032999999999</td><td>4.8251099999999996</td><td>G</td><td>47018.0</td><td>0.156835</td><td></td><td>16.7g</td><td>--</td><td>12</td><td>0</td><td>58</td><td>6</td><td>3</td><td>10</td><td>0</td></tr>\n",
       "<tr><td>7</td><td>8</td><td>GMBCG J137.43670+22.43538</td><td>137.4367</td><td>22.435390000000002</td><td>GClstr</td><td>90837.0</td><td>0.30299999999999999</td><td>PHOT</td><td></td><td>--</td><td>2</td><td>0</td><td>0</td><td>0</td><td>1</td><td>0</td><td>0</td></tr>\n",
       "<tr><td>8</td><td>9</td><td>2MASX J09094480+2226078</td><td>137.4367</td><td>22.435379999999999</td><td>G</td><td>85557.0</td><td>0.28538599999999997</td><td></td><td>19.0g</td><td>--</td><td>5</td><td>0</td><td>30</td><td>3</td><td>4</td><td>6</td><td>0</td></tr>\n",
       "<tr><td>9</td><td>10</td><td>2MASX J09260805+2405242</td><td>141.53357</td><td>24.090039999999998</td><td>G</td><td>66689.0</td><td>0.22245100000000001</td><td></td><td>17.8g</td><td>--</td><td>10</td><td>0</td><td>32</td><td>4</td><td>5</td><td>6</td><td>0</td></tr>\n",
       "<tr><td>10</td><td>11</td><td>WHL J092608.1+240524</td><td>141.53357</td><td>24.090039999999998</td><td>GClstr</td><td>53363.0</td><td>0.17799999999999999</td><td>PHOT</td><td></td><td>--</td><td>4</td><td>0</td><td>0</td><td>1</td><td>2</td><td>0</td><td>0</td></tr>\n",
       "<tr><td>11</td><td>12</td><td>2MASX J09334777+2114362</td><td>143.44900999999999</td><td>21.243459999999999</td><td>G</td><td>51626.0</td><td>0.172206</td><td></td><td>16.9g</td><td>--</td><td>39</td><td>0</td><td>37</td><td>11</td><td>8</td><td>6</td><td>1</td></tr>\n",
       "<tr><td>12</td><td>13</td><td>2MASX J09362208+3906291</td><td>144.09222</td><td>39.10801</td><td>G</td><td>84847.0</td><td>0.28301900000000002</td><td></td><td>18.5g</td><td>--</td><td>4</td><td>0</td><td>54</td><td>5</td><td>2</td><td>10</td><td>0</td></tr>\n",
       "<tr><td>13</td><td>14</td><td>MSPM 05544</td><td>146.2235</td><td>22.885100000000001</td><td>GClstr</td><td>26738.0</td><td>0.089190000000000005</td><td></td><td></td><td>--</td><td>2</td><td>0</td><td>0</td><td>1</td><td>1</td><td>0</td><td>0</td></tr>\n",
       "<tr><td>14</td><td>15</td><td>CGCG 122-067</td><td>146.22351</td><td>22.885120000000001</td><td>G</td><td>26684.0</td><td>0.089008000000000004</td><td></td><td>15.3g</td><td>--</td><td>21</td><td>0</td><td>36</td><td>6</td><td>5</td><td>8</td><td>0</td></tr>\n",
       "<tr><td>15</td><td>16</td><td>2MASX J09470010+2540462</td><td>146.75035</td><td>25.679379999999998</td><td>G</td><td>32710.0</td><td>0.10911</td><td></td><td>15.8g</td><td>--</td><td>15</td><td>0</td><td>34</td><td>4</td><td>4</td><td>6</td><td>0</td></tr>\n",
       "<tr><td>16</td><td>17</td><td>SDSS J095727.02+083501.7</td><td>149.36259000000001</td><td>8.5838300000000007</td><td>G</td><td>76917.0</td><td>0.25656800000000002</td><td></td><td>18.3g</td><td>--</td><td>4</td><td>0</td><td>39</td><td>4</td><td>2</td><td>8</td><td>0</td></tr>\n",
       "<tr><td>17</td><td>18</td><td>2MASXi J1003568+382901</td><td>150.98703</td><td>38.483910000000002</td><td>G</td><td>77544.0</td><td>0.258658</td><td></td><td>17.8g</td><td>--</td><td>6</td><td>0</td><td>45</td><td>5</td><td>3</td><td>8</td><td>0</td></tr>\n",
       "<tr><td>18</td><td>19</td><td>2MASX J10041606+2958441</td><td>151.06683000000001</td><td>29.97899</td><td>G</td><td>89469.0</td><td>0.29843500000000001</td><td></td><td>18.7g</td><td>--</td><td>5</td><td>0</td><td>54</td><td>5</td><td>3</td><td>10</td><td>0</td></tr>\n",
       "<tr><td>19</td><td>20</td><td>2MASX J10095635+2611324</td><td>152.48474999999999</td><td>26.192229999999999</td><td>G</td><td>72232.0</td><td>0.24093899999999999</td><td></td><td>18.1g</td><td>--</td><td>9</td><td>0</td><td>34</td><td>5</td><td>3</td><td>6</td><td>0</td></tr>\n",
       "<tr><td>20</td><td>21</td><td>GMBCG J152.52936+32.89139</td><td>152.52936</td><td>32.891390000000001</td><td>GClstr</td><td>95634.0</td><td>0.31900000000000001</td><td>PHOT</td><td></td><td>--</td><td>2</td><td>0</td><td>0</td><td>0</td><td>1</td><td>0</td><td>0</td></tr>\n",
       "<tr><td>21</td><td>22</td><td>2MASX J10100707+3253295</td><td>152.52936</td><td>32.89141</td><td>G</td><td>86914.0</td><td>0.28991299999999998</td><td></td><td>18.7g</td><td>--</td><td>6</td><td>0</td><td>54</td><td>5</td><td>3</td><td>10</td><td>0</td></tr>\n",
       "<tr><td>22</td><td>23</td><td>2MASS J10160396+3037481</td><td>154.01655</td><td>30.62998</td><td>G</td><td>75553.0</td><td>0.25201600000000002</td><td></td><td>18.7g</td><td>--</td><td>4</td><td>0</td><td>49</td><td>6</td><td>3</td><td>8</td><td>0</td></tr>\n",
       "<tr><td>23</td><td>24</td><td>SDSS J102154.85+072415.5</td><td>155.47855999999999</td><td>7.4043200000000002</td><td>G</td><td>87111.0</td><td>0.29056999999999999</td><td></td><td>18.4g</td><td>--</td><td>4</td><td>0</td><td>43</td><td>5</td><td>2</td><td>8</td><td>0</td></tr>\n",
       "<tr><td>24</td><td>25</td><td>2MASX J10301576-0106068</td><td>157.56560999999999</td><td>-1.10198</td><td>G</td><td>84617.0</td><td>0.28225099999999997</td><td></td><td>18.3g</td><td>--</td><td>7</td><td>0</td><td>50</td><td>6</td><td>3</td><td>10</td><td>0</td></tr>\n",
       "<tr><td>25</td><td>26</td><td>2MASX J10304263+0418219</td><td>157.67752999999999</td><td>4.3060200000000002</td><td>G</td><td>48300.0</td><td>0.16111</td><td></td><td>16.8g</td><td>--</td><td>14</td><td>0</td><td>59</td><td>6</td><td>3</td><td>10</td><td>0</td></tr>\n",
       "<tr><td>26</td><td>27</td><td>SDSS CE J160.241898-01.069106</td><td>160.23500000000001</td><td>-1.0661099999999999</td><td>GClstr</td><td>76153.0</td><td>0.25401899999999999</td><td>EST</td><td></td><td>--</td><td>3</td><td>0</td><td>0</td><td>0</td><td>2</td><td>0</td><td>0</td></tr>\n",
       "<tr><td>27</td><td>28</td><td>2MASX J10405643-0103584</td><td>160.23509000000001</td><td>-1.0663199999999999</td><td>G</td><td>75039.0</td><td>0.250303</td><td></td><td>18.2g</td><td>--</td><td>11</td><td>0</td><td>51</td><td>6</td><td>4</td><td>10</td><td>0</td></tr>\n",
       "<tr><td>28</td><td>29</td><td>2MASX J10472505+2309174</td><td>161.85435000000001</td><td>23.15474</td><td>G</td><td>54754.0</td><td>0.182639</td><td></td><td>18.46</td><td>--</td><td>13</td><td>0</td><td>34</td><td>5</td><td>2</td><td>6</td><td>0</td></tr>\n",
       "<tr><td>29</td><td>30</td><td>2MASX J11191739+1419465</td><td>169.82259999999999</td><td>14.329599999999999</td><td>G</td><td>43104.0</td><td>0.14378099999999999</td><td></td><td>16.6g</td><td>--</td><td>14</td><td>0</td><td>54</td><td>5</td><td>3</td><td>10</td><td>0</td></tr>\n",
       "<tr><td>30</td><td>31</td><td>2MASS J11292875+0255498</td><td>172.36977999999999</td><td>2.9305500000000002</td><td>G</td><td>71860.0</td><td>0.23969799999999999</td><td></td><td>17.5g</td><td>--</td><td>6</td><td>0</td><td>49</td><td>6</td><td>3</td><td>8</td><td>0</td></tr>\n",
       "<tr><td>31</td><td>32</td><td>2MASS J11380083+5213037</td><td>174.50367</td><td>52.217750000000002</td><td>G</td><td>88744.0</td><td>0.296018</td><td></td><td>19.0g</td><td>--</td><td>6</td><td>0</td><td>45</td><td>5</td><td>2</td><td>8</td><td>0</td></tr>\n",
       "<tr><td>32</td><td>33</td><td>2MASX J11410001+3848078</td><td>175.25022000000001</td><td>38.802070000000001</td><td>G</td><td>80215.0</td><td>0.267567</td><td></td><td>18.5g</td><td>--</td><td>5</td><td>0</td><td>54</td><td>6</td><td>5</td><td>10</td><td>0</td></tr>\n",
       "<tr><td>33</td><td>34</td><td>2MASS J11505297+4604481</td><td>177.72076000000001</td><td>46.080060000000003</td><td>G</td><td>86801.0</td><td>0.28953800000000002</td><td></td><td>18.5g</td><td>--</td><td>6</td><td>0</td><td>41</td><td>5</td><td>4</td><td>8</td><td>0</td></tr>\n",
       "<tr><td>34</td><td>35</td><td>2MASX J11535621+4923562</td><td>178.48416</td><td>49.398809999999997</td><td>G</td><td>50033.0</td><td>0.16689200000000001</td><td></td><td>17.1g</td><td>--</td><td>11</td><td>0</td><td>54</td><td>5</td><td>3</td><td>10</td><td>0</td></tr>\n",
       "<tr><td>35</td><td>36</td><td>2MASX J11593546+1257080</td><td>179.89760999999999</td><td>12.95205</td><td>G</td><td>79017.0</td><td>0.26357199999999997</td><td></td><td>18.3g</td><td>--</td><td>4</td><td>0</td><td>54</td><td>5</td><td>3</td><td>10</td><td>0</td></tr>\n",
       "<tr><td>36</td><td>37</td><td>2MASX J12005393+4800076</td><td>180.22477000000001</td><td>48.002130000000001</td><td>G</td><td>83527.0</td><td>0.278617</td><td></td><td>18.4g</td><td>--</td><td>5</td><td>0</td><td>54</td><td>5</td><td>4</td><td>10</td><td>0</td></tr>\n",
       "<tr><td>37</td><td>38</td><td>GMBCG J180.22479+48.00211</td><td>180.22479000000001</td><td>48.002110000000002</td><td>GClstr</td><td>75548.0</td><td>0.252</td><td>PHOT</td><td></td><td>--</td><td>3</td><td>0</td><td>0</td><td>0</td><td>1</td><td>0</td><td>0</td></tr>\n",
       "<tr><td>38</td><td>39</td><td>2MASS J12164436+1224505</td><td>184.18476999999999</td><td>12.41404</td><td>G</td><td>77090.0</td><td>0.25714399999999998</td><td></td><td>18.3g</td><td>--</td><td>4</td><td>0</td><td>43</td><td>5</td><td>2</td><td>8</td><td>0</td></tr>\n",
       "<tr><td>39</td><td>40</td><td>2MASS J12210047+4827288</td><td>185.25209000000001</td><td>48.458069999999999</td><td>G</td><td>89874.0</td><td>0.29978700000000003</td><td></td><td>18.7g</td><td>--</td><td>6</td><td>0</td><td>49</td><td>6</td><td>2</td><td>8</td><td>0</td></tr>\n",
       "<tr><td>40</td><td>41</td><td>2MASX J12321515+1021195</td><td>188.06310999999999</td><td>10.35535</td><td>G</td><td>49742.0</td><td>0.16592000000000001</td><td></td><td>17.2g</td><td>--</td><td>12</td><td>0</td><td>54</td><td>6</td><td>3</td><td>10</td><td>0</td></tr>\n",
       "<tr><td>41</td><td>42</td><td>2MASX J12343099+5156295</td><td>188.62952000000001</td><td>51.941459999999999</td><td>G</td><td>88733.0</td><td>0.29598200000000002</td><td></td><td>18.1g</td><td>--</td><td>24</td><td>0</td><td>51</td><td>5</td><td>8</td><td>10</td><td>0</td></tr>\n",
       "<tr><td>42</td><td>43</td><td>2MASX J12374668+4812273</td><td>189.44448</td><td>48.20767</td><td>G</td><td>81721.0</td><td>0.272592</td><td></td><td>18.2g</td><td>--</td><td>5</td><td>0</td><td>52</td><td>5</td><td>3</td><td>10</td><td>0</td></tr>\n",
       "<tr><td>43</td><td>44</td><td>2MASX J13103930+2235023</td><td>197.66385</td><td>22.584070000000001</td><td>G</td><td>69341.0</td><td>0.231295</td><td></td><td>18.1g</td><td>--</td><td>8</td><td>0</td><td>36</td><td>5</td><td>1</td><td>6</td><td>1</td></tr>\n",
       "<tr><td>44</td><td>45</td><td>2MASX J13275756+3345291</td><td>201.98969</td><td>33.75806</td><td>G</td><td>74633.0</td><td>0.248949</td><td></td><td>17.7g</td><td>--</td><td>11</td><td>0</td><td>66</td><td>7</td><td>2</td><td>10</td><td>0</td></tr>\n",
       "<tr><td>45</td><td>46</td><td>2MASX J13422833+1157345</td><td>205.61806000000001</td><td>11.959540000000001</td><td>G</td><td>83682.0</td><td>0.27913300000000002</td><td></td><td>19.0g</td><td>--</td><td>5</td><td>0</td><td>54</td><td>5</td><td>3</td><td>10</td><td>0</td></tr>\n",
       "<tr><td>46</td><td>47</td><td>2MASX J13435549+2440484</td><td>205.98124000000001</td><td>24.680009999999999</td><td>G</td><td>41149.0</td><td>0.13725799999999999</td><td></td><td>17.81</td><td>--</td><td>12</td><td>0</td><td>34</td><td>4</td><td>1</td><td>6</td><td>0</td></tr>\n",
       "<tr><td>47</td><td>48</td><td>SDSSCGB 16827</td><td>206.99833000000001</td><td>32.440390000000001</td><td>GGroup</td><td>--</td><td>--</td><td></td><td>18.44</td><td>--</td><td>2</td><td>0</td><td>0</td><td>0</td><td>0</td><td>0</td><td>0</td></tr>\n",
       "<tr><td>48</td><td>49</td><td>2MASX J13475962+3227100</td><td>206.99841000000001</td><td>32.452860000000001</td><td>G</td><td>66888.0</td><td>0.22311300000000001</td><td></td><td>18.1g</td><td>--</td><td>8</td><td>0</td><td>54</td><td>5</td><td>3</td><td>10</td><td>0</td></tr>\n",
       "<tr><td>49</td><td>50</td><td>SDSS J135546.07+025455.8</td><td>208.94200000000001</td><td>2.91553</td><td>G</td><td>71617.0</td><td>0.23888999999999999</td><td></td><td>18.7g</td><td>--</td><td>7</td><td>0</td><td>39</td><td>4</td><td>2</td><td>8</td><td>0</td></tr>\n",
       "<tr><td>50</td><td>51</td><td>SDSS J140138.37+263527.6</td><td>210.40991</td><td>26.591000000000001</td><td>G</td><td>85152.0</td><td>0.28403600000000001</td><td></td><td>18.7g</td><td>--</td><td>5</td><td>0</td><td>18</td><td>3</td><td>3</td><td>4</td><td>0</td></tr>\n",
       "<tr><td>51</td><td>52</td><td>2MASS J14175497+2704341</td><td>214.47905</td><td>27.076239999999999</td><td>G</td><td>47238.0</td><td>0.15756899999999999</td><td></td><td>16.9g</td><td>--</td><td>13</td><td>0</td><td>25</td><td>5</td><td>5</td><td>4</td><td>0</td></tr>\n",
       "<tr><td>52</td><td>53</td><td>2MASS J14344785+0202293</td><td>218.69942</td><td>2.04129</td><td>G</td><td>83976.0</td><td>0.280115</td><td></td><td>18.6g</td><td>--</td><td>6</td><td>0</td><td>50</td><td>7</td><td>3</td><td>8</td><td>0</td></tr>\n",
       "<tr><td>53</td><td>54</td><td>2MASX J14472834+5908314</td><td>221.86806999999999</td><td>59.142090000000003</td><td>G</td><td>73609.0</td><td>0.245534</td><td></td><td>18.3g</td><td>--</td><td>10</td><td>0</td><td>57</td><td>7</td><td>4</td><td>10</td><td>0</td></tr>\n",
       "<tr><td>54</td><td>55</td><td>2MASS J15361895+4522469</td><td>234.07909000000001</td><td>45.37968</td><td>G</td><td>70813.0</td><td>0.236206</td><td></td><td>18.1g</td><td>--</td><td>6</td><td>0</td><td>45</td><td>5</td><td>2</td><td>8</td><td>0</td></tr>\n",
       "<tr><td>55</td><td>56</td><td>2MASX J15430777+1937522</td><td>235.78241</td><td>19.631039999999999</td><td>G</td><td>68625.0</td><td>0.228909</td><td></td><td>17.0g</td><td>--</td><td>26</td><td>1</td><td>38</td><td>8</td><td>8</td><td>6</td><td>0</td></tr>\n",
       "<tr><td>56</td><td>57</td><td>SDSS J154950.91+234444.1</td><td>237.46216000000001</td><td>23.7456</td><td>G</td><td>78611.0</td><td>0.26221699999999998</td><td></td><td>18.5g</td><td>--</td><td>5</td><td>0</td><td>19</td><td>3</td><td>3</td><td>4</td><td>0</td></tr>\n",
       "<tr><td>57</td><td>58</td><td>GMBCG J240.41924+27.30444</td><td>240.41924</td><td>27.30444</td><td>GClstr</td><td>57860.0</td><td>0.193</td><td>PHOT</td><td></td><td>--</td><td>2</td><td>0</td><td>0</td><td>0</td><td>1</td><td>0</td><td>0</td></tr>\n",
       "<tr><td>58</td><td>59</td><td>2MASX J16014061+2718161</td><td>240.41924</td><td>27.30443</td><td>G</td><td>49332.0</td><td>0.16455400000000001</td><td></td><td>16.7g</td><td>--</td><td>13</td><td>0</td><td>54</td><td>5</td><td>4</td><td>10</td><td>1</td></tr>\n",
       "<tr><td>59</td><td>60</td><td>2MASX J16394598+4609058</td><td>249.94148000000001</td><td>46.151699999999998</td><td>G</td><td>74151.0</td><td>0.24734200000000001</td><td></td><td>18.3g</td><td>--</td><td>7</td><td>0</td><td>58</td><td>6</td><td>3</td><td>10</td><td>0</td></tr>\n",
       "<tr><td>60</td><td>61</td><td>2MASX J17340613+6029190</td><td>263.52577000000002</td><td>60.488590000000002</td><td>G</td><td>82685.0</td><td>0.27580700000000002</td><td></td><td>18.5g</td><td>--</td><td>6</td><td>0</td><td>54</td><td>5</td><td>2</td><td>10</td><td>0</td></tr>\n",
       "<tr><td>61</td><td>62</td><td>SDSSCGB 59704</td><td>263.53291999999999</td><td>60.481969999999997</td><td>GGroup</td><td>82743.0</td><td>0.27600000000000002</td><td></td><td>17.20</td><td>--</td><td>2</td><td>0</td><td>0</td><td>0</td><td>0</td><td>0</td><td>0</td></tr>\n",
       "</table><style>table.dataTable {clear: both; width: auto !important; margin: 0 !important;}\n",
       ".dataTables_info, .dataTables_length, .dataTables_filter, .dataTables_paginate{\n",
       "display: inline-block; margin-right: 1em; }\n",
       ".paginate_button { margin-right: 5px; }\n",
       "</style>\n",
       "<script>\n",
       "\n",
       "var astropy_sort_num = function(a, b) {\n",
       "    var a_num = parseFloat(a);\n",
       "    var b_num = parseFloat(b);\n",
       "\n",
       "    if (isNaN(a_num) && isNaN(b_num))\n",
       "        return ((a < b) ? -1 : ((a > b) ? 1 : 0));\n",
       "    else if (!isNaN(a_num) && !isNaN(b_num))\n",
       "        return ((a_num < b_num) ? -1 : ((a_num > b_num) ? 1 : 0));\n",
       "    else\n",
       "        return isNaN(a_num) ? -1 : 1;\n",
       "}\n",
       "\n",
       "require.config({paths: {\n",
       "    datatables: 'https://cdn.datatables.net/1.10.12/js/jquery.dataTables.min'\n",
       "}});\n",
       "require([\"datatables\"], function(){\n",
       "    console.log(\"$('#table4556025248-360393').dataTable()\");\n",
       "    \n",
       "jQuery.extend( jQuery.fn.dataTableExt.oSort, {\n",
       "    \"optionalnum-asc\": astropy_sort_num,\n",
       "    \"optionalnum-desc\": function (a,b) { return -astropy_sort_num(a, b); }\n",
       "});\n",
       "\n",
       "    $('#table4556025248-360393').dataTable({\n",
       "        order: [],\n",
       "        pageLength: 50,\n",
       "        lengthMenu: [[10, 25, 50, 100, 500, 1000, -1], [10, 25, 50, 100, 500, 1000, 'All']],\n",
       "        pagingType: \"full_numbers\",\n",
       "        columnDefs: [{targets: [0, 1, 3, 4, 6, 7, 10, 11, 12, 13, 14, 15, 16, 17], type: \"optionalnum\"}]\n",
       "    });\n",
       "});\n",
       "</script>\n"
      ],
      "text/plain": [
       "<IPython.core.display.HTML object>"
      ]
     },
     "execution_count": 185,
     "metadata": {},
     "output_type": "execute_result"
    }
   ],
   "source": [
    "from astroquery.ned import Ned\n",
    "objects_in_paper = Ned.query_refcode('2016ApJ...817..109O')\n",
    "objects_in_paper.show_in_notebook()"
   ]
  },
  {
   "cell_type": "markdown",
   "metadata": {},
   "source": [
    "## Remove the non-galaxies from the table."
   ]
  },
  {
   "cell_type": "code",
   "execution_count": 186,
   "metadata": {},
   "outputs": [
    {
     "data": {
      "text/plain": [
       "b'G'"
      ]
     },
     "execution_count": 186,
     "metadata": {},
     "output_type": "execute_result"
    }
   ],
   "source": [
    "#Let's see whether we are dealing with strings or byte strings\n",
    "objects_in_paper['Type'].data[0]"
   ]
  },
  {
   "cell_type": "code",
   "execution_count": 187,
   "metadata": {},
   "outputs": [
    {
     "data": {
      "text/html": [
       "&lt;Table masked=True length=53&gt;\n",
       "<table id=\"table4585286176-861994\" class=\"table-striped table-bordered table-condensed\">\n",
       "<thead><tr><th>idx</th><th>No.</th><th>Object Name</th><th>RA(deg)</th><th>DEC(deg)</th><th>Type</th><th>Velocity</th><th>Redshift</th><th>Redshift Flag</th><th>Magnitude and Filter</th><th>Distance (arcmin)</th><th>References</th><th>Notes</th><th>Photometry Points</th><th>Positions</th><th>Redshift Points</th><th>Diameter Points</th><th>Associations</th></tr></thead>\n",
       "<thead><tr><th></th><th></th><th></th><th>degrees</th><th>degrees</th><th></th><th>km / s</th><th></th><th></th><th></th><th>arcm</th><th></th><th></th><th></th><th></th><th></th><th></th><th></th></tr></thead>\n",
       "<tr><td>0</td><td>1</td><td>2MASX J00155012-1002427</td><td>3.95892</td><td>-10.045109999999999</td><td>G</td><td>52788.0</td><td>0.17608299999999999</td><td></td><td>17.5g</td><td>--</td><td>10</td><td>0</td><td>51</td><td>5</td><td>3</td><td>10</td><td>0</td></tr>\n",
       "<tr><td>1</td><td>2</td><td>2MASX J00380781-0109365</td><td>9.5325199999999999</td><td>-1.1602399999999999</td><td>G</td><td>62565.0</td><td>0.20869499999999999</td><td></td><td>18.0g</td><td>--</td><td>10</td><td>0</td><td>59</td><td>7</td><td>3</td><td>10</td><td>0</td></tr>\n",
       "<tr><td>2</td><td>3</td><td>2MASS J04042287-0541349</td><td>61.095480000000002</td><td>-5.6930300000000003</td><td>G</td><td>75138.0</td><td>0.250635</td><td></td><td>18.6g</td><td>--</td><td>4</td><td>0</td><td>49</td><td>7</td><td>4</td><td>8</td><td>0</td></tr>\n",
       "<tr><td>3</td><td>4</td><td>2MASX J07380615+2823592</td><td>114.52567999999999</td><td>28.39995</td><td>G</td><td>69255.0</td><td>0.23100999999999999</td><td></td><td>18.0g</td><td>--</td><td>8</td><td>0</td><td>54</td><td>5</td><td>3</td><td>10</td><td>0</td></tr>\n",
       "<tr><td>4</td><td>5</td><td>2MASX J07550424+1353261</td><td>118.76776</td><td>13.890650000000001</td><td>G</td><td>66754.0</td><td>0.22266900000000001</td><td></td><td>18.5g</td><td>--</td><td>7</td><td>0</td><td>38</td><td>5</td><td>3</td><td>6</td><td>0</td></tr>\n",
       "<tr><td>5</td><td>6</td><td>2MASX J08265512+1811476</td><td>126.72969000000001</td><td>18.196650000000002</td><td>G</td><td>79608.0</td><td>0.26554299999999997</td><td></td><td>18.4g</td><td>--</td><td>4</td><td>0</td><td>34</td><td>4</td><td>3</td><td>6</td><td>0</td></tr>\n",
       "<tr><td>6</td><td>7</td><td>2MASX J08542169+0449308</td><td>133.59032999999999</td><td>4.8251099999999996</td><td>G</td><td>47018.0</td><td>0.156835</td><td></td><td>16.7g</td><td>--</td><td>12</td><td>0</td><td>58</td><td>6</td><td>3</td><td>10</td><td>0</td></tr>\n",
       "<tr><td>7</td><td>9</td><td>2MASX J09094480+2226078</td><td>137.4367</td><td>22.435379999999999</td><td>G</td><td>85557.0</td><td>0.28538599999999997</td><td></td><td>19.0g</td><td>--</td><td>5</td><td>0</td><td>30</td><td>3</td><td>4</td><td>6</td><td>0</td></tr>\n",
       "<tr><td>8</td><td>10</td><td>2MASX J09260805+2405242</td><td>141.53357</td><td>24.090039999999998</td><td>G</td><td>66689.0</td><td>0.22245100000000001</td><td></td><td>17.8g</td><td>--</td><td>10</td><td>0</td><td>32</td><td>4</td><td>5</td><td>6</td><td>0</td></tr>\n",
       "<tr><td>9</td><td>12</td><td>2MASX J09334777+2114362</td><td>143.44900999999999</td><td>21.243459999999999</td><td>G</td><td>51626.0</td><td>0.172206</td><td></td><td>16.9g</td><td>--</td><td>39</td><td>0</td><td>37</td><td>11</td><td>8</td><td>6</td><td>1</td></tr>\n",
       "<tr><td>10</td><td>13</td><td>2MASX J09362208+3906291</td><td>144.09222</td><td>39.10801</td><td>G</td><td>84847.0</td><td>0.28301900000000002</td><td></td><td>18.5g</td><td>--</td><td>4</td><td>0</td><td>54</td><td>5</td><td>2</td><td>10</td><td>0</td></tr>\n",
       "<tr><td>11</td><td>15</td><td>CGCG 122-067</td><td>146.22351</td><td>22.885120000000001</td><td>G</td><td>26684.0</td><td>0.089008000000000004</td><td></td><td>15.3g</td><td>--</td><td>21</td><td>0</td><td>36</td><td>6</td><td>5</td><td>8</td><td>0</td></tr>\n",
       "<tr><td>12</td><td>16</td><td>2MASX J09470010+2540462</td><td>146.75035</td><td>25.679379999999998</td><td>G</td><td>32710.0</td><td>0.10911</td><td></td><td>15.8g</td><td>--</td><td>15</td><td>0</td><td>34</td><td>4</td><td>4</td><td>6</td><td>0</td></tr>\n",
       "<tr><td>13</td><td>17</td><td>SDSS J095727.02+083501.7</td><td>149.36259000000001</td><td>8.5838300000000007</td><td>G</td><td>76917.0</td><td>0.25656800000000002</td><td></td><td>18.3g</td><td>--</td><td>4</td><td>0</td><td>39</td><td>4</td><td>2</td><td>8</td><td>0</td></tr>\n",
       "<tr><td>14</td><td>18</td><td>2MASXi J1003568+382901</td><td>150.98703</td><td>38.483910000000002</td><td>G</td><td>77544.0</td><td>0.258658</td><td></td><td>17.8g</td><td>--</td><td>6</td><td>0</td><td>45</td><td>5</td><td>3</td><td>8</td><td>0</td></tr>\n",
       "<tr><td>15</td><td>19</td><td>2MASX J10041606+2958441</td><td>151.06683000000001</td><td>29.97899</td><td>G</td><td>89469.0</td><td>0.29843500000000001</td><td></td><td>18.7g</td><td>--</td><td>5</td><td>0</td><td>54</td><td>5</td><td>3</td><td>10</td><td>0</td></tr>\n",
       "<tr><td>16</td><td>20</td><td>2MASX J10095635+2611324</td><td>152.48474999999999</td><td>26.192229999999999</td><td>G</td><td>72232.0</td><td>0.24093899999999999</td><td></td><td>18.1g</td><td>--</td><td>9</td><td>0</td><td>34</td><td>5</td><td>3</td><td>6</td><td>0</td></tr>\n",
       "<tr><td>17</td><td>22</td><td>2MASX J10100707+3253295</td><td>152.52936</td><td>32.89141</td><td>G</td><td>86914.0</td><td>0.28991299999999998</td><td></td><td>18.7g</td><td>--</td><td>6</td><td>0</td><td>54</td><td>5</td><td>3</td><td>10</td><td>0</td></tr>\n",
       "<tr><td>18</td><td>23</td><td>2MASS J10160396+3037481</td><td>154.01655</td><td>30.62998</td><td>G</td><td>75553.0</td><td>0.25201600000000002</td><td></td><td>18.7g</td><td>--</td><td>4</td><td>0</td><td>49</td><td>6</td><td>3</td><td>8</td><td>0</td></tr>\n",
       "<tr><td>19</td><td>24</td><td>SDSS J102154.85+072415.5</td><td>155.47855999999999</td><td>7.4043200000000002</td><td>G</td><td>87111.0</td><td>0.29056999999999999</td><td></td><td>18.4g</td><td>--</td><td>4</td><td>0</td><td>43</td><td>5</td><td>2</td><td>8</td><td>0</td></tr>\n",
       "<tr><td>20</td><td>25</td><td>2MASX J10301576-0106068</td><td>157.56560999999999</td><td>-1.10198</td><td>G</td><td>84617.0</td><td>0.28225099999999997</td><td></td><td>18.3g</td><td>--</td><td>7</td><td>0</td><td>50</td><td>6</td><td>3</td><td>10</td><td>0</td></tr>\n",
       "<tr><td>21</td><td>26</td><td>2MASX J10304263+0418219</td><td>157.67752999999999</td><td>4.3060200000000002</td><td>G</td><td>48300.0</td><td>0.16111</td><td></td><td>16.8g</td><td>--</td><td>14</td><td>0</td><td>59</td><td>6</td><td>3</td><td>10</td><td>0</td></tr>\n",
       "<tr><td>22</td><td>28</td><td>2MASX J10405643-0103584</td><td>160.23509000000001</td><td>-1.0663199999999999</td><td>G</td><td>75039.0</td><td>0.250303</td><td></td><td>18.2g</td><td>--</td><td>11</td><td>0</td><td>51</td><td>6</td><td>4</td><td>10</td><td>0</td></tr>\n",
       "<tr><td>23</td><td>29</td><td>2MASX J10472505+2309174</td><td>161.85435000000001</td><td>23.15474</td><td>G</td><td>54754.0</td><td>0.182639</td><td></td><td>18.46</td><td>--</td><td>13</td><td>0</td><td>34</td><td>5</td><td>2</td><td>6</td><td>0</td></tr>\n",
       "<tr><td>24</td><td>30</td><td>2MASX J11191739+1419465</td><td>169.82259999999999</td><td>14.329599999999999</td><td>G</td><td>43104.0</td><td>0.14378099999999999</td><td></td><td>16.6g</td><td>--</td><td>14</td><td>0</td><td>54</td><td>5</td><td>3</td><td>10</td><td>0</td></tr>\n",
       "<tr><td>25</td><td>31</td><td>2MASS J11292875+0255498</td><td>172.36977999999999</td><td>2.9305500000000002</td><td>G</td><td>71860.0</td><td>0.23969799999999999</td><td></td><td>17.5g</td><td>--</td><td>6</td><td>0</td><td>49</td><td>6</td><td>3</td><td>8</td><td>0</td></tr>\n",
       "<tr><td>26</td><td>32</td><td>2MASS J11380083+5213037</td><td>174.50367</td><td>52.217750000000002</td><td>G</td><td>88744.0</td><td>0.296018</td><td></td><td>19.0g</td><td>--</td><td>6</td><td>0</td><td>45</td><td>5</td><td>2</td><td>8</td><td>0</td></tr>\n",
       "<tr><td>27</td><td>33</td><td>2MASX J11410001+3848078</td><td>175.25022000000001</td><td>38.802070000000001</td><td>G</td><td>80215.0</td><td>0.267567</td><td></td><td>18.5g</td><td>--</td><td>5</td><td>0</td><td>54</td><td>6</td><td>5</td><td>10</td><td>0</td></tr>\n",
       "<tr><td>28</td><td>34</td><td>2MASS J11505297+4604481</td><td>177.72076000000001</td><td>46.080060000000003</td><td>G</td><td>86801.0</td><td>0.28953800000000002</td><td></td><td>18.5g</td><td>--</td><td>6</td><td>0</td><td>41</td><td>5</td><td>4</td><td>8</td><td>0</td></tr>\n",
       "<tr><td>29</td><td>35</td><td>2MASX J11535621+4923562</td><td>178.48416</td><td>49.398809999999997</td><td>G</td><td>50033.0</td><td>0.16689200000000001</td><td></td><td>17.1g</td><td>--</td><td>11</td><td>0</td><td>54</td><td>5</td><td>3</td><td>10</td><td>0</td></tr>\n",
       "<tr><td>30</td><td>36</td><td>2MASX J11593546+1257080</td><td>179.89760999999999</td><td>12.95205</td><td>G</td><td>79017.0</td><td>0.26357199999999997</td><td></td><td>18.3g</td><td>--</td><td>4</td><td>0</td><td>54</td><td>5</td><td>3</td><td>10</td><td>0</td></tr>\n",
       "<tr><td>31</td><td>37</td><td>2MASX J12005393+4800076</td><td>180.22477000000001</td><td>48.002130000000001</td><td>G</td><td>83527.0</td><td>0.278617</td><td></td><td>18.4g</td><td>--</td><td>5</td><td>0</td><td>54</td><td>5</td><td>4</td><td>10</td><td>0</td></tr>\n",
       "<tr><td>32</td><td>39</td><td>2MASS J12164436+1224505</td><td>184.18476999999999</td><td>12.41404</td><td>G</td><td>77090.0</td><td>0.25714399999999998</td><td></td><td>18.3g</td><td>--</td><td>4</td><td>0</td><td>43</td><td>5</td><td>2</td><td>8</td><td>0</td></tr>\n",
       "<tr><td>33</td><td>40</td><td>2MASS J12210047+4827288</td><td>185.25209000000001</td><td>48.458069999999999</td><td>G</td><td>89874.0</td><td>0.29978700000000003</td><td></td><td>18.7g</td><td>--</td><td>6</td><td>0</td><td>49</td><td>6</td><td>2</td><td>8</td><td>0</td></tr>\n",
       "<tr><td>34</td><td>41</td><td>2MASX J12321515+1021195</td><td>188.06310999999999</td><td>10.35535</td><td>G</td><td>49742.0</td><td>0.16592000000000001</td><td></td><td>17.2g</td><td>--</td><td>12</td><td>0</td><td>54</td><td>6</td><td>3</td><td>10</td><td>0</td></tr>\n",
       "<tr><td>35</td><td>42</td><td>2MASX J12343099+5156295</td><td>188.62952000000001</td><td>51.941459999999999</td><td>G</td><td>88733.0</td><td>0.29598200000000002</td><td></td><td>18.1g</td><td>--</td><td>24</td><td>0</td><td>51</td><td>5</td><td>8</td><td>10</td><td>0</td></tr>\n",
       "<tr><td>36</td><td>43</td><td>2MASX J12374668+4812273</td><td>189.44448</td><td>48.20767</td><td>G</td><td>81721.0</td><td>0.272592</td><td></td><td>18.2g</td><td>--</td><td>5</td><td>0</td><td>52</td><td>5</td><td>3</td><td>10</td><td>0</td></tr>\n",
       "<tr><td>37</td><td>44</td><td>2MASX J13103930+2235023</td><td>197.66385</td><td>22.584070000000001</td><td>G</td><td>69341.0</td><td>0.231295</td><td></td><td>18.1g</td><td>--</td><td>8</td><td>0</td><td>36</td><td>5</td><td>1</td><td>6</td><td>1</td></tr>\n",
       "<tr><td>38</td><td>45</td><td>2MASX J13275756+3345291</td><td>201.98969</td><td>33.75806</td><td>G</td><td>74633.0</td><td>0.248949</td><td></td><td>17.7g</td><td>--</td><td>11</td><td>0</td><td>66</td><td>7</td><td>2</td><td>10</td><td>0</td></tr>\n",
       "<tr><td>39</td><td>46</td><td>2MASX J13422833+1157345</td><td>205.61806000000001</td><td>11.959540000000001</td><td>G</td><td>83682.0</td><td>0.27913300000000002</td><td></td><td>19.0g</td><td>--</td><td>5</td><td>0</td><td>54</td><td>5</td><td>3</td><td>10</td><td>0</td></tr>\n",
       "<tr><td>40</td><td>47</td><td>2MASX J13435549+2440484</td><td>205.98124000000001</td><td>24.680009999999999</td><td>G</td><td>41149.0</td><td>0.13725799999999999</td><td></td><td>17.81</td><td>--</td><td>12</td><td>0</td><td>34</td><td>4</td><td>1</td><td>6</td><td>0</td></tr>\n",
       "<tr><td>41</td><td>49</td><td>2MASX J13475962+3227100</td><td>206.99841000000001</td><td>32.452860000000001</td><td>G</td><td>66888.0</td><td>0.22311300000000001</td><td></td><td>18.1g</td><td>--</td><td>8</td><td>0</td><td>54</td><td>5</td><td>3</td><td>10</td><td>0</td></tr>\n",
       "<tr><td>42</td><td>50</td><td>SDSS J135546.07+025455.8</td><td>208.94200000000001</td><td>2.91553</td><td>G</td><td>71617.0</td><td>0.23888999999999999</td><td></td><td>18.7g</td><td>--</td><td>7</td><td>0</td><td>39</td><td>4</td><td>2</td><td>8</td><td>0</td></tr>\n",
       "<tr><td>43</td><td>51</td><td>SDSS J140138.37+263527.6</td><td>210.40991</td><td>26.591000000000001</td><td>G</td><td>85152.0</td><td>0.28403600000000001</td><td></td><td>18.7g</td><td>--</td><td>5</td><td>0</td><td>18</td><td>3</td><td>3</td><td>4</td><td>0</td></tr>\n",
       "<tr><td>44</td><td>52</td><td>2MASS J14175497+2704341</td><td>214.47905</td><td>27.076239999999999</td><td>G</td><td>47238.0</td><td>0.15756899999999999</td><td></td><td>16.9g</td><td>--</td><td>13</td><td>0</td><td>25</td><td>5</td><td>5</td><td>4</td><td>0</td></tr>\n",
       "<tr><td>45</td><td>53</td><td>2MASS J14344785+0202293</td><td>218.69942</td><td>2.04129</td><td>G</td><td>83976.0</td><td>0.280115</td><td></td><td>18.6g</td><td>--</td><td>6</td><td>0</td><td>50</td><td>7</td><td>3</td><td>8</td><td>0</td></tr>\n",
       "<tr><td>46</td><td>54</td><td>2MASX J14472834+5908314</td><td>221.86806999999999</td><td>59.142090000000003</td><td>G</td><td>73609.0</td><td>0.245534</td><td></td><td>18.3g</td><td>--</td><td>10</td><td>0</td><td>57</td><td>7</td><td>4</td><td>10</td><td>0</td></tr>\n",
       "<tr><td>47</td><td>55</td><td>2MASS J15361895+4522469</td><td>234.07909000000001</td><td>45.37968</td><td>G</td><td>70813.0</td><td>0.236206</td><td></td><td>18.1g</td><td>--</td><td>6</td><td>0</td><td>45</td><td>5</td><td>2</td><td>8</td><td>0</td></tr>\n",
       "<tr><td>48</td><td>56</td><td>2MASX J15430777+1937522</td><td>235.78241</td><td>19.631039999999999</td><td>G</td><td>68625.0</td><td>0.228909</td><td></td><td>17.0g</td><td>--</td><td>26</td><td>1</td><td>38</td><td>8</td><td>8</td><td>6</td><td>0</td></tr>\n",
       "<tr><td>49</td><td>57</td><td>SDSS J154950.91+234444.1</td><td>237.46216000000001</td><td>23.7456</td><td>G</td><td>78611.0</td><td>0.26221699999999998</td><td></td><td>18.5g</td><td>--</td><td>5</td><td>0</td><td>19</td><td>3</td><td>3</td><td>4</td><td>0</td></tr>\n",
       "<tr><td>50</td><td>59</td><td>2MASX J16014061+2718161</td><td>240.41924</td><td>27.30443</td><td>G</td><td>49332.0</td><td>0.16455400000000001</td><td></td><td>16.7g</td><td>--</td><td>13</td><td>0</td><td>54</td><td>5</td><td>4</td><td>10</td><td>1</td></tr>\n",
       "<tr><td>51</td><td>60</td><td>2MASX J16394598+4609058</td><td>249.94148000000001</td><td>46.151699999999998</td><td>G</td><td>74151.0</td><td>0.24734200000000001</td><td></td><td>18.3g</td><td>--</td><td>7</td><td>0</td><td>58</td><td>6</td><td>3</td><td>10</td><td>0</td></tr>\n",
       "<tr><td>52</td><td>61</td><td>2MASX J17340613+6029190</td><td>263.52577000000002</td><td>60.488590000000002</td><td>G</td><td>82685.0</td><td>0.27580700000000002</td><td></td><td>18.5g</td><td>--</td><td>6</td><td>0</td><td>54</td><td>5</td><td>2</td><td>10</td><td>0</td></tr>\n",
       "</table><style>table.dataTable {clear: both; width: auto !important; margin: 0 !important;}\n",
       ".dataTables_info, .dataTables_length, .dataTables_filter, .dataTables_paginate{\n",
       "display: inline-block; margin-right: 1em; }\n",
       ".paginate_button { margin-right: 5px; }\n",
       "</style>\n",
       "<script>\n",
       "\n",
       "var astropy_sort_num = function(a, b) {\n",
       "    var a_num = parseFloat(a);\n",
       "    var b_num = parseFloat(b);\n",
       "\n",
       "    if (isNaN(a_num) && isNaN(b_num))\n",
       "        return ((a < b) ? -1 : ((a > b) ? 1 : 0));\n",
       "    else if (!isNaN(a_num) && !isNaN(b_num))\n",
       "        return ((a_num < b_num) ? -1 : ((a_num > b_num) ? 1 : 0));\n",
       "    else\n",
       "        return isNaN(a_num) ? -1 : 1;\n",
       "}\n",
       "\n",
       "require.config({paths: {\n",
       "    datatables: 'https://cdn.datatables.net/1.10.12/js/jquery.dataTables.min'\n",
       "}});\n",
       "require([\"datatables\"], function(){\n",
       "    console.log(\"$('#table4585286176-861994').dataTable()\");\n",
       "    \n",
       "jQuery.extend( jQuery.fn.dataTableExt.oSort, {\n",
       "    \"optionalnum-asc\": astropy_sort_num,\n",
       "    \"optionalnum-desc\": function (a,b) { return -astropy_sort_num(a, b); }\n",
       "});\n",
       "\n",
       "    $('#table4585286176-861994').dataTable({\n",
       "        order: [],\n",
       "        pageLength: 50,\n",
       "        lengthMenu: [[10, 25, 50, 100, 500, 1000, -1], [10, 25, 50, 100, 500, 1000, 'All']],\n",
       "        pagingType: \"full_numbers\",\n",
       "        columnDefs: [{targets: [0, 1, 3, 4, 6, 7, 10, 11, 12, 13, 14, 15, 16, 17], type: \"optionalnum\"}]\n",
       "    });\n",
       "});\n",
       "</script>\n"
      ],
      "text/plain": [
       "<IPython.core.display.HTML object>"
      ]
     },
     "execution_count": 187,
     "metadata": {},
     "output_type": "execute_result"
    }
   ],
   "source": [
    "#Byte strings it is!\n",
    "galaxies = objects_in_paper[objects_in_paper['Type'] == b'G']\n",
    "\n",
    "galaxies.show_in_notebook()"
   ]
  },
  {
   "cell_type": "markdown",
   "metadata": {},
   "source": [
    "## Grab the SDSS images for each super spiral"
   ]
  },
  {
   "cell_type": "code",
   "execution_count": null,
   "metadata": {},
   "outputs": [],
   "source": [
    "from astroquery.sdss import SDSS\n",
    "from astropy.coordinates import SkyCoord  # High-level coordinates\n",
    "from astropy.coordinates import ICRS, Galactic, FK4, FK5  # Low-level frames\n",
    "from astropy.coordinates import Angle, Latitude, Longitude  # Angles\n",
    "import astropy.units as u\n",
    "\n",
    "for object in galaxies:\n",
    "    pos = SkyCoord(object['RA(deg)'], object['DEC(deg)'], frame=\"icrs\", unit=(u.deg, u.deg))\n",
    "    xid = SDSS.query_region(pos, spectro=True) #requires matches to have spectroscopy, not just photometry:\n",
    "    im = SDSS.get_images(matches=xid, band='g')"
   ]
  },
  {
   "cell_type": "markdown",
   "metadata": {},
   "source": [
    "## Grab the WISE images for each super spiral"
   ]
  },
  {
   "cell_type": "markdown",
   "metadata": {},
   "source": [
    "### Search the Registry for WISE image services."
   ]
  },
  {
   "cell_type": "code",
   "execution_count": null,
   "metadata": {},
   "outputs": [],
   "source": [
    "wise_services = Registry.query(keyword='allwise', service_type='image')\n",
    "\n",
    "print(f'{len(wise_services)} result(s) found.')\n",
    "\n",
    "wise_services"
   ]
  },
  {
   "cell_type": "code",
   "execution_count": null,
   "metadata": {},
   "outputs": [],
   "source": [
    "wise_service = wise_services[0]['access_url']\n",
    "wise_service"
   ]
  },
  {
   "cell_type": "markdown",
   "metadata": {},
   "source": [
    "### Query the AllWISE image service for those that cover the Super Spirals."
   ]
  },
  {
   "cell_type": "code",
   "execution_count": null,
   "metadata": {},
   "outputs": [],
   "source": [
    "from navo_utils.image import Image, ImageColumn\n",
    "\n",
    "size = '0'  #diameter in degrees\n",
    "ra = objects_in_paper[0]['RA(deg)']\n",
    "dec = objects_in_paper[0]['DEC(deg)']\n",
    "\n",
    "# Perform the query on the WISE service.\n",
    "pos = SkyCoord(ra, dec, frame=\"icrs\", unit=u.deg)\n",
    "print(pos)\n",
    "print(wise_services[0]['access_url'])\n",
    "result_list = Image.query(coords=pos, radius=size, service=wise_services[0])\n",
    "\n",
    "# The result is a list of tables, one for each coordinate in the query.\n",
    "# In this case, we only input one coordinate, so there will only be one result \n",
    "# table in the list.\n",
    "table = result_list[0]\n",
    "table.show_in_notebook()"
   ]
  },
  {
   "cell_type": "code",
   "execution_count": null,
   "metadata": {},
   "outputs": [],
   "source": [
    "missions = ['GALEX', '2MASS', 'AllWISE']\n",
    "\n",
    "base_urls = ['http://mast.stsci.edu/portal_vo/Mashup/VoQuery.asmx/SiaV1?MISSION=GALEX&amp;', \n",
    "             'http://irsa.ipac.caltech.edu/ibe/sia/twomass/allsky/allsky?',\n",
    "             'https://irsa.ipac.caltech.edu/ibe/sia/wise/allwise/p3am_cdd?']\n",
    "\n",
    "#Create an astropy table with this info.\n",
    "search_list = Table([missions, base_urls], names = ('mission', 'access_url'))\n",
    "\n",
    "#Show this table.\n",
    "#search_list.show_in_notebook()\n",
    "\n",
    "sc = SkyCoord(185.47873, 4.47365, unit=u.deg)\n",
    "\n",
    "# Choose a search size. Zero means the image must contain the search point.\n",
    "size = '0'  #diameter in degrees\n",
    "\n",
    "# Perform the query on the 2MASS service.\n",
    "print(sc)\n",
    "print(size)\n",
    "print(search_list[2])\n",
    "result_list = Image.query(coords=sc, radius=size, service=search_list[2])\n",
    "print(result_list)\n",
    "# The result is a list of tables, one for each coordinate in the query.\n",
    "# In this case, we only input one coordinate, so there will only be one result \n",
    "# table in the list.\n",
    "#table = result_list[0]\n",
    "#table.show_in_notebook()\n"
   ]
  },
  {
   "cell_type": "code",
   "execution_count": null,
   "metadata": {
    "collapsed": true
   },
   "outputs": [],
   "source": [
    "import workshop_utils.utils\n",
    "url = 'https://irsa.ipac.caltech.edu/ibe/data/wise/allwise/p3am_cdd/18/1853/1853p045_ac51/1853p045_ac51-w1-int-3.fits'\n",
    "out_file_path = workshop_utils.utils.download_file(url, directory='.')"
   ]
  },
  {
   "cell_type": "markdown",
   "metadata": {},
   "source": [
    "## Grab the HST images for each super spiral"
   ]
  },
  {
   "cell_type": "markdown",
   "metadata": {},
   "source": [
    "## Plot the SDSS and WISE images next to each other"
   ]
  },
  {
   "cell_type": "code",
   "execution_count": null,
   "metadata": {
    "collapsed": true
   },
   "outputs": [],
   "source": []
  },
  {
   "cell_type": "code",
   "execution_count": null,
   "metadata": {
    "collapsed": true
   },
   "outputs": [],
   "source": []
  }
 ],
 "metadata": {
  "kernelspec": {
   "display_name": "Python 3",
   "language": "python",
   "name": "python3"
  },
  "language_info": {
   "codemirror_mode": {
    "name": "ipython",
    "version": 3
   },
   "file_extension": ".py",
   "mimetype": "text/x-python",
   "name": "python",
   "nbconvert_exporter": "python",
   "pygments_lexer": "ipython3",
   "version": "3.6.3"
  }
 },
 "nbformat": 4,
 "nbformat_minor": 2
}
