{
 "cells": [
  {
   "cell_type": "markdown",
   "metadata": {},
   "source": [
    "# Science User Case - Inspecting a Candidate List\n",
    "\n",
    "Ogle et al. (2016) mined the NASA/IPAC Extragalactic Database (NED) to identify a new type of galaxy: Superluminous Spiral Galaxies. Here's the paper:\n",
    "\n",
    "Here's the paper: https://ui.adsabs.harvard.edu//#abs/2016ApJ...817..109O/abstract\n",
    "\n",
    "Table 1 lists the positions of these Super Spirals. Based on those positions, let's create multiwavelength cutouts for each super spiral to see what is unique about this new class of objects."
   ]
  },
  {
   "cell_type": "markdown",
   "metadata": {},
   "source": [
    "## 1. Import some Python modules."
   ]
  },
  {
   "cell_type": "code",
   "execution_count": 1,
   "metadata": {},
   "outputs": [],
   "source": [
    "#Suppress unimportant warnings.\n",
    "import warnings\n",
    "warnings.filterwarnings(\"ignore\")\n",
    "\n",
    "import pyvo as vo\n",
    "#Import the astropy Table module.\n",
    "from astropy.table import Table"
   ]
  },
  {
   "cell_type": "markdown",
   "metadata": {},
   "source": [
    "## 2. Search NED for objects in this paper.\n",
    "\n",
    "Insert a Code Cell below by clicking on the \"Insert\" Menu and choosing \"Insert Cell Below\". Then consult QuickReference.md to figure out how to use astroquery to search NED for all objects in a paper, based on the refcode of the paper. Inspect the resulting astropy table."
   ]
  },
  {
   "cell_type": "code",
   "execution_count": 2,
   "metadata": {},
   "outputs": [
    {
     "data": {
      "text/html": [
       "<i>Table masked=True length=62</i>\n",
       "<table id=\"table34877563960-982671\" class=\"table-striped table-bordered table-condensed\">\n",
       "<thead><tr><th>idx</th><th>No.</th><th>Object Name</th><th>RA</th><th>DEC</th><th>Type</th><th>Velocity</th><th>Redshift</th><th>Redshift Flag</th><th>Magnitude and Filter</th><th>Separation</th><th>References</th><th>Notes</th><th>Photometry Points</th><th>Positions</th><th>Redshift Points</th><th>Diameter Points</th><th>Associations</th></tr></thead>\n",
       "<thead><tr><th></th><th></th><th></th><th>degrees</th><th>degrees</th><th></th><th>km / s</th><th></th><th></th><th></th><th>arcm</th><th></th><th></th><th></th><th></th><th></th><th></th><th></th></tr></thead>\n",
       "<tr><td>0</td><td>1</td><td>WISEA J001550.14-100242.3</td><td>3.95892</td><td>-10.04511</td><td>G</td><td>52788.0</td><td>0.176083</td><td></td><td>17.5g</td><td>--</td><td>10</td><td>0</td><td>63</td><td>7</td><td>4</td><td>10</td><td>0</td></tr>\n",
       "<tr><td>1</td><td>2</td><td>WISEA J003807.80-010936.7</td><td>9.53252</td><td>-1.16024</td><td>G</td><td>62565.0</td><td>0.208695</td><td></td><td>18.0g</td><td>--</td><td>11</td><td>0</td><td>71</td><td>10</td><td>5</td><td>10</td><td>0</td></tr>\n",
       "<tr><td>2</td><td>3</td><td>WISEA J040422.92-054134.8</td><td>61.09548</td><td>-5.69303</td><td>G</td><td>75138.0</td><td>0.250635</td><td></td><td>18.6g</td><td>--</td><td>5</td><td>0</td><td>61</td><td>10</td><td>6</td><td>8</td><td>0</td></tr>\n",
       "<tr><td>3</td><td>4</td><td>WISEA J073806.16+282359.6</td><td>114.52568</td><td>28.39995</td><td>G</td><td>69255.0</td><td>0.23101</td><td></td><td>18.0g</td><td>--</td><td>8</td><td>0</td><td>66</td><td>7</td><td>4</td><td>10</td><td>0</td></tr>\n",
       "<tr><td>4</td><td>5</td><td>2MASX J07550424+1353261</td><td>118.76776</td><td>13.89065</td><td>G</td><td>66754.0</td><td>0.222669</td><td></td><td>18.5g</td><td>--</td><td>7</td><td>0</td><td>38</td><td>6</td><td>4</td><td>6</td><td>0</td></tr>\n",
       "<tr><td>5</td><td>6</td><td>WISEA J082655.11+181147.7</td><td>126.72969</td><td>18.19665</td><td>G</td><td>79608.0</td><td>0.265543</td><td></td><td>18.4g</td><td>--</td><td>4</td><td>0</td><td>46</td><td>6</td><td>4</td><td>6</td><td>0</td></tr>\n",
       "<tr><td>6</td><td>7</td><td>2MASX J08542169+0449308</td><td>133.59033</td><td>4.82511</td><td>G</td><td>47018.0</td><td>0.156835</td><td></td><td>16.7g</td><td>--</td><td>12</td><td>0</td><td>58</td><td>7</td><td>4</td><td>10</td><td>0</td></tr>\n",
       "<tr><td>7</td><td>8</td><td>WHL J090944.8+222607</td><td>137.4367</td><td>22.43539</td><td>GClstr</td><td>90837.0</td><td>0.303</td><td>PHOT</td><td></td><td>--</td><td>5</td><td>0</td><td>0</td><td>4</td><td>5</td><td>0</td><td>0</td></tr>\n",
       "<tr><td>8</td><td>9</td><td>2MASX J09094480+2226078</td><td>137.4367</td><td>22.43538</td><td>G</td><td>85557.0</td><td>0.285386</td><td></td><td>19.0g</td><td>--</td><td>6</td><td>0</td><td>30</td><td>5</td><td>6</td><td>6</td><td>0</td></tr>\n",
       "<tr><td>9</td><td>10</td><td>2MASX J09260805+2405242</td><td>141.53357</td><td>24.09004</td><td>G</td><td>66689.0</td><td>0.222451</td><td></td><td>17.8g</td><td>--</td><td>12</td><td>0</td><td>32</td><td>6</td><td>7</td><td>6</td><td>0</td></tr>\n",
       "<tr><td>10</td><td>11</td><td>WHL J092608.1+240524</td><td>141.53357</td><td>24.09004</td><td>GClstr</td><td>53363.0</td><td>0.178</td><td>PHOT</td><td></td><td>--</td><td>5</td><td>0</td><td>0</td><td>4</td><td>5</td><td>0</td><td>0</td></tr>\n",
       "<tr><td>11</td><td>12</td><td>WISEA J093347.77+211436.7</td><td>143.44901</td><td>21.24346</td><td>G</td><td>51626.0</td><td>0.172206</td><td></td><td>16.9g</td><td>--</td><td>39</td><td>0</td><td>49</td><td>14</td><td>10</td><td>6</td><td>1</td></tr>\n",
       "<tr><td>12</td><td>13</td><td>WISEA J093622.14+390628.9</td><td>144.09222</td><td>39.10801</td><td>G</td><td>84847.0</td><td>0.283019</td><td></td><td>18.5g</td><td>--</td><td>4</td><td>0</td><td>66</td><td>7</td><td>3</td><td>10</td><td>0</td></tr>\n",
       "<tr><td>13</td><td>14</td><td>MSPM 05544</td><td>146.2235</td><td>22.8851</td><td>GClstr</td><td>26738.0</td><td>0.08919</td><td></td><td></td><td>--</td><td>2</td><td>0</td><td>0</td><td>1</td><td>1</td><td>0</td><td>0</td></tr>\n",
       "<tr><td>14</td><td>15</td><td>CGCG 122-067</td><td>146.22351</td><td>22.88512</td><td>G</td><td>26684.0</td><td>0.089008</td><td></td><td>15.3g</td><td>--</td><td>22</td><td>0</td><td>48</td><td>7</td><td>5</td><td>8</td><td>0</td></tr>\n",
       "<tr><td>15</td><td>16</td><td>WISEA J094700.08+254045.8</td><td>146.75035</td><td>25.67938</td><td>G</td><td>32710.0</td><td>0.10911</td><td></td><td>15.8g</td><td>--</td><td>15</td><td>0</td><td>46</td><td>6</td><td>5</td><td>6</td><td>0</td></tr>\n",
       "<tr><td>16</td><td>17</td><td>SDSS J095727.02+083501.7</td><td>149.36259</td><td>8.58383</td><td>G</td><td>76917.0</td><td>0.256568</td><td></td><td>18.3g</td><td>--</td><td>4</td><td>0</td><td>39</td><td>5</td><td>3</td><td>8</td><td>0</td></tr>\n",
       "<tr><td>17</td><td>18</td><td>WISEA J100356.88+382902.1</td><td>150.98703</td><td>38.48391</td><td>G</td><td>77544.0</td><td>0.258658</td><td></td><td>17.8g</td><td>--</td><td>6</td><td>0</td><td>57</td><td>7</td><td>4</td><td>8</td><td>0</td></tr>\n",
       "<tr><td>18</td><td>19</td><td>WISEA J100416.04+295844.1</td><td>151.06683</td><td>29.97899</td><td>G</td><td>89469.0</td><td>0.298435</td><td></td><td>18.7g</td><td>--</td><td>5</td><td>0</td><td>66</td><td>7</td><td>4</td><td>10</td><td>0</td></tr>\n",
       "<tr><td>19</td><td>20</td><td>WISEA J100956.35+261132.0</td><td>152.48475</td><td>26.19223</td><td>G</td><td>72232.0</td><td>0.240939</td><td></td><td>18.1g</td><td>--</td><td>9</td><td>0</td><td>46</td><td>7</td><td>4</td><td>6</td><td>0</td></tr>\n",
       "<tr><td>20</td><td>21</td><td>GMBCG J152.52936+32.89139</td><td>152.52936</td><td>32.89139</td><td>GClstr</td><td>95634.0</td><td>0.319</td><td>PHOT</td><td></td><td>--</td><td>2</td><td>0</td><td>0</td><td>1</td><td>1</td><td>0</td><td>0</td></tr>\n",
       "<tr><td>21</td><td>22</td><td>WISEA J101007.05+325329.0</td><td>152.52936</td><td>32.89141</td><td>G</td><td>86914.0</td><td>0.289913</td><td></td><td>18.7g</td><td>--</td><td>7</td><td>0</td><td>66</td><td>7</td><td>4</td><td>10</td><td>0</td></tr>\n",
       "<tr><td>22</td><td>23</td><td>2MASS J10160396+3037481</td><td>154.01655</td><td>30.62998</td><td>G</td><td>75553.0</td><td>0.252016</td><td></td><td>18.7g</td><td>--</td><td>4</td><td>0</td><td>49</td><td>7</td><td>4</td><td>8</td><td>0</td></tr>\n",
       "<tr><td>23</td><td>24</td><td>WISEA J102154.85+072415.5</td><td>155.47856</td><td>7.40432</td><td>G</td><td>87111.0</td><td>0.29057</td><td></td><td>18.4g</td><td>--</td><td>4</td><td>0</td><td>55</td><td>7</td><td>3</td><td>8</td><td>0</td></tr>\n",
       "<tr><td>24</td><td>25</td><td>WISEA J103015.74-010607.0</td><td>157.56561</td><td>-1.10198</td><td>G</td><td>84617.0</td><td>0.282251</td><td></td><td>18.3g</td><td>--</td><td>8</td><td>0</td><td>62</td><td>9</td><td>5</td><td>10</td><td>0</td></tr>\n",
       "<tr><td>25</td><td>26</td><td>2MASX J10304263+0418219</td><td>157.67753</td><td>4.30602</td><td>G</td><td>48300.0</td><td>0.16111</td><td></td><td>16.8g</td><td>--</td><td>14</td><td>0</td><td>59</td><td>7</td><td>4</td><td>10</td><td>0</td></tr>\n",
       "<tr><td>26</td><td>27</td><td>SDSS CE J160.241898-01.069106</td><td>160.235</td><td>-1.06611</td><td>GClstr</td><td>76153.0</td><td>0.254019</td><td>EST</td><td></td><td>--</td><td>5</td><td>0</td><td>0</td><td>3</td><td>5</td><td>0</td><td>0</td></tr>\n",
       "<tr><td>27</td><td>28</td><td>2MASX J10405643-0103584</td><td>160.23509</td><td>-1.06632</td><td>G</td><td>75039.0</td><td>0.250303</td><td></td><td>18.2g</td><td>--</td><td>13</td><td>0</td><td>51</td><td>8</td><td>6</td><td>10</td><td>0</td></tr>\n",
       "<tr><td>28</td><td>29</td><td>WISEA J104724.97+230917.4</td><td>161.85435</td><td>23.15474</td><td>G</td><td>54754.0</td><td>0.182639</td><td></td><td>18.46</td><td>--</td><td>13</td><td>0</td><td>46</td><td>7</td><td>3</td><td>6</td><td>0</td></tr>\n",
       "<tr><td>29</td><td>30</td><td>WISEA J111917.41+141946.5</td><td>169.8226</td><td>14.3296</td><td>G</td><td>43104.0</td><td>0.143781</td><td></td><td>16.6g</td><td>--</td><td>14</td><td>0</td><td>66</td><td>7</td><td>4</td><td>10</td><td>0</td></tr>\n",
       "<tr><td>30</td><td>31</td><td>2MASS J11292875+0255498</td><td>172.36978</td><td>2.93055</td><td>G</td><td>71860.0</td><td>0.239698</td><td></td><td>17.5g</td><td>--</td><td>6</td><td>0</td><td>49</td><td>7</td><td>4</td><td>8</td><td>0</td></tr>\n",
       "<tr><td>31</td><td>32</td><td>WISEA J113800.86+521303.8</td><td>174.50367</td><td>52.21775</td><td>G</td><td>88744.0</td><td>0.296018</td><td></td><td>19.0g</td><td>--</td><td>6</td><td>0</td><td>57</td><td>7</td><td>3</td><td>8</td><td>0</td></tr>\n",
       "<tr><td>32</td><td>33</td><td>WISEA J114100.04+384807.4</td><td>175.25022</td><td>38.80207</td><td>G</td><td>80215.0</td><td>0.267567</td><td></td><td>18.5g</td><td>--</td><td>5</td><td>0</td><td>66</td><td>8</td><td>6</td><td>10</td><td>0</td></tr>\n",
       "<tr><td>33</td><td>34</td><td>WISEA J115052.96+460448.1</td><td>177.72076</td><td>46.08006</td><td>G</td><td>86801.0</td><td>0.289538</td><td></td><td>18.5g</td><td>--</td><td>7</td><td>0</td><td>53</td><td>8</td><td>6</td><td>8</td><td>0</td></tr>\n",
       "<tr><td>34</td><td>35</td><td>WISEA J115356.21+492355.4</td><td>178.48416</td><td>49.39881</td><td>G</td><td>50033.0</td><td>0.166892</td><td></td><td>17.1g</td><td>--</td><td>11</td><td>0</td><td>66</td><td>7</td><td>4</td><td>10</td><td>0</td></tr>\n",
       "<tr><td>35</td><td>36</td><td>2MASX J11593546+1257080</td><td>179.89761</td><td>12.95205</td><td>G</td><td>79017.0</td><td>0.263572</td><td></td><td>18.3g</td><td>--</td><td>4</td><td>0</td><td>54</td><td>6</td><td>4</td><td>10</td><td>0</td></tr>\n",
       "<tr><td>36</td><td>37</td><td>WISEA J120053.92+480007.8</td><td>180.22477</td><td>48.00213</td><td>G</td><td>83527.0</td><td>0.278617</td><td></td><td>18.4g</td><td>--</td><td>6</td><td>0</td><td>66</td><td>7</td><td>5</td><td>10</td><td>0</td></tr>\n",
       "<tr><td>37</td><td>38</td><td>GMBCG J180.22479+48.00211</td><td>180.22479</td><td>48.00211</td><td>GClstr</td><td>75548.0</td><td>0.252</td><td>PHOT</td><td></td><td>--</td><td>3</td><td>0</td><td>0</td><td>1</td><td>1</td><td>0</td><td>0</td></tr>\n",
       "<tr><td>38</td><td>39</td><td>WISEA J121644.33+122450.5</td><td>184.18477</td><td>12.41404</td><td>G</td><td>77090.0</td><td>0.257144</td><td></td><td>18.3g</td><td>--</td><td>4</td><td>0</td><td>55</td><td>7</td><td>3</td><td>8</td><td>0</td></tr>\n",
       "<tr><td>39</td><td>40</td><td>WISEA J122100.50+482729.1</td><td>185.25209</td><td>48.45807</td><td>G</td><td>89874.0</td><td>0.299787</td><td></td><td>18.7g</td><td>--</td><td>6</td><td>0</td><td>61</td><td>8</td><td>3</td><td>8</td><td>0</td></tr>\n",
       "<tr><td>40</td><td>41</td><td>WISEA J123215.19+102119.1</td><td>188.06311</td><td>10.35535</td><td>G</td><td>49742.0</td><td>0.16592</td><td></td><td>17.2g</td><td>--</td><td>12</td><td>0</td><td>66</td><td>8</td><td>4</td><td>10</td><td>0</td></tr>\n",
       "<tr><td>41</td><td>42</td><td>WISEA J123431.08+515629.7</td><td>188.62952</td><td>51.94146</td><td>G</td><td>88733.0</td><td>0.295982</td><td></td><td>18.1g</td><td>--</td><td>24</td><td>0</td><td>63</td><td>8</td><td>10</td><td>10</td><td>0</td></tr>\n",
       "<tr><td>42</td><td>43</td><td>WISEA J123746.63+481227.5</td><td>189.44448</td><td>48.20767</td><td>G</td><td>81721.0</td><td>0.272592</td><td></td><td>18.2g</td><td>--</td><td>5</td><td>0</td><td>64</td><td>7</td><td>4</td><td>10</td><td>0</td></tr>\n",
       "<tr><td>43</td><td>44</td><td>WISEA J131039.32+223502.8</td><td>197.66385</td><td>22.58407</td><td>G</td><td>69341.0</td><td>0.231295</td><td></td><td>18.1g</td><td>--</td><td>8</td><td>0</td><td>48</td><td>7</td><td>2</td><td>6</td><td>1</td></tr>\n",
       "<tr><td>44</td><td>45</td><td>WISEA J132757.52+334529.3</td><td>201.98969</td><td>33.75806</td><td>G</td><td>74633.0</td><td>0.248949</td><td></td><td>17.7g</td><td>--</td><td>12</td><td>0</td><td>78</td><td>11</td><td>4</td><td>10</td><td>0</td></tr>\n",
       "<tr><td>45</td><td>46</td><td>WISEA J134228.33+115734.5</td><td>205.61806</td><td>11.95954</td><td>G</td><td>83682.0</td><td>0.279133</td><td></td><td>19.0g</td><td>--</td><td>5</td><td>0</td><td>66</td><td>7</td><td>4</td><td>10</td><td>0</td></tr>\n",
       "<tr><td>46</td><td>47</td><td>WISEA J134355.49+244048.1</td><td>205.98124</td><td>24.68001</td><td>G</td><td>41149.0</td><td>0.137258</td><td></td><td>17.81</td><td>--</td><td>12</td><td>0</td><td>46</td><td>6</td><td>2</td><td>6</td><td>0</td></tr>\n",
       "<tr><td>47</td><td>48</td><td>SDSSCGB 16827</td><td>206.99833</td><td>32.44039</td><td>GGroup</td><td>--</td><td>--</td><td></td><td>18.44</td><td>--</td><td>2</td><td>0</td><td>0</td><td>1</td><td>0</td><td>0</td><td>0</td></tr>\n",
       "<tr><td>48</td><td>49</td><td>2MASX J13475962+3227100</td><td>206.99841</td><td>32.45286</td><td>G</td><td>66888.0</td><td>0.223113</td><td></td><td>18.1g</td><td>--</td><td>8</td><td>0</td><td>54</td><td>6</td><td>4</td><td>10</td><td>0</td></tr>\n",
       "<tr><td>49</td><td>50</td><td>WISEA J135546.08+025456.0</td><td>208.942</td><td>2.91553</td><td>G</td><td>71617.0</td><td>0.23889</td><td></td><td>18.7g</td><td>--</td><td>8</td><td>0</td><td>51</td><td>7</td><td>4</td><td>8</td><td>0</td></tr>\n",
       "<tr><td>50</td><td>51</td><td>WISEA J140138.37+263527.6</td><td>210.40991</td><td>26.591</td><td>G</td><td>85152.0</td><td>0.284036</td><td></td><td>18.7g</td><td>--</td><td>5</td><td>0</td><td>30</td><td>5</td><td>4</td><td>4</td><td>0</td></tr>\n",
       "<tr><td>51</td><td>52</td><td>2MASS J14175497+2704341</td><td>214.47905</td><td>27.07624</td><td>G</td><td>47238.0</td><td>0.157569</td><td></td><td>16.9g</td><td>--</td><td>13</td><td>0</td><td>25</td><td>6</td><td>6</td><td>4</td><td>0</td></tr>\n",
       "<tr><td>52</td><td>53</td><td>WISEA J143447.88+020228.8</td><td>218.69942</td><td>2.04129</td><td>G</td><td>83976.0</td><td>0.280115</td><td></td><td>18.6g</td><td>--</td><td>6</td><td>0</td><td>62</td><td>9</td><td>4</td><td>8</td><td>0</td></tr>\n",
       "<tr><td>53</td><td>54</td><td>WISEA J144728.35+590831.9</td><td>221.86807</td><td>59.14209</td><td>G</td><td>73609.0</td><td>0.245534</td><td></td><td>18.3g</td><td>--</td><td>10</td><td>0</td><td>69</td><td>9</td><td>5</td><td>10</td><td>0</td></tr>\n",
       "<tr><td>54</td><td>55</td><td>WISEA J153619.01+452247.7</td><td>234.07909</td><td>45.37968</td><td>G</td><td>70813.0</td><td>0.236206</td><td></td><td>18.1g</td><td>--</td><td>6</td><td>0</td><td>57</td><td>7</td><td>3</td><td>8</td><td>0</td></tr>\n",
       "<tr><td>55</td><td>56</td><td>WISEA J154307.78+193751.7</td><td>235.78241</td><td>19.63104</td><td>G</td><td>68625.0</td><td>0.228909</td><td></td><td>17.0g</td><td>--</td><td>29</td><td>1</td><td>50</td><td>12</td><td>10</td><td>6</td><td>0</td></tr>\n",
       "<tr><td>56</td><td>57</td><td>WISEA J154950.90+234444.0</td><td>237.46216</td><td>23.7456</td><td>G</td><td>78611.0</td><td>0.262217</td><td></td><td>18.5g</td><td>--</td><td>5</td><td>0</td><td>31</td><td>5</td><td>4</td><td>4</td><td>0</td></tr>\n",
       "<tr><td>57</td><td>58</td><td>GMBCG J240.41924+27.30444</td><td>240.41924</td><td>27.30444</td><td>GClstr</td><td>57860.0</td><td>0.193</td><td>PHOT</td><td></td><td>--</td><td>2</td><td>0</td><td>0</td><td>1</td><td>1</td><td>0</td><td>0</td></tr>\n",
       "<tr><td>58</td><td>59</td><td>2MASX J16014061+2718161</td><td>240.41924</td><td>27.30443</td><td>G</td><td>49332.0</td><td>0.164554</td><td></td><td>16.7g</td><td>--</td><td>14</td><td>0</td><td>54</td><td>6</td><td>5</td><td>10</td><td>1</td></tr>\n",
       "<tr><td>59</td><td>60</td><td>WISEA J163945.96+460905.8</td><td>249.94148</td><td>46.1517</td><td>G</td><td>74151.0</td><td>0.247342</td><td></td><td>18.3g</td><td>--</td><td>7</td><td>0</td><td>70</td><td>8</td><td>4</td><td>10</td><td>0</td></tr>\n",
       "<tr><td>60</td><td>61</td><td>WISEA J173406.17+602919.1</td><td>263.52577</td><td>60.48859</td><td>G</td><td>82685.0</td><td>0.275807</td><td></td><td>18.5g</td><td>--</td><td>6</td><td>0</td><td>66</td><td>7</td><td>3</td><td>10</td><td>0</td></tr>\n",
       "<tr><td>61</td><td>62</td><td>SDSSCGB 59704</td><td>263.53292</td><td>60.48197</td><td>GGroup</td><td>82743.0</td><td>0.276</td><td></td><td>17.20</td><td>--</td><td>2</td><td>0</td><td>0</td><td>1</td><td>0</td><td>0</td><td>0</td></tr>\n",
       "</table><style>table.dataTable {clear: both; width: auto !important; margin: 0 !important;}\n",
       ".dataTables_info, .dataTables_length, .dataTables_filter, .dataTables_paginate{\n",
       "display: inline-block; margin-right: 1em; }\n",
       ".paginate_button { margin-right: 5px; }\n",
       "</style>\n",
       "<script>\n",
       "\n",
       "var astropy_sort_num = function(a, b) {\n",
       "    var a_num = parseFloat(a);\n",
       "    var b_num = parseFloat(b);\n",
       "\n",
       "    if (isNaN(a_num) && isNaN(b_num))\n",
       "        return ((a < b) ? -1 : ((a > b) ? 1 : 0));\n",
       "    else if (!isNaN(a_num) && !isNaN(b_num))\n",
       "        return ((a_num < b_num) ? -1 : ((a_num > b_num) ? 1 : 0));\n",
       "    else\n",
       "        return isNaN(a_num) ? -1 : 1;\n",
       "}\n",
       "\n",
       "require.config({paths: {\n",
       "    datatables: 'https://cdn.datatables.net/1.10.12/js/jquery.dataTables.min'\n",
       "}});\n",
       "require([\"datatables\"], function(){\n",
       "    console.log(\"$('#table34877563960-982671').dataTable()\");\n",
       "    \n",
       "jQuery.extend( jQuery.fn.dataTableExt.oSort, {\n",
       "    \"optionalnum-asc\": astropy_sort_num,\n",
       "    \"optionalnum-desc\": function (a,b) { return -astropy_sort_num(a, b); }\n",
       "});\n",
       "\n",
       "    $('#table34877563960-982671').dataTable({\n",
       "        order: [],\n",
       "        pageLength: 50,\n",
       "        lengthMenu: [[10, 25, 50, 100, 500, 1000, -1], [10, 25, 50, 100, 500, 1000, 'All']],\n",
       "        pagingType: \"full_numbers\",\n",
       "        columnDefs: [{targets: [0, 1, 3, 4, 6, 7, 10, 11, 12, 13, 14, 15, 16, 17], type: \"optionalnum\"}]\n",
       "    });\n",
       "});\n",
       "</script>\n"
      ],
      "text/plain": [
       "<IPython.core.display.HTML object>"
      ]
     },
     "execution_count": 2,
     "metadata": {},
     "output_type": "execute_result"
    }
   ],
   "source": [
    "from astroquery.ned import Ned\n",
    "objects_in_paper = Ned.query_refcode('2016ApJ...817..109O')\n",
    "objects_in_paper.show_in_notebook()"
   ]
  },
  {
   "cell_type": "markdown",
   "metadata": {},
   "source": [
    "## 3. Filter the NED results.\n",
    "\n",
    "The results from NED will include galaxies, but also other kinds of objects. Print the 'Type' column to see the full range of classifications. Next, print the 'Type' of just the first source in the table, in order to determine its data type (since Python 3 distinguishes between strings and byte strings). Finally, use the data type information to filter the results so that we only keep the galaxies in the list."
   ]
  },
  {
   "cell_type": "code",
   "execution_count": 3,
   "metadata": {},
   "outputs": [
    {
     "data": {
      "text/html": [
       "&lt;MaskedColumn name=&apos;Type&apos; dtype=&apos;object&apos; description=&quot;NED&apos;s Preferred Object Type: G,GPair,GTrpl,GGroup,GClstr,QSO,AbLS,RadioS,IrS,EmLS,UvES,XrayS,SN&quot; length=62&gt;\n",
       "<table>\n",
       "<tr><td>G</td></tr>\n",
       "<tr><td>G</td></tr>\n",
       "<tr><td>G</td></tr>\n",
       "<tr><td>G</td></tr>\n",
       "<tr><td>G</td></tr>\n",
       "<tr><td>G</td></tr>\n",
       "<tr><td>G</td></tr>\n",
       "<tr><td>GClstr</td></tr>\n",
       "<tr><td>G</td></tr>\n",
       "<tr><td>G</td></tr>\n",
       "<tr><td>GClstr</td></tr>\n",
       "<tr><td>G</td></tr>\n",
       "<tr><td>...</td></tr>\n",
       "<tr><td>G</td></tr>\n",
       "<tr><td>G</td></tr>\n",
       "<tr><td>G</td></tr>\n",
       "<tr><td>G</td></tr>\n",
       "<tr><td>G</td></tr>\n",
       "<tr><td>G</td></tr>\n",
       "<tr><td>G</td></tr>\n",
       "<tr><td>GClstr</td></tr>\n",
       "<tr><td>G</td></tr>\n",
       "<tr><td>G</td></tr>\n",
       "<tr><td>G</td></tr>\n",
       "<tr><td>GGroup</td></tr>\n",
       "</table>"
      ],
      "text/plain": [
       "<MaskedColumn name='Type' dtype='object' description=\"NED's Preferred Object Type: G,GPair,GTrpl,GGroup,GClstr,QSO,AbLS,RadioS,IrS,EmLS,UvES,XrayS,SN\" length=62>\n",
       "     G\n",
       "     G\n",
       "     G\n",
       "     G\n",
       "     G\n",
       "     G\n",
       "     G\n",
       "GClstr\n",
       "     G\n",
       "     G\n",
       "GClstr\n",
       "     G\n",
       "   ...\n",
       "     G\n",
       "     G\n",
       "     G\n",
       "     G\n",
       "     G\n",
       "     G\n",
       "     G\n",
       "GClstr\n",
       "     G\n",
       "     G\n",
       "     G\n",
       "GGroup"
      ]
     },
     "execution_count": 3,
     "metadata": {},
     "output_type": "execute_result"
    }
   ],
   "source": [
    "objects_in_paper['Type']"
   ]
  },
  {
   "cell_type": "code",
   "execution_count": 4,
   "metadata": {},
   "outputs": [
    {
     "data": {
      "text/plain": [
       "b'G'"
      ]
     },
     "execution_count": 4,
     "metadata": {},
     "output_type": "execute_result"
    }
   ],
   "source": [
    "#Let's see whether we are dealing with strings or byte strings\n",
    "objects_in_paper[0]['Type']"
   ]
  },
  {
   "cell_type": "code",
   "execution_count": 5,
   "metadata": {},
   "outputs": [
    {
     "data": {
      "text/html": [
       "<i>Table masked=True length=53</i>\n",
       "<table id=\"table34878025064-693679\" class=\"table-striped table-bordered table-condensed\">\n",
       "<thead><tr><th>idx</th><th>No.</th><th>Object Name</th><th>RA</th><th>DEC</th><th>Type</th><th>Velocity</th><th>Redshift</th><th>Redshift Flag</th><th>Magnitude and Filter</th><th>Separation</th><th>References</th><th>Notes</th><th>Photometry Points</th><th>Positions</th><th>Redshift Points</th><th>Diameter Points</th><th>Associations</th></tr></thead>\n",
       "<thead><tr><th></th><th></th><th></th><th>degrees</th><th>degrees</th><th></th><th>km / s</th><th></th><th></th><th></th><th>arcm</th><th></th><th></th><th></th><th></th><th></th><th></th><th></th></tr></thead>\n",
       "<tr><td>0</td><td>1</td><td>WISEA J001550.14-100242.3</td><td>3.95892</td><td>-10.04511</td><td>G</td><td>52788.0</td><td>0.176083</td><td></td><td>17.5g</td><td>--</td><td>10</td><td>0</td><td>63</td><td>7</td><td>4</td><td>10</td><td>0</td></tr>\n",
       "<tr><td>1</td><td>2</td><td>WISEA J003807.80-010936.7</td><td>9.53252</td><td>-1.16024</td><td>G</td><td>62565.0</td><td>0.208695</td><td></td><td>18.0g</td><td>--</td><td>11</td><td>0</td><td>71</td><td>10</td><td>5</td><td>10</td><td>0</td></tr>\n",
       "<tr><td>2</td><td>3</td><td>WISEA J040422.92-054134.8</td><td>61.09548</td><td>-5.69303</td><td>G</td><td>75138.0</td><td>0.250635</td><td></td><td>18.6g</td><td>--</td><td>5</td><td>0</td><td>61</td><td>10</td><td>6</td><td>8</td><td>0</td></tr>\n",
       "<tr><td>3</td><td>4</td><td>WISEA J073806.16+282359.6</td><td>114.52568</td><td>28.39995</td><td>G</td><td>69255.0</td><td>0.23101</td><td></td><td>18.0g</td><td>--</td><td>8</td><td>0</td><td>66</td><td>7</td><td>4</td><td>10</td><td>0</td></tr>\n",
       "<tr><td>4</td><td>5</td><td>2MASX J07550424+1353261</td><td>118.76776</td><td>13.89065</td><td>G</td><td>66754.0</td><td>0.222669</td><td></td><td>18.5g</td><td>--</td><td>7</td><td>0</td><td>38</td><td>6</td><td>4</td><td>6</td><td>0</td></tr>\n",
       "<tr><td>5</td><td>6</td><td>WISEA J082655.11+181147.7</td><td>126.72969</td><td>18.19665</td><td>G</td><td>79608.0</td><td>0.265543</td><td></td><td>18.4g</td><td>--</td><td>4</td><td>0</td><td>46</td><td>6</td><td>4</td><td>6</td><td>0</td></tr>\n",
       "<tr><td>6</td><td>7</td><td>2MASX J08542169+0449308</td><td>133.59033</td><td>4.82511</td><td>G</td><td>47018.0</td><td>0.156835</td><td></td><td>16.7g</td><td>--</td><td>12</td><td>0</td><td>58</td><td>7</td><td>4</td><td>10</td><td>0</td></tr>\n",
       "<tr><td>7</td><td>9</td><td>2MASX J09094480+2226078</td><td>137.4367</td><td>22.43538</td><td>G</td><td>85557.0</td><td>0.285386</td><td></td><td>19.0g</td><td>--</td><td>6</td><td>0</td><td>30</td><td>5</td><td>6</td><td>6</td><td>0</td></tr>\n",
       "<tr><td>8</td><td>10</td><td>2MASX J09260805+2405242</td><td>141.53357</td><td>24.09004</td><td>G</td><td>66689.0</td><td>0.222451</td><td></td><td>17.8g</td><td>--</td><td>12</td><td>0</td><td>32</td><td>6</td><td>7</td><td>6</td><td>0</td></tr>\n",
       "<tr><td>9</td><td>12</td><td>WISEA J093347.77+211436.7</td><td>143.44901</td><td>21.24346</td><td>G</td><td>51626.0</td><td>0.172206</td><td></td><td>16.9g</td><td>--</td><td>39</td><td>0</td><td>49</td><td>14</td><td>10</td><td>6</td><td>1</td></tr>\n",
       "<tr><td>10</td><td>13</td><td>WISEA J093622.14+390628.9</td><td>144.09222</td><td>39.10801</td><td>G</td><td>84847.0</td><td>0.283019</td><td></td><td>18.5g</td><td>--</td><td>4</td><td>0</td><td>66</td><td>7</td><td>3</td><td>10</td><td>0</td></tr>\n",
       "<tr><td>11</td><td>15</td><td>CGCG 122-067</td><td>146.22351</td><td>22.88512</td><td>G</td><td>26684.0</td><td>0.089008</td><td></td><td>15.3g</td><td>--</td><td>22</td><td>0</td><td>48</td><td>7</td><td>5</td><td>8</td><td>0</td></tr>\n",
       "<tr><td>12</td><td>16</td><td>WISEA J094700.08+254045.8</td><td>146.75035</td><td>25.67938</td><td>G</td><td>32710.0</td><td>0.10911</td><td></td><td>15.8g</td><td>--</td><td>15</td><td>0</td><td>46</td><td>6</td><td>5</td><td>6</td><td>0</td></tr>\n",
       "<tr><td>13</td><td>17</td><td>SDSS J095727.02+083501.7</td><td>149.36259</td><td>8.58383</td><td>G</td><td>76917.0</td><td>0.256568</td><td></td><td>18.3g</td><td>--</td><td>4</td><td>0</td><td>39</td><td>5</td><td>3</td><td>8</td><td>0</td></tr>\n",
       "<tr><td>14</td><td>18</td><td>WISEA J100356.88+382902.1</td><td>150.98703</td><td>38.48391</td><td>G</td><td>77544.0</td><td>0.258658</td><td></td><td>17.8g</td><td>--</td><td>6</td><td>0</td><td>57</td><td>7</td><td>4</td><td>8</td><td>0</td></tr>\n",
       "<tr><td>15</td><td>19</td><td>WISEA J100416.04+295844.1</td><td>151.06683</td><td>29.97899</td><td>G</td><td>89469.0</td><td>0.298435</td><td></td><td>18.7g</td><td>--</td><td>5</td><td>0</td><td>66</td><td>7</td><td>4</td><td>10</td><td>0</td></tr>\n",
       "<tr><td>16</td><td>20</td><td>WISEA J100956.35+261132.0</td><td>152.48475</td><td>26.19223</td><td>G</td><td>72232.0</td><td>0.240939</td><td></td><td>18.1g</td><td>--</td><td>9</td><td>0</td><td>46</td><td>7</td><td>4</td><td>6</td><td>0</td></tr>\n",
       "<tr><td>17</td><td>22</td><td>WISEA J101007.05+325329.0</td><td>152.52936</td><td>32.89141</td><td>G</td><td>86914.0</td><td>0.289913</td><td></td><td>18.7g</td><td>--</td><td>7</td><td>0</td><td>66</td><td>7</td><td>4</td><td>10</td><td>0</td></tr>\n",
       "<tr><td>18</td><td>23</td><td>2MASS J10160396+3037481</td><td>154.01655</td><td>30.62998</td><td>G</td><td>75553.0</td><td>0.252016</td><td></td><td>18.7g</td><td>--</td><td>4</td><td>0</td><td>49</td><td>7</td><td>4</td><td>8</td><td>0</td></tr>\n",
       "<tr><td>19</td><td>24</td><td>WISEA J102154.85+072415.5</td><td>155.47856</td><td>7.40432</td><td>G</td><td>87111.0</td><td>0.29057</td><td></td><td>18.4g</td><td>--</td><td>4</td><td>0</td><td>55</td><td>7</td><td>3</td><td>8</td><td>0</td></tr>\n",
       "<tr><td>20</td><td>25</td><td>WISEA J103015.74-010607.0</td><td>157.56561</td><td>-1.10198</td><td>G</td><td>84617.0</td><td>0.282251</td><td></td><td>18.3g</td><td>--</td><td>8</td><td>0</td><td>62</td><td>9</td><td>5</td><td>10</td><td>0</td></tr>\n",
       "<tr><td>21</td><td>26</td><td>2MASX J10304263+0418219</td><td>157.67753</td><td>4.30602</td><td>G</td><td>48300.0</td><td>0.16111</td><td></td><td>16.8g</td><td>--</td><td>14</td><td>0</td><td>59</td><td>7</td><td>4</td><td>10</td><td>0</td></tr>\n",
       "<tr><td>22</td><td>28</td><td>2MASX J10405643-0103584</td><td>160.23509</td><td>-1.06632</td><td>G</td><td>75039.0</td><td>0.250303</td><td></td><td>18.2g</td><td>--</td><td>13</td><td>0</td><td>51</td><td>8</td><td>6</td><td>10</td><td>0</td></tr>\n",
       "<tr><td>23</td><td>29</td><td>WISEA J104724.97+230917.4</td><td>161.85435</td><td>23.15474</td><td>G</td><td>54754.0</td><td>0.182639</td><td></td><td>18.46</td><td>--</td><td>13</td><td>0</td><td>46</td><td>7</td><td>3</td><td>6</td><td>0</td></tr>\n",
       "<tr><td>24</td><td>30</td><td>WISEA J111917.41+141946.5</td><td>169.8226</td><td>14.3296</td><td>G</td><td>43104.0</td><td>0.143781</td><td></td><td>16.6g</td><td>--</td><td>14</td><td>0</td><td>66</td><td>7</td><td>4</td><td>10</td><td>0</td></tr>\n",
       "<tr><td>25</td><td>31</td><td>2MASS J11292875+0255498</td><td>172.36978</td><td>2.93055</td><td>G</td><td>71860.0</td><td>0.239698</td><td></td><td>17.5g</td><td>--</td><td>6</td><td>0</td><td>49</td><td>7</td><td>4</td><td>8</td><td>0</td></tr>\n",
       "<tr><td>26</td><td>32</td><td>WISEA J113800.86+521303.8</td><td>174.50367</td><td>52.21775</td><td>G</td><td>88744.0</td><td>0.296018</td><td></td><td>19.0g</td><td>--</td><td>6</td><td>0</td><td>57</td><td>7</td><td>3</td><td>8</td><td>0</td></tr>\n",
       "<tr><td>27</td><td>33</td><td>WISEA J114100.04+384807.4</td><td>175.25022</td><td>38.80207</td><td>G</td><td>80215.0</td><td>0.267567</td><td></td><td>18.5g</td><td>--</td><td>5</td><td>0</td><td>66</td><td>8</td><td>6</td><td>10</td><td>0</td></tr>\n",
       "<tr><td>28</td><td>34</td><td>WISEA J115052.96+460448.1</td><td>177.72076</td><td>46.08006</td><td>G</td><td>86801.0</td><td>0.289538</td><td></td><td>18.5g</td><td>--</td><td>7</td><td>0</td><td>53</td><td>8</td><td>6</td><td>8</td><td>0</td></tr>\n",
       "<tr><td>29</td><td>35</td><td>WISEA J115356.21+492355.4</td><td>178.48416</td><td>49.39881</td><td>G</td><td>50033.0</td><td>0.166892</td><td></td><td>17.1g</td><td>--</td><td>11</td><td>0</td><td>66</td><td>7</td><td>4</td><td>10</td><td>0</td></tr>\n",
       "<tr><td>30</td><td>36</td><td>2MASX J11593546+1257080</td><td>179.89761</td><td>12.95205</td><td>G</td><td>79017.0</td><td>0.263572</td><td></td><td>18.3g</td><td>--</td><td>4</td><td>0</td><td>54</td><td>6</td><td>4</td><td>10</td><td>0</td></tr>\n",
       "<tr><td>31</td><td>37</td><td>WISEA J120053.92+480007.8</td><td>180.22477</td><td>48.00213</td><td>G</td><td>83527.0</td><td>0.278617</td><td></td><td>18.4g</td><td>--</td><td>6</td><td>0</td><td>66</td><td>7</td><td>5</td><td>10</td><td>0</td></tr>\n",
       "<tr><td>32</td><td>39</td><td>WISEA J121644.33+122450.5</td><td>184.18477</td><td>12.41404</td><td>G</td><td>77090.0</td><td>0.257144</td><td></td><td>18.3g</td><td>--</td><td>4</td><td>0</td><td>55</td><td>7</td><td>3</td><td>8</td><td>0</td></tr>\n",
       "<tr><td>33</td><td>40</td><td>WISEA J122100.50+482729.1</td><td>185.25209</td><td>48.45807</td><td>G</td><td>89874.0</td><td>0.299787</td><td></td><td>18.7g</td><td>--</td><td>6</td><td>0</td><td>61</td><td>8</td><td>3</td><td>8</td><td>0</td></tr>\n",
       "<tr><td>34</td><td>41</td><td>WISEA J123215.19+102119.1</td><td>188.06311</td><td>10.35535</td><td>G</td><td>49742.0</td><td>0.16592</td><td></td><td>17.2g</td><td>--</td><td>12</td><td>0</td><td>66</td><td>8</td><td>4</td><td>10</td><td>0</td></tr>\n",
       "<tr><td>35</td><td>42</td><td>WISEA J123431.08+515629.7</td><td>188.62952</td><td>51.94146</td><td>G</td><td>88733.0</td><td>0.295982</td><td></td><td>18.1g</td><td>--</td><td>24</td><td>0</td><td>63</td><td>8</td><td>10</td><td>10</td><td>0</td></tr>\n",
       "<tr><td>36</td><td>43</td><td>WISEA J123746.63+481227.5</td><td>189.44448</td><td>48.20767</td><td>G</td><td>81721.0</td><td>0.272592</td><td></td><td>18.2g</td><td>--</td><td>5</td><td>0</td><td>64</td><td>7</td><td>4</td><td>10</td><td>0</td></tr>\n",
       "<tr><td>37</td><td>44</td><td>WISEA J131039.32+223502.8</td><td>197.66385</td><td>22.58407</td><td>G</td><td>69341.0</td><td>0.231295</td><td></td><td>18.1g</td><td>--</td><td>8</td><td>0</td><td>48</td><td>7</td><td>2</td><td>6</td><td>1</td></tr>\n",
       "<tr><td>38</td><td>45</td><td>WISEA J132757.52+334529.3</td><td>201.98969</td><td>33.75806</td><td>G</td><td>74633.0</td><td>0.248949</td><td></td><td>17.7g</td><td>--</td><td>12</td><td>0</td><td>78</td><td>11</td><td>4</td><td>10</td><td>0</td></tr>\n",
       "<tr><td>39</td><td>46</td><td>WISEA J134228.33+115734.5</td><td>205.61806</td><td>11.95954</td><td>G</td><td>83682.0</td><td>0.279133</td><td></td><td>19.0g</td><td>--</td><td>5</td><td>0</td><td>66</td><td>7</td><td>4</td><td>10</td><td>0</td></tr>\n",
       "<tr><td>40</td><td>47</td><td>WISEA J134355.49+244048.1</td><td>205.98124</td><td>24.68001</td><td>G</td><td>41149.0</td><td>0.137258</td><td></td><td>17.81</td><td>--</td><td>12</td><td>0</td><td>46</td><td>6</td><td>2</td><td>6</td><td>0</td></tr>\n",
       "<tr><td>41</td><td>49</td><td>2MASX J13475962+3227100</td><td>206.99841</td><td>32.45286</td><td>G</td><td>66888.0</td><td>0.223113</td><td></td><td>18.1g</td><td>--</td><td>8</td><td>0</td><td>54</td><td>6</td><td>4</td><td>10</td><td>0</td></tr>\n",
       "<tr><td>42</td><td>50</td><td>WISEA J135546.08+025456.0</td><td>208.942</td><td>2.91553</td><td>G</td><td>71617.0</td><td>0.23889</td><td></td><td>18.7g</td><td>--</td><td>8</td><td>0</td><td>51</td><td>7</td><td>4</td><td>8</td><td>0</td></tr>\n",
       "<tr><td>43</td><td>51</td><td>WISEA J140138.37+263527.6</td><td>210.40991</td><td>26.591</td><td>G</td><td>85152.0</td><td>0.284036</td><td></td><td>18.7g</td><td>--</td><td>5</td><td>0</td><td>30</td><td>5</td><td>4</td><td>4</td><td>0</td></tr>\n",
       "<tr><td>44</td><td>52</td><td>2MASS J14175497+2704341</td><td>214.47905</td><td>27.07624</td><td>G</td><td>47238.0</td><td>0.157569</td><td></td><td>16.9g</td><td>--</td><td>13</td><td>0</td><td>25</td><td>6</td><td>6</td><td>4</td><td>0</td></tr>\n",
       "<tr><td>45</td><td>53</td><td>WISEA J143447.88+020228.8</td><td>218.69942</td><td>2.04129</td><td>G</td><td>83976.0</td><td>0.280115</td><td></td><td>18.6g</td><td>--</td><td>6</td><td>0</td><td>62</td><td>9</td><td>4</td><td>8</td><td>0</td></tr>\n",
       "<tr><td>46</td><td>54</td><td>WISEA J144728.35+590831.9</td><td>221.86807</td><td>59.14209</td><td>G</td><td>73609.0</td><td>0.245534</td><td></td><td>18.3g</td><td>--</td><td>10</td><td>0</td><td>69</td><td>9</td><td>5</td><td>10</td><td>0</td></tr>\n",
       "<tr><td>47</td><td>55</td><td>WISEA J153619.01+452247.7</td><td>234.07909</td><td>45.37968</td><td>G</td><td>70813.0</td><td>0.236206</td><td></td><td>18.1g</td><td>--</td><td>6</td><td>0</td><td>57</td><td>7</td><td>3</td><td>8</td><td>0</td></tr>\n",
       "<tr><td>48</td><td>56</td><td>WISEA J154307.78+193751.7</td><td>235.78241</td><td>19.63104</td><td>G</td><td>68625.0</td><td>0.228909</td><td></td><td>17.0g</td><td>--</td><td>29</td><td>1</td><td>50</td><td>12</td><td>10</td><td>6</td><td>0</td></tr>\n",
       "<tr><td>49</td><td>57</td><td>WISEA J154950.90+234444.0</td><td>237.46216</td><td>23.7456</td><td>G</td><td>78611.0</td><td>0.262217</td><td></td><td>18.5g</td><td>--</td><td>5</td><td>0</td><td>31</td><td>5</td><td>4</td><td>4</td><td>0</td></tr>\n",
       "<tr><td>50</td><td>59</td><td>2MASX J16014061+2718161</td><td>240.41924</td><td>27.30443</td><td>G</td><td>49332.0</td><td>0.164554</td><td></td><td>16.7g</td><td>--</td><td>14</td><td>0</td><td>54</td><td>6</td><td>5</td><td>10</td><td>1</td></tr>\n",
       "<tr><td>51</td><td>60</td><td>WISEA J163945.96+460905.8</td><td>249.94148</td><td>46.1517</td><td>G</td><td>74151.0</td><td>0.247342</td><td></td><td>18.3g</td><td>--</td><td>7</td><td>0</td><td>70</td><td>8</td><td>4</td><td>10</td><td>0</td></tr>\n",
       "<tr><td>52</td><td>61</td><td>WISEA J173406.17+602919.1</td><td>263.52577</td><td>60.48859</td><td>G</td><td>82685.0</td><td>0.275807</td><td></td><td>18.5g</td><td>--</td><td>6</td><td>0</td><td>66</td><td>7</td><td>3</td><td>10</td><td>0</td></tr>\n",
       "</table><style>table.dataTable {clear: both; width: auto !important; margin: 0 !important;}\n",
       ".dataTables_info, .dataTables_length, .dataTables_filter, .dataTables_paginate{\n",
       "display: inline-block; margin-right: 1em; }\n",
       ".paginate_button { margin-right: 5px; }\n",
       "</style>\n",
       "<script>\n",
       "\n",
       "var astropy_sort_num = function(a, b) {\n",
       "    var a_num = parseFloat(a);\n",
       "    var b_num = parseFloat(b);\n",
       "\n",
       "    if (isNaN(a_num) && isNaN(b_num))\n",
       "        return ((a < b) ? -1 : ((a > b) ? 1 : 0));\n",
       "    else if (!isNaN(a_num) && !isNaN(b_num))\n",
       "        return ((a_num < b_num) ? -1 : ((a_num > b_num) ? 1 : 0));\n",
       "    else\n",
       "        return isNaN(a_num) ? -1 : 1;\n",
       "}\n",
       "\n",
       "require.config({paths: {\n",
       "    datatables: 'https://cdn.datatables.net/1.10.12/js/jquery.dataTables.min'\n",
       "}});\n",
       "require([\"datatables\"], function(){\n",
       "    console.log(\"$('#table34878025064-693679').dataTable()\");\n",
       "    \n",
       "jQuery.extend( jQuery.fn.dataTableExt.oSort, {\n",
       "    \"optionalnum-asc\": astropy_sort_num,\n",
       "    \"optionalnum-desc\": function (a,b) { return -astropy_sort_num(a, b); }\n",
       "});\n",
       "\n",
       "    $('#table34878025064-693679').dataTable({\n",
       "        order: [],\n",
       "        pageLength: 50,\n",
       "        lengthMenu: [[10, 25, 50, 100, 500, 1000, -1], [10, 25, 50, 100, 500, 1000, 'All']],\n",
       "        pagingType: \"full_numbers\",\n",
       "        columnDefs: [{targets: [0, 1, 3, 4, 6, 7, 10, 11, 12, 13, 14, 15, 16, 17], type: \"optionalnum\"}]\n",
       "    });\n",
       "});\n",
       "</script>\n"
      ],
      "text/plain": [
       "<IPython.core.display.HTML object>"
      ]
     },
     "execution_count": 5,
     "metadata": {},
     "output_type": "execute_result"
    }
   ],
   "source": [
    "#Byte strings it is!\n",
    "galaxies = objects_in_paper[objects_in_paper['Type'] == b'G']\n",
    "\n",
    "galaxies.show_in_notebook()"
   ]
  },
  {
   "cell_type": "markdown",
   "metadata": {},
   "source": [
    "## 4. Search the NAVO Registry for image resources.\n",
    "\n",
    "The paper selected super spirals using WISE, SDSS, and GALEX images. Search the NAVO registry for all image resources, using the 'service_type' search parameter. How many image resources are currently available?"
   ]
  },
  {
   "cell_type": "code",
   "execution_count": 9,
   "metadata": {},
   "outputs": [
    {
     "data": {
      "text/html": [
       "<i>Table masked=True length=306</i>\n",
       "<table id=\"table34899128104\" class=\"table-striped table-bordered table-condensed\">\n",
       "<thead><tr><th>ivoid</th><th>short_name</th><th>res_description</th></tr></thead>\n",
       "<thead><tr><th>object</th><th>object</th><th>object</th></tr></thead>\n",
       "<tr><td>ivo://3crsnapshots/sia</td><td>3CRSnap.sia</td><td>Simple Image Access Service for 3CRSnapshot resources managed at the Observatoire de Strasbourg</td></tr>\n",
       "<tr><td>ivo://3crsnapshots/sia</td><td>3CRSnap.sia</td><td>Simple Image Access Service for 3CRSnapshot resources managed at the Observatoire de Strasbourg</td></tr>\n",
       "<tr><td>ivo://archive.stsci.edu/borg</td><td>BoRG</td><td>The Brightest of Reionizing Galaxies (BoRG) observations were first obtained in HST Cycle 17 in program GO 11700 (PI: Michele Trenti). BoRG is an ongoing pure-parallel program that obtains WFC3 imaging in four filters (F606W, F098M, F125W, F160W) on random sightlines at high Galactic latitudes (|b| &gt; 30 degrees). BoRG also assimilates data from the similar Hubble Infrared Pure Parallel Imaging Extragalactic Survey (HIPPIES) pure-parallel program (GO 11702; PI: Yan). Data from the HIPPIES program uses the F600LP filter instead of F606W.</td></tr>\n",
       "<tr><td>ivo://archive.stsci.edu/ghosts</td><td>GHOSTS</td><td>The GHOSTS survey is the largest study to date of the resolved stellar populations in the outskirts of disk galaxies. The sample consists of 14 disk galaxies within 17 Mpc, whose outer disks and halos are imaged with the Hubble Space Telescope Advanced Camera for Surveys (ACS).</td></tr>\n",
       "<tr><td>ivo://archive.stsci.edu/sia/galex</td><td>GALEX</td><td>The Galaxy Evolution Explorer (GALEX), a NASA Small Explorer mission, is performing the first all-sky, deep imaging and spectroscopic ultraviolet surveys in space. The prime goal of GALEX is to study star formation in galaxies and its evolution with time.</td></tr>\n",
       "<tr><td>ivo://archive.stsci.edu/siap/hla</td><td>HLA</td><td>The Hubble Space Telecope Legacy Archive (HLA) was developed at the Space Telescope Science Institute to optimize the science return from HST instruments.  This resource is an image service which accesses all HLA observation data.  The calibrated data is fully online with several forms of access including footprint visualization,  composite images, extracted spectra and source lists.</td></tr>\n",
       "<tr><td>ivo://arvo/siap</td><td>ArVO SIAP</td><td>Armenian Virtual Observatory SIAP API service gives possibility to make a SIAP http request to ArVO astronomical database, which contains the data gained by Byurakan Observatory. The main part of ArVO astronomical data is the First Byurakan Survey (FBS), which is the largest and the first systematic objective prism survey of the extragalactic sky. It covers 17,000 sq.deg. in the Northern sky together with a high galactic latitudes region in the Southern sky.</td></tr>\n",
       "<tr><td>ivo://cadc.nrc.ca/sia</td><td></td><td>Image search and retrieval for CADC imaging data.</td></tr>\n",
       "<tr><td>ivo://cds.vizier/siap</td><td>VizieR SIA</td><td>This service provides SIA access for VizieR associated data in FITS format.</td></tr>\n",
       "<tr><td>ivo://chivo/alma_fits/q/siap-alma-fits</td><td>SIAP ALMA FITS</td><td>The resource contains the recommendations and requirements for ALMA\n",
       "FITS products of the Inter-ARC ALMA Science Archive Working Group\n",
       "(ASAWG) with the view to including a metadataset that is complete and\n",
       "easily accessible by the ChiVO Data Provider (CDP).</td></tr>\n",
       "<tr><td>...</td><td>...</td><td>...</td></tr>\n",
       "<tr><td>ivo://wfau.roe.ac.uk/ukidssdr3-siap</td><td>UKIDSS DR3 SIAP</td><td>Simple image access to UKIDSS data release 3 images.</td></tr>\n",
       "<tr><td>ivo://wfau.roe.ac.uk/ukidssdr4-siap</td><td>UKIDSS DR4 SIAP</td><td>Simple image access to UKIDSS data release 4 images.</td></tr>\n",
       "<tr><td>ivo://wfau.roe.ac.uk/ukidssdr5-siap</td><td>UKIDSS DR5 SIAP</td><td>Simple image access to UKIDSS data release 5 images.</td></tr>\n",
       "<tr><td>ivo://wfau.roe.ac.uk/ukidssdr6-siap</td><td>UKIDSS DR6 SIAP</td><td>Simple image access to UKIDSS data release 6 images.</td></tr>\n",
       "<tr><td>ivo://wfau.roe.ac.uk/ukidssdr7-siap</td><td>UKIDSS DR7 SIAP</td><td>Simple image access to UKIDSS data release 7 images.</td></tr>\n",
       "<tr><td>ivo://wfau.roe.ac.uk/ukidssdr8-siap</td><td>UKIDSS DR8 SIAP</td><td>Simple image access to UKIDSS data release 9 images for the LAS, GCS, DXS, and UDS surveys. GPS images are from DR7.</td></tr>\n",
       "<tr><td>ivo://wfau.roe.ac.uk/ukidssdr9-siap</td><td>UKIDSS DR9 SIAP</td><td>Simple image access to UKIDSS data release 9 images for the LAS, GCS, DXS, and UDS surveys.</td></tr>\n",
       "<tr><td>ivo://wfau.roe.ac.uk/vhsdr1-siap</td><td>VHS DR1 SIAP</td><td>Simple image access to VISTA Hemisphere Survey data release 1 images.</td></tr>\n",
       "<tr><td>ivo://wfau.roe.ac.uk/vista-siap</td><td>VISTA SIAP</td><td>Simple image access to all images from the latest releases of the VISTA public surveys (VHS, VMC, VVV, VIDEO, VIKING).</td></tr>\n",
       "<tr><td>ivo://xcatdb/3xmmdr7/epicsia</td><td>3XMM-DR7-SIA</td><td>The 3XMM-DR7 catalogue contains source detections drawn from 9710 XMM-Newton EPIC observations, \n",
       "        \t\t    covering an energy interval from 0.2 keV to 12 keV. These observations \n",
       "        \t\t    were made between 2000 February 3 and 2016 December 15 and all datasets \n",
       "        \t\t    were publicly available by 2016 December 31, but not all public observations are included in this catalogue \n",
       "        \t\t\tThis version of the XMM-Newton EPIC Serendipitous Source Catalogue,\n",
       "        \t\t\t3XMM-DR7 includes 596268 clean detections which relate to 499266 unique\n",
       "        \t\t\tsources from 9710 observations that were public by the 31st January\n",
       "        \t\t\t2016. \n",
       "        \t\t\t3XMM-DR7 covers a total sky area of ~1032 square degrees if overlaps \n",
       "        \t\t\tare taken into account, where some\n",
       "        \t\t\tregions of the sky have been pointed as many as 50 times. \n",
       "        \t\t\tThe median flux in the total photon energy band (0.2 - 12 keV) \n",
       "        \t\t\tof the catalogue detections is ~ 1.9 × 10-14 erg cm-2 s-1; in the \n",
       "        \t\t\tsoft energy band (0.2 - 2 keV) the median flux is ~ 6 × 10-15, \n",
       "        \t\t\tand in the hard band (2 - 12 keV) it is ~ 8 × 10-15. \n",
       "        \t\t\tAbout 23% of the sources have total fluxes below 1 × 10-14 erg cm-2 s-1.</td></tr>\n",
       "</table>"
      ],
      "text/plain": [
       "<Table masked=True length=306>\n",
       "                ivoid                  ...\n",
       "                object                 ...\n",
       "-------------------------------------- ...\n",
       "                ivo://3crsnapshots/sia ...\n",
       "                ivo://3crsnapshots/sia ...\n",
       "          ivo://archive.stsci.edu/borg ...\n",
       "        ivo://archive.stsci.edu/ghosts ...\n",
       "     ivo://archive.stsci.edu/sia/galex ...\n",
       "      ivo://archive.stsci.edu/siap/hla ...\n",
       "                       ivo://arvo/siap ...\n",
       "                 ivo://cadc.nrc.ca/sia ...\n",
       "                 ivo://cds.vizier/siap ...\n",
       "ivo://chivo/alma_fits/q/siap-alma-fits ...\n",
       "                                   ... ...\n",
       "   ivo://wfau.roe.ac.uk/ukidssdr3-siap ...\n",
       "   ivo://wfau.roe.ac.uk/ukidssdr4-siap ...\n",
       "   ivo://wfau.roe.ac.uk/ukidssdr5-siap ...\n",
       "   ivo://wfau.roe.ac.uk/ukidssdr6-siap ...\n",
       "   ivo://wfau.roe.ac.uk/ukidssdr7-siap ...\n",
       "   ivo://wfau.roe.ac.uk/ukidssdr8-siap ...\n",
       "   ivo://wfau.roe.ac.uk/ukidssdr9-siap ...\n",
       "      ivo://wfau.roe.ac.uk/vhsdr1-siap ...\n",
       "       ivo://wfau.roe.ac.uk/vista-siap ...\n",
       "          ivo://xcatdb/3xmmdr7/epicsia ..."
      ]
     },
     "execution_count": 9,
     "metadata": {},
     "output_type": "execute_result"
    }
   ],
   "source": [
    "image_services = vo.regsearch(servicetype='image')\n",
    "image_services.table['ivoid','short_name','res_description']"
   ]
  },
  {
   "cell_type": "markdown",
   "metadata": {},
   "source": [
    "## 5. Search the NAVO Registry for image resources that will allow you to search for Galex images.\n",
    "\n",
    "There are hundreds of image resources...too many to quickly read through. Try adding the 'keyword' search parameter to your registry search, and find the image resource you would need to search the AllWISE images."
   ]
  },
  {
   "cell_type": "code",
   "execution_count": 23,
   "metadata": {},
   "outputs": [
    {
     "data": {
      "text/html": [
       "<i>Table masked=True length=5</i>\n",
       "<table id=\"table34907084784\" class=\"table-striped table-bordered table-condensed\">\n",
       "<thead><tr><th>ivoid</th><th>short_name</th><th>res_description</th></tr></thead>\n",
       "<thead><tr><th>object</th><th>object</th><th>object</th></tr></thead>\n",
       "<tr><td>ivo://archive.stsci.edu/sia/galex</td><td>GALEX</td><td>The Galaxy Evolution Explorer (GALEX), a NASA Small Explorer mission, is performing the first all-sky, deep imaging and spectroscopic ultraviolet surveys in space. The prime goal of GALEX is to study star formation in galaxies and its evolution with time.</td></tr>\n",
       "<tr><td>ivo://irsa.ipac/spitzer/images/lvl</td><td>LVL</td><td>LVL consists of a sample of 258 galaxies, which have been mapped with both IRAC (4 bands) and MIPS (3 bands). In addition, ancillary data products consisting of images in the narrow-band H-alpha line emission and broad-band R (from the ground) and the UV continuum (2 bands) from GALEX are also available for many of the galaxies.</td></tr>\n",
       "<tr><td>ivo://irsa.ipac/wise/images/z0mgs</td><td>z0MGS</td><td>z0MGS is an archival project combining WISE and GALEX images of nearby galaxies. The main sample consists of ~11,000 galaxies that are deemed to have &gt;10% probability of being within D %lt; 50 Mpc and of having MB %lt; -18. In addition, in the course of iterating on distance estimates when creating the atlas, the z0MGS team generated images for ~5, 000 additional galaxies. These are also included in the delivery, although they do not meet the formal selection criteria. All galaxies included in the atlas have WISE W1 coverage, at minimum. In total, out of the 15,748 galaxies in DR1, 15,716 have coverage in all WISE bands, 11,687 have GALEX NUV and 10,754 have GALEX FUV. If you use z0MGS data, please cite Leroy et al. (2019)</td></tr>\n",
       "<tr><td>ivo://mast.stsci/siap/galex_atlas</td><td>GALEX_Atlas</td><td>The GALEX Atlas of Nearby Galaxies contains images of 1034 nearby galaxies recently observed by the GALEX satellite in its far-ultraviolet (FUV; 1516A) and near-ultraviolet (NUV; 2267A) bands. The Atlas was prepared by A. Gil de Paz,S. Boissier, B.F. Madore, M. Seibert and associated members of the GALEX Team. The full paper is posted on astroph/0606440 and will be published in ApJS in 2007.</td></tr>\n",
       "<tr><td>ivo://nasa.heasarc/skyview/galex</td><td>GALEX</td><td>The GALEX, Galaxy Explorer, mission\n",
       "    was launched by a Pegasus-XL vehicle on April 28 2003 into \n",
       "    a 690km altitude, 29 degree inclination, circular orbit with a 98.6 \n",
       "    minute period. The GALEX instrument allows imaging and spectroscopic \n",
       "    observations to be made in two ultraviolet bands, \n",
       "    Far UV (FUV) 1350-1780A and Near UV (NUV) 1770-2730A. \n",
       "    The instrument provides simultaneous co-aligned FUV and NUV \n",
       "    images with spatial resolution 4.3 and 5.3 arcseconds respectively. \n",
       "    Details of the performance of the instrument and detectors can be found in \n",
       "    Morrissey et al. (2007) ApJS, 173, 682. \n",
       "    &amp;lt;p&amp;gt;\n",
       "    The &amp;lt;i&amp;gt;SkyView&amp;lt;/i&amp;gt; GALEX surveys mosaic the intensity images of \n",
       "    All-Sky Survey images.  For a given pixel only the nearest image is used.\n",
       "    Since a given GALEX observation is circular, this maximizes the coverage\n",
       "    compared with default image finding algorithms which use the distance from\n",
       "    edge of the image.\n",
       "    &amp;lt;p&amp;gt;\n",
       "    As of February 10, 2011, SkyView uses the GALEX GR6 data release.</td></tr>\n",
       "</table>"
      ],
      "text/plain": [
       "<Table masked=True length=5>\n",
       "              ivoid                ...\n",
       "              object               ...\n",
       "---------------------------------- ...\n",
       " ivo://archive.stsci.edu/sia/galex ...\n",
       "ivo://irsa.ipac/spitzer/images/lvl ...\n",
       " ivo://irsa.ipac/wise/images/z0mgs ...\n",
       " ivo://mast.stsci/siap/galex_atlas ...\n",
       "  ivo://nasa.heasarc/skyview/galex ..."
      ]
     },
     "execution_count": 23,
     "metadata": {},
     "output_type": "execute_result"
    }
   ],
   "source": [
    "galex_image_services = vo.regsearch(keywords=['galex'], servicetype='image')\n",
    "galex_image_services.table['ivoid','short_name','res_description']"
   ]
  },
  {
   "cell_type": "markdown",
   "metadata": {},
   "source": [
    "## 6. Choose the Galex image service that you are interested in.\n",
    "\n",
    "Note that we select the HEASARC.  The STScI also works, though it doesn't currently allow the format specification.  See the known issues."
   ]
  },
  {
   "cell_type": "code",
   "execution_count": 42,
   "metadata": {},
   "outputs": [
    {
     "name": "stdout",
     "output_type": "stream",
     "text": [
      "Image Data Service\n",
      "Galaxy Explorer All Sky Survey: Near UV\n",
      "Short Name: GALEX\n",
      "IVOA Identifier: ivo://nasa.heasarc/skyview/galex\n",
      "Base URL: https://skyview.gsfc.nasa.gov/cgi-bin/vo/sia.pl?survey=galex&\n",
      "\n",
      "The GALEX, Galaxy Explorer, mission was launched by a Pegasus-XL vehicle on\n",
      "April 28 2003 into a 690km altitude, 29 degree inclination, circular orbit\n",
      "with a 98.6 minute period. The GALEX instrument allows imaging and\n",
      "spectroscopic observations to be made in two ultraviolet bands, Far UV (FUV)\n",
      "1350-1780A and Near UV (NUV) 1770-2730A. The instrument provides simultaneous\n",
      "co-aligned FUV and NUV images with spatial resolution 4.3 and 5.3 arcseconds\n",
      "respectively. Details of the performance of the instrument and detectors can\n",
      "be found in Morrissey et al. (2007) ApJS, 173, 682. <p> The <i>SkyView</i>\n",
      "GALEX surveys mosaic the intensity images of All-Sky Survey images.  For a\n",
      "given pixel only the nearest image is used. Since a given GALEX observation is\n",
      "circular, this maximizes the coverage compared with default image finding\n",
      "algorithms which use the distance from edge of the image. <p> As of February\n",
      "10, 2011, SkyView uses the GALEX GR6 data release.\n",
      "\n",
      "Subjects: GALEX\n",
      "Waveband Coverage: uv\n"
     ]
    }
   ],
   "source": [
    "galex_image_service = galex_image_services[4]\n",
    "galex_image_service.describe()"
   ]
  },
  {
   "cell_type": "markdown",
   "metadata": {},
   "source": [
    "## 7. Choose one of the galaxies in the NED list.\n"
   ]
  },
  {
   "cell_type": "code",
   "execution_count": 45,
   "metadata": {},
   "outputs": [],
   "source": [
    "from astropy.coordinates import SkyCoord\n",
    "ra = 3.95892\n",
    "dec = -10.045109999999999\n",
    "pos = SkyCoord(ra, dec, unit = 'deg')"
   ]
  },
  {
   "cell_type": "markdown",
   "metadata": {},
   "source": [
    "## 8. Search for a list of Galex images that cover this galaxy.   How many images are returned for this one position? "
   ]
  },
  {
   "cell_type": "code",
   "execution_count": 56,
   "metadata": {
    "scrolled": true
   },
   "outputs": [
    {
     "data": {
      "text/html": [
       "<i>Table masked=True length=10</i>\n",
       "<table id=\"table34910321968\" class=\"table-striped table-bordered table-condensed\">\n",
       "<thead><tr><th>Survey</th><th>Ra</th><th>Dec</th><th>Dim</th><th>Size</th><th>Scale</th><th>Format</th><th>PixFlags</th><th>URL</th><th>LogicalName</th></tr></thead>\n",
       "<thead><tr><th>object</th><th>float64</th><th>float64</th><th>int32</th><th>object</th><th>object</th><th>object</th><th>object</th><th>object</th><th>object</th></tr></thead>\n",
       "<tr><td>galexnear</td><td>3.95892</td><td>-10.04511</td><td>2</td><td>[300 300]</td><td>[-3.3333333333333335e-05 3.3333333333333335e-05]</td><td>image/fits</td><td>F</td><td>https://skyview.gsfc.nasa.gov/cgi-bin/images?position=3.95892%2C-10.04511&amp;survey=galexnear&amp;pixels=300%2C300&amp;sampler=LI&amp;size=0.01%2C0.01&amp;projection=Tan&amp;coordinates=J2000.0&amp;requestID=skv1575569110852&amp;return=FITS</td><td>1</td></tr>\n",
       "<tr><td>galexnear</td><td>3.95892</td><td>-10.04511</td><td>2</td><td>[300 300]</td><td>[-3.3333333333333335e-05 3.3333333333333335e-05]</td><td>image/tiff</td><td>F</td><td>https://skyview.gsfc.nasa.gov/cgi-bin/images?position=3.95892%2C-10.04511&amp;survey=galexnear&amp;pixels=300%2C300&amp;sampler=LI&amp;size=0.01%2C0.01&amp;projection=Tan&amp;coordinates=J2000.0&amp;requestID=skv1575569110852&amp;nofits=1&amp;quicklook=tiff&amp;return=tiff</td><td>1</td></tr>\n",
       "<tr><td>galexnear</td><td>3.95892</td><td>-10.04511</td><td>2</td><td>[300 300]</td><td>[-3.3333333333333335e-05 3.3333333333333335e-05]</td><td>image/gif</td><td>F</td><td>https://skyview.gsfc.nasa.gov/cgi-bin/images?position=3.95892%2C-10.04511&amp;survey=galexnear&amp;pixels=300%2C300&amp;sampler=LI&amp;size=0.01%2C0.01&amp;projection=Tan&amp;coordinates=J2000.0&amp;requestID=skv1575569110852&amp;nofits=1&amp;quicklook=gif&amp;return=gif</td><td>1</td></tr>\n",
       "<tr><td>galexnear</td><td>3.95892</td><td>-10.04511</td><td>2</td><td>[300 300]</td><td>[-3.3333333333333335e-05 3.3333333333333335e-05]</td><td>image/png</td><td>F</td><td>https://skyview.gsfc.nasa.gov/cgi-bin/images?position=3.95892%2C-10.04511&amp;survey=galexnear&amp;pixels=300%2C300&amp;sampler=LI&amp;size=0.01%2C0.01&amp;projection=Tan&amp;coordinates=J2000.0&amp;requestID=skv1575569110852&amp;nofits=1&amp;quicklook=png&amp;return=png</td><td>1</td></tr>\n",
       "<tr><td>galexnear</td><td>3.95892</td><td>-10.04511</td><td>2</td><td>[300 300]</td><td>[-3.3333333333333335e-05 3.3333333333333335e-05]</td><td>image/jpeg</td><td>F</td><td>https://skyview.gsfc.nasa.gov/cgi-bin/images?position=3.95892%2C-10.04511&amp;survey=galexnear&amp;pixels=300%2C300&amp;sampler=LI&amp;size=0.01%2C0.01&amp;projection=Tan&amp;coordinates=J2000.0&amp;requestID=skv1575569110852&amp;nofits=1&amp;quicklook=jpeg&amp;return=jpeg</td><td>1</td></tr>\n",
       "<tr><td>galexfar</td><td>3.95892</td><td>-10.04511</td><td>2</td><td>[300 300]</td><td>[-3.3333333333333335e-05 3.3333333333333335e-05]</td><td>image/fits</td><td>F</td><td>https://skyview.gsfc.nasa.gov/cgi-bin/images?position=3.95892%2C-10.04511&amp;survey=galexfar&amp;pixels=300%2C300&amp;sampler=LI&amp;size=0.01%2C0.01&amp;projection=Tan&amp;coordinates=J2000.0&amp;requestID=skv1575569111177&amp;return=FITS</td><td>2</td></tr>\n",
       "<tr><td>galexfar</td><td>3.95892</td><td>-10.04511</td><td>2</td><td>[300 300]</td><td>[-3.3333333333333335e-05 3.3333333333333335e-05]</td><td>image/tiff</td><td>F</td><td>https://skyview.gsfc.nasa.gov/cgi-bin/images?position=3.95892%2C-10.04511&amp;survey=galexfar&amp;pixels=300%2C300&amp;sampler=LI&amp;size=0.01%2C0.01&amp;projection=Tan&amp;coordinates=J2000.0&amp;requestID=skv1575569111177&amp;nofits=1&amp;quicklook=tiff&amp;return=tiff</td><td>2</td></tr>\n",
       "<tr><td>galexfar</td><td>3.95892</td><td>-10.04511</td><td>2</td><td>[300 300]</td><td>[-3.3333333333333335e-05 3.3333333333333335e-05]</td><td>image/gif</td><td>F</td><td>https://skyview.gsfc.nasa.gov/cgi-bin/images?position=3.95892%2C-10.04511&amp;survey=galexfar&amp;pixels=300%2C300&amp;sampler=LI&amp;size=0.01%2C0.01&amp;projection=Tan&amp;coordinates=J2000.0&amp;requestID=skv1575569111177&amp;nofits=1&amp;quicklook=gif&amp;return=gif</td><td>2</td></tr>\n",
       "<tr><td>galexfar</td><td>3.95892</td><td>-10.04511</td><td>2</td><td>[300 300]</td><td>[-3.3333333333333335e-05 3.3333333333333335e-05]</td><td>image/png</td><td>F</td><td>https://skyview.gsfc.nasa.gov/cgi-bin/images?position=3.95892%2C-10.04511&amp;survey=galexfar&amp;pixels=300%2C300&amp;sampler=LI&amp;size=0.01%2C0.01&amp;projection=Tan&amp;coordinates=J2000.0&amp;requestID=skv1575569111177&amp;nofits=1&amp;quicklook=png&amp;return=png</td><td>2</td></tr>\n",
       "<tr><td>galexfar</td><td>3.95892</td><td>-10.04511</td><td>2</td><td>[300 300]</td><td>[-3.3333333333333335e-05 3.3333333333333335e-05]</td><td>image/jpeg</td><td>F</td><td>https://skyview.gsfc.nasa.gov/cgi-bin/images?position=3.95892%2C-10.04511&amp;survey=galexfar&amp;pixels=300%2C300&amp;sampler=LI&amp;size=0.01%2C0.01&amp;projection=Tan&amp;coordinates=J2000.0&amp;requestID=skv1575569111177&amp;nofits=1&amp;quicklook=jpeg&amp;return=jpeg</td><td>2</td></tr>\n",
       "</table>"
      ],
      "text/plain": [
       "<Table masked=True length=10>\n",
       "  Survey     Ra   ... LogicalName\n",
       "  object  float64 ...    object  \n",
       "--------- ------- ... -----------\n",
       "galexnear 3.95892 ...           1\n",
       "galexnear 3.95892 ...           1\n",
       "galexnear 3.95892 ...           1\n",
       "galexnear 3.95892 ...           1\n",
       "galexnear 3.95892 ...           1\n",
       " galexfar 3.95892 ...           2\n",
       " galexfar 3.95892 ...           2\n",
       " galexfar 3.95892 ...           2\n",
       " galexfar 3.95892 ...           2\n",
       " galexfar 3.95892 ...           2"
      ]
     },
     "execution_count": 56,
     "metadata": {},
     "output_type": "execute_result"
    }
   ],
   "source": [
    "galex_image_table=galex_image_service.search(pos=pos,size=0.01)\n",
    "galex_image_table.table"
   ]
  },
  {
   "cell_type": "markdown",
   "metadata": {},
   "source": [
    "## 9.Which format are you most interested in?"
   ]
  },
  {
   "cell_type": "code",
   "execution_count": 57,
   "metadata": {},
   "outputs": [
    {
     "data": {
      "text/html": [
       "<i>Table masked=True length=2</i>\n",
       "<table id=\"table34910219736\" class=\"table-striped table-bordered table-condensed\">\n",
       "<thead><tr><th>Survey</th><th>Ra</th><th>Dec</th><th>Dim</th><th>Size</th><th>Scale</th><th>Format</th><th>PixFlags</th><th>URL</th><th>LogicalName</th></tr></thead>\n",
       "<thead><tr><th>object</th><th>float64</th><th>float64</th><th>int32</th><th>object</th><th>object</th><th>object</th><th>object</th><th>object</th><th>object</th></tr></thead>\n",
       "<tr><td>galexnear</td><td>3.95892</td><td>-10.04511</td><td>2</td><td>[300 300]</td><td>[-3.3333333333333335e-05 3.3333333333333335e-05]</td><td>image/fits</td><td>F</td><td>https://skyview.gsfc.nasa.gov/cgi-bin/images?position=3.95892%2C-10.04511&amp;survey=galexnear&amp;pixels=300%2C300&amp;sampler=LI&amp;size=0.01%2C0.01&amp;projection=Tan&amp;coordinates=J2000.0&amp;requestID=skv1575569114445&amp;return=FITS</td><td>1</td></tr>\n",
       "<tr><td>galexfar</td><td>3.95892</td><td>-10.04511</td><td>2</td><td>[300 300]</td><td>[-3.3333333333333335e-05 3.3333333333333335e-05]</td><td>image/fits</td><td>F</td><td>https://skyview.gsfc.nasa.gov/cgi-bin/images?position=3.95892%2C-10.04511&amp;survey=galexfar&amp;pixels=300%2C300&amp;sampler=LI&amp;size=0.01%2C0.01&amp;projection=Tan&amp;coordinates=J2000.0&amp;requestID=skv1575569114756&amp;return=FITS</td><td>2</td></tr>\n",
       "</table>"
      ],
      "text/plain": [
       "<Table masked=True length=2>\n",
       "  Survey     Ra   ... LogicalName\n",
       "  object  float64 ...    object  \n",
       "--------- ------- ... -----------\n",
       "galexnear 3.95892 ...           1\n",
       " galexfar 3.95892 ...           2"
      ]
     },
     "execution_count": 57,
     "metadata": {},
     "output_type": "execute_result"
    }
   ],
   "source": [
    "galex_image_table=galex_image_service.search(pos=pos,size=0.01,verbose=1,format='image/fits')\n",
    "galex_image_table.table"
   ]
  },
  {
   "cell_type": "markdown",
   "metadata": {},
   "source": [
    "## 10. Filter the list of returned Galex images to select the near-band"
   ]
  },
  {
   "cell_type": "code",
   "execution_count": 55,
   "metadata": {},
   "outputs": [
    {
     "ename": "KeyError",
     "evalue": "'No such column: [False False]'",
     "output_type": "error",
     "traceback": [
      "\u001b[0;31m---------------------------------------------------------------------------\u001b[0m",
      "\u001b[0;31mKeyError\u001b[0m                                  Traceback (most recent call last)",
      "\u001b[0;32m~/anaconda3/envs/navo-py3/lib/python3.6/site-packages/pyvo/dal/query.py\u001b[0m in \u001b[0;36mgetcolumn\u001b[0;34m(self, name)\u001b[0m\n\u001b[1;32m    507\u001b[0m             \u001b[0;32mif\u001b[0m \u001b[0mname\u001b[0m \u001b[0;32mnot\u001b[0m \u001b[0;32min\u001b[0m \u001b[0mself\u001b[0m\u001b[0;34m.\u001b[0m\u001b[0mfieldnames\u001b[0m\u001b[0;34m:\u001b[0m\u001b[0;34m\u001b[0m\u001b[0m\n\u001b[0;32m--> 508\u001b[0;31m                 \u001b[0mname\u001b[0m \u001b[0;34m=\u001b[0m \u001b[0mself\u001b[0m\u001b[0;34m.\u001b[0m\u001b[0mresultstable\u001b[0m\u001b[0;34m.\u001b[0m\u001b[0mget_field_by_id\u001b[0m\u001b[0;34m(\u001b[0m\u001b[0mname\u001b[0m\u001b[0;34m)\u001b[0m\u001b[0;34m.\u001b[0m\u001b[0mname\u001b[0m\u001b[0;34m\u001b[0m\u001b[0m\n\u001b[0m\u001b[1;32m    509\u001b[0m \u001b[0;34m\u001b[0m\u001b[0m\n",
      "\u001b[0;32m~/anaconda3/envs/navo-py3/lib/python3.6/site-packages/astropy/io/votable/tree.py\u001b[0m in \u001b[0;36mlookup_by_attr_unique\u001b[0;34m(self, ref, before)\u001b[0m\n\u001b[1;32m    126\u001b[0m             \"No {} with {} '{}' found before the referencing {}\".format(\n\u001b[0;32m--> 127\u001b[0;31m                 element_name, attr, ref, element_name))\n\u001b[0m\u001b[1;32m    128\u001b[0m \u001b[0;34m\u001b[0m\u001b[0m\n",
      "\u001b[0;31mKeyError\u001b[0m: \"No FIELD or PARAM with ID '[False False]' found before the referencing FIELD or PARAM\"",
      "\nDuring handling of the above exception, another exception occurred:\n",
      "\u001b[0;31mKeyError\u001b[0m                                  Traceback (most recent call last)",
      "\u001b[0;32m<ipython-input-55-43e67a3022ad>\u001b[0m in \u001b[0;36m<module>\u001b[0;34m\u001b[0m\n\u001b[0;32m----> 1\u001b[0;31m \u001b[0mgalex_image_table\u001b[0m\u001b[0;34m[\u001b[0m\u001b[0mgalex_image_table\u001b[0m\u001b[0;34m.\u001b[0m\u001b[0mtable\u001b[0m\u001b[0;34m[\u001b[0m\u001b[0;34m'Survey'\u001b[0m\u001b[0;34m]\u001b[0m \u001b[0;34m==\u001b[0m \u001b[0;34m'galexnear'\u001b[0m\u001b[0;34m]\u001b[0m\u001b[0;34m\u001b[0m\u001b[0m\n\u001b[0m",
      "\u001b[0;32m~/anaconda3/envs/navo-py3/lib/python3.6/site-packages/pyvo/dal/query.py\u001b[0m in \u001b[0;36m__getitem__\u001b[0;34m(self, indx)\u001b[0m\n\u001b[1;32m    444\u001b[0m             \u001b[0;32mreturn\u001b[0m \u001b[0mself\u001b[0m\u001b[0;34m.\u001b[0m\u001b[0mgetvalue\u001b[0m\u001b[0;34m(\u001b[0m\u001b[0;34m*\u001b[0m\u001b[0mindx\u001b[0m\u001b[0;34m)\u001b[0m\u001b[0;34m\u001b[0m\u001b[0m\n\u001b[1;32m    445\u001b[0m         \u001b[0;32melse\u001b[0m\u001b[0;34m:\u001b[0m\u001b[0;34m\u001b[0m\u001b[0m\n\u001b[0;32m--> 446\u001b[0;31m             \u001b[0;32mreturn\u001b[0m \u001b[0mself\u001b[0m\u001b[0;34m.\u001b[0m\u001b[0mgetcolumn\u001b[0m\u001b[0;34m(\u001b[0m\u001b[0mindx\u001b[0m\u001b[0;34m)\u001b[0m\u001b[0;34m\u001b[0m\u001b[0m\n\u001b[0m\u001b[1;32m    447\u001b[0m \u001b[0;34m\u001b[0m\u001b[0m\n\u001b[1;32m    448\u001b[0m     \u001b[0;34m@\u001b[0m\u001b[0mproperty\u001b[0m\u001b[0;34m\u001b[0m\u001b[0m\n",
      "\u001b[0;32m~/anaconda3/envs/navo-py3/lib/python3.6/site-packages/pyvo/dal/query.py\u001b[0m in \u001b[0;36mgetcolumn\u001b[0;34m(self, name)\u001b[0m\n\u001b[1;32m    510\u001b[0m             \u001b[0;32mreturn\u001b[0m \u001b[0mself\u001b[0m\u001b[0;34m.\u001b[0m\u001b[0mresultstable\u001b[0m\u001b[0;34m.\u001b[0m\u001b[0marray\u001b[0m\u001b[0;34m[\u001b[0m\u001b[0mname\u001b[0m\u001b[0;34m]\u001b[0m\u001b[0;34m\u001b[0m\u001b[0m\n\u001b[1;32m    511\u001b[0m         \u001b[0;32mexcept\u001b[0m \u001b[0mKeyError\u001b[0m\u001b[0;34m:\u001b[0m\u001b[0;34m\u001b[0m\u001b[0m\n\u001b[0;32m--> 512\u001b[0;31m             \u001b[0;32mraise\u001b[0m \u001b[0mKeyError\u001b[0m\u001b[0;34m(\u001b[0m\u001b[0;34m\"No such column: {}\"\u001b[0m\u001b[0;34m.\u001b[0m\u001b[0mformat\u001b[0m\u001b[0;34m(\u001b[0m\u001b[0mname\u001b[0m\u001b[0;34m)\u001b[0m\u001b[0;34m)\u001b[0m\u001b[0;34m\u001b[0m\u001b[0m\n\u001b[0m\u001b[1;32m    513\u001b[0m \u001b[0;34m\u001b[0m\u001b[0m\n\u001b[1;32m    514\u001b[0m     \u001b[0;32mdef\u001b[0m \u001b[0mgetrecord\u001b[0m\u001b[0;34m(\u001b[0m\u001b[0mself\u001b[0m\u001b[0;34m,\u001b[0m \u001b[0mindex\u001b[0m\u001b[0;34m)\u001b[0m\u001b[0;34m:\u001b[0m\u001b[0;34m\u001b[0m\u001b[0m\n",
      "\u001b[0;31mKeyError\u001b[0m: 'No such column: [False False]'"
     ]
    }
   ],
   "source": [
    "galex_image_table[galex_image_table.table['Survey'] == 'galexnear']\n"
   ]
  },
  {
   "cell_type": "markdown",
   "metadata": {},
   "source": [
    "## 11. Visualize this AllWISE image."
   ]
  },
  {
   "cell_type": "code",
   "execution_count": null,
   "metadata": {},
   "outputs": [],
   "source": [
    "allwise_w1_image = Image.get_fits(allwise_w1_images[0])"
   ]
  },
  {
   "cell_type": "code",
   "execution_count": null,
   "metadata": {},
   "outputs": [],
   "source": [
    "import matplotlib.pyplot as plt\n",
    "from astropy.wcs import WCS\n",
    "%matplotlib inline  \n",
    "\n",
    "fig = plt.figure()\n",
    "\n",
    "wcs = WCS(allwise_w1_image[0].header)\n",
    "ax = fig.add_subplot(1, 1, 1, projection=wcs)\n",
    "ax.imshow(allwise_w1_image[0].data, cmap='gray_r', origin='lower', vmax = 10)\n",
    "ax.scatter(ra, dec, transform=ax.get_transform('fk5'), s=500, edgecolor='red', facecolor='none')"
   ]
  },
  {
   "cell_type": "markdown",
   "metadata": {},
   "source": [
    "## 12. Plot a cutout of the AllWISE image, centered on your position.\n",
    "\n",
    "Try a 60 arcsecond cutout."
   ]
  },
  {
   "cell_type": "code",
   "execution_count": null,
   "metadata": {},
   "outputs": [],
   "source": [
    "from astropy.nddata import Cutout2D\n",
    "\n",
    "size = 60\n",
    "cutout = Cutout2D(allwise_w1_image[0].data, pos, (size, size), wcs=wcs)\n",
    "wcs = cutout.wcs\n",
    "\n",
    "fig = plt.figure()\n",
    "\n",
    "ax = fig.add_subplot(1, 1, 1, projection=wcs)\n",
    "ax.imshow(cutout.data, cmap='gray_r', origin='lower', vmax = 10)\n",
    "ax.scatter(ra, dec, transform=ax.get_transform('fk5'), s=500, edgecolor='red', facecolor='none')\n"
   ]
  },
  {
   "cell_type": "markdown",
   "metadata": {},
   "source": [
    "## 13. Try visualizing a cutout of a GALEX image that covers your position."
   ]
  },
  {
   "cell_type": "code",
   "execution_count": null,
   "metadata": {},
   "outputs": [],
   "source": [
    "galex_image_services = Registry.query(keyword='galex', service_type='image', publisher = 'Space Telescope Science Institute')\n",
    "#print(f'{len(galex_image_services)} result(s) found.')\n",
    "\n",
    "galex_image_service = galex_image_services[0]\n",
    "#galex_image_serviceservice,coords=pos,radius=0)\n",
    "\n",
    "galex_image_table = Image.query(service=galex_image_service,coords=pos,radius=0)\n",
    "galex_images = galex_image_table[0]\n",
    "#galex_image_table[0]\n",
    "\n",
    "galex_image_table[0]['contentType']\n",
    "galex_fits_images = galex_images[galex_images['contentType'] == 'image/fits']\n",
    "#galex_fits_images\n",
    "\n",
    "galex_nuv_fits_images = galex_fits_images[galex_fits_images['enrValue']==2.35e-07]\n",
    "#galex_nuv_fits_images\n",
    "\n",
    "galex_nuv_fits_coadd = galex_nuv_fits_images[0]\n",
    "#galex_nuv_fits_coadd\n",
    "\n",
    "galex_nuv_image = Image.get_fits(galex_nuv_fits_coadd)"
   ]
  },
  {
   "cell_type": "code",
   "execution_count": null,
   "metadata": {},
   "outputs": [],
   "source": [
    "import numpy as np\n",
    "image_data = galex_nuv_image[0].data\n",
    "print('Min:', np.min(image_data))\n",
    "print('Max:', np.max(image_data))\n",
    "print('Mean:', np.mean(image_data))\n",
    "print('Stdev:', np.std(image_data))"
   ]
  },
  {
   "cell_type": "code",
   "execution_count": null,
   "metadata": {},
   "outputs": [],
   "source": [
    "fig = plt.figure()\n",
    "ax = fig.add_subplot(1, 1, 1, projection=WCS(galex_nuv_image[0].header))\n",
    "ax.imshow(galex_nuv_image[0].data, cmap='gray_r', origin='lower', vmin=0.0, vmax=0.01)\n",
    "ax.scatter(ra, dec, transform=ax.get_transform('fk5'), s=500, edgecolor='red', facecolor='none')   "
   ]
  },
  {
   "cell_type": "code",
   "execution_count": null,
   "metadata": {},
   "outputs": [],
   "source": [
    "cutout = Cutout2D(galex_nuv_image[0].data, pos, size, wcs=WCS(galex_nuv_image[0].header))\n",
    "\n",
    "fig = plt.figure()\n",
    "\n",
    "ax = fig.add_subplot(1, 1, 1, projection=cutout.wcs)\n",
    "ax.imshow(cutout.data, cmap='gray_r', origin='lower', vmin = 0.0, vmax = 0.01)\n",
    "ax.scatter(ra, dec, transform=ax.get_transform('fk5'), s=500, edgecolor='red', facecolor='none')\n"
   ]
  },
  {
   "cell_type": "markdown",
   "metadata": {},
   "source": [
    "## 14. Try visualizing a cutout of an SDSS image that covers your position."
   ]
  },
  {
   "cell_type": "code",
   "execution_count": null,
   "metadata": {},
   "outputs": [],
   "source": [
    "import astropy.visualization as vis\n",
    "\n",
    "sdss_image_services = Registry.query(keyword='SDSS', service_type='image', publisher = 'The Johns Hopkins University')\n",
    "sdss_image_service = sdss_image_services[2]\n",
    "#sdss_image_service\n",
    "\n",
    "sdss_image_table = Image.query(service=sdss_image_service,coords=pos,radius=0)\n",
    "sdss_images = sdss_image_table[0]\n",
    "#sdss_images\n",
    "\n",
    "#sdss_image_table[0]['Title']\n",
    "sdss_rband_images = sdss_images[sdss_images['Title'] == 'Sloan Digital Sky Survey - Filter r']\n",
    "#sdss_rband_images[0]\n",
    "\n",
    "sdss_rband_image = Image.get_fits(sdss_rband_images[0])\n",
    "\n",
    "fig = plt.figure()\n",
    "\n",
    "ax = fig.add_subplot(1, 1, 1, projection=WCS(sdss_rband_image[0].header))\n",
    "\n",
    "interval = vis.PercentileInterval(99.9)\n",
    "vmin,vmax = interval.get_limits(sdss_rband_image[0].data)\n",
    "norm = vis.ImageNormalize(vmin=vmin, vmax=vmax, stretch=vis.LogStretch(1000))\n",
    "ax.imshow(sdss_rband_image[0].data, cmap = 'gray_r', norm = norm, origin = 'lower')          \n",
    "ax.scatter(ra, dec, transform=ax.get_transform('fk5'), s=500, edgecolor='red', facecolor='none')"
   ]
  },
  {
   "cell_type": "code",
   "execution_count": null,
   "metadata": {},
   "outputs": [],
   "source": [
    "cutout = Cutout2D(sdss_rband_image[0].data, pos, size, wcs=WCS(sdss_rband_image[0].header))\n",
    "fig = plt.figure()\n",
    "ax = fig.add_subplot(1, 1, 1, projection=cutout.wcs)\n",
    "vmin,vmax = interval.get_limits(sdss_rband_image[0].data)\n",
    "norm = vis.ImageNormalize(vmin=vmin, vmax=vmax, stretch=vis.LogStretch(1000))\n",
    "ax.imshow(cutout.data, cmap = 'gray_r', norm = norm, origin = 'lower')          \n",
    "ax.scatter(ra, dec, transform=ax.get_transform('fk5'), s=500, edgecolor='red', facecolor='none')"
   ]
  },
  {
   "cell_type": "code",
   "execution_count": null,
   "metadata": {},
   "outputs": [],
   "source": [
    "sdss_image_services"
   ]
  },
  {
   "cell_type": "code",
   "execution_count": null,
   "metadata": {},
   "outputs": [],
   "source": [
    "#Pick the first 3 galaxies.\n",
    "galaxy_subset = galaxies[0:3]\n",
    "\n",
    "#For each galaxy,\n",
    "for galaxy in galaxy_subset:\n",
    "\n",
    "    #Establish the position.\n",
    "    ra = galaxy['RA(deg)']\n",
    "    dec = galaxy['DEC(deg)']\n",
    "    pos = SkyCoord(ra, dec, unit = 'deg')    \n",
    "    \n",
    "    #Set up the plot for this position.\n",
    "    fig = plt.figure(figsize=(20,6))\n",
    "    plt.suptitle('POSITION = ' + str(ra) + ', ' + str(dec), fontsize=16)\n",
    "\n",
    "    #GALEX\n",
    "    \n",
    "    #Find the GALEX images that overlap the position.\n",
    "    galex_image_table = Image.query(service=galex_image_service,coords=pos,radius=0)\n",
    "    galex_images = galex_image_table[0]\n",
    "    \n",
    "    #Find the GALEX All-Sky Image Survey (AIS) Near-UV FITS coadd. \n",
    "    for galex_image in galex_images:\n",
    "        if (galex_image['contentType'] == 'image/fits') and galex_image['enrValue']==2.35e-07 and 'AIS' in galex_image['accessURL'] and 'main' in galex_image['accessURL']:\n",
    " \n",
    "            #Create a cutout.\n",
    "            gimage = Image.get_fits(galex_image)\n",
    "            galex_cutout = Cutout2D(gimage[0].data, pos, size, wcs=WCS(gimage[0].header))\n",
    "            \n",
    "            #Plot the cutout in the first position of a 1x3 (rowsxcols) grid.\n",
    "            ax = fig.add_subplot(1, 3, 1, projection=galex_cutout.wcs)\n",
    "            ax.set_title(galex_image['name'])\n",
    "            ax.imshow(galex_cutout.data, cmap='gray_r', origin='lower', vmin = 0.0, vmax = 0.01)\n",
    "            ax.scatter(ra, dec, transform=ax.get_transform('fk5'), s=500, edgecolor='red', facecolor='none')\n",
    "\n",
    "    #SDSS\n",
    "    \n",
    "    #Find the SDSS images that overlap the position.\n",
    "    sdss_image_table = Image.query(service=sdss_image_service,coords=pos,radius=0)\n",
    "    sdss_images = sdss_image_table[0]\n",
    "    \n",
    "    #Find the SDSS r-band image.\n",
    "    sdss_rband_images = sdss_images[sdss_images['Title'] == 'Sloan Digital Sky Survey - Filter r']\n",
    "    sdss_rband_image = Image.get_fits(sdss_rband_images[0])\n",
    "    \n",
    "    #Create a cutout.\n",
    "    sdss_rband_image = Image.get_fits(sdss_rband_images[0])\n",
    "    sdss_cutout = Cutout2D(sdss_rband_image[0].data, pos, size, wcs=WCS(sdss_rband_image[0].header))\n",
    "    \n",
    "    #Plot the cutout in the second position of a 1x3 grid.\n",
    "    vmin,vmax = interval.get_limits(sdss_cutout.data)\n",
    "    norm = vis.ImageNormalize(vmin=vmin, vmax=vmax, stretch=vis.LogStretch(1000))\n",
    "    ax = fig.add_subplot(1, 3, 2, projection=sdss_cutout.wcs)\n",
    "    ax.imshow(sdss_cutout.data, cmap = 'gray_r', norm = norm, origin = 'lower')          \n",
    "    ax.scatter(ra, dec, transform=ax.get_transform('fk5'), s=500, edgecolor='red', facecolor='none')\n",
    "    ax.set_title(sdss_rband_images[0]['url'])\n",
    "    \n",
    "    #AllWISE\n",
    "    \n",
    "    #Find the AllWISE images that overlap the position.\n",
    "    allwise_image_table=Image.query(service=allwise_image_service,coords=pos,radius=0)\n",
    "    allwise_images = allwise_image_table[0]\n",
    "    \n",
    "    #Find the AllWISE W1 channel images.\n",
    "    allwise_w1_images = allwise_images[allwise_images['sia_bp_id'] == 'W1']\n",
    "    \n",
    "    #Create a cutout.\n",
    "    allwise_w1_image = Image.get_fits(allwise_w1_images[0])\n",
    "    allwise_cutout = Cutout2D(allwise_w1_image[0].data, pos, (size, size), wcs=WCS(allwise_w1_image[0].header))\n",
    "\n",
    "    #Plot the cutout in the third position of a 1x3 grid.\n",
    "    ax = fig.add_subplot(1, 3, 3, projection=allwise_cutout.wcs)\n",
    "    ax.imshow(allwise_cutout.data, cmap='gray_r', origin='lower', vmax = 10)\n",
    "    ax.scatter(ra, dec, transform=ax.get_transform('fk5'), s=500, edgecolor='red', facecolor='none')\n",
    "    ax.set_title(allwise_w1_images[0]['sia_title'])\n"
   ]
  },
  {
   "cell_type": "code",
   "execution_count": null,
   "metadata": {},
   "outputs": [],
   "source": []
  }
 ],
 "metadata": {
  "kernelspec": {
   "display_name": "Python [default]",
   "language": "python",
   "name": "python3"
  },
  "language_info": {
   "codemirror_mode": {
    "name": "ipython",
    "version": 3
   },
   "file_extension": ".py",
   "mimetype": "text/x-python",
   "name": "python",
   "nbconvert_exporter": "python",
   "pygments_lexer": "ipython3",
   "version": "3.6.6"
  }
 },
 "nbformat": 4,
 "nbformat_minor": 2
}
