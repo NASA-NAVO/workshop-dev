{
 "cells": [
  {
   "cell_type": "markdown",
   "metadata": {},
   "source": [
    "# Preparing a proposal\n",
    "\n",
    "**<font color=red>Updated to use [pyvo pulled from GitHub](https://github.com/astropy/pyvo) on 2019-07-08.  Notes in red about issues or features we can/should add to pyvo from our navo_utils.</font>**\n",
    "\n",
    "The Story: Suppose that you are preparing to write a proposal on NGC1365, aiming to investigate the intriguing black hole spin this galaxy with Chandra grating observations (see: https://www.space.com/19980-monster-black-hole-spin-discovery.html ) \n",
    "\n",
    "In writing proposals, there are often the same tasks that are required: including finding and analyzing previous observations of the proposal, and creating figures that include, e.g., multiwavelength images and spectrum for the source. \n"
   ]
  },
  {
   "cell_type": "code",
   "execution_count": 1,
   "metadata": {},
   "outputs": [],
   "source": [
    "##\n",
    "##  For DEBUGGING\n",
    "## \n",
    "%load_ext autoreload\n",
    "%autoreload 2\n",
    "\n",
    "# As a hint, we include the code block for Python modules that you will likely need to import:   \n",
    "import matplotlib\n",
    "import matplotlib.pyplot as plt\n",
    "import numpy as np\n",
    "%matplotlib inline  \n",
    "\n",
    "##  Use pyvo as much as possible\n",
    "import pyvo as vo\n",
    "\n",
    "\n",
    "## There are a number of relatively unimportant warnings that \n",
    "## show up, so for now, suppress them:\n",
    "import warnings\n",
    "warnings.filterwarnings(\"ignore\")\n"
   ]
  },
  {
   "cell_type": "markdown",
   "metadata": {},
   "source": [
    "### Step 1: Find out what the previously quoted Chandra 2-10 keV flux of the central source is for NGC 1365.  \n",
    "\n",
    "Hint: Do a table access protocol (TAP) search in the heasarc, to find potential table with this information\n",
    "\n",
    "<font color=red>No \"source\" but \"keywords\" is fine for the same thing.  \n",
    "    \n",
    "Then you can take the set of results and browse them as a table with \n",
    "\n",
    "    tap_services.table\n",
    "    \n",
    "or you can take one of them and use it as a service with\n",
    "\n",
    "    tap_services[0].search(query)\n",
    "\n",
    "(Is there another way to get the URL as a string?  The getdataurl() doesn't work with this object.  I guess the idea is that you shouldn't *need* to see the URL.)  \n",
    "</font>\n",
    "    "
   ]
  },
  {
   "cell_type": "code",
   "execution_count": 2,
   "metadata": {},
   "outputs": [
    {
     "name": "stdout",
     "output_type": "stream",
     "text": [
      "https://heasarc.gsfc.nasa.gov/xamin/vo/tap\n"
     ]
    }
   ],
   "source": [
    "#tap_services=Registry.query(service_type='table',source='heasarc')\n",
    "tap_services=vo.regsearch(servicetype='table',keywords=['heasarc'])\n",
    "url=tap_services[0]['access_url'].decode(\"utf-8\")\n",
    "print(url)"
   ]
  },
  {
   "cell_type": "markdown",
   "metadata": {},
   "source": [
    "Hint: The Chansngcat ( https://heasarc.gsfc.nasa.gov/W3Browse/chandra/chansngcat.html ) table is likely the best table.  Create a table with ra, dec, exposure time, and flux (and flux errors) from the public.chansngcat catalog for Chandra observations matched within 0.1 degree."
   ]
  },
  {
   "cell_type": "code",
   "execution_count": 3,
   "metadata": {},
   "outputs": [
    {
     "name": "stdout",
     "output_type": "stream",
     "text": [
      "Found 1 services:\n",
      "The HEASARC is NASA domain archive for high-energy and microwave astronomy.\n",
      "     The Xamin interface provides access to over 600 observation and object\n",
      "     tables.  This includes observation tables for more than 30 missions\n",
      "     and observatories and hundreds of derived object tables.\n",
      "     Non-high energy tables are included to make it easier\n",
      "     for users to compare information.\n"
     ]
    }
   ],
   "source": [
    "print(\"Found {} services:\".format(len(tap_services)))\n",
    "for s in tap_services:\n",
    "    print(s.res_description)"
   ]
  },
  {
   "cell_type": "markdown",
   "metadata": {},
   "source": [
    "<font color=red>\n",
    "I think we should be learning/teaching how to chain pyvo objects themselves.  For example, ** \n",
    "\n",
    "    tap_services[0]\n",
    "    \n",
    "is a row of the registry results, and if you tack on .service, it becomes the appropriate service type object (e.g., a TAPService or an SIAService).  But you don't necessarily have to, because special functions work on the registry result row itself.  These two are equivalent I think:\n",
    "\n",
    "    tap_services[0].service.run_sync(query)\n",
    "    tap_services[0].search(query)\n",
    "    \n",
    "for example for a TAP service, or \n",
    "\n",
    "    image_services[0].search(position,size)\n",
    "\n",
    "for an image.\n",
    "\n",
    "One annoying exception that I think should be \"exposed\" higher is that for a TAP services, if you want to find the available tables, then that's the .tables object, but this doesn't work on a row of a result set;  you have to specify the .service attribute first:\n",
    "\n",
    "    tap_services[0].service.tables\n",
    "    \n",
    "(not to be confused with .table, which converts the results into an Astropy Table object) which returns an VOSITables object that can work like a dictionary whose keys are the table names and values are tables of its meta data.  So you can do the following, or at least should be able to when it's made to work(?):\n",
    "</font>"
   ]
  },
  {
   "cell_type": "code",
   "execution_count": 9,
   "metadata": {
    "scrolled": true
   },
   "outputs": [
    {
     "name": "stdout",
     "output_type": "stream",
     "text": [
      "bmwchancat\n",
      "None\n",
      "chandfn1ms\n",
      "None\n",
      "chandfn2ms\n",
      "None\n",
      "chandfs1ms\n",
      "None\n",
      "chandfs2ms\n",
      "None\n",
      "chandfs4ms\n",
      "None\n",
      "chandfs7ms\n",
      "None\n",
      "chanextdfs\n",
      "None\n",
      "changbscat\n",
      "None\n",
      "chanmaster\n",
      "None\n",
      "channsgpsc\n",
      "None\n",
      "chansexagn\n",
      "None\n",
      "chansexoid\n",
      "None\n",
      "chansexsi\n",
      "None\n",
      "chansngcat\n",
      "None\n",
      "chantypgpr\n",
      "None\n",
      "chanulxcat\n",
      "None\n",
      "chanvguide\n",
      "None\n"
     ]
    }
   ],
   "source": [
    "heasarc_tables=tap_services[0].service.tables\n",
    "for tablename in heasarc_tables.keys():\n",
    "    if \"chan\" in tablename:  \n",
    "        print(tablename)\n",
    "        print(heasarc_tables[tablename].description)\n",
    "        ## These don't appear to work\n",
    "        #heasarc_tables[tablename].describe()\n",
    "        #print(heasarc_tables[tablename].columns)\n",
    "        "
   ]
  },
  {
   "cell_type": "markdown",
   "metadata": {},
   "source": [
    "<font color=red>  But is this starting to be a bit annoying for the average user, making sure to use the right methods to get the right kinds of objects called in the right ways?  I've figured this out reading the code and lots of trial and error.  The docs don't cover this quite the way I needed.</font>"
   ]
  },
  {
   "cell_type": "code",
   "execution_count": 10,
   "metadata": {},
   "outputs": [],
   "source": [
    "# Get the coordinate for NGC 1365\n",
    "import astropy.coordinates as coord\n",
    "pos=coord.SkyCoord.from_name(\"ngc1365\")\n",
    "query=\"\"\"SELECT ra, dec, exposure, flux, flux_lower, flux_upper \n",
    "    FROM public.chansngcat as cat \n",
    "    where \n",
    "    contains(point('ICRS',cat.ra,cat.dec),circle('ICRS',{},{},0.1))=1 \n",
    "    and \n",
    "    cat.exposure > 0 order by cat.exposure\n",
    "    \"\"\".format(pos.ra.deg, pos.dec.deg)\n"
   ]
  },
  {
   "cell_type": "markdown",
   "metadata": {},
   "source": []
  },
  {
   "cell_type": "code",
   "execution_count": 11,
   "metadata": {},
   "outputs": [
    {
     "data": {
      "text/html": [
       "<i>Table masked=True length=1</i>\n",
       "<table id=\"table4720173408\" class=\"table-striped table-bordered table-condensed\">\n",
       "<thead><tr><th>ra</th><th>dec</th><th>exposure</th><th>flux</th><th>flux_lower</th><th>flux_upper</th></tr></thead>\n",
       "<thead><tr><th>float64</th><th>float64</th><th>float64</th><th>float64</th><th>float64</th><th>float64</th></tr></thead>\n",
       "<tr><td>53.40191667</td><td>-36.14066667</td><td>15500.0</td><td>7.751e-12</td><td>7.1727e-12</td><td>8.2075e-12</td></tr>\n",
       "</table>"
      ],
      "text/plain": [
       "<Table masked=True length=1>\n",
       "     ra         dec      exposure    flux   flux_lower flux_upper\n",
       "  float64     float64    float64   float64   float64    float64  \n",
       "----------- ------------ -------- --------- ---------- ----------\n",
       "53.40191667 -36.14066667  15500.0 7.751e-12 7.1727e-12 8.2075e-12"
      ]
     },
     "execution_count": 11,
     "metadata": {},
     "output_type": "execute_result"
    }
   ],
   "source": [
    "## Show the results from your table query for NGC 1365 \n",
    "#results=tap_services[0].service.run_sync(query)\n",
    "results=tap_services[0].search(query)\n",
    "results.table"
   ]
  },
  {
   "cell_type": "markdown",
   "metadata": {},
   "source": [
    "\n",
    "### Step 2: Make Images: \n",
    "\n",
    "#### Create ultraviolet and X-ray images\n",
    "Hint: Start by checking what UV image services exist (e.g., GALEX?)\n",
    "\n",
    "<font color=red>\n",
    "As above, add .table to browse the results more easily.\n",
    "</font>"
   ]
  },
  {
   "cell_type": "code",
   "execution_count": 12,
   "metadata": {},
   "outputs": [
    {
     "data": {
      "text/html": [
       "<i>Table masked=True length=8</i>\n",
       "<table id=\"table4785567504\" class=\"table-striped table-bordered table-condensed\">\n",
       "<thead><tr><th>ivoid</th><th>short_name</th></tr></thead>\n",
       "<thead><tr><th>object</th><th>object</th></tr></thead>\n",
       "<tr><td>ivo://archive.stsci.edu/sia/galex</td><td>GALEX</td></tr>\n",
       "<tr><td>ivo://mast.stsci/siap/galex_atlas</td><td>GALEX_Atlas</td></tr>\n",
       "<tr><td>ivo://mast.stsci/siap/hst.maoz_atlas</td><td>HST.maoz_atlas</td></tr>\n",
       "<tr><td>ivo://mast.stsci/siap/udfuv</td><td>HST.udfuv</td></tr>\n",
       "<tr><td>ivo://mast.stsci/siap/uit</td><td>UIT</td></tr>\n",
       "<tr><td>ivo://nasa.heasarc/skyview/euve</td><td>EUVE</td></tr>\n",
       "<tr><td>ivo://nasa.heasarc/skyview/galex</td><td>GALEX</td></tr>\n",
       "<tr><td>ivo://nasa.heasarc/skyview/wfcf</td><td>WFCF</td></tr>\n",
       "</table>"
      ],
      "text/plain": [
       "<Table masked=True length=8>\n",
       "               ivoid                   short_name  \n",
       "               object                    object    \n",
       "------------------------------------ --------------\n",
       "   ivo://archive.stsci.edu/sia/galex          GALEX\n",
       "   ivo://mast.stsci/siap/galex_atlas    GALEX_Atlas\n",
       "ivo://mast.stsci/siap/hst.maoz_atlas HST.maoz_atlas\n",
       "         ivo://mast.stsci/siap/udfuv      HST.udfuv\n",
       "           ivo://mast.stsci/siap/uit            UIT\n",
       "     ivo://nasa.heasarc/skyview/euve           EUVE\n",
       "    ivo://nasa.heasarc/skyview/galex          GALEX\n",
       "     ivo://nasa.heasarc/skyview/wfcf           WFCF"
      ]
     },
     "execution_count": 12,
     "metadata": {},
     "output_type": "execute_result"
    }
   ],
   "source": [
    "## Note that to browse more 'prettily', use the .table attribute\n",
    "uv_services=vo.regsearch(servicetype='image',keywords='galex', waveband='uv')\n",
    "## Can't do two columns at a time with this way:\n",
    "uv_services.table['ivoid','short_name']\n"
   ]
  },
  {
   "cell_type": "markdown",
   "metadata": {},
   "source": [
    "Here's how you select the services you're interested in.  Take the table of results\n",
    "\n",
    "    uv_services.table\n",
    "\n",
    "and search the relevant column for the relevant string\n",
    "\n",
    "    np.isin(uv_services.table['short_name'],b'GALEX')\n",
    "\n",
    "and use the resulting indices of where the GALEX entries are to look at three of the table columns for only those GALEX rows:\n",
    "\n",
    "    uv_services.table[\n",
    "        np.isin(uv_services.table['short_name'],b'GALEX')\n",
    "        ]['ivoid','short_name','access_url']\n",
    "\n",
    "\n",
    "There are two that serve GALEX images:"
   ]
  },
  {
   "cell_type": "code",
   "execution_count": 13,
   "metadata": {},
   "outputs": [
    {
     "data": {
      "text/html": [
       "<i>Table masked=True length=2</i>\n",
       "<table id=\"table4699412800\" class=\"table-striped table-bordered table-condensed\">\n",
       "<thead><tr><th>ivoid</th><th>short_name</th><th>access_url</th></tr></thead>\n",
       "<thead><tr><th>object</th><th>object</th><th>object</th></tr></thead>\n",
       "<tr><td>ivo://archive.stsci.edu/sia/galex</td><td>GALEX</td><td>https://mast.stsci.edu/portal/Mashup/VoQuery.asmx/SiaV1?MISSION=GALEX&amp;</td></tr>\n",
       "<tr><td>ivo://nasa.heasarc/skyview/galex</td><td>GALEX</td><td>https://skyview.gsfc.nasa.gov/cgi-bin/vo/sia.pl?survey=galex&amp;</td></tr>\n",
       "</table>"
      ],
      "text/plain": [
       "<Table masked=True length=2>\n",
       "              ivoid               ...\n",
       "              object              ...\n",
       "--------------------------------- ...\n",
       "ivo://archive.stsci.edu/sia/galex ...\n",
       " ivo://nasa.heasarc/skyview/galex ..."
      ]
     },
     "execution_count": 13,
     "metadata": {},
     "output_type": "execute_result"
    }
   ],
   "source": [
    "uv_services.table[\n",
    "    np.isin(uv_services.table['short_name'],b'GALEX')\n",
    "    ]['ivoid','short_name','access_url']"
   ]
  },
  {
   "cell_type": "markdown",
   "metadata": {},
   "source": [
    "<font color=red>But the above uses and returns a table which you cannot call.  So you want to get the elements of the original object that are callable.\n",
    "\n",
    "But slicing the object as though it's a table doesn't work, i.e., these don't work:\n",
    "\n",
    "    services[0:1]\n",
    "    services[ np.where(np.isin(services.table['short_name'],b'GALEX'))[0] ]\n",
    "\n",
    "</font>"
   ]
  },
  {
   "cell_type": "code",
   "execution_count": 14,
   "metadata": {},
   "outputs": [],
   "source": [
    "## The where returns a tuple, but we only want the first part of the tuple, the array of indices.\n",
    "##  But you cannot pass more than one integer to a results object to get something callable, i.e.\n",
    "##  though some table operations work, it doesn't slice like a table.  So get them separately by\n",
    "##  specifying the first and second of the two matches from the where:\n",
    "galex_stsci=uv_services[int(np.where(np.isin(uv_services.table['short_name'],b'GALEX'))[0][0])]\n",
    "galex_heasarc=uv_services[int(np.where(np.isin(uv_services.table['short_name'],b'GALEX'))[0][1])]"
   ]
  },
  {
   "cell_type": "markdown",
   "metadata": {},
   "source": [
    "**<font color=red>But this is overly ugly.  Took me lots of trial and error and reading code to figure out how exactly to get what I want out of the pyvo objects.  And given that the results may be returned in a different order tomorrow, we cannot just hard-wire the numbers.  There's got to be a better way to do this.</font>**\n",
    "\n",
    "<font color=red>  This is how we did it with the navo_utils:\n",
    "\n",
    "    uv_services=Registry.query(service_type='image',keyword='galex', waveband='uv')\n",
    "    im_gal = uv_services[np.isin(uv_services['short_name'], \n",
    "                                        ['GALEX'])]\n",
    "    \n",
    "Since everything was just tables, they could be sliced and diced.  But then you cannot do the below way of just tacking on .search() to the result entry, which is handy.\n",
    "</font>"
   ]
  },
  {
   "cell_type": "markdown",
   "metadata": {},
   "source": [
    "Hint: Next create a UV image for the source "
   ]
  },
  {
   "cell_type": "code",
   "execution_count": 15,
   "metadata": {
    "scrolled": true
   },
   "outputs": [
    {
     "data": {
      "text/html": [
       "<i>Table masked=True length=174</i>\n",
       "<table id=\"table4699401184\" class=\"table-striped table-bordered table-condensed\">\n",
       "<thead><tr><th>collection</th><th>insName</th><th>name</th><th>posLocationRA</th><th>posLocationDec</th><th>contentLength</th><th>naxes</th><th>naxis</th><th>scale</th><th>contentType</th><th>coordFrame</th><th>projection</th><th>crpix</th><th>crval</th><th>cdmatrix</th><th>enrEMBand</th><th>enrUnits</th><th>enrValue</th><th>enrMax</th><th>enrMin</th><th>accessURL</th></tr></thead>\n",
       "<thead><tr><th>object</th><th>object</th><th>object</th><th>float64</th><th>float64</th><th>int32</th><th>int32</th><th>object</th><th>object</th><th>object</th><th>object</th><th>bytes3</th><th>object</th><th>object</th><th>object</th><th>object</th><th>object</th><th>float64</th><th>float64</th><th>float64</th><th>object</th></tr></thead>\n",
       "<tr><td>GALEX</td><td>GALEX</td><td>fornax_mos06-xd-int_2color_medium_annot.jpg</td><td>53.0653359237686</td><td>-36.3609134371405</td><td>543324</td><td>2</td><td>[3840 3840]</td><td>[0.000416667 0.000416667]</td><td>image/jpeg</td><td>ICRS</td><td>TAN</td><td>[1920.5 1920.5]</td><td>[158.369 3.98986]</td><td>[-0.000416667 -0.0 -0.0 0.000416667]</td><td>UV</td><td>meters</td><td>2.35e-07</td><td>3.007e-07</td><td>1.693e-07</td><td>http://galex.stsci.edu/data/GR6/pipe/01-vsn/07090-FORNAX_MOS06/d/01-main/0001-img/07-try/qa/FORNAX_MOS06-xd-int_2color_medium_annot.jpg</td></tr>\n",
       "<tr><td>GALEX</td><td>GALEX</td><td>fornax_mos06-nd-int.fits.gz</td><td>53.0653359237686</td><td>-36.3609134371405</td><td>17443052</td><td>2</td><td>[3840 3840]</td><td>[0.000416667 0.000416667]</td><td>image/fits</td><td>ICRS</td><td>TAN</td><td>[1920.5 1920.5]</td><td>[158.369 3.98986]</td><td>[-0.000416667 -0.0 -0.0 0.000416667]</td><td>UV</td><td>meters</td><td>2.35e-07</td><td>3.007e-07</td><td>1.693e-07</td><td>http://galex.stsci.edu/data/GR6/pipe/01-vsn/07090-FORNAX_MOS06/d/01-main/0001-img/07-try/FORNAX_MOS06-nd-int.fits.gz</td></tr>\n",
       "<tr><td>GALEX</td><td>GALEX</td><td>fornax_mos06-xd-int_2color.jpg</td><td>53.0653359237686</td><td>-36.3609134371405</td><td>1799018</td><td>2</td><td>[3840 3840]</td><td>[0.000416667 0.000416667]</td><td>image/jpeg</td><td>ICRS</td><td>TAN</td><td>[1920.5 1920.5]</td><td>[273.981 16.9244]</td><td>[-0.000416667 -0.0 -0.0 0.000416667]</td><td>UV</td><td>meters</td><td>2.35e-07</td><td>3.007e-07</td><td>1.693e-07</td><td>http://galex.stsci.edu/data/GR6/pipe/01-vsn/07090-FORNAX_MOS06/d/01-main/0001-img/07-try/qa/FORNAX_MOS06-xd-int_2color.jpg</td></tr>\n",
       "<tr><td>GALEX</td><td>GALEX</td><td>fornax_mos06-xd-int_2color_large.jpg</td><td>53.0653359237686</td><td>-36.3609134371405</td><td>347009</td><td>2</td><td>[3840 3840]</td><td>[0.000416667 0.000416667]</td><td>image/jpeg</td><td>ICRS</td><td>TAN</td><td>[1920.5 1920.5]</td><td>[273.981 16.9244]</td><td>[-0.000416667 -0.0 -0.0 0.000416667]</td><td>UV</td><td>meters</td><td>2.35e-07</td><td>3.007e-07</td><td>1.693e-07</td><td>http://galex.stsci.edu/data/GR6/pipe/01-vsn/07090-FORNAX_MOS06/d/01-main/0001-img/07-try/qa/FORNAX_MOS06-xd-int_2color_large.jpg</td></tr>\n",
       "<tr><td>GALEX</td><td>GALEX</td><td>fornax_mos06-xd-int_2color_medium.jpg</td><td>53.0653359237686</td><td>-36.3609134371405</td><td>460391</td><td>2</td><td>[3840 3840]</td><td>[0.000416667 0.000416667]</td><td>image/jpeg</td><td>ICRS</td><td>TAN</td><td>[1920.5 1920.5]</td><td>[273.981 16.9244]</td><td>[-0.000416667 -0.0 -0.0 0.000416667]</td><td>UV</td><td>meters</td><td>2.35e-07</td><td>3.007e-07</td><td>1.693e-07</td><td>http://galex.stsci.edu/data/GR6/pipe/01-vsn/07090-FORNAX_MOS06/d/01-main/0001-img/07-try/qa/FORNAX_MOS06-xd-int_2color_medium.jpg</td></tr>\n",
       "<tr><td>GALEX</td><td>GALEX</td><td>fornax_mos06-xd-int_2color_small.jpg</td><td>53.0653359237686</td><td>-36.3609134371405</td><td>122927</td><td>2</td><td>[3840 3840]</td><td>[0.000416667 0.000416667]</td><td>image/jpeg</td><td>ICRS</td><td>TAN</td><td>[1920.5 1920.5]</td><td>[273.981 16.9244]</td><td>[-0.000416667 -0.0 -0.0 0.000416667]</td><td>UV</td><td>meters</td><td>2.35e-07</td><td>3.007e-07</td><td>1.693e-07</td><td>http://galex.stsci.edu/data/GR6/pipe/01-vsn/07090-FORNAX_MOS06/d/01-main/0001-img/07-try/qa/FORNAX_MOS06-xd-int_2color_small.jpg</td></tr>\n",
       "<tr><td>GALEX</td><td>GALEX</td><td>fornax_mos07-xd-int_2color_medium_annot.jpg</td><td>54.0331936068986</td><td>-36.367881838288</td><td>606044</td><td>2</td><td>[3840 3840]</td><td>[0.000416667 0.000416667]</td><td>image/jpeg</td><td>ICRS</td><td>TAN</td><td>[1920.5 1920.5]</td><td>[48.4385 0.19652]</td><td>[-0.000416667 -0.0 -0.0 0.000416667]</td><td>UV</td><td>meters</td><td>2.35e-07</td><td>3.007e-07</td><td>1.693e-07</td><td>http://galex.stsci.edu/data/GR6/pipe/01-vsn/07091-FORNAX_MOS07/d/01-main/0001-img/07-try/qa/FORNAX_MOS07-xd-int_2color_medium_annot.jpg</td></tr>\n",
       "<tr><td>GALEX</td><td>GALEX</td><td>fornax_mos07-nd-int.fits.gz</td><td>54.0331936068986</td><td>-36.367881838288</td><td>21333361</td><td>2</td><td>[3840 3840]</td><td>[0.000416667 0.000416667]</td><td>image/fits</td><td>ICRS</td><td>TAN</td><td>[1920.5 1920.5]</td><td>[48.4385 0.19652]</td><td>[-0.000416667 -0.0 -0.0 0.000416667]</td><td>UV</td><td>meters</td><td>2.35e-07</td><td>3.007e-07</td><td>1.693e-07</td><td>http://galex.stsci.edu/data/GR6/pipe/01-vsn/07091-FORNAX_MOS07/d/01-main/0001-img/07-try/FORNAX_MOS07-nd-int.fits.gz</td></tr>\n",
       "<tr><td>GALEX</td><td>GALEX</td><td>fornax_mos07-xd-int_2color.jpg</td><td>54.0331936068986</td><td>-36.367881838288</td><td>2275679</td><td>2</td><td>[3840 3840]</td><td>[0.000416667 0.000416667]</td><td>image/jpeg</td><td>ICRS</td><td>TAN</td><td>[1920.5 1920.5]</td><td>[357.46 -9.93379]</td><td>[-0.000416667 -0.0 -0.0 0.000416667]</td><td>UV</td><td>meters</td><td>2.35e-07</td><td>3.007e-07</td><td>1.693e-07</td><td>http://galex.stsci.edu/data/GR6/pipe/01-vsn/07091-FORNAX_MOS07/d/01-main/0001-img/07-try/qa/FORNAX_MOS07-xd-int_2color.jpg</td></tr>\n",
       "<tr><td>GALEX</td><td>GALEX</td><td>fornax_mos07-xd-int_2color_large.jpg</td><td>54.0331936068986</td><td>-36.367881838288</td><td>418366</td><td>2</td><td>[3840 3840]</td><td>[0.000416667 0.000416667]</td><td>image/jpeg</td><td>ICRS</td><td>TAN</td><td>[1920.5 1920.5]</td><td>[357.46 -9.93379]</td><td>[-0.000416667 -0.0 -0.0 0.000416667]</td><td>UV</td><td>meters</td><td>2.35e-07</td><td>3.007e-07</td><td>1.693e-07</td><td>http://galex.stsci.edu/data/GR6/pipe/01-vsn/07091-FORNAX_MOS07/d/01-main/0001-img/07-try/qa/FORNAX_MOS07-xd-int_2color_large.jpg</td></tr>\n",
       "<tr><td>...</td><td>...</td><td>...</td><td>...</td><td>...</td><td>...</td><td>...</td><td>...</td><td>...</td><td>...</td><td>...</td><td>...</td><td>...</td><td>...</td><td>...</td><td>...</td><td>...</td><td>...</td><td>...</td><td>...</td><td>...</td></tr>\n",
       "<tr><td>GALEX</td><td>GALEX</td><td>ais_423_0001_sg49-xd-int_2color_medium.jpg</td><td>53.9651195061398</td><td>-36.1056249532337</td><td>572260</td><td>2</td><td>[3840 3840]</td><td>[0.000416667 0.000416667]</td><td>image/jpeg</td><td>ICRS</td><td>TAN</td><td>[1920.5 1920.5]</td><td>[48.3851 -47.0098]</td><td>[-0.000416667 -0.0 -0.0 0.000416667]</td><td>UV</td><td>meters</td><td>1.573e-07</td><td>1.806e-07</td><td>1.34e-07</td><td>http://galex.stsci.edu/data/GR6/pipe/02-vsn/50423-AIS_423/d/00-visits/0001-img/07-try/qa/AIS_423_0001_sg49-xd-int_2color_medium.jpg</td></tr>\n",
       "<tr><td>GALEX</td><td>GALEX</td><td>ais_423_0001_sg49-xd-int_2color_small.jpg</td><td>53.9651195061398</td><td>-36.1056249532337</td><td>133489</td><td>2</td><td>[3840 3840]</td><td>[0.000416667 0.000416667]</td><td>image/jpeg</td><td>ICRS</td><td>TAN</td><td>[1920.5 1920.5]</td><td>[48.3851 -47.0098]</td><td>[-0.000416667 -0.0 -0.0 0.000416667]</td><td>UV</td><td>meters</td><td>1.573e-07</td><td>1.806e-07</td><td>1.34e-07</td><td>http://galex.stsci.edu/data/GR6/pipe/02-vsn/50423-AIS_423/d/00-visits/0001-img/07-try/qa/AIS_423_0001_sg49-xd-int_2color_small.jpg</td></tr>\n",
       "<tr><td>GALEX</td><td>GALEX</td><td>ais_423_0001_sg49-fd-int.fits.gz</td><td>53.9651195061398</td><td>-36.1056249532337</td><td>1138550</td><td>2</td><td>[3840 3840]</td><td>[0.000416667 0.000416667]</td><td>image/fits</td><td>ICRS</td><td>TAN</td><td>[1920.5 1920.5]</td><td>[95.6711 -67.0507]</td><td>[-0.000416667 -0.0 -0.0 0.000416667]</td><td>UV</td><td>meters</td><td>1.573e-07</td><td>1.806e-07</td><td>1.34e-07</td><td>http://galex.stsci.edu/data/GR6/pipe/02-vsn/50423-AIS_423/d/00-visits/0001-img/07-try/AIS_423_0001_sg49-fd-int.fits.gz</td></tr>\n",
       "<tr><td>GALEX</td><td>GALEX</td><td>ais_423_0001_sg49-xd-int_2color_medium_annot.jpg</td><td>53.9651195061398</td><td>-36.1056249532337</td><td>615324</td><td>2</td><td>[3840 3840]</td><td>[0.000416667 0.000416667]</td><td>image/jpeg</td><td>ICRS</td><td>TAN</td><td>[1920.5 1920.5]</td><td>[108.0 -62.2146]</td><td>[-0.000416667 -0.0 -0.0 0.000416667]</td><td>UV</td><td>meters</td><td>1.573e-07</td><td>1.806e-07</td><td>1.34e-07</td><td>http://galex.stsci.edu/data/GR6/pipe/02-vsn/50423-AIS_423/d/00-visits/0001-img/07-try/qa/AIS_423_0001_sg49-xd-int_2color_medium_annot.jpg</td></tr>\n",
       "<tr><td>GALEX</td><td>GALEX</td><td>ais_423_0002_sg49-xd-int_2color.jpg</td><td>53.9452301043047</td><td>-36.1117650864775</td><td>3487526</td><td>2</td><td>[3840 3840]</td><td>[0.000416667 0.000416667]</td><td>image/jpeg</td><td>ICRS</td><td>TAN</td><td>[1920.5 1920.5]</td><td>[57.959 -47.4409]</td><td>[-0.000416667 -0.0 -0.0 0.000416667]</td><td>UV</td><td>meters</td><td>1.573e-07</td><td>1.806e-07</td><td>1.34e-07</td><td>http://galex.stsci.edu/data/GR6/pipe/02-vsn/50423-AIS_423/d/00-visits/0002-img/07-try/qa/AIS_423_0002_sg49-xd-int_2color.jpg</td></tr>\n",
       "<tr><td>GALEX</td><td>GALEX</td><td>ais_423_0002_sg49-xd-int_2color_large.jpg</td><td>53.9452301043047</td><td>-36.1117650864775</td><td>663752</td><td>2</td><td>[3840 3840]</td><td>[0.000416667 0.000416667]</td><td>image/jpeg</td><td>ICRS</td><td>TAN</td><td>[1920.5 1920.5]</td><td>[57.959 -47.4409]</td><td>[-0.000416667 -0.0 -0.0 0.000416667]</td><td>UV</td><td>meters</td><td>1.573e-07</td><td>1.806e-07</td><td>1.34e-07</td><td>http://galex.stsci.edu/data/GR6/pipe/02-vsn/50423-AIS_423/d/00-visits/0002-img/07-try/qa/AIS_423_0002_sg49-xd-int_2color_large.jpg</td></tr>\n",
       "<tr><td>GALEX</td><td>GALEX</td><td>ais_423_0002_sg49-xd-int_2color_medium.jpg</td><td>53.9452301043047</td><td>-36.1117650864775</td><td>575892</td><td>2</td><td>[3840 3840]</td><td>[0.000416667 0.000416667]</td><td>image/jpeg</td><td>ICRS</td><td>TAN</td><td>[1920.5 1920.5]</td><td>[57.959 -47.4409]</td><td>[-0.000416667 -0.0 -0.0 0.000416667]</td><td>UV</td><td>meters</td><td>1.573e-07</td><td>1.806e-07</td><td>1.34e-07</td><td>http://galex.stsci.edu/data/GR6/pipe/02-vsn/50423-AIS_423/d/00-visits/0002-img/07-try/qa/AIS_423_0002_sg49-xd-int_2color_medium.jpg</td></tr>\n",
       "<tr><td>GALEX</td><td>GALEX</td><td>ais_423_0002_sg49-xd-int_2color_small.jpg</td><td>53.9452301043047</td><td>-36.1117650864775</td><td>134331</td><td>2</td><td>[3840 3840]</td><td>[0.000416667 0.000416667]</td><td>image/jpeg</td><td>ICRS</td><td>TAN</td><td>[1920.5 1920.5]</td><td>[57.959 -47.4409]</td><td>[-0.000416667 -0.0 -0.0 0.000416667]</td><td>UV</td><td>meters</td><td>1.573e-07</td><td>1.806e-07</td><td>1.34e-07</td><td>http://galex.stsci.edu/data/GR6/pipe/02-vsn/50423-AIS_423/d/00-visits/0002-img/07-try/qa/AIS_423_0002_sg49-xd-int_2color_small.jpg</td></tr>\n",
       "<tr><td>GALEX</td><td>GALEX</td><td>ais_423_0002_sg49-fd-int.fits.gz</td><td>53.9452301043047</td><td>-36.1117650864775</td><td>1176575</td><td>2</td><td>[3840 3840]</td><td>[0.000416667 0.000416667]</td><td>image/fits</td><td>ICRS</td><td>TAN</td><td>[1920.5 1920.5]</td><td>[57.959 -47.4409]</td><td>[-0.000416667 -0.0 -0.0 0.000416667]</td><td>UV</td><td>meters</td><td>1.573e-07</td><td>1.806e-07</td><td>1.34e-07</td><td>http://galex.stsci.edu/data/GR6/pipe/02-vsn/50423-AIS_423/d/00-visits/0002-img/07-try/AIS_423_0002_sg49-fd-int.fits.gz</td></tr>\n",
       "<tr><td>GALEX</td><td>GALEX</td><td>ais_423_0002_sg49-xd-int_2color_medium_annot.jpg</td><td>53.9452301043047</td><td>-36.1117650864775</td><td>618132</td><td>2</td><td>[3840 3840]</td><td>[0.000416667 0.000416667]</td><td>image/jpeg</td><td>ICRS</td><td>TAN</td><td>[1920.5 1920.5]</td><td>[71.0807 -56.9453]</td><td>[-0.000416667 -0.0 -0.0 0.000416667]</td><td>UV</td><td>meters</td><td>1.573e-07</td><td>1.806e-07</td><td>1.34e-07</td><td>http://galex.stsci.edu/data/GR6/pipe/02-vsn/50423-AIS_423/d/00-visits/0002-img/07-try/qa/AIS_423_0002_sg49-xd-int_2color_medium_annot.jpg</td></tr>\n",
       "</table>"
      ],
      "text/plain": [
       "<Table masked=True length=174>\n",
       "collection ...\n",
       "  object   ...\n",
       "---------- ...\n",
       "     GALEX ...\n",
       "     GALEX ...\n",
       "     GALEX ...\n",
       "     GALEX ...\n",
       "     GALEX ...\n",
       "     GALEX ...\n",
       "     GALEX ...\n",
       "     GALEX ...\n",
       "     GALEX ...\n",
       "     GALEX ...\n",
       "       ... ...\n",
       "     GALEX ...\n",
       "     GALEX ...\n",
       "     GALEX ...\n",
       "     GALEX ...\n",
       "     GALEX ...\n",
       "     GALEX ...\n",
       "     GALEX ...\n",
       "     GALEX ...\n",
       "     GALEX ...\n",
       "     GALEX ..."
      ]
     },
     "execution_count": 15,
     "metadata": {},
     "output_type": "execute_result"
    }
   ],
   "source": [
    "# Do an image search for NGC 1365 in the UV service found above\n",
    "im_table_stsci=galex_stsci.search(pos=pos,size=0.1)\n",
    "im_table_stsci.table"
   ]
  },
  {
   "cell_type": "code",
   "execution_count": 16,
   "metadata": {
    "scrolled": true
   },
   "outputs": [
    {
     "data": {
      "text/html": [
       "<i>Table masked=True length=10</i>\n",
       "<table id=\"table4786393272\" class=\"table-striped table-bordered table-condensed\">\n",
       "<thead><tr><th>Survey</th><th>Ra</th><th>Dec</th><th>Dim</th><th>Size</th><th>Scale</th><th>Format</th><th>PixFlags</th><th>URL</th><th>LogicalName</th></tr></thead>\n",
       "<thead><tr><th>object</th><th>float64</th><th>float64</th><th>int32</th><th>object</th><th>object</th><th>object</th><th>object</th><th>object</th><th>object</th></tr></thead>\n",
       "<tr><td>galexnear</td><td>53.40190833</td><td>-36.14065833</td><td>2</td><td>[300 300]</td><td>[-0.0006666666666666668 0.0006666666666666668]</td><td>image/fits</td><td>F</td><td>https://skyview.gsfc.nasa.gov/cgi-bin/images?position=53.40190833%2C-36.14065833&amp;survey=galexnear&amp;pixels=300%2C300&amp;sampler=LI&amp;size=0.20000000000000004%2C0.20000000000000004&amp;projection=Tan&amp;coordinates=J2000.0&amp;requestID=skv1562959962113&amp;return=FITS</td><td>1</td></tr>\n",
       "<tr><td>galexnear</td><td>53.40190833</td><td>-36.14065833</td><td>2</td><td>[300 300]</td><td>[-0.0006666666666666668 0.0006666666666666668]</td><td>image/tiff</td><td>F</td><td>https://skyview.gsfc.nasa.gov/cgi-bin/images?position=53.40190833%2C-36.14065833&amp;survey=galexnear&amp;pixels=300%2C300&amp;sampler=LI&amp;size=0.20000000000000004%2C0.20000000000000004&amp;projection=Tan&amp;coordinates=J2000.0&amp;requestID=skv1562959962113&amp;nofits=1&amp;quicklook=tiff&amp;return=tiff</td><td>1</td></tr>\n",
       "<tr><td>galexnear</td><td>53.40190833</td><td>-36.14065833</td><td>2</td><td>[300 300]</td><td>[-0.0006666666666666668 0.0006666666666666668]</td><td>image/gif</td><td>F</td><td>https://skyview.gsfc.nasa.gov/cgi-bin/images?position=53.40190833%2C-36.14065833&amp;survey=galexnear&amp;pixels=300%2C300&amp;sampler=LI&amp;size=0.20000000000000004%2C0.20000000000000004&amp;projection=Tan&amp;coordinates=J2000.0&amp;requestID=skv1562959962113&amp;nofits=1&amp;quicklook=gif&amp;return=gif</td><td>1</td></tr>\n",
       "<tr><td>galexnear</td><td>53.40190833</td><td>-36.14065833</td><td>2</td><td>[300 300]</td><td>[-0.0006666666666666668 0.0006666666666666668]</td><td>image/png</td><td>F</td><td>https://skyview.gsfc.nasa.gov/cgi-bin/images?position=53.40190833%2C-36.14065833&amp;survey=galexnear&amp;pixels=300%2C300&amp;sampler=LI&amp;size=0.20000000000000004%2C0.20000000000000004&amp;projection=Tan&amp;coordinates=J2000.0&amp;requestID=skv1562959962113&amp;nofits=1&amp;quicklook=png&amp;return=png</td><td>1</td></tr>\n",
       "<tr><td>galexnear</td><td>53.40190833</td><td>-36.14065833</td><td>2</td><td>[300 300]</td><td>[-0.0006666666666666668 0.0006666666666666668]</td><td>image/jpeg</td><td>F</td><td>https://skyview.gsfc.nasa.gov/cgi-bin/images?position=53.40190833%2C-36.14065833&amp;survey=galexnear&amp;pixels=300%2C300&amp;sampler=LI&amp;size=0.20000000000000004%2C0.20000000000000004&amp;projection=Tan&amp;coordinates=J2000.0&amp;requestID=skv1562959962113&amp;nofits=1&amp;quicklook=jpeg&amp;return=jpeg</td><td>1</td></tr>\n",
       "<tr><td>galexfar</td><td>53.40190833</td><td>-36.14065833</td><td>2</td><td>[300 300]</td><td>[-0.0006666666666666668 0.0006666666666666668]</td><td>image/fits</td><td>F</td><td>https://skyview.gsfc.nasa.gov/cgi-bin/images?position=53.40190833%2C-36.14065833&amp;survey=galexfar&amp;pixels=300%2C300&amp;sampler=LI&amp;size=0.20000000000000004%2C0.20000000000000004&amp;projection=Tan&amp;coordinates=J2000.0&amp;requestID=skv1562959963039&amp;return=FITS</td><td>2</td></tr>\n",
       "<tr><td>galexfar</td><td>53.40190833</td><td>-36.14065833</td><td>2</td><td>[300 300]</td><td>[-0.0006666666666666668 0.0006666666666666668]</td><td>image/tiff</td><td>F</td><td>https://skyview.gsfc.nasa.gov/cgi-bin/images?position=53.40190833%2C-36.14065833&amp;survey=galexfar&amp;pixels=300%2C300&amp;sampler=LI&amp;size=0.20000000000000004%2C0.20000000000000004&amp;projection=Tan&amp;coordinates=J2000.0&amp;requestID=skv1562959963039&amp;nofits=1&amp;quicklook=tiff&amp;return=tiff</td><td>2</td></tr>\n",
       "<tr><td>galexfar</td><td>53.40190833</td><td>-36.14065833</td><td>2</td><td>[300 300]</td><td>[-0.0006666666666666668 0.0006666666666666668]</td><td>image/gif</td><td>F</td><td>https://skyview.gsfc.nasa.gov/cgi-bin/images?position=53.40190833%2C-36.14065833&amp;survey=galexfar&amp;pixels=300%2C300&amp;sampler=LI&amp;size=0.20000000000000004%2C0.20000000000000004&amp;projection=Tan&amp;coordinates=J2000.0&amp;requestID=skv1562959963039&amp;nofits=1&amp;quicklook=gif&amp;return=gif</td><td>2</td></tr>\n",
       "<tr><td>galexfar</td><td>53.40190833</td><td>-36.14065833</td><td>2</td><td>[300 300]</td><td>[-0.0006666666666666668 0.0006666666666666668]</td><td>image/png</td><td>F</td><td>https://skyview.gsfc.nasa.gov/cgi-bin/images?position=53.40190833%2C-36.14065833&amp;survey=galexfar&amp;pixels=300%2C300&amp;sampler=LI&amp;size=0.20000000000000004%2C0.20000000000000004&amp;projection=Tan&amp;coordinates=J2000.0&amp;requestID=skv1562959963039&amp;nofits=1&amp;quicklook=png&amp;return=png</td><td>2</td></tr>\n",
       "<tr><td>galexfar</td><td>53.40190833</td><td>-36.14065833</td><td>2</td><td>[300 300]</td><td>[-0.0006666666666666668 0.0006666666666666668]</td><td>image/jpeg</td><td>F</td><td>https://skyview.gsfc.nasa.gov/cgi-bin/images?position=53.40190833%2C-36.14065833&amp;survey=galexfar&amp;pixels=300%2C300&amp;sampler=LI&amp;size=0.20000000000000004%2C0.20000000000000004&amp;projection=Tan&amp;coordinates=J2000.0&amp;requestID=skv1562959963039&amp;nofits=1&amp;quicklook=jpeg&amp;return=jpeg</td><td>2</td></tr>\n",
       "</table>"
      ],
      "text/plain": [
       "<Table masked=True length=10>\n",
       "  Survey       Ra     ... LogicalName\n",
       "  object    float64   ...    object  \n",
       "--------- ----------- ... -----------\n",
       "galexnear 53.40190833 ...           1\n",
       "galexnear 53.40190833 ...           1\n",
       "galexnear 53.40190833 ...           1\n",
       "galexnear 53.40190833 ...           1\n",
       "galexnear 53.40190833 ...           1\n",
       " galexfar 53.40190833 ...           2\n",
       " galexfar 53.40190833 ...           2\n",
       " galexfar 53.40190833 ...           2\n",
       " galexfar 53.40190833 ...           2\n",
       " galexfar 53.40190833 ...           2"
      ]
     },
     "execution_count": 16,
     "metadata": {},
     "output_type": "execute_result"
    }
   ],
   "source": [
    "# Do an image search for NGC 1365 in the UV service found above\n",
    "im_table_heasarc=galex_heasarc.search(pos=pos,size=0.2)\n",
    "im_table_heasarc.table"
   ]
  },
  {
   "cell_type": "markdown",
   "metadata": {},
   "source": [
    "**<font color=red>Note that our navo_utils.Image.query() takes a position and RADIUS.  This takes a position and a SIZE, which is apparently a diameter.  So there's a factor of two difference in what you give.  Is this what people will expect from an SIA interface?</font>**"
   ]
  },
  {
   "cell_type": "code",
   "execution_count": 17,
   "metadata": {},
   "outputs": [
    {
     "name": "stdout",
     "output_type": "stream",
     "text": [
      "https://skyview.gsfc.nasa.gov/cgi-bin/images?position=53.40190833%2C-36.14065833&survey=galexnear&pixels=300%2C300&sampler=LI&size=0.20000000000000004%2C0.20000000000000004&projection=Tan&coordinates=J2000.0&requestID=skv1562959962113&return=FITS\n"
     ]
    }
   ],
   "source": [
    "## Get the FITS file, first of above rows.  \n",
    "\n",
    "##  There are a couple of things you can extract \n",
    "##   from each row of the results:\n",
    "\n",
    "\n",
    "## Shouldn't need this\n",
    "print(im_table_heasarc[0].getdataurl())  \n",
    "## For downloading the file, see below\n",
    "dataset=im_table_heasarc[0].getdataset() \n",
    "## For grabbing the FITS as an astropy.io.fits object in memory\n",
    "dataobj=im_table_heasarc[0].getdataobj()"
   ]
  },
  {
   "cell_type": "code",
   "execution_count": 18,
   "metadata": {},
   "outputs": [
    {
     "name": "stdout",
     "output_type": "stream",
     "text": [
      "<class 'urllib3.response.HTTPResponse'>\n",
      "<class 'astropy.io.fits.hdu.hdulist.HDUList'>\n"
     ]
    }
   ],
   "source": [
    "print(type(dataset)) \n",
    "print(type(dataobj))"
   ]
  },
  {
   "cell_type": "code",
   "execution_count": 19,
   "metadata": {},
   "outputs": [
    {
     "data": {
      "text/plain": [
       "<matplotlib.image.AxesImage at 0x11d614c18>"
      ]
     },
     "execution_count": 19,
     "metadata": {},
     "output_type": "execute_result"
    },
    {
     "data": {
      "image/png": "[encoded data removed]",
      "text/plain": [
       "<Figure size 288x288 with 1 Axes>"
      ]
     },
     "metadata": {
      "needs_background": "light"
     },
     "output_type": "display_data"
    }
   ],
   "source": [
    "# make an image: \n",
    "from pylab import figure, cm\n",
    "from matplotlib.colors import LogNorm\n",
    "plt.matshow(dataobj[0].data, origin='lower', cmap=cm.gray_r, norm=LogNorm(vmin=0.005, vmax=0.3))"
   ]
  },
  {
   "cell_type": "markdown",
   "metadata": {},
   "source": [
    "**<font color=red>Note that each record has a lot of information in it.  Need a method to print this information in a useful way, which I don't currently see.  Doesn't have, e.g., a .table attribute.</font>**\n",
    "\n",
    "**<font color=red>The change in the column names (e.g., \"Format\" versus \"content-Type\" versus \"imgfmt\" etc.) is presumably why there's a getdataformat() function.  Not sure I like this, though.  Can see how it relates to our navo_utils UCD conversion stuff.</font>**"
   ]
  },
  {
   "cell_type": "code",
   "execution_count": 20,
   "metadata": {
    "scrolled": true
   },
   "outputs": [
    {
     "name": "stdout",
     "output_type": "stream",
     "text": [
      "<class 'pyvo.dal.sia.SIARecord'>\n",
      "image/fits\n"
     ]
    },
    {
     "data": {
      "text/plain": [
       "['__abstractmethods__',\n",
       " '__class__',\n",
       " '__contains__',\n",
       " '__delattr__',\n",
       " '__dict__',\n",
       " '__dir__',\n",
       " '__doc__',\n",
       " '__eq__',\n",
       " '__format__',\n",
       " '__ge__',\n",
       " '__getattribute__',\n",
       " '__getitem__',\n",
       " '__gt__',\n",
       " '__hash__',\n",
       " '__init__',\n",
       " '__init_subclass__',\n",
       " '__iter__',\n",
       " '__le__',\n",
       " '__len__',\n",
       " '__lt__',\n",
       " '__module__',\n",
       " '__ne__',\n",
       " '__new__',\n",
       " '__reduce__',\n",
       " '__reduce_ex__',\n",
       " '__repr__',\n",
       " '__reversed__',\n",
       " '__setattr__',\n",
       " '__sizeof__',\n",
       " '__slots__',\n",
       " '__str__',\n",
       " '__subclasshook__',\n",
       " '__weakref__',\n",
       " '_abc_cache',\n",
       " '_abc_negative_cache',\n",
       " '_abc_negative_cache_version',\n",
       " '_abc_registry',\n",
       " '_dsname_no',\n",
       " '_get_soda_resource',\n",
       " '_index',\n",
       " '_mapping',\n",
       " '_results',\n",
       " 'acref',\n",
       " 'acref_ttl',\n",
       " 'bandpass_hilimit',\n",
       " 'bandpass_id',\n",
       " 'bandpass_lolimit',\n",
       " 'bandpass_refvalue',\n",
       " 'bandpass_unit',\n",
       " 'broadcast_samp',\n",
       " 'cachedataset',\n",
       " 'cdmatrix',\n",
       " 'coord_equinox',\n",
       " 'coord_frame',\n",
       " 'coord_projection',\n",
       " 'coord_refpixel',\n",
       " 'coord_refvalue',\n",
       " 'dateobs',\n",
       " 'filesize',\n",
       " 'format',\n",
       " 'get',\n",
       " 'getbyucd',\n",
       " 'getbyutype',\n",
       " 'getdataformat',\n",
       " 'getdatalink',\n",
       " 'getdataobj',\n",
       " 'getdataset',\n",
       " 'getdataurl',\n",
       " 'instr',\n",
       " 'items',\n",
       " 'keys',\n",
       " 'make_dataset_filename',\n",
       " 'naxes',\n",
       " 'naxis',\n",
       " 'pixflags',\n",
       " 'pos',\n",
       " 'processed',\n",
       " 'scale',\n",
       " 'suggest_dataset_basename',\n",
       " 'suggest_extension',\n",
       " 'title',\n",
       " 'values']"
      ]
     },
     "execution_count": 20,
     "metadata": {},
     "output_type": "execute_result"
    }
   ],
   "source": [
    "print(type(im_table_heasarc[0]))\n",
    "print(im_table_heasarc[0].getdataformat())\n",
    "dir(im_table_heasarc[0])"
   ]
  },
  {
   "cell_type": "markdown",
   "metadata": {},
   "source": [
    "Hint: Repeat steps for X-ray image. (Note: Ideally, we would find an image in the Chandra 'cxc' catalog) "
   ]
  },
  {
   "cell_type": "code",
   "execution_count": 21,
   "metadata": {},
   "outputs": [
    {
     "name": "stdout",
     "output_type": "stream",
     "text": [
      " short_name                 ivoid                 \n",
      "----------- --------------------------------------\n",
      "        CDA         ivo://cxc.harvard.edu/cda.siap\n",
      "        CSC         ivo://cxc.harvard.edu/csc.siap\n",
      "    Chandra          ivo://nasa.heasarc/chanmaster\n",
      "GOODSACISFB ivo://nasa.heasarc/skyview/goodsacisfb\n"
     ]
    }
   ],
   "source": [
    "x_services=vo.regsearch(servicetype='image',keywords=['chandra'], waveband='x-ray')\n",
    "print(x_services.table['short_name','ivoid'])"
   ]
  },
  {
   "cell_type": "code",
   "execution_count": 22,
   "metadata": {},
   "outputs": [
    {
     "name": "stdout",
     "output_type": "stream",
     "text": [
      "<TableColumns names=('name','instrument','date_obs','ra','dec','naxis','imgscale','imgfmt','accref','filesize','obsid')>\n"
     ]
    }
   ],
   "source": [
    "## Do an image search for NGC 1365 in the X-ray CDA service found above\n",
    "xim_table=x_services[0].search(pos=pos,size=0.2)\n",
    "## Some of these are FITS and some JPEG.  Look at the columns:\n",
    "print( xim_table.table.columns )\n",
    "first_fits_image_row=xim_table[ int(np.where(np.isin(xim_table.table['imgfmt'],b'image/fits'))[0][0]) ] "
   ]
  },
  {
   "cell_type": "code",
   "execution_count": 23,
   "metadata": {},
   "outputs": [
    {
     "data": {
      "text/plain": [
       "(460, 560)"
      ]
     },
     "execution_count": 23,
     "metadata": {},
     "output_type": "execute_result"
    },
    {
     "data": {
      "image/png": "[encoded data removed]",
      "text/plain": [
       "<Figure size 432x288 with 1 Axes>"
      ]
     },
     "metadata": {
      "needs_background": "light"
     },
     "output_type": "display_data"
    }
   ],
   "source": [
    "# Create an image from the first FITS file (index=1) by downloading:\n",
    "xhdu_list=first_fits_image_row.getdataobj()\n",
    "\n",
    "plt.imshow(xhdu_list[0].data, origin='lower', cmap='cool', norm=LogNorm(vmin=0.1, vmax=500.))\n",
    "plt.xlim(460, 560)\n",
    "plt.ylim(460, 560)"
   ]
  },
  {
   "cell_type": "markdown",
   "metadata": {},
   "source": [
    "\n",
    "### Step 3: Make a spectrum: \n",
    "\n",
    "#### Find what Chandra spectral observations exist already for this source. \n",
    "Hint: try searching for X-ray spectral data tables using the registry query"
   ]
  },
  {
   "cell_type": "markdown",
   "metadata": {},
   "source": [
    "**<font color=red>Why do these two ways of asking for spectral access services return different results?  Looks like it's doing an exact rather than partial match, so services that are \"x-ray#gamma-ray\" don't get found by pyvo.  Didn't help to try waveband='%x-ray%', but there ought to be a way.</font>**"
   ]
  },
  {
   "cell_type": "code",
   "execution_count": 24,
   "metadata": {
    "scrolled": true
   },
   "outputs": [
    {
     "data": {
      "text/html": [
       "<i>Table masked=True length=1</i>\n",
       "<table id=\"table4788070944\" class=\"table-striped table-bordered table-condensed\">\n",
       "<thead><tr><th>short_name</th><th>ivoid</th><th>waveband</th></tr></thead>\n",
       "<thead><tr><th>object</th><th>object</th><th>object</th></tr></thead>\n",
       "<tr><td>Chandra</td><td>ivo://nasa.heasarc/chanmaster</td><td>x-ray</td></tr>\n",
       "</table>"
      ],
      "text/plain": [
       "<Table masked=True length=1>\n",
       "short_name             ivoid             waveband\n",
       "  object               object             object \n",
       "---------- ----------------------------- --------\n",
       "   Chandra ivo://nasa.heasarc/chanmaster    x-ray"
      ]
     },
     "execution_count": 24,
     "metadata": {},
     "output_type": "execute_result"
    }
   ],
   "source": [
    "# Use the TAP protocol to list services that contain X-ray spectral data\n",
    "xsp_services=vo.regsearch(servicetype='ssa',waveband='x-ray')\n",
    "xsp_services.table['short_name','ivoid','waveband']\n"
   ]
  },
  {
   "cell_type": "markdown",
   "metadata": {},
   "source": [
    "<font color=red>This is the way our navo_utils.registry did it and what it finds:</font>"
   ]
  },
  {
   "cell_type": "code",
   "execution_count": 25,
   "metadata": {},
   "outputs": [
    {
     "data": {
      "text/html": [
       "<i>Table masked=True length=4</i>\n",
       "<table id=\"table4454404280\" class=\"table-striped table-bordered table-condensed\">\n",
       "<thead><tr><th>short_name</th><th>ivoid</th><th>waveband</th></tr></thead>\n",
       "<thead><tr><th>str14</th><th>str49</th><th>str56</th></tr></thead>\n",
       "<tr><td>HEAVENS @ ISDC</td><td>ivo://wfau.roe.ac.uk/heavens_at_isdc/light-curves</td><td>x-ray#gamma-ray</td></tr>\n",
       "<tr><td>NED/SED</td><td>ivo://ned.ipac/sed_data_near_position</td><td>radio#millimeter#infrared#optical#uv#euv#x-ray#gamma-ray</td></tr>\n",
       "<tr><td>Chandra</td><td>ivo://nasa.heasarc/chanmaster</td><td>x-ray</td></tr>\n",
       "<tr><td>INTEGRAL/BSC</td><td>ivo://nasa.heasarc/intbsc</td><td>gamma-ray#x-ray</td></tr>\n",
       "</table>"
      ],
      "text/plain": [
       "<Table masked=True length=4>\n",
       "  short_name   ...                         waveband                        \n",
       "    str14      ...                          str56                          \n",
       "-------------- ... --------------------------------------------------------\n",
       "HEAVENS @ ISDC ...                                          x-ray#gamma-ray\n",
       "       NED/SED ... radio#millimeter#infrared#optical#uv#euv#x-ray#gamma-ray\n",
       "       Chandra ...                                                    x-ray\n",
       "  INTEGRAL/BSC ...                                          gamma-ray#x-ray"
      ]
     },
     "execution_count": 25,
     "metadata": {},
     "output_type": "execute_result"
    }
   ],
   "source": [
    "from navo_utils.registry import Registry\n",
    "services=Registry.query(service_type='spectr',waveband='x-ray')\n",
    "services['short_name','ivoid','waveband']"
   ]
  },
  {
   "cell_type": "markdown",
   "metadata": {},
   "source": [
    "Hint 2: Take a look at what data exist for our candidate, NGC 1365."
   ]
  },
  {
   "cell_type": "markdown",
   "metadata": {},
   "source": [
    "**<font color=red>I'd also request that \"service unavailable\" and a few other errors be trapped for and a simple message printed rather than the whole traceback from an exception</font>"
   ]
  },
  {
   "cell_type": "code",
   "execution_count": 30,
   "metadata": {},
   "outputs": [
    {
     "data": {
      "text/html": [
       "<i>Table masked=True length=2</i>\n",
       "<table id=\"table4699411568\" class=\"table-striped table-bordered table-condensed\">\n",
       "<thead><tr><th>obsid</th><th>status</th><th>name</th><th>ra</th><th>dec</th><th>time</th><th>detector</th><th>grating</th><th>exposure</th><th>type</th><th>pi</th><th>public_date</th><th>SSA_start_time</th><th>SSA_tmid</th><th>SSA_stop_time</th><th>SSA_duration</th><th>SSA_coord_obs</th><th>SSA_ra</th><th>SSA_dec</th><th>SSA_title</th><th>SSA_reference</th><th>SSA_datalength</th><th>SSA_datamodel</th><th>SSA_instrument</th><th>SSA_publisher</th><th>SSA_format</th><th>SSA_fov</th><th>SSA_wavelength_min</th><th>SSA_wavelength_max</th><th>SSA_bandwidth</th><th>SSA_bandpass</th></tr></thead>\n",
       "<thead><tr><th></th><th></th><th></th><th>deg</th><th>deg</th><th>mjd</th><th></th><th></th><th>s</th><th></th><th></th><th>mjd</th><th>mjd</th><th>mjd</th><th>mjd</th><th>s</th><th>deg</th><th>deg</th><th>deg</th><th></th><th></th><th></th><th></th><th></th><th></th><th></th><th>deg</th><th>meter</th><th>meter</th><th>meter</th><th>meter</th></tr></thead>\n",
       "<thead><tr><th>object</th><th>object</th><th>object</th><th>float64</th><th>float64</th><th>float64</th><th>object</th><th>object</th><th>float64</th><th>object</th><th>object</th><th>int32</th><th>float64</th><th>float64</th><th>float64</th><th>float64</th><th>float64</th><th>float64</th><th>float64</th><th>object</th><th>object</th><th>object</th><th>object</th><th>object</th><th>object</th><th>object</th><th>float64</th><th>float64</th><th>float64</th><th>float64</th><th>float64</th></tr></thead>\n",
       "<tr><td>13920</td><td>archived</td><td>NGC 1365</td><td>53.40167</td><td>-36.14028</td><td>56026.4065</td><td>ACIS-S</td><td>HETG</td><td>90040</td><td>GO</td><td>Reeves</td><td>56398</td><td>56026.4065162037</td><td>56026.94252101314</td><td>56027.47776322905</td><td>90040.0</td><td>--</td><td>53.40167</td><td>-36.14028</td><td>acisf13920N001_pha2</td><td>https://heasarc.gsfc.nasa.gov/FTP/chandra/data/science/ao13/cat7/13920/primary/acisf13920N001_pha2.fits.gz</td><td>12.0</td><td>Spectrum-1.0</td><td>ACIS-S</td><td>HEASARC</td><td>application/fits</td><td>0.81</td><td>1.2398e-10</td><td>6.1992e-09</td><td>6.07522e-09</td><td>3.16159e-09</td></tr>\n",
       "<tr><td>13921</td><td>archived</td><td>NGC 1365</td><td>53.40167</td><td>-36.14028</td><td>56029.0272</td><td>ACIS-S</td><td>HETG</td><td>110050</td><td>GO</td><td>Reeves</td><td>56398</td><td>56029.0271643518</td><td>56029.68170909219</td><td>56030.335490666206</td><td>110050.0</td><td>--</td><td>53.40167</td><td>-36.14028</td><td>acisf13921N001_pha2</td><td>https://heasarc.gsfc.nasa.gov/FTP/chandra/data/science/ao13/cat7/13921/primary/acisf13921N001_pha2.fits.gz</td><td>12.0</td><td>Spectrum-1.0</td><td>ACIS-S</td><td>HEASARC</td><td>application/fits</td><td>0.81</td><td>1.2398e-10</td><td>6.1992e-09</td><td>6.07522e-09</td><td>3.16159e-09</td></tr>\n",
       "</table>"
      ],
      "text/plain": [
       "<Table masked=True length=2>\n",
       "obsid   status    name   ... SSA_wavelength_max SSA_bandwidth SSA_bandpass\n",
       "                         ...       meter            meter        meter    \n",
       "object  object   object  ...      float64          float64      float64   \n",
       "------ -------- -------- ... ------------------ ------------- ------------\n",
       " 13920 archived NGC 1365 ...         6.1992e-09   6.07522e-09  3.16159e-09\n",
       " 13921 archived NGC 1365 ...         6.1992e-09   6.07522e-09  3.16159e-09"
      ]
     },
     "execution_count": 30,
     "metadata": {},
     "output_type": "execute_result"
    }
   ],
   "source": [
    "spec_tables=xsp_services[0].search(pos=pos,radius=0.2,verbose=True)\n",
    "spec_tables.table"
   ]
  },
  {
   "cell_type": "markdown",
   "metadata": {},
   "source": [
    "Hint 3: Download the data to make a spectrum. Note: you might end here and use Xspec to plot and model the spectrum. Or ... you can also try to take a quick look at the spectrum. "
   ]
  },
  {
   "cell_type": "markdown",
   "metadata": {},
   "source": [
    "**<font color=red>This ends up with a file named \"acisf13920N001_pha2.None\" instead of the correct \".fits\" suffix.</font>**"
   ]
  },
  {
   "cell_type": "code",
   "execution_count": 31,
   "metadata": {},
   "outputs": [],
   "source": [
    "## Or write it to disk\n",
    "with open('downloads/{}'.format(spec_tables[0].make_dataset_filename()),'wb') as outfile:\n",
    "    outfile.write(spec_tables[0].getdataset().read())"
   ]
  },
  {
   "cell_type": "code",
   "execution_count": 32,
   "metadata": {},
   "outputs": [
    {
     "name": "stdout",
     "output_type": "stream",
     "text": [
      "ColDefs(\n",
      "    name = 'SPEC_NUM'; format = '1I'; null = 0\n",
      "    name = 'TG_M'; format = '1I'; null = 99\n",
      "    name = 'TG_PART'; format = '1I'\n",
      "    name = 'TG_SRCID'; format = '1I'; null = 0\n",
      "    name = 'X'; format = '1E'; unit = 'pixel'\n",
      "    name = 'Y'; format = '1E'; unit = 'pixel'\n",
      "    name = 'CHANNEL'; format = '8192I'; null = 0\n",
      "    name = 'COUNTS'; format = '8192I'; unit = 'count'; null = -1\n",
      "    name = 'STAT_ERR'; format = '8192E'; unit = 'count'\n",
      "    name = 'BACKGROUND_UP'; format = '8192I'; unit = 'count'; null = -1\n",
      "    name = 'BACKGROUND_DOWN'; format = '8192I'; unit = 'count'; null = -1\n",
      "    name = 'BIN_LO'; format = '8192D'; unit = 'angstrom'\n",
      "    name = 'BIN_HI'; format = '8192D'; unit = 'angstrom'\n",
      ")\n",
      "12\n"
     ]
    }
   ],
   "source": [
    "hdu_list=spec_tables[0].getdataobj()\n",
    "spectra=hdu_list[1].data\n",
    "print(spectra.columns)\n",
    "print(len(spectra))"
   ]
  },
  {
   "cell_type": "markdown",
   "metadata": {},
   "source": [
    "Extension: Making a \"quick look\" spectrum. For our purposes, the 1st order of the HEG grating data would be sufficient."
   ]
  },
  {
   "cell_type": "code",
   "execution_count": 33,
   "metadata": {},
   "outputs": [
    {
     "data": {
      "image/png": "[encoded data removed]",
      "text/plain": [
       "<Figure size 576x216 with 2 Axes>"
      ]
     },
     "metadata": {
      "needs_background": "light"
     },
     "output_type": "display_data"
    }
   ],
   "source": [
    "j=1\n",
    "for i in range(len(spectra)):\n",
    "    matplotlib.rcParams['figure.figsize'] = (8, 3)\n",
    "    if abs(spectra['TG_M'][i]) == 1 and (spectra['TG_PART'][i]) == 1:\n",
    "        ax=plt.subplot(1,2,j)\n",
    "        pha = plt.plot( spectra['CHANNEL'][i],spectra['COUNTS'][i])\n",
    "        ax.set_yscale('log')\n",
    "        if spectra['TG_PART'][i] == 1:\n",
    "            instr='HEG'\n",
    "        ax.set_title(\"{grating}{order:+d}\".format(grating=instr, order=spectra['TG_M'][i]))\n",
    "        plt.tight_layout()\n",
    "        j=j+1\n"
   ]
  },
  {
   "cell_type": "markdown",
   "metadata": {},
   "source": [
    "This can then be analyzed in your favorite spectral analysis tool, e.g., [pyXspec](https://heasarc.gsfc.nasa.gov/xanadu/xspec/python/html/index.html).  (For the winter 2018 AAS workshop, we demonstrated this in a [notebook](https://github.com/NASA-NAVO/aas_workshop_2018/blob/master/heasarc/heasarc_Spectral_Access.ipynb) that you can consult for how to use pyXspec, but the pyXspec documentation will have more information.) "
   ]
  },
  {
   "cell_type": "markdown",
   "metadata": {},
   "source": [
    "Congratulations! You have completed this notebook exercise."
   ]
  }
 ],
 "metadata": {
  "anaconda-cloud": {},
  "kernelspec": {
   "display_name": "Python 3",
   "language": "python",
   "name": "python3"
  },
  "language_info": {
   "codemirror_mode": {
    "name": "ipython",
    "version": 3
   },
   "file_extension": ".py",
   "mimetype": "text/x-python",
   "name": "python",
   "nbconvert_exporter": "python",
   "pygments_lexer": "ipython3",
   "version": "3.6.7"
  },
  "nav_menu": {},
  "toc": {
   "navigate_menu": true,
   "number_sections": true,
   "sideBar": true,
   "threshold": 6,
   "toc_cell": false,
   "toc_section_display": "block",
   "toc_window_display": true
  }
 },
 "nbformat": 4,
 "nbformat_minor": 2
}
