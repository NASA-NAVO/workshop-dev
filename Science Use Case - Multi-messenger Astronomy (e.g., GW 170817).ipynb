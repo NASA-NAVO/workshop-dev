{
 "cells": [
  {
   "cell_type": "markdown",
   "metadata": {},
   "source": [
    "# Multi-messenger Astronomy\n",
    "## Gathering data on Gravitational Wave Event: GW 170817"
   ]
  },
  {
   "cell_type": "markdown",
   "metadata": {},
   "source": [
    "The Story: \n",
    "\n",
    "In the exciting GW 170817 event, the support of multi-wavelength data was crucial in identifing the event and discovering the unique nature of this gravitational wave detection. You can read more about the discovery and GW 170817 event here: https://en.wikipedia.org/wiki/GW170817. The gravitational waves originated from the merger of two neutron stars, giving rise to a gamma ray burst, detected by the Fermi Gamma Ray Space Telescope 1.74 seconds following the NS-NS merger. In addition, radio to X-ray emission follow-up observations yielded interesting results across the electromagnetic spectrum as the source brightened and faded. \n",
    "\n",
    "In this notebook, we will gather the multiwavelength data, including ... <font color='red'>ADD STUFF HERE </font>\n"
   ]
  },
  {
   "cell_type": "markdown",
   "metadata": {},
   "source": [
    "### 1. The first step is to localize and gather basic information about the source\n",
    "\n",
    "The position of GW 170817 was localized to a region with area of ~28 square degrees. However ~1.7 seconds after the GW event, Fermi detected a GRB at this location: RA=13:09:48.08, Dec = −23:22:53.3. This narrowed the search radius to a few tens of degrees, which is still quite large, of course. Several optical transient teams began searching, and the Swope SuperNova Survey detected a source in NGC 4993, designated SSS17a. \n",
    "\n",
    "A NED search around this position might offer some more information about the source. Try a cone search at the position given above, with 30 arcsec search radius. Hint: Use astroquery.ned\n"
   ]
  },
  {
   "cell_type": "code",
   "execution_count": 93,
   "metadata": {
    "collapsed": false
   },
   "outputs": [
    {
     "data": {
      "text/html": [
       "&lt;Table masked=True length=4&gt;\n",
       "<table id=\"table4573479712\" class=\"table-striped table-bordered table-condensed\">\n",
       "<thead><tr><th>No.</th><th>Object Name</th><th>RA(deg)</th><th>DEC(deg)</th><th>Type</th><th>Velocity</th><th>Redshift</th><th>Redshift Flag</th><th>Magnitude and Filter</th><th>Distance (arcmin)</th><th>References</th><th>Notes</th><th>Photometry Points</th><th>Positions</th><th>Redshift Points</th><th>Diameter Points</th><th>Associations</th></tr></thead>\n",
       "<thead><tr><th></th><th></th><th>degrees</th><th>degrees</th><th></th><th>km / s</th><th></th><th></th><th></th><th>arcm</th><th></th><th></th><th></th><th></th><th></th><th></th><th></th></tr></thead>\n",
       "<thead><tr><th>int32</th><th>bytes30</th><th>float64</th><th>float64</th><th>object</th><th>float64</th><th>float64</th><th>object</th><th>object</th><th>float64</th><th>int32</th><th>int32</th><th>int32</th><th>int32</th><th>int32</th><th>int32</th><th>int32</th></tr></thead>\n",
       "<tr><td>1</td><td>2MASS J13094595-2323014</td><td>197.44186</td><td>-23.38425</td><td>UvS</td><td>--</td><td>--</td><td></td><td></td><td>0.38</td><td>0</td><td>0</td><td>8</td><td>2</td><td>0</td><td>0</td><td>0</td></tr>\n",
       "<tr><td>2</td><td>NGC 4993</td><td>197.44875</td><td>-23.38389</td><td>G</td><td>2916.0</td><td>0.009727</td><td></td><td>13.32</td><td>0.0</td><td>146</td><td>3</td><td>27</td><td>5</td><td>6</td><td>17</td><td>0</td></tr>\n",
       "<tr><td>3</td><td>NGC 4993 GROUP</td><td>197.44875</td><td>-23.38389</td><td>GGroup</td><td>--</td><td>--</td><td></td><td></td><td>0.0</td><td>1</td><td>0</td><td>0</td><td>0</td><td>0</td><td>0</td><td>0</td></tr>\n",
       "<tr><td>4</td><td>2MASS J13094927-2323209</td><td>197.4553</td><td>-23.38915</td><td>IrS</td><td>--</td><td>--</td><td></td><td></td><td>0.479</td><td>0</td><td>0</td><td>6</td><td>1</td><td>0</td><td>0</td><td>0</td></tr>\n",
       "</table>"
      ],
      "text/plain": [
       "<Table masked=True length=4>\n",
       " No.        Object Name        RA(deg)   ... Diameter Points Associations\n",
       "                               degrees   ...                             \n",
       "int32         bytes30          float64   ...      int32         int32    \n",
       "----- ----------------------- ---------- ... --------------- ------------\n",
       "    1 2MASS J13094595-2323014  197.44186 ...               0            0\n",
       "    2                NGC 4993  197.44875 ...              17            0\n",
       "    3          NGC 4993 GROUP  197.44875 ...               0            0\n",
       "    4 2MASS J13094927-2323209   197.4553 ...               0            0"
      ]
     },
     "execution_count": 93,
     "metadata": {},
     "output_type": "execute_result"
    }
   ],
   "source": [
    "from astroquery.ned import Ned\n",
    "import astropy.units as u\n",
    "sr= 30./3600. * u.deg # search radius is 1 arcmin\n",
    "result_table = Ned.query_region(\"NGC 4993\", radius=sr)\n",
    "#print(result_table) # an astropy.table.Table\n",
    "result_table"
   ]
  },
  {
   "cell_type": "markdown",
   "metadata": {},
   "source": [
    "### 2. Gather all the papers written about the source, since the GW event\n",
    "Hint: Use get_table function within the astroquery.ned package."
   ]
  },
  {
   "cell_type": "code",
   "execution_count": 98,
   "metadata": {
    "collapsed": false
   },
   "outputs": [
    {
     "data": {
      "text/html": [
       "&lt;Table masked=True length=103&gt;\n",
       "<table id=\"table4577065728\" class=\"table-striped table-bordered table-condensed\">\n",
       "<thead><tr><th>No.</th><th>Refcode</th><th>Author List</th><th>Article Title</th></tr></thead>\n",
       "<thead><tr><th>int32</th><th>object</th><th>object</th><th>object</th></tr></thead>\n",
       "<tr><td>1</td><td>2018PASJ...70...28T</td><td>Tominaga, Nozomu; Tanaka, Masaomi; Morokuma, Tomoki; Utsumi, Yousuke; Yamaguchi, Masaki S.; Yasuda, Naoki; Tanaka, Masayuki; et al.</td><td>Subaru Hyper Suprime-Cam Survey for an optical counterpart of GW170817</td></tr>\n",
       "<tr><td>2</td><td>2018Natur.556..164C</td><td>Castelvecchi, Davide</td><td>How gravitational waves could solve some of the Universe&apos;s deepest mysteries</td></tr>\n",
       "<tr><td>3</td><td>2018Natur.554..207M</td><td>Mooley, K. P.; Nakar, E.; Hotokezaka, K.; Hallinan, G.; Corsi, A.; Frail, D. A.; Horesh, A.; Murphy, T.; Lenc, E.; Kaplan, D. L.; de, et al.</td><td>A mildly relativistic wide-angle outflow in the neutron-star merger event GW170817</td></tr>\n",
       "<tr><td>4</td><td>2018MNRAS.477..639B</td><td>Bartos, I.; Di Girolamo, T.; Gair, J. R.; Hendry, M.; Heng, I. S.; Humensky, T. B.; Marka, S.; Marka, Z.; Messenger, C.; Mukherjee, et al.</td><td>Strategies for the follow-up of gravitational wave transients with the Cherenkov Telescope Array</td></tr>\n",
       "<tr><td>5</td><td>2018MNRAS.476.5621B</td><td>Beniamini, Paz; Giannios, Dimitrios; Younes, George; van der Horst,Alexander J.; Kouveliotou, Chryssa</td><td>Compton echoes from nearby gamma-ray bursts</td></tr>\n",
       "<tr><td>6</td><td>2018MNRAS.476.1191B</td><td>Biehl, D.; Heinze, J.; Winter, W.</td><td>Expected neutrino fluence from short Gamma-Ray Burst 170817A and off-axis angle constraints</td></tr>\n",
       "<tr><td>7</td><td>2018MNRAS.475.4133S</td><td>Seto, Naoki; Kyutoku, Koutarou</td><td>Prospects of the local Hubble parameter measurement using gravitational waves from double neutron stars</td></tr>\n",
       "<tr><td>8</td><td>2018MNRAS.475.2971B</td><td>Bromberg, O.; Tchekhovskoy, A.; Gottlieb, O.; Nakar, E.; Piran, T.</td><td>The gamma-rays that accompanied GW170817 and the observational signature of a magnetic jet breaking out of NS merger ejecta</td></tr>\n",
       "<tr><td>9</td><td>2018MNRAS.474L..71B</td><td>Buckley, David A. H.; Andreoni, Igor; Barway, Sudhanshu; Cooke, Jeff; Crawford, Steven M.; Gorbovskoy, Evgeny; Gromadzki, Mariusz; et al.</td><td>A comparison between SALT/SAAO observations and kilonova models for AT 2017gfo: the first electromagnetic counterpart of a gravitational wave</td></tr>\n",
       "<tr><td>10</td><td>2018MNRAS.474L..12C</td><td>Chang, Philip; Murray, Norman</td><td>GW170817: a neutron star merger in a mass-transferring triple system</td></tr>\n",
       "<tr><td>...</td><td>...</td><td>...</td><td>...</td></tr>\n",
       "<tr><td>94</td><td>2017ApJ...848L..22B</td><td>Blanchard, P. K.; Berger, E.; Fong, W.; Nicholl, M.; Leja, J.; Conroy, C.; Alexander, K. D.; Margutti, R.; Williams, P. K. G.; et al.</td><td>The Electromagnetic Counterpart of the Binary Neutron Star Merger LIGO/Virgo GW170817. VII. Properties of the Host Galaxy and Constraints on</td></tr>\n",
       "<tr><td>95</td><td>2017ApJ...848L..21A</td><td>Alexander, K. D.; Berger, E.; Fong, W.; Williams, P. K. G.; Guidorzi, C.; Margutti, R.; Metzger, B. D.; Annis, J.; Blanchard, et al.</td><td>The Electromagnetic Counterpart of the Binary Neutron Star Merger LIGO/Virgo GW170817. VI. Radio Constraints on a Relativistic Jet and</td></tr>\n",
       "<tr><td>96</td><td>2017ApJ...848L..20M</td><td>Margutti, R.; Berger, E.; Fong, W.; Guidorzi, C.; Alexander, K. D.; Metzger, B. D.; Blanchard, P. K.; Cowperthwaite, P. S.; et al.</td><td>The Electromagnetic Counterpart of the Binary Neutron Star Merger LIGO/Virgo GW170817. V. Rising X-Ray Emission from an Off-axis Jet</td></tr>\n",
       "<tr><td>97</td><td>2017ApJ...848L..19C</td><td>Chornock, R.; Berger, E.; Kasen, D.; Cowperthwaite, P. S.; Nicholl, M.; Villar, V. A.; Alexander, K. D.; Blanchard, P. K.; et al.</td><td>The Electromagnetic Counterpart of the Binary Neutron Star Merger LIGO/Virgo GW170817. IV. Detection of Near-infrared Signatures of</td></tr>\n",
       "<tr><td>98</td><td>2017ApJ...848L..18N</td><td>Nicholl, M.; Berger, E.; Kasen, D.; Metzger, B. D.; Elias, J.; Briceno, C.; Alexander, K. D.; Blanchard, P. K.; Chornock, R.; et al.</td><td>The Electromagnetic Counterpart of the Binary Neutron Star Merger LIGO/Virgo GW170817. III. Optical and UV Spectra of a Blue Kilonova from</td></tr>\n",
       "<tr><td>99</td><td>2017ApJ...848L..17C</td><td>Cowperthwaite, P. S.; Berger, E.; Villar, V. A.; Metzger, B. D.; Nicholl, M.; Chornock, R.; Blanchard, P. K.; Fong, W.; Margutti, et al.</td><td>The Electromagnetic Counterpart of the Binary Neutron Star Merger LIGO/Virgo GW170817. II. UV, Optical, and Near-infrared Light Curves and</td></tr>\n",
       "<tr><td>100</td><td>2017ApJ...848L..16S</td><td>Soares-Santos, M.; Holz, D. E.; Annis, J.; Chornock, R.; Herner, K.; Berger, E.; Brout, D.; Chen, H.-Y.; Kessler, R.; Sako, M.; et al.</td><td>The Electromagnetic Counterpart of the Binary Neutron Star Merger LIGO/Virgo GW170817. I. Discovery of the Optical Counterpart Using the</td></tr>\n",
       "<tr><td>101</td><td>2017ApJ...848L..15S</td><td>Savchenko, V.; Ferrigno, C.; Kuulkers, E.; Bazzano, A.; Bozzo, E.; Brandt, S.; Chenevez, J.; Courvoisier, T. J.-L.; Diehl, R.; et al.</td><td>INTEGRAL Detection of the First Prompt Gamma-Ray Signal Coincident with the Gravitational-wave Event GW170817</td></tr>\n",
       "<tr><td>102</td><td>2017ApJ...848L..13A</td><td>Abbott, B. P.; Abbott, R.; Abbott, T. D.; Acernese, F.; Ackley, K.; Adams, C.; Adams, T.; Addesso, P.; Adhikari, R. X.; Adya, V. et al.</td><td>Gravitational Waves and Gamma-Rays from a Binary Neutron Star Merger: GW170817 and GRB 170817A</td></tr>\n",
       "<tr><td>103</td><td>2017ApJ...848L..12A</td><td>Abbott, B. P.; Abbott, R.; Abbott, T. D.; Acernese, F.; Ackley, K.; Adams, C.; Adams, T.; Addesso, P.; Adhikari, R. X.; Adya, V. et al.</td><td>Multi-messenger Observations of a Binary Neutron Star Merger</td></tr>\n",
       "</table>"
      ],
      "text/plain": [
       "<Table masked=True length=103>\n",
       " No.  ...\n",
       "int32 ...\n",
       "----- ...\n",
       "    1 ...\n",
       "    2 ...\n",
       "    3 ...\n",
       "    4 ...\n",
       "    5 ...\n",
       "    6 ...\n",
       "    7 ...\n",
       "    8 ...\n",
       "    9 ...\n",
       "   10 ...\n",
       "  ... ...\n",
       "   94 ...\n",
       "   95 ...\n",
       "   96 ...\n",
       "   97 ...\n",
       "   98 ...\n",
       "   99 ...\n",
       "  100 ...\n",
       "  101 ...\n",
       "  102 ...\n",
       "  103 ..."
      ]
     },
     "execution_count": 98,
     "metadata": {},
     "output_type": "execute_result"
    }
   ],
   "source": [
    "result_table = Ned.get_table(\"NGC 4993\", table='references',from_year='2017')\n",
    "result_table\n"
   ]
  },
  {
   "cell_type": "markdown",
   "metadata": {},
   "source": [
    "### 3. We want to gather multiwavelength data following this event to monitor the evolution of the SED\n",
    "<font color='red'>To Do: Filter dates appropriately, maybe from step above. Maybe also add another step for new observations that aren't published in NED... Problem is that date is not filtering and not sure that this is useful since this is the likely before the GW event.</font>\n"
   ]
  },
  {
   "cell_type": "code",
   "execution_count": 125,
   "metadata": {
    "collapsed": false
   },
   "outputs": [
    {
     "data": {
      "text/plain": [
       "b'2012GASC..C...0000S'"
      ]
     },
     "execution_count": 125,
     "metadata": {},
     "output_type": "execute_result"
    }
   ],
   "source": [
    "result_table = Ned.get_table(\"NGC 4993\", table='photometry')\n",
    "refcode=result_table['Refcode']"
   ]
  },
  {
   "cell_type": "code",
   "execution_count": 126,
   "metadata": {
    "collapsed": true
   },
   "outputs": [],
   "source": [
    "import sys\n",
    "sys.path.append('workshop-dev-master')\n",
    "from navo_utils.registry import Registry\n",
    "reg = Registry.query(service_type='cone')"
   ]
  },
  {
   "cell_type": "markdown",
   "metadata": {},
   "source": [
    "Find all the available registry tables where cone search is allowed. Then query each service in a loop to get the multiwavelength catalog photometry ... "
   ]
  },
  {
   "cell_type": "code",
   "execution_count": 127,
   "metadata": {
    "collapsed": false
   },
   "outputs": [
    {
     "data": {
      "text/html": [
       "&lt;Table masked=True length=21047&gt;\n",
       "<table id=\"table4579346248\" class=\"table-striped table-bordered table-condensed\">\n",
       "<thead><tr><th>waveband</th><th>short_name</th><th>ivoid</th><th>res_description</th><th>access_url</th><th>reference_url</th><th>publisher</th><th>service_type</th></tr></thead>\n",
       "<thead><tr><th>str56</th><th>str17</th><th>str62</th><th>str7488</th><th>str123</th><th>str103</th><th>str93</th><th>str10</th></tr></thead>\n",
       "<tr><td>radio#millimeter#infrared#optical#uv#euv#x-ray#gamma-ray</td><td>ADS</td><td>ivo://ads.harvard.edu/cone</td><td>The Astrophysics Data System (ADS) provides access to the astronomical literature. It is funded by NASA and hosted at the Harvard- Smithsonian Center for Astrophysics. It consists of two main parts. The abstract service allows you to search the tables of contents and abstracts of essentially the whole astronomical literature. The article service contains the scanned full articles of a large part of the astronomical literature. Access to the ADS is free to anybody world-wide.</td><td>http://adsabs.harvard.edu/cgi-bin/abs_connect?data_type=VOTABLE&amp;amp;</td><td>http://ads.harvard.edu</td><td>NASA Astrophysics Data System</td><td>conesearch</td></tr>\n",
       "<tr><td></td><td>rave cone search</td><td>ivo://aip.gavo.org/ravedr4/q/cone</td><td>This service gives access to the 4th data release of RAVE (RAdial Velocity Experiment). It contains radial velocities of stars, stellar atmospheric parameters, some abundances and distances.</td><td>http://gavo.aip.de/ravedr4/q/cone/scs.xml?</td><td>http://gavo.aip.de/ravedr4/q/cone/info</td><td>GAVO at Leibniz-Institute for Astrophysics Potsdam</td><td>conesearch</td></tr>\n",
       "<tr><td></td><td>NOVA VVVSurvey BM</td><td>ivo://ar.nova/vvvsurvey/q/scs</td><td>Band merged JHKs catalogue for first epoch data from CASU v1.3. VVV DR1, corrected for header errors (Mike Irwin, Private Communication). Release of the Milky Way bulge and southern plane from the near-infrared ESO public survey VISTA variables in the Vía Láctea.</td><td>http://nova.iafe.uba.ar/vvvsurvey/q/scs/scs.xml?</td><td>http://nova.iafe.uba.ar/vvvsurvey/q/scs/info</td><td>Nova</td><td>conesearch</td></tr>\n",
       "<tr><td></td><td>3XMMe-CONESEARCH</td><td>ivo://arches/3xmme/cs</td><td>The enhanced 3XMM catalogue (designated 3XMMe) is one of the core elements of the Arches project, representing the X-ray source basis for the cross-correlations with other multi-wavelength catalogues. The 3XMMe catalogue is a derivative of the latest increment of the 3XMM catalogue, i.e. 3XMM-DR5, that was publicly released in April 2015 (Rosen et al., 2015 (submitted to A&amp;amp;A)), tailored for the purposes of the Arches project. The 3XMM-DR5 catalogue, available from the XMM-Newton Science Archive, the XMM-Newton Survey Science Centre (SSC) and other sites listed on the SSC site, contains 565962 detections arising from 396910 unique sources drawn from 7781 XMM observations. These numbers include detections from 356 sub-pointings made in mosaic</td><td>http://xcatdb.unistra.fr/3xmmdr5/archesindex.html</td><td>http://www.arches-fp7.eu/</td><td>ARCHES - Astronomical Resource Cross-matching for High Energy Studies</td><td>conesearch</td></tr>\n",
       "<tr><td></td><td>3XMMe-CONESEARCH</td><td>ivo://arches/3xmme/cs</td><td>The enhanced 3XMM catalogue (designated 3XMMe) is one of the core elements of the Arches project, representing the X-ray source basis for the cross-correlations with other multi-wavelength catalogues. The 3XMMe catalogue is a derivative of the latest increment of the 3XMM catalogue, i.e. 3XMM-DR5, that was publicly released in April 2015 (Rosen et al., 2015 (submitted to A&amp;amp;A)), tailored for the purposes of the Arches project. The 3XMM-DR5 catalogue, available from the XMM-Newton Science Archive, the XMM-Newton Survey Science Centre (SSC) and other sites listed on the SSC site, contains 565962 detections arising from 396910 unique sources drawn from 7781 XMM observations. These numbers include detections from 356 sub-pointings made in mosaic</td><td>http://xcatdb.unistra.fr/3xmmdr5/conesearch?collection=[Enhanced]&amp;amp;</td><td>http://www.arches-fp7.eu/</td><td>ARCHES - Astronomical Resource Cross-matching for High Energy Studies</td><td>conesearch</td></tr>\n",
       "<tr><td></td><td>Arches-Xmatch</td><td>ivo://arches/xmatch/cs</td><td>Each of the archival catalogues used for the crossmatch is referenced by single letter: 3XMM: x, Galex: g, UCAC:u CMC: c, SDSS: s, UKIDSS LAS: l, KIDS GPS: k ALLWISE; w AKARI: a and FIRST_NVSS_COMBO: r</td><td>http://xcatdb.unistra.fr/3xmmdr5/archesindex.html</td><td>http://www.arches-fp7.eu/</td><td>ARCHES - Astronomical Resource Cross-matching for High Energy Studies</td><td>conesearch</td></tr>\n",
       "<tr><td></td><td>Arches-Xmatch</td><td>ivo://arches/xmatch/cs</td><td>Each of the archival catalogues used for the crossmatch is referenced by single letter: 3XMM: x, Galex: g, UCAC:u CMC: c, SDSS: s, UKIDSS LAS: l, KIDS GPS: k ALLWISE; w AKARI: a and FIRST_NVSS_COMBO: r</td><td>http://xcatdb.unistra.fr/3xmmdr5/conesearch?collection=[ArchesProba]&amp;amp;</td><td>http://www.arches-fp7.eu/</td><td>ARCHES - Astronomical Resource Cross-matching for High Energy Studies</td><td>conesearch</td></tr>\n",
       "<tr><td>uv</td><td>BEFS</td><td>ivo://archive.stsci.edu/befs</td><td>The Berkeley Extreme and Far-UV Spectrometer (BEFS), flew on the Orbiting and Retrievable Far and Extreme Ultraviolet Spectrograph (ORFEUS)-SPAS I and II space shuttle missions in 1993 and 1996, returning high-resolution (/3000) FUV spectra (900-1200 Å) of 75 astrophysical objects from the first flight and more than 100 from the second. EUV spectra (400-900 Å) were obtained for a subset of these targets.</td><td>http://archive.stsci.edu/befs/search.php?</td><td>http://archive.stsci.edu/befs/</td><td>Space Telescope Science Institute Archive</td><td>conesearch</td></tr>\n",
       "<tr><td>optical</td><td>2MASS CS</td><td>ivo://archive.stsci.edu/catalogs/2mass</td><td>All MAST catalog holdings are available via a ConeSearch endpoint. The Two Micron All Sky Survey (2MASS) catalog holdings at MAST are available with this access url. All available missions are listed at http://archive.stsci.edu/vo/mast_services.html.</td><td>http://gsss.stsci.edu/webservices/vo/ConeSearch.aspx?CAT=2MASS&amp;amp;</td><td>http://archive.stsci.edu/vo/mast_services.html</td><td>Space Telescope Science Institute Archive</td><td>conesearch</td></tr>\n",
       "<tr><td>optical#infrared</td><td>APASS CS</td><td>ivo://archive.stsci.edu/catalogs/apass</td><td>All MAST catalog holdings are available via Cone Search endpoints. This service provides access to the MAST mirror of the AAVSO Photometric All Sky Survey All available missions are listed at http://archive.stsci.edu/vo/mast_services.html.</td><td>http://gsss.stsci.edu/webservices/vo/ConeSearch.aspx?CAT=apass&amp;amp;</td><td>http://archive.stsci.edu/vo/mast_services.html</td><td>Space Telescope Science Institute Archive</td><td>conesearch</td></tr>\n",
       "<tr><td>...</td><td>...</td><td>...</td><td>...</td><td>...</td><td>...</td><td>...</td><td>...</td></tr>\n",
       "<tr><td></td><td>XCATDB</td><td>ivo://xcatdb/2xmmidr3/cs</td><td>The 2XMMi-DR3 catalogue is the fifth publicly released XMM X-ray source catalogue produced by the XMM Survey Science Centre (SSC) consortium on behalf of ESA. It follows the 1XMM (released in April 2003), 2XMMp (July 2006), 2XMM (August 2007) and 2XMMi (August 2008) catalogues: 2XMMp was a preliminary version of 2XMM. 2XMMi and 2XMMi-DR3 are incremental versions of the 2XMM catalogue. With this increment catalogue, for the first time, as part of the catalogue naming convention we introduce the concept of a data release (DR) as a means of distinguishing between increments. This is being applied only to the 2XMM generation of catalogues. In this scheme (see following table), 2XMM is considered as DR1, 2XMMi as DR2 and the present catalogue as DR3.</td><td>http://xcatdb.u-strasbg.fr/2xmmidr3</td><td>http://xmmssc-www.star.le.ac.uk/Catalogue/xcat_public.html</td><td>Observatory of Strasbourg, SSC Team</td><td>conesearch</td></tr>\n",
       "<tr><td></td><td>XCATDB</td><td>ivo://xcatdb/2xmmidr3/cs</td><td>The 2XMMi-DR3 catalogue is the fifth publicly released XMM X-ray source catalogue produced by the XMM Survey Science Centre (SSC) consortium on behalf of ESA. It follows the 1XMM (released in April 2003), 2XMMp (July 2006), 2XMM (August 2007) and 2XMMi (August 2008) catalogues: 2XMMp was a preliminary version of 2XMM. 2XMMi and 2XMMi-DR3 are incremental versions of the 2XMM catalogue. With this increment catalogue, for the first time, as part of the catalogue naming convention we introduce the concept of a data release (DR) as a means of distinguishing between increments. This is being applied only to the 2XMM generation of catalogues. In this scheme (see following table), 2XMM is considered as DR1, 2XMMi as DR2 and the present catalogue as DR3.</td><td>http://xcatdb.u-strasbg.fr/2xmmidr3/conesearch?collection=[CATALOGUE(CatalogueEntry)]&amp;amp;</td><td>http://xmmssc-www.star.le.ac.uk/Catalogue/xcat_public.html</td><td>Observatory of Strasbourg, SSC Team</td><td>conesearch</td></tr>\n",
       "<tr><td></td><td>XCATDBDR3-corr</td><td>ivo://xcatdb/2xmmidr3/cs/withcorr</td><td>The 2XMMi-DR3 catalogue is the fifth publicly released XMM X-ray source catalogue produced by the XMM Survey Science Centre (SSC) consortium on behalf of ESA. It follows the 1XMM (released in April 2003), 2XMMp (July 2006), 2XMM (August 2007) and 2XMMi (August 2008) catalogues: 2XMMp was a preliminary version of 2XMM. 2XMMi and 2XMMi-DR3 are incremental versions of the 2XMM catalogue. With this increment catalogue, for the first time, as part of the catalogue naming convention we introduce the concept of a data release (DR) as a means of distinguishing between increments. This is being applied only to the 2XMM generation of catalogues. In this scheme (see following table), 2XMM is considered as DR1, 2XMMi as DR2 and the present catalogue as DR3.</td><td>http://xcatdb.u-strasbg.fr/2xmmidr3</td><td>http://xmmssc-www.star.le.ac.uk/Catalogue/xcat_public.html</td><td>Observatory of Strasbourg, SSC Team</td><td>conesearch</td></tr>\n",
       "<tr><td></td><td>XCATDBDR3-corr</td><td>ivo://xcatdb/2xmmidr3/cs/withcorr</td><td>The 2XMMi-DR3 catalogue is the fifth publicly released XMM X-ray source catalogue produced by the XMM Survey Science Centre (SSC) consortium on behalf of ESA. It follows the 1XMM (released in April 2003), 2XMMp (July 2006), 2XMM (August 2007) and 2XMMi (August 2008) catalogues: 2XMMp was a preliminary version of 2XMM. 2XMMi and 2XMMi-DR3 are incremental versions of the 2XMM catalogue. With this increment catalogue, for the first time, as part of the catalogue naming convention we introduce the concept of a data release (DR) as a means of distinguishing between increments. This is being applied only to the 2XMM generation of catalogues. In this scheme (see following table), 2XMM is considered as DR1, 2XMMi as DR2 and the present catalogue as DR3.</td><td>http://xcatdb.u-strasbg.fr/2xmmidr3/conesearch?collection=[CATALOGUE(CatalogueEntry)]&amp;amp;withrel=true&amp;amp;</td><td>http://xmmssc-www.star.le.ac.uk/Catalogue/xcat_public.html</td><td>Observatory of Strasbourg, SSC Team</td><td>conesearch</td></tr>\n",
       "<tr><td></td><td>3XMM-CONESEARCH</td><td>ivo://xcatdb/3xmm/cs</td><td>The catalogue provides an effective dataset for generating large, well-defined samples of various types of astrophysical object, notably active galaxies (AGN), clusters of galaxies, interacting compact binaries and active stellar coronae, using the power of X-ray selection. The large sky area covered by the serendipitous survey also means that 3XMM-DR4 is a rich resource for exploring the variety of the X-ray source populations and identifying rare source types. The catalogue contains source detections drawn from 7427 XMM-Newton EPIC observations made between 2000 February 3 and 2012 December 8; all datasets were publicly available by 2012 December 31 but not all public observations are included in this catalogue. The catalogue contains 531261 X-ray detections which relate to 372728 unique X-ray sources (covering an energy interval from 0.2 keV to 12 keV). About a third of the observations have features that may cause spurious detections (mainly the wings of bright sources and large extended emission), and it is strongly recommended to use a filter (either per source, based on the summary flag column, or per observation, based on the observation class column). The following table gives an overview of the statistics of the catalogue in comparison with the 2XMMi-DR3 catalogue.</td><td>http://xcatdb.u-strasbg.fr/3xmm</td><td>http://xmmssc-www.star.le.ac.uk/Catalogue/xcat_public_3XMM-DR4.html</td><td>Observatory of Strasbourg, SSC Team</td><td>conesearch</td></tr>\n",
       "<tr><td></td><td>3XMM-CONESEARCH</td><td>ivo://xcatdb/3xmm/cs</td><td>The catalogue provides an effective dataset for generating large, well-defined samples of various types of astrophysical object, notably active galaxies (AGN), clusters of galaxies, interacting compact binaries and active stellar coronae, using the power of X-ray selection. The large sky area covered by the serendipitous survey also means that 3XMM-DR4 is a rich resource for exploring the variety of the X-ray source populations and identifying rare source types. The catalogue contains source detections drawn from 7427 XMM-Newton EPIC observations made between 2000 February 3 and 2012 December 8; all datasets were publicly available by 2012 December 31 but not all public observations are included in this catalogue. The catalogue contains 531261 X-ray detections which relate to 372728 unique X-ray sources (covering an energy interval from 0.2 keV to 12 keV). About a third of the observations have features that may cause spurious detections (mainly the wings of bright sources and large extended emission), and it is strongly recommended to use a filter (either per source, based on the summary flag column, or per observation, based on the observation class column). The following table gives an overview of the statistics of the catalogue in comparison with the 2XMMi-DR3 catalogue.</td><td>http://xcatdb.u-strasbg.fr/3xmm/conesearch?collection=[CATALOGUE(CatalogueEntry)]&amp;amp;</td><td>http://xmmssc-www.star.le.ac.uk/Catalogue/xcat_public_3XMM-DR4.html</td><td>Observatory of Strasbourg, SSC Team</td><td>conesearch</td></tr>\n",
       "<tr><td></td><td>3XMM-DR7-CS</td><td>ivo://xcatdb/3xmmdr7/cs</td><td>The 3XMM-DR7 catalogue contains source detections drawn from 9710 XMM-Newton EPIC observations, covering an energy interval from 0.2 keV to 12 keV. These observations were made between 2000 February 3 and 2016 December 15 and all datasets were publicly available by 2016 December 31, but not all public observations are included in this catalogue This version of the XMM-Newton EPIC Serendipitous Source Catalogue, 3XMM-DR7 includes 596268 clean detections which relate to 499266 unique sources from 9710 observations that were public by the 31st January 2016. 3XMM-DR7 covers a total sky area of ~1032 square degrees if overlaps are taken into account, where some regions of the sky have been pointed as many as 50 times. The median flux in the total photon energy band (0.2 - 12 keV) of the catalogue detections is ~ 1.9 × 10-14 erg cm-2 s-1; in the soft energy band (0.2 - 2 keV) the median flux is ~ 6 × 10-15, and in the hard band (2 - 12 keV) it is ~ 8 × 10-15. About 23% of the sources have total fluxes below 1 × 10-14 erg cm-2 s-1.</td><td>http://xcatdb.u-strasbg.fr/3xmmdr7/conesearch?collection=[CATALOGUE(CatalogueEntry)]&amp;amp;</td><td>http://xmmssc.irap.omp.eu/</td><td>Observatory of Strasbourg, SSC Team</td><td>conesearch</td></tr>\n",
       "<tr><td></td><td>3XMM-DR7-CS</td><td>ivo://xcatdb/3xmmdr7/cs</td><td>The 3XMM-DR7 catalogue contains source detections drawn from 9710 XMM-Newton EPIC observations, covering an energy interval from 0.2 keV to 12 keV. These observations were made between 2000 February 3 and 2016 December 15 and all datasets were publicly available by 2016 December 31, but not all public observations are included in this catalogue This version of the XMM-Newton EPIC Serendipitous Source Catalogue, 3XMM-DR7 includes 596268 clean detections which relate to 499266 unique sources from 9710 observations that were public by the 31st January 2016. 3XMM-DR7 covers a total sky area of ~1032 square degrees if overlaps are taken into account, where some regions of the sky have been pointed as many as 50 times. The median flux in the total photon energy band (0.2 - 12 keV) of the catalogue detections is ~ 1.9 × 10-14 erg cm-2 s-1; in the soft energy band (0.2 - 2 keV) the median flux is ~ 6 × 10-15, and in the hard band (2 - 12 keV) it is ~ 8 × 10-15. About 23% of the sources have total fluxes below 1 × 10-14 erg cm-2 s-1.</td><td>http://xcatdb.u-strasbg.fr/3xmmdr7</td><td>http://xmmssc.irap.omp.eu/</td><td>Observatory of Strasbourg, SSC Team</td><td>conesearch</td></tr>\n",
       "<tr><td></td><td>XIDResult</td><td>ivo://xcatdb/xidresult/cs</td><td>The SSC&apos;s XID programme is a follow-up and identification project designed to ensure that the potential of the XMM-Newton serendipitous survey can be exploited by the community in the context of a wide range of scientific programmes. Its main elements are a number of complementary sub-programmes designed to obtain the identifications for well-defined samples of X-ray sources drawn from selected XMM-Newton fields using optical/IR spectroscopy. The programme is also supported by a substantial imaging programme, needed for the selection of the spectroscopic targets, but which is also an important resource in its own right given the large sky area and hence X-ray source sample it covers. One of the principal objectives of the programme is to obtain completely identified samples which can be used to characterise the overall XMM-Newton source population sufficiently well that the basic X-ray and optical parameters can be used to assign a statistical identification for a large fraction of all the sources in the XMM-Newton serendipitous source catalogue. The XID programme started in mid-2000. Most of the programme is now complete. The XIDResult Database collects together the main results from the XID programme in a uniform way, providing access to the individual source identifications and the key optical and X-ray data for each object. Currently in the XIDResult Database contains 3 key XID programme subsamples, the XBS (XID bright flux sample), the XMS (XID medium flux sample) and the GPS (Galactic source sample), all of which have been published or are in press. The main references for each of these subsamples are as follows: * XBS: Caccianiga et al. 2008, A&amp;amp;A 477, 735 (400 sources, 238 spectra) * XMS: Barcons et al. 2007, A&amp;amp;A 476, 1191 (319 sources, 280 spectra) * GPS: Motch et al. 2010, A&amp;amp;A in press (43 sources, 27 spectra)</td><td>http://xcatdb.u-strasbg.fr/xidresult/home</td><td>http://xmmssc-www.star.le.ac.uk/XID/</td><td>Observatory of Strasbourg, SSC Team</td><td>conesearch</td></tr>\n",
       "<tr><td></td><td>XIDResult</td><td>ivo://xcatdb/xidresult/cs</td><td>The SSC&apos;s XID programme is a follow-up and identification project designed to ensure that the potential of the XMM-Newton serendipitous survey can be exploited by the community in the context of a wide range of scientific programmes. Its main elements are a number of complementary sub-programmes designed to obtain the identifications for well-defined samples of X-ray sources drawn from selected XMM-Newton fields using optical/IR spectroscopy. The programme is also supported by a substantial imaging programme, needed for the selection of the spectroscopic targets, but which is also an important resource in its own right given the large sky area and hence X-ray source sample it covers. One of the principal objectives of the programme is to obtain completely identified samples which can be used to characterise the overall XMM-Newton source population sufficiently well that the basic X-ray and optical parameters can be used to assign a statistical identification for a large fraction of all the sources in the XMM-Newton serendipitous source catalogue. The XID programme started in mid-2000. Most of the programme is now complete. The XIDResult Database collects together the main results from the XID programme in a uniform way, providing access to the individual source identifications and the key optical and X-ray data for each object. Currently in the XIDResult Database contains 3 key XID programme subsamples, the XBS (XID bright flux sample), the XMS (XID medium flux sample) and the GPS (Galactic source sample), all of which have been published or are in press. The main references for each of these subsamples are as follows: * XBS: Caccianiga et al. 2008, A&amp;amp;A 477, 735 (400 sources, 238 spectra) * XMS: Barcons et al. 2007, A&amp;amp;A 476, 1191 (319 sources, 280 spectra) * GPS: Motch et al. 2010, A&amp;amp;A in press (43 sources, 27 spectra)</td><td>http://xcatdb.u-strasbg.fr/xidresult/conesearch?collection=[SpectroscopicSample]&amp;amp;</td><td>http://xmmssc-www.star.le.ac.uk/XID/</td><td>Observatory of Strasbourg, SSC Team</td><td>conesearch</td></tr>\n",
       "</table>"
      ],
      "text/plain": [
       "<Table masked=True length=21047>\n",
       "                        waveband                         ... service_type\n",
       "                         str56                           ...    str10    \n",
       "-------------------------------------------------------- ... ------------\n",
       "radio#millimeter#infrared#optical#uv#euv#x-ray#gamma-ray ...   conesearch\n",
       "                                                         ...   conesearch\n",
       "                                                         ...   conesearch\n",
       "                                                         ...   conesearch\n",
       "                                                         ...   conesearch\n",
       "                                                         ...   conesearch\n",
       "                                                         ...   conesearch\n",
       "                                                      uv ...   conesearch\n",
       "                                                 optical ...   conesearch\n",
       "                                        optical#infrared ...   conesearch\n",
       "                                                     ... ...          ...\n",
       "                                                         ...   conesearch\n",
       "                                                         ...   conesearch\n",
       "                                                         ...   conesearch\n",
       "                                                         ...   conesearch\n",
       "                                                         ...   conesearch\n",
       "                                                         ...   conesearch\n",
       "                                                         ...   conesearch\n",
       "                                                         ...   conesearch\n",
       "                                                         ...   conesearch\n",
       "                                                         ...   conesearch"
      ]
     },
     "execution_count": 127,
     "metadata": {},
     "output_type": "execute_result"
    }
   ],
   "source": [
    "reg"
   ]
  },
  {
   "cell_type": "code",
   "execution_count": null,
   "metadata": {
    "collapsed": true
   },
   "outputs": [],
   "source": []
  }
 ],
 "metadata": {
  "anaconda-cloud": {},
  "kernelspec": {
   "display_name": "Python 3",
   "language": "python",
   "name": "python3"
  },
  "language_info": {
   "codemirror_mode": {
    "name": "ipython",
    "version": 3
   },
   "file_extension": ".py",
   "mimetype": "text/x-python",
   "name": "python",
   "nbconvert_exporter": "python",
   "pygments_lexer": "ipython3",
   "version": "3.6.4"
  }
 },
 "nbformat": 4,
 "nbformat_minor": 2
}
