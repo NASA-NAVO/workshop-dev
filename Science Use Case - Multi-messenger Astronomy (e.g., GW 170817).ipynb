{
 "cells": [
  {
   "cell_type": "markdown",
   "metadata": {},
   "source": [
    "# Multi-messenger Astronomy\n",
    "## Gathering data on Gravitational Wave Event: GW 170817"
   ]
  },
  {
   "cell_type": "markdown",
   "metadata": {},
   "source": [
    "The Story: \n",
    "\n",
    "In the exciting GW 170817 event, the support of multi-wavelength data was crucial in identifing the event and discovering the unique nature of this gravitational wave detection. You can read more about the discovery and GW 170817 event here: https://en.wikipedia.org/wiki/GW170817. The gravitational waves originated from the merger of two neutron stars, giving rise to a gamma ray burst, detected by the Fermi Gamma Ray Space Telescope 1.74 seconds following the NS-NS merger. In addition, radio to X-ray emission follow-up observations yielded interesting results across the electromagnetic spectrum as the source brightened and faded. \n",
    "\n",
    "In this notebook, we will gather the multiwavelength data, including ... <font color='red'>ADD STUFF HERE </font>\n"
   ]
  },
  {
   "cell_type": "markdown",
   "metadata": {},
   "source": [
    "### 1. The first step is to localize and gather basic information about the source\n",
    "\n",
    "The position of GW 170817 was localized to a region with area of ~28 square degrees. However ~1.7 seconds after the GW event, Fermi detected a GRB at this location: RA=13:09:48.08, Dec = −23:22:53.3. This narrowed the search radius to a few tens of degrees, which is still quite large, of course. Several optical transient teams began searching, and the Swope SuperNova Survey detected a source in NGC 4993, designated SSS17a. \n",
    "\n",
    "A NED search around this position might offer some more information about the source. Try a cone search at the position given above, with 30 arcsec search radius. Hint: Use astroquery.ned\n"
   ]
  },
  {
   "cell_type": "code",
   "execution_count": null,
   "metadata": {},
   "outputs": [],
   "source": [
    "from astroquery.ned import Ned\n",
    "import astropy.units as u\n",
    "sr= 30./3600. * u.deg # search radius is 1 arcmin\n",
    "result_table = Ned.query_region(\"NGC 4993\", radius=sr)\n",
    "#print(result_table) # an astropy.table.Table\n",
    "result_table"
   ]
  },
  {
   "cell_type": "markdown",
   "metadata": {},
   "source": [
    "### 2. Gather all the papers written about the source, since the GW event\n",
    "Hint: Use get_table function within the astroquery.ned package."
   ]
  },
  {
   "cell_type": "code",
   "execution_count": null,
   "metadata": {},
   "outputs": [],
   "source": [
    "result_table = Ned.get_table(\"NGC 4993\", table='references',from_year='2017')\n",
    "result_table\n"
   ]
  },
  {
   "cell_type": "markdown",
   "metadata": {},
   "source": [
    "### 3. We want to gather multiwavelength data following this event to monitor the evolution of the SED\n",
    "<font color='red'>To Do: Filter dates appropriately, maybe from step above. Maybe also add another step for new observations that aren't published in NED... Problem is that date is not filtering and not sure that this is useful since this is the likely before the GW event.</font>\n"
   ]
  },
  {
   "cell_type": "code",
   "execution_count": null,
   "metadata": {},
   "outputs": [],
   "source": [
    "result_table = Ned.get_table(\"NGC 4993\", table='photometry')\n",
    "refcode=result_table['Refcode']"
   ]
  },
  {
   "cell_type": "code",
   "execution_count": null,
   "metadata": {},
   "outputs": [],
   "source": [
    "import sys\n",
    "sys.path.append('workshop-dev-master')\n",
    "from navo_utils.registry import Registry\n",
    "reg = Registry.query(service_type='cone')"
   ]
  },
  {
   "cell_type": "markdown",
   "metadata": {},
   "source": [
    "Find all the available registry tables where cone search is allowed. Then query each service in a loop to get the multiwavelength catalog photometry ... "
   ]
  },
  {
   "cell_type": "code",
   "execution_count": null,
   "metadata": {},
   "outputs": [],
   "source": [
    "reg"
   ]
  },
  {
   "cell_type": "code",
   "execution_count": null,
   "metadata": {},
   "outputs": [],
   "source": []
  }
 ],
 "metadata": {
  "anaconda-cloud": {},
  "kernelspec": {
   "display_name": "Python 3",
   "language": "python",
   "name": "python3"
  },
  "language_info": {
   "codemirror_mode": {
    "name": "ipython",
    "version": 3
   },
   "file_extension": ".py",
   "mimetype": "text/x-python",
   "name": "python",
   "nbconvert_exporter": "python",
   "pygments_lexer": "ipython3",
   "version": "3.6.4"
  }
 },
 "nbformat": 4,
 "nbformat_minor": 2
}
