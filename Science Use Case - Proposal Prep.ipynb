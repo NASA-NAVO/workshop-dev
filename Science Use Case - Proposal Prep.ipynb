{
 "cells": [
  {
   "cell_type": "markdown",
   "metadata": {},
   "source": [
    "# Preparing a proposal\n",
    "\n",
    "The Story: Suppose that you are preparing to write a proposal on NGC1365, aiming to investigate the intriguing black hole spin this galaxy with Chandra grating observations (see: https://www.space.com/19980-monster-black-hole-spin-discovery.html ) \n",
    "\n",
    "In writing proposals, there are often the same tasks that are required: including finding and analyzing previous observations of the proposal, and creating figures that include, e.g., multiwavelength images and spectrum for the source. \n"
   ]
  },
  {
   "cell_type": "code",
   "execution_count": null,
   "metadata": {},
   "outputs": [],
   "source": [
    "# As a hint, we include the code block for Python modules that you will likely need to import:   \n",
    "import matplotlib\n",
    "import matplotlib.pyplot as plt\n",
    "import numpy as np\n",
    "%matplotlib inline  \n",
    "import requests, io\n",
    "from astropy.table import Table\n",
    "\n",
    "## Use NAVO utility for Registry, cone searches and making images and spectra\n",
    "import sys\n",
    "from navo_utils.registry import Registry\n",
    "from navo_utils.image import Image, ImageColumn\n",
    "from navo_utils.spectra import Spectra, SpectraColumn\n",
    "from navo_utils.tap import Tap\n",
    "\n",
    "\n",
    "## There are a number of relatively unimportant warnings that \n",
    "## show up, so for now, suppress them:\n",
    "import warnings\n",
    "warnings.filterwarnings(\"ignore\")\n"
   ]
  },
  {
   "cell_type": "markdown",
   "metadata": {},
   "source": [
    "### Step 1: Find out what the previously quoted Chandra 2-10 keV flux of the central source is for NGC 1365.  \n",
    "\n",
    "Hint: Do a table access protocol (TAP) search in the heasarc, to find potential table with this information"
   ]
  },
  {
   "cell_type": "code",
   "execution_count": null,
   "metadata": {},
   "outputs": [],
   "source": [
    "tap_services=Registry.query(service_type='table',source='heasarc')\n",
    "url=str(tap_services[0]['access_url'])\n",
    "# Since there are lots of tables in the HEASARC service, we will narrow the search of Chandra tables by setting contains=\"chan\"\n",
    "Tap.list_tables(url, contains=\"chan\")"
   ]
  },
  {
   "cell_type": "markdown",
   "metadata": {},
   "source": [
    "Hint: The Chansngcat ( https://heasarc.gsfc.nasa.gov/W3Browse/chandra/chansngcat.html ) table is likely the best table.  Create a table with ra, dec, exposure time, and flux (and flux errors) from the public.chansngcat catalog for Chandra observations matched within 0.1 degree."
   ]
  },
  {
   "cell_type": "code",
   "execution_count": null,
   "metadata": {},
   "outputs": [],
   "source": [
    "# list the columns from the query above\n",
    "Tap.list_columns(url,tablename=\"public.chansngcat\")"
   ]
  },
  {
   "cell_type": "code",
   "execution_count": null,
   "metadata": {},
   "outputs": [],
   "source": [
    "# Get the coordinate for NGC 1365\n",
    "import astropy.coordinates as coord\n",
    "pos=coord.SkyCoord.from_name(\"ngc1365\")"
   ]
  },
  {
   "cell_type": "code",
   "execution_count": null,
   "metadata": {},
   "outputs": [],
   "source": [
    "# Show the results from your table query for NGC 1365 and print the ra, dec, exposure time, flux, and flux errors\n",
    "query=\"\"\"SELECT ra, dec, exposure, flux, flux_lower, flux_upper FROM public.chansngcat as cat \n",
    "    where contains(point('ICRS',cat.ra,cat.dec),circle('ICRS',{},{},0.1))=1 \n",
    "    and cat.exposure > 0 order by cat.exposure\"\"\".format(pos.ra.deg, pos.dec.deg)\n",
    "results=Tap.query(url,query)\n",
    "results"
   ]
  },
  {
   "cell_type": "markdown",
   "metadata": {},
   "source": [
    "\n",
    "### Step 2: Make Images: \n",
    "\n",
    "#### Create ultraviolet and X-ray images\n",
    "Hint: Start by checking what UV image services exist (e.g., GALEX?)"
   ]
  },
  {
   "cell_type": "code",
   "execution_count": null,
   "metadata": {},
   "outputs": [],
   "source": [
    "uv_tables=Registry.query(service_type='image',keyword='galex', waveband='uv')\n",
    "im_gal = uv_tables[np.isin(uv_tables['short_name'], \n",
    "                                    ['GALEX'])]\n",
    "im_gal['short_name', 'access_url']"
   ]
  },
  {
   "cell_type": "markdown",
   "metadata": {},
   "source": [
    "Hint: Next create a UV image for the source "
   ]
  },
  {
   "cell_type": "code",
   "execution_count": null,
   "metadata": {},
   "outputs": [],
   "source": [
    "# Do an image search for NGC 1365 in the UV service found above\n",
    "\n",
    "im_table=Image.query(uv_tables[0],coords=pos,radius=0.1)\n",
    "im_table[0]"
   ]
  },
  {
   "cell_type": "code",
   "execution_count": null,
   "metadata": {},
   "outputs": [],
   "source": [
    "# Get the FITS file (which is index 0 for the NUV image or index=2 for the FUV image)\n",
    "hdu_list=Image.get_fits(im_table[0][0])\n",
    "# make an image: \n",
    "from pylab import figure, cm\n",
    "from matplotlib.colors import LogNorm\n",
    "plt.matshow(hdu_list[0].data, origin='lower', cmap=cm.gray_r, norm=LogNorm(vmin=0.005, vmax=0.3))"
   ]
  },
  {
   "cell_type": "markdown",
   "metadata": {},
   "source": [
    "Hint: Repeat steps for X-ray image. (Note: Ideally, we would find an image in the Chandra 'cxc' catalog) "
   ]
  },
  {
   "cell_type": "code",
   "execution_count": null,
   "metadata": {},
   "outputs": [],
   "source": [
    "x_tables=Registry.query(service_type='image',waveband='x-ray', source='cxc')\n",
    "x_tables"
   ]
  },
  {
   "cell_type": "code",
   "execution_count": null,
   "metadata": {},
   "outputs": [],
   "source": [
    "# Do an image search for NGC 1365 in the X-ray CDA service found above\n",
    "xim_table=Image.query(x_tables[0],coords=pos,radius=0.1)\n",
    "xim_table[0]"
   ]
  },
  {
   "cell_type": "code",
   "execution_count": null,
   "metadata": {},
   "outputs": [],
   "source": [
    "# Create an image from the first FITS file (index=1) by downloading:\n",
    "xhdu_list=Image.get_fits(xim_table[0][1])\n",
    "\n",
    "plt.imshow(xhdu_list[0].data, origin='lower', cmap='cool', norm=LogNorm(vmin=0.1, vmax=500.))\n",
    "plt.xlim(460, 560)\n",
    "plt.ylim(460, 560)"
   ]
  },
  {
   "cell_type": "markdown",
   "metadata": {},
   "source": [
    "\n",
    "### Step 3: Make a spectrum: \n",
    "\n",
    "#### Find what Chandra spectral observations exist already for this source. \n",
    "Hint: try searching for X-ray spectral data tables using the registry query"
   ]
  },
  {
   "cell_type": "code",
   "execution_count": null,
   "metadata": {},
   "outputs": [],
   "source": [
    "# Use the TAP protocol to list services that contain X-ray spectral data\n",
    "services=Registry.query(service_type='spectr',waveband='x-ray')\n",
    "services"
   ]
  },
  {
   "cell_type": "code",
   "execution_count": null,
   "metadata": {},
   "outputs": [],
   "source": [
    "# We want this last listed service and we can identify this by specifying the short_name\n",
    "chan_tables = services[np.isin(services['short_name'],['Chandra'])]\n",
    "chan_tables['short_name', 'access_url']"
   ]
  },
  {
   "cell_type": "markdown",
   "metadata": {},
   "source": [
    "Hint 2: Take a look at what data exist for our candidate, NGC 1365."
   ]
  },
  {
   "cell_type": "code",
   "execution_count": null,
   "metadata": {},
   "outputs": [],
   "source": [
    "from astropy.coordinates import SkyCoord\n",
    "target=SkyCoord.from_name(\"NGC1365\")\n",
    "pos='{},{}'.format(target.ra.deg,target.dec.deg)\n",
    "\n",
    "spec_tables=Spectra.query(service=chan_tables[0],coords=pos,radius=0.1,verbose=True)\n",
    "\n",
    "spec_tables[0]['time'].format='.4f'\n",
    "spec_tables[0].show_in_notebook()\n",
    "\n"
   ]
  },
  {
   "cell_type": "markdown",
   "metadata": {},
   "source": [
    "Hint 3: Download the data to make a spectrum. Note: you might end here and use Xspec to plot and model the spectrum. Or ... you can also try to take a quick look at the spectrum. "
   ]
  },
  {
   "cell_type": "code",
   "execution_count": null,
   "metadata": {},
   "outputs": [],
   "source": [
    "hdu_list=Spectra.get_fits(spec_tables[0][1])\n",
    "# Or write it to disk\n",
    "Spectra.get_fits(spec_tables[0][1],filename='downloads/ngc1365_spectrum.fits')"
   ]
  },
  {
   "cell_type": "code",
   "execution_count": null,
   "metadata": {},
   "outputs": [],
   "source": [
    "spec_table=Table(hdu_list[1].data)\n",
    "spec_table"
   ]
  },
  {
   "cell_type": "markdown",
   "metadata": {},
   "source": [
    "Extension: Making a \"quick look\" spectrum. For our purposes, the 1st order of the HEG grating data would be sufficient."
   ]
  },
  {
   "cell_type": "code",
   "execution_count": null,
   "metadata": {},
   "outputs": [],
   "source": [
    "j=1\n",
    "for i in range(len(spec_table)):\n",
    "    matplotlib.rcParams['figure.figsize'] = (8, 3)\n",
    "    if abs(spec_table['TG_M'][i]) == 1 and (spec_table['TG_PART'][i]) == 1:\n",
    "        ax=plt.subplot(1,2,j)\n",
    "        pha = plt.plot( spec_table['CHANNEL'][i],spec_table['COUNTS'][i])\n",
    "        ax.set_yscale('log')\n",
    "        if spec_table['TG_PART'][i] == 1:\n",
    "            instr='HEG'\n",
    "        ax.set_title(\"{grating}{order:+d}\".format(grating=instr, order=spec_table['TG_M'][i]))\n",
    "        plt.tight_layout()\n",
    "        j=j+1\n"
   ]
  },
  {
   "cell_type": "markdown",
   "metadata": {},
   "source": [
    "This can then be analyzed in your favorite spectral analysis tool, e.g., [pyXspec](https://heasarc.gsfc.nasa.gov/xanadu/xspec/python/html/index.html).  (For the winter 2018 AAS workshop, we demonstrated this in a [notebook](https://github.com/NASA-NAVO/aas_workshop_2018/blob/master/heasarc/heasarc_Spectral_Access.ipynb) that you can consult for how to use pyXspec, but the pyXspec documentation will have more information.) "
   ]
  },
  {
   "cell_type": "markdown",
   "metadata": {},
   "source": [
    "Congratulations! You have completed this notebook exercise."
   ]
  }
 ],
 "metadata": {
  "anaconda-cloud": {},
  "kernelspec": {
   "display_name": "Python 3",
   "language": "python",
   "name": "python3"
  },
  "language_info": {
   "codemirror_mode": {
    "name": "ipython",
    "version": 3
   },
   "file_extension": ".py",
   "mimetype": "text/x-python",
   "name": "python",
   "nbconvert_exporter": "python",
   "pygments_lexer": "ipython3",
   "version": "3.6.5"
  },
  "nav_menu": {},
  "toc": {
   "navigate_menu": true,
   "number_sections": true,
   "sideBar": true,
   "threshold": 6,
   "toc_cell": false,
   "toc_section_display": "block",
   "toc_window_display": true
  }
 },
 "nbformat": 4,
 "nbformat_minor": 2
}
