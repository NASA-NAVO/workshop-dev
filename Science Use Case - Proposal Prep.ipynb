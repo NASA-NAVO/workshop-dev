{
 "cells": [
  {
   "cell_type": "markdown",
   "metadata": {},
   "source": [
    "# Preparing a proposal\n",
    "\n",
    "The Story: Suppose that you are preparing to write a proposal on NGC1365, aiming to investigate the intriguing black hole spin this galaxy with Chandra grating observations (see: https://www.space.com/19980-monster-black-hole-spin-discovery.html ) \n",
    "\n",
    "In writing proposals, there are often the same tasks that are required: including finding and analyzing previous observations of the proposal, and creating figures that include, e.g., multiwavelength images and spectrum for the source. \n"
   ]
  },
  {
   "cell_type": "code",
   "execution_count": 2,
   "metadata": {},
   "outputs": [],
   "source": [
    "# As a hint, we include the code block for Python modules that you will likely need to import:   \n",
    "import matplotlib\n",
    "import matplotlib.pyplot as plt\n",
    "import numpy as np\n",
    "%matplotlib inline  \n",
    "import requests, io\n",
    "from astropy.table import Table\n",
    "\n",
    "## Use NAVO utility for Registry, cone searches and making images and spectra\n",
    "import sys\n",
    "from navo_utils.registry import Registry\n",
    "from navo_utils.image import Image, ImageColumn\n",
    "from navo_utils.spectra import Spectra, SpectraColumn\n",
    "from navo_utils.tap import Tap\n",
    "\n",
    "\n",
    "## There are a number of relatively unimportant warnings that \n",
    "## show up, so for now, suppress them:\n",
    "import warnings\n",
    "warnings.filterwarnings(\"ignore\")\n"
   ]
  },
  {
   "cell_type": "markdown",
   "metadata": {},
   "source": [
    "### Step 1: Find out what the previously quoted Chandra 2-10 keV flux of the central source is for NGC 1365.  \n",
    "\n",
    "Hint: Do a table access protocol (TAP) search in the heasarc, to find potential table with this information"
   ]
  },
  {
   "cell_type": "code",
   "execution_count": 3,
   "metadata": {},
   "outputs": [
    {
     "name": "stdout",
     "output_type": "stream",
     "text": [
      "Retrieving tables...\n",
      "Parsing tables...\n",
      "Done.\n",
      "public.bmwchancat\n",
      "public.chandfn1ms\n",
      "public.chandfn2ms\n",
      "public.chandfs1ms\n",
      "public.chandfs2ms\n",
      "public.chandfs4ms\n",
      "public.chandfs7ms\n",
      "public.chanextdfs\n",
      "public.changbscat\n",
      "public.chanmaster\n",
      "public.channsgpsc\n",
      "public.chansexagn\n",
      "public.chansexoid\n",
      "public.chansexsi\n",
      "public.chansngcat\n",
      "public.chantypgpr\n",
      "public.chanulxcat\n",
      "public.chanvguide\n"
     ]
    },
    {
     "data": {
      "text/plain": [
       "['public.bmwchancat',\n",
       " 'public.chandfn1ms',\n",
       " 'public.chandfn2ms',\n",
       " 'public.chandfs1ms',\n",
       " 'public.chandfs2ms',\n",
       " 'public.chandfs4ms',\n",
       " 'public.chandfs7ms',\n",
       " 'public.chanextdfs',\n",
       " 'public.changbscat',\n",
       " 'public.chanmaster',\n",
       " 'public.channsgpsc',\n",
       " 'public.chansexagn',\n",
       " 'public.chansexoid',\n",
       " 'public.chansexsi',\n",
       " 'public.chansngcat',\n",
       " 'public.chantypgpr',\n",
       " 'public.chanulxcat',\n",
       " 'public.chanvguide']"
      ]
     },
     "execution_count": 3,
     "metadata": {},
     "output_type": "execute_result"
    }
   ],
   "source": [
    "tap_services=Registry.query(service_type='table',source='heasarc')\n",
    "url=str(tap_services[0]['access_url'])\n",
    "# Since there are lots of tables in the HEASARC service, we will narrow the search of Chandra tables by setting contains=\"chan\"\n",
    "Tap.list_tables(url, contains=\"chan\")"
   ]
  },
  {
   "cell_type": "markdown",
   "metadata": {},
   "source": [
    "Hint: The Chansngcat ( https://heasarc.gsfc.nasa.gov/W3Browse/chandra/chansngcat.html ) table is likely the best table.  Create a table with ra, dec, exposure time, and flux (and flux errors) from the public.chansngcat catalog for Chandra observations matched within 0.1 degree."
   ]
  },
  {
   "cell_type": "code",
   "execution_count": 4,
   "metadata": {},
   "outputs": [
    {
     "data": {
      "text/plain": [
       "TableColumns([('__row', <MaskedColumn name='__row' dtype='int32' length=1>\n",
       "               1),\n",
       "              ('source_number',\n",
       "               <MaskedColumn name='source_number' dtype='int32' length=1>\n",
       "               286),\n",
       "              ('name', <MaskedColumn name='name' dtype='str8' length=1>\n",
       "               NGC 2915),\n",
       "              ('distance',\n",
       "               <MaskedColumn name='distance' dtype='float64' format='{!r:>}' length=1>\n",
       "               4.29),\n",
       "              ('ra',\n",
       "               <MaskedColumn name='ra' dtype='float64' format='{!r:>}' length=1>\n",
       "               141.54804167),\n",
       "              ('dec',\n",
       "               <MaskedColumn name='dec' dtype='float64' format='{!r:>}' length=1>\n",
       "               -76.62633333),\n",
       "              ('lii',\n",
       "               <MaskedColumn name='lii' dtype='float64' format='{!r:>}' length=1>\n",
       "               291.96610299),\n",
       "              ('bii',\n",
       "               <MaskedColumn name='bii' dtype='float64' format='{!r:>}' length=1>\n",
       "               -18.35727285),\n",
       "              ('nuclear_class',\n",
       "               <MaskedColumn name='nuclear_class' dtype='str1' length=1>\n",
       "               H),\n",
       "              ('hubble_type',\n",
       "               <MaskedColumn name='hubble_type' dtype='str2' length=1>\n",
       "               I0),\n",
       "              ('class', <MaskedColumn name='class' dtype='int32' length=1>\n",
       "               6500),\n",
       "              ('sigma',\n",
       "               <MaskedColumn name='sigma' dtype='float64' format='{!r:>}' length=1>\n",
       "               --),\n",
       "              ('sigma_error',\n",
       "               <MaskedColumn name='sigma_error' dtype='float64' format='{!r:>}' length=1>\n",
       "               --),\n",
       "              ('log_l_halpha',\n",
       "               <MaskedColumn name='log_l_halpha' dtype='float64' format='{!r:>}' length=1>\n",
       "               --),\n",
       "              ('log_l_halpha_flag',\n",
       "               <MaskedColumn name='log_l_halpha_flag' dtype='str2' length=1>),\n",
       "              ('log_blackhole_mass',\n",
       "               <MaskedColumn name='log_blackhole_mass' dtype='float64' format='{!r:>}' length=1>\n",
       "               --),\n",
       "              ('log_blackhole_mass_lower',\n",
       "               <MaskedColumn name='log_blackhole_mass_lower' dtype='float64' format='{!r:>}' length=1>\n",
       "               --),\n",
       "              ('log_blackhole_mass_upper',\n",
       "               <MaskedColumn name='log_blackhole_mass_upper' dtype='float64' format='{!r:>}' length=1>\n",
       "               --),\n",
       "              ('nh_gal',\n",
       "               <MaskedColumn name='nh_gal' dtype='float64' format='{!r:>}' length=1>\n",
       "               9.03e+20),\n",
       "              ('obsid', <MaskedColumn name='obsid' dtype='int32' length=1>\n",
       "               9534),\n",
       "              ('instrument',\n",
       "               <MaskedColumn name='instrument' dtype='str6' length=1>\n",
       "               ACIS-S),\n",
       "              ('exposure',\n",
       "               <MaskedColumn name='exposure' dtype='float64' format='{!r:>}' length=1>\n",
       "               15300.0),\n",
       "              ('off_set',\n",
       "               <MaskedColumn name='off_set' dtype='float64' format='{!r:>}' length=1>\n",
       "               --),\n",
       "              ('agn_flag', <MaskedColumn name='agn_flag' dtype='str1' length=1>\n",
       "               N),\n",
       "              ('hardness_ratio_0',\n",
       "               <MaskedColumn name='hardness_ratio_0' dtype='float64' format='{!r:>}' length=1>\n",
       "               --),\n",
       "              ('hardness_ratio_0_error',\n",
       "               <MaskedColumn name='hardness_ratio_0_error' dtype='float64' format='{!r:>}' length=1>\n",
       "               --),\n",
       "              ('hardness_ratio_1',\n",
       "               <MaskedColumn name='hardness_ratio_1' dtype='float64' format='{!r:>}' length=1>\n",
       "               --),\n",
       "              ('hardness_ratio_1_error',\n",
       "               <MaskedColumn name='hardness_ratio_1_error' dtype='float64' format='{!r:>}' length=1>\n",
       "               --),\n",
       "              ('hardness_ratio_2',\n",
       "               <MaskedColumn name='hardness_ratio_2' dtype='float64' format='{!r:>}' length=1>\n",
       "               --),\n",
       "              ('hardness_ratio_2_error',\n",
       "               <MaskedColumn name='hardness_ratio_2_error' dtype='float64' format='{!r:>}' length=1>\n",
       "               --),\n",
       "              ('nh_from_hr',\n",
       "               <MaskedColumn name='nh_from_hr' dtype='float64' format='{!r:>}' length=1>\n",
       "               --),\n",
       "              ('nh_from_hr_lower',\n",
       "               <MaskedColumn name='nh_from_hr_lower' dtype='float64' format='{!r:>}' length=1>\n",
       "               --),\n",
       "              ('nh_from_hr_upper',\n",
       "               <MaskedColumn name='nh_from_hr_upper' dtype='float64' format='{!r:>}' length=1>\n",
       "               --),\n",
       "              ('flux',\n",
       "               <MaskedColumn name='flux' dtype='float64' format='{!r:>}' length=1>\n",
       "               --),\n",
       "              ('flux_lower',\n",
       "               <MaskedColumn name='flux_lower' dtype='float64' format='{!r:>}' length=1>\n",
       "               --),\n",
       "              ('flux_upper',\n",
       "               <MaskedColumn name='flux_upper' dtype='float64' format='{!r:>}' length=1>\n",
       "               1e-16),\n",
       "              ('log_lx',\n",
       "               <MaskedColumn name='log_lx' dtype='float64' format='{!r:>}' length=1>\n",
       "               --),\n",
       "              ('log_lx_lower',\n",
       "               <MaskedColumn name='log_lx_lower' dtype='float64' format='{!r:>}' length=1>\n",
       "               --),\n",
       "              ('log_lx_upper',\n",
       "               <MaskedColumn name='log_lx_upper' dtype='float64' format='{!r:>}' length=1>\n",
       "               36.16),\n",
       "              ('log_lx_note',\n",
       "               <MaskedColumn name='log_lx_note' dtype='str4' length=1>\n",
       "               G1.8),\n",
       "              ('spectral_model',\n",
       "               <MaskedColumn name='spectral_model' dtype='str2' length=1>),\n",
       "              ('spectral_norm_cpt1',\n",
       "               <MaskedColumn name='spectral_norm_cpt1' dtype='float64' format='{!r:>}' length=1>\n",
       "               --),\n",
       "              ('log_l_cpt1',\n",
       "               <MaskedColumn name='log_l_cpt1' dtype='float64' format='{!r:>}' length=1>\n",
       "               --),\n",
       "              ('spectral_norm_cpt2',\n",
       "               <MaskedColumn name='spectral_norm_cpt2' dtype='float64' format='{!r:>}' length=1>\n",
       "               --),\n",
       "              ('log_l_cpt2',\n",
       "               <MaskedColumn name='log_l_cpt2' dtype='float64' format='{!r:>}' length=1>\n",
       "               --),\n",
       "              ('nh',\n",
       "               <MaskedColumn name='nh' dtype='float64' format='{!r:>}' length=1>\n",
       "               --),\n",
       "              ('nh_lower',\n",
       "               <MaskedColumn name='nh_lower' dtype='float64' format='{!r:>}' length=1>\n",
       "               --),\n",
       "              ('nh_upper',\n",
       "               <MaskedColumn name='nh_upper' dtype='float64' format='{!r:>}' length=1>\n",
       "               --),\n",
       "              ('spectral_index',\n",
       "               <MaskedColumn name='spectral_index' dtype='float64' format='{!r:>}' length=1>\n",
       "               --),\n",
       "              ('spectral_index_lower',\n",
       "               <MaskedColumn name='spectral_index_lower' dtype='float64' format='{!r:>}' length=1>\n",
       "               --),\n",
       "              ('spectral_index_upper',\n",
       "               <MaskedColumn name='spectral_index_upper' dtype='float64' format='{!r:>}' length=1>\n",
       "               --),\n",
       "              ('temperature',\n",
       "               <MaskedColumn name='temperature' dtype='float64' format='{!r:>}' length=1>\n",
       "               --),\n",
       "              ('temperature_lower',\n",
       "               <MaskedColumn name='temperature_lower' dtype='float64' format='{!r:>}' length=1>\n",
       "               --),\n",
       "              ('temperature_upper',\n",
       "               <MaskedColumn name='temperature_upper' dtype='float64' format='{!r:>}' length=1>\n",
       "               --),\n",
       "              ('fit_chi_squared',\n",
       "               <MaskedColumn name='fit_chi_squared' dtype='float64' format='{!r:>}' length=1>\n",
       "               --),\n",
       "              ('fit_dof', <MaskedColumn name='fit_dof' dtype='int32' length=1>\n",
       "               -1),\n",
       "              ('ref_spectrum',\n",
       "               <MaskedColumn name='ref_spectrum' dtype='str2' length=1>),\n",
       "              ('__x_ra_dec',\n",
       "               <MaskedColumn name='__x_ra_dec' dtype='float64' format='{!r:>}' length=1>\n",
       "               0.143836294571174),\n",
       "              ('__y_ra_dec',\n",
       "               <MaskedColumn name='__y_ra_dec' dtype='float64' format='{!r:>}' length=1>\n",
       "               -0.181138551672193),\n",
       "              ('__z_ra_dec',\n",
       "               <MaskedColumn name='__z_ra_dec' dtype='float64' format='{!r:>}' length=1>\n",
       "               -0.972882287567275)])"
      ]
     },
     "execution_count": 4,
     "metadata": {},
     "output_type": "execute_result"
    }
   ],
   "source": [
    "# list the columns from the query above\n",
    "Tap.list_columns(url,tablename=\"public.chansngcat\")"
   ]
  },
  {
   "cell_type": "code",
   "execution_count": 5,
   "metadata": {},
   "outputs": [],
   "source": [
    "# Get the coordinate for NGC 1365\n",
    "import astropy.coordinates as coord\n",
    "pos=coord.SkyCoord.from_name(\"ngc1365\")"
   ]
  },
  {
   "cell_type": "code",
   "execution_count": 6,
   "metadata": {},
   "outputs": [
    {
     "data": {
      "text/html": [
       "&lt;Table masked=True length=1&gt;\n",
       "<table id=\"table4465776400\" class=\"table-striped table-bordered table-condensed\">\n",
       "<thead><tr><th>ra</th><th>dec</th><th>exposure</th><th>flux</th><th>flux_lower</th><th>flux_upper</th></tr></thead>\n",
       "<thead><tr><th>float64</th><th>float64</th><th>float64</th><th>float64</th><th>float64</th><th>float64</th></tr></thead>\n",
       "<tr><td>53.40191667</td><td>-36.14066667</td><td>15500.0</td><td>7.751e-12</td><td>7.1727e-12</td><td>8.2075e-12</td></tr>\n",
       "</table>"
      ],
      "text/plain": [
       "<Table masked=True length=1>\n",
       "     ra         dec      exposure    flux   flux_lower flux_upper\n",
       "  float64     float64    float64   float64   float64    float64  \n",
       "----------- ------------ -------- --------- ---------- ----------\n",
       "53.40191667 -36.14066667  15500.0 7.751e-12 7.1727e-12 8.2075e-12"
      ]
     },
     "execution_count": 6,
     "metadata": {},
     "output_type": "execute_result"
    }
   ],
   "source": [
    "# Show the results from your table query for NGC 1365 and print the ra, dec, exposure time, flux, and flux errors\n",
    "query=\"\"\"SELECT ra, dec, exposure, flux, flux_lower, flux_upper FROM public.chansngcat as cat \n",
    "    where contains(point('ICRS',cat.ra,cat.dec),circle('ICRS',{},{},0.1))=1 \n",
    "    and cat.exposure > 0 order by cat.exposure\"\"\".format(pos.ra.deg, pos.dec.deg)\n",
    "results=Tap.query(url,query)\n",
    "results"
   ]
  },
  {
   "cell_type": "markdown",
   "metadata": {},
   "source": [
    "\n",
    "### Step 2: Make Images: \n",
    "\n",
    "#### Create ultraviolet and X-ray images\n",
    "Hint: Start by checking what UV image services exist (e.g., GALEX?)"
   ]
  },
  {
   "cell_type": "code",
   "execution_count": 7,
   "metadata": {},
   "outputs": [
    {
     "data": {
      "text/html": [
       "&lt;Table masked=True length=2&gt;\n",
       "<table id=\"table4419813616\" class=\"table-striped table-bordered table-condensed\">\n",
       "<thead><tr><th>short_name</th><th>access_url</th></tr></thead>\n",
       "<thead><tr><th>str11</th><th>str147</th></tr></thead>\n",
       "<tr><td>GALEX</td><td>https://skyview.gsfc.nasa.gov/cgi-bin/vo/sia.pl?survey=galex&amp;amp;</td></tr>\n",
       "<tr><td>GALEX</td><td>https://mast.stsci.edu/portal/Mashup/VoQuery.asmx/SiaV1?MISSION=GALEX&amp;amp;</td></tr>\n",
       "</table>"
      ],
      "text/plain": [
       "<Table masked=True length=2>\n",
       "short_name ...\n",
       "  str11    ...\n",
       "---------- ...\n",
       "     GALEX ...\n",
       "     GALEX ..."
      ]
     },
     "execution_count": 7,
     "metadata": {},
     "output_type": "execute_result"
    }
   ],
   "source": [
    "uv_tables=Registry.query(service_type='image',keyword='galex', waveband='uv')\n",
    "im_gal = uv_tables[np.isin(uv_tables['short_name'], \n",
    "                                    ['GALEX'])]\n",
    "im_gal['short_name', 'access_url']"
   ]
  },
  {
   "cell_type": "markdown",
   "metadata": {},
   "source": [
    "Hint: Next create a UV image for the source "
   ]
  },
  {
   "cell_type": "code",
   "execution_count": 8,
   "metadata": {},
   "outputs": [
    {
     "data": {
      "text/html": [
       "&lt;ImageTable masked=True length=4&gt;\n",
       "<table id=\"table4563430592\" class=\"table-striped table-bordered table-condensed\">\n",
       "<thead><tr><th>Survey</th><th>Ra</th><th>Dec</th><th>Dim</th><th>Size</th><th>Scale</th><th>Format</th><th>PixFlags</th><th>URL</th><th>LogicalName</th></tr></thead>\n",
       "<thead><tr><th>str9</th><th>float64</th><th>float64</th><th>int32</th><th>object</th><th>object</th><th>str10</th><th>str1</th><th>str268</th><th>str1</th></tr></thead>\n",
       "<tr><td>galexnear</td><td>53.4019083</td><td>-36.1406583</td><td>2</td><td>[300 300]</td><td>[-0.0006666666666666668 0.0006666666666666668]</td><td>image/fits</td><td>F</td><td>https://skyview.gsfc.nasa.gov/cgi-bin/images?position=53.4019083%2C-36.1406583&amp;survey=galexnear&amp;pixels=300%2C300&amp;sampler=LI&amp;size=0.20000000000000004%2C0.20000000000000004&amp;projection=Tan&amp;coordinates=J2000.0&amp;requestID=skv1544751715380&amp;return=FITS</td><td>1</td></tr>\n",
       "<tr><td>galexnear</td><td>53.4019083</td><td>-36.1406583</td><td>2</td><td>[300 300]</td><td>[-0.0006666666666666668 0.0006666666666666668]</td><td>image/jpeg</td><td>F</td><td>https://skyview.gsfc.nasa.gov/cgi-bin/images?position=53.4019083%2C-36.1406583&amp;survey=galexnear&amp;pixels=300%2C300&amp;sampler=LI&amp;size=0.20000000000000004%2C0.20000000000000004&amp;projection=Tan&amp;coordinates=J2000.0&amp;requestID=skv1544751715380&amp;nofits=1&amp;quicklook=jpeg&amp;return=jpeg</td><td>1</td></tr>\n",
       "<tr><td>galexfar</td><td>53.4019083</td><td>-36.1406583</td><td>2</td><td>[300 300]</td><td>[-0.0006666666666666668 0.0006666666666666668]</td><td>image/fits</td><td>F</td><td>https://skyview.gsfc.nasa.gov/cgi-bin/images?position=53.4019083%2C-36.1406583&amp;survey=galexfar&amp;pixels=300%2C300&amp;sampler=LI&amp;size=0.20000000000000004%2C0.20000000000000004&amp;projection=Tan&amp;coordinates=J2000.0&amp;requestID=skv1544751715773&amp;return=FITS</td><td>2</td></tr>\n",
       "<tr><td>galexfar</td><td>53.4019083</td><td>-36.1406583</td><td>2</td><td>[300 300]</td><td>[-0.0006666666666666668 0.0006666666666666668]</td><td>image/jpeg</td><td>F</td><td>https://skyview.gsfc.nasa.gov/cgi-bin/images?position=53.4019083%2C-36.1406583&amp;survey=galexfar&amp;pixels=300%2C300&amp;sampler=LI&amp;size=0.20000000000000004%2C0.20000000000000004&amp;projection=Tan&amp;coordinates=J2000.0&amp;requestID=skv1544751715773&amp;nofits=1&amp;quicklook=jpeg&amp;return=jpeg</td><td>2</td></tr>\n",
       "</table>"
      ],
      "text/plain": [
       "<ImageTable masked=True length=4>\n",
       "  Survey      Ra     ... LogicalName\n",
       "   str9    float64   ...     str1   \n",
       "--------- ---------- ... -----------\n",
       "galexnear 53.4019083 ...           1\n",
       "galexnear 53.4019083 ...           1\n",
       " galexfar 53.4019083 ...           2\n",
       " galexfar 53.4019083 ...           2"
      ]
     },
     "execution_count": 8,
     "metadata": {},
     "output_type": "execute_result"
    }
   ],
   "source": [
    "# Do an image search for NGC 1365 in the UV service found above\n",
    "\n",
    "im_table=Image.query(uv_tables[0],coords=pos,radius=0.1)\n",
    "im_table[0]"
   ]
  },
  {
   "cell_type": "code",
   "execution_count": 9,
   "metadata": {},
   "outputs": [
    {
     "data": {
      "text/plain": [
       "<matplotlib.image.AxesImage at 0x10fff6cc0>"
      ]
     },
     "execution_count": 9,
     "metadata": {},
     "output_type": "execute_result"
    },
    {
     "data": {
      "image/png": "[encoded data removed]",
      "text/plain": [
       "<matplotlib.figure.Figure at 0x102f61e48>"
      ]
     },
     "metadata": {},
     "output_type": "display_data"
    }
   ],
   "source": [
    "# Get the FITS file (which is index 0 for the NUV image or index=2 for the FUV image)\n",
    "hdu_list=Image.get_fits(im_table[0][0])\n",
    "# make an image: \n",
    "from pylab import figure, cm\n",
    "from matplotlib.colors import LogNorm\n",
    "plt.matshow(hdu_list[0].data, origin='lower', cmap=cm.gray_r, norm=LogNorm(vmin=0.005, vmax=0.3))"
   ]
  },
  {
   "cell_type": "markdown",
   "metadata": {},
   "source": [
    "Hint: Repeat steps for X-ray image. (Note: Ideally, we would find an image in the Chandra 'cxc' catalog) "
   ]
  },
  {
   "cell_type": "code",
   "execution_count": 10,
   "metadata": {},
   "outputs": [
    {
     "data": {
      "text/html": [
       "&lt;Table masked=True length=2&gt;\n",
       "<table id=\"table4563227200\" class=\"table-striped table-bordered table-condensed\">\n",
       "<thead><tr><th>waveband</th><th>short_name</th><th>ivoid</th><th>res_description</th><th>access_url</th><th>reference_url</th><th>publisher</th><th>service_type</th></tr></thead>\n",
       "<thead><tr><th>str5</th><th>str3</th><th>str30</th><th>str1799</th><th>str43</th><th>str27</th><th>str25</th><th>str17</th></tr></thead>\n",
       "<tr><td>x-ray</td><td>CDA</td><td>ivo://cxc.harvard.edu/cda.siap</td><td>The Chandra X-ray Observatory is the U.S. follow-on to the Einstein Observatory. Chandra was formerly known as AXAF, the Advanced X-ray Astrophysics Facility, but renamed by NASA in December, 1998. Originally three instruments and a high-resolution mirror carried in one spacecraft, the project was reworked in 1992 and 1993. The Chandra spacecraft carries a high resolution mirror, two imaging detectors, and two sets of transmission gratings. Important Chandra features are: an order of magnitude improvement in spatial resolution, good sensitivity from 0.1 to 10 keV, and the capability for high spectral resolution observations over most of this range.</td><td>http://cda.harvard.edu/cxcsiap/queryImages?</td><td>http://cxc.harvard.edu/cda/</td><td>Chandra X-ray Observatory</td><td>simpleimageaccess</td></tr>\n",
       "<tr><td>x-ray</td><td>CSC</td><td>ivo://cxc.harvard.edu/csc.siap</td><td>The Chandra X-ray Observatory is the U.S. follow-on to the Einstein Observatory. Chandra was formerly known as AXAF, the Advanced X-ray Astrophysics Facility, but renamed by NASA in December, 1998. Originally three instruments and a high-resolution mirror carried in one spacecraft, the project was reworked in 1992 and 1993. The Chandra spacecraft carries a high resolution mirror, two imaging detectors, and two sets of transmission gratings. Important Chandra features are: an order of magnitude improvement in spatial resolution, good sensitivity from 0.1 to 10 keV, and the capability for high spectral resolution observations over most of this range. The Chandra Source Catalog (CSC) includes information about X-ray sources detected in observations obtained using the Chandra X-ray Observatory. Release 1.0 of the catalog includes about 95,000 point and compact sources with observed spatial extents less than ~30 arcsec detected in a subset of ACIS imaging observations released publicly prior to the end of 2008. Observed source positions and multi-band count rates are reported, as well as numerous derived spatial, photometric, spectral, and temporal calibrated source properties that may be compared with data obtained by other telescopes. Each record includes the best estimates of the properties of a source based on data extracted from all observations in which the source was detected. The Chandra Source Catalog is extracted from the CXC&quot;s Chandra Data Archive (CDA). The CXC should be acknowledged as the source of Chandra data. For detailed information on the Chandra Observatory and datasets see: http://cxc.harvard.edu/ for general Chandra information; http://cxc.harvard.edu/cda/ for the Chandra Data Archive; http://cxc.harvard.edu/csc/ for Chandra Source Catalog information.</td><td>http://cda.harvard.edu/cscsiap/queryImages?</td><td>http://cxc.harvard.edu/csc/</td><td>Chandra X-ray Observatory</td><td>simpleimageaccess</td></tr>\n",
       "</table>"
      ],
      "text/plain": [
       "<Table masked=True length=2>\n",
       "waveband short_name ...         publisher            service_type  \n",
       "  str5      str3    ...           str25                 str17      \n",
       "-------- ---------- ... ------------------------- -----------------\n",
       "   x-ray        CDA ... Chandra X-ray Observatory simpleimageaccess\n",
       "   x-ray        CSC ... Chandra X-ray Observatory simpleimageaccess"
      ]
     },
     "execution_count": 10,
     "metadata": {},
     "output_type": "execute_result"
    }
   ],
   "source": [
    "x_tables=Registry.query(service_type='image',waveband='x-ray', source='cxc')\n",
    "x_tables"
   ]
  },
  {
   "cell_type": "code",
   "execution_count": 11,
   "metadata": {},
   "outputs": [
    {
     "data": {
      "text/html": [
       "&lt;ImageTable masked=True length=32&gt;\n",
       "<table id=\"table4465188936\" class=\"table-striped table-bordered table-condensed\">\n",
       "<thead><tr><th>name</th><th>instrument</th><th>date_obs</th><th>ra</th><th>dec</th><th>naxis</th><th>imgscale</th><th>imgfmt</th><th>accref</th><th>filesize</th><th>obsid</th><th>exptime</th><th>bandlo</th><th>bandhi</th><th>pixflags</th><th>institute</th><th>Offset</th><th>Score</th></tr></thead>\n",
       "<thead><tr><th></th><th></th><th>d</th><th>deg</th><th>deg</th><th></th><th>degrees/pixel</th><th></th><th></th><th>byte</th><th></th><th>ks</th><th>keV</th><th>keV</th><th></th><th></th><th>deg</th><th>deg</th></tr></thead>\n",
       "<thead><tr><th>str8</th><th>str6</th><th>float64</th><th>float64</th><th>float64</th><th>object</th><th>object</th><th>str10</th><th>str137</th><th>int32</th><th>int32</th><th>float64</th><th>float64</th><th>float64</th><th>str1</th><th>str3</th><th>float64</th><th>float64</th></tr></thead>\n",
       "<tr><td>NGC 1365</td><td>ACIS-S</td><td>52632.7187273669</td><td>53.40963840612605</td><td>-36.14743002053731</td><td>[1024 1024]</td><td>[0.0001366666666666667 0.0001366666666666667]</td><td>image/jpeg</td><td>https://cdaftp.cfa.harvard.edu/cgi-bin/chaser_ftp_retrieve_file.cgi?filename=science/ao04/cat7/3554/primary/acisf03554N003_cntr_img2.jpg</td><td>230904</td><td>3554</td><td>14.609389902235</td><td>0.2</td><td>20.0</td><td>C</td><td>CXC</td><td>4.58653018374082e-05</td><td>11.687511921788</td></tr>\n",
       "<tr><td>NGC 1365</td><td>ACIS-S</td><td>52632.7187273669</td><td>53.40963840612605</td><td>-36.14743002053731</td><td>[1024 1024]</td><td>[0.0001366666666666667 0.0001366666666666667]</td><td>image/fits</td><td>https://cdaftp.cfa.harvard.edu/cgi-bin/chaser_ftp_retrieve_file.cgi?filename=science/ao04/cat7/3554/primary/acisf03554N003_cntr_img2.fits</td><td>2155680</td><td>3554</td><td>14.609389902235</td><td>0.2</td><td>20.0</td><td>C</td><td>CXC</td><td>4.58653018374082e-05</td><td>11.687511921788</td></tr>\n",
       "<tr><td>NGC 1365</td><td>ACIS-S</td><td>52632.7187273669</td><td>53.40963840612605</td><td>-36.14743002053731</td><td>[1024 1024]</td><td>[0.001093333333333334 0.001093333333333334]</td><td>image/jpeg</td><td>https://cdaftp.cfa.harvard.edu/cgi-bin/chaser_ftp_retrieve_file.cgi?filename=science/ao04/cat7/3554/primary/acisf03554N003_full_img2.jpg</td><td>32096</td><td>3554</td><td>14.609389902235</td><td>0.2</td><td>20.0</td><td>C</td><td>CXC</td><td>4.58653018374082e-05</td><td>11.687511921788</td></tr>\n",
       "<tr><td>NGC 1365</td><td>ACIS-S</td><td>52632.7187273669</td><td>53.40963840612605</td><td>-36.14743002053731</td><td>[1024 1024]</td><td>[0.001093333333333334 0.001093333333333334]</td><td>image/fits</td><td>https://cdaftp.cfa.harvard.edu/cgi-bin/chaser_ftp_retrieve_file.cgi?filename=science/ao04/cat7/3554/primary/acisf03554N003_full_img2.fits</td><td>540000</td><td>3554</td><td>14.609389902235</td><td>0.2</td><td>20.0</td><td>C</td><td>CXC</td><td>4.58653018374082e-05</td><td>11.687511921788</td></tr>\n",
       "<tr><td>NGC 1365</td><td>ACIS-S</td><td>53842.89880481568</td><td>53.39919098842813</td><td>-36.13960406027974</td><td>[1024 1024]</td><td>[0.0001366666666666667 0.0001366666666666667]</td><td>image/jpeg</td><td>https://cdaftp.cfa.harvard.edu/cgi-bin/chaser_ftp_retrieve_file.cgi?filename=science/ao07/cat7/6868/primary/acisf06868N002_cntr_img2.jpg</td><td>94882</td><td>6868</td><td>14.606446671157999</td><td>0.2</td><td>20.0</td><td>C</td><td>CXC</td><td>1.1125462078553294e-06</td><td>11.6851573369264</td></tr>\n",
       "<tr><td>NGC 1365</td><td>ACIS-S</td><td>53842.89880481568</td><td>53.39919098842813</td><td>-36.13960406027974</td><td>[1024 1024]</td><td>[0.0001366666666666667 0.0001366666666666667]</td><td>image/fits</td><td>https://cdaftp.cfa.harvard.edu/cgi-bin/chaser_ftp_retrieve_file.cgi?filename=science/ao07/cat7/6868/primary/acisf06868N002_cntr_img2.fits</td><td>2152800</td><td>6868</td><td>14.606446671157999</td><td>0.2</td><td>20.0</td><td>C</td><td>CXC</td><td>1.1125462078553294e-06</td><td>11.6851573369264</td></tr>\n",
       "<tr><td>NGC 1365</td><td>ACIS-S</td><td>53842.89880481568</td><td>53.39919098842813</td><td>-36.13960406027974</td><td>[1024 1024]</td><td>[0.001093333333333334 0.001093333333333334]</td><td>image/jpeg</td><td>https://cdaftp.cfa.harvard.edu/cgi-bin/chaser_ftp_retrieve_file.cgi?filename=science/ao07/cat7/6868/primary/acisf06868N002_full_img2.jpg</td><td>10194</td><td>6868</td><td>14.606446671157999</td><td>0.2</td><td>20.0</td><td>C</td><td>CXC</td><td>1.1125462078553294e-06</td><td>11.6851573369264</td></tr>\n",
       "<tr><td>NGC 1365</td><td>ACIS-S</td><td>53842.89880481568</td><td>53.39919098842813</td><td>-36.13960406027974</td><td>[1024 1024]</td><td>[0.001093333333333334 0.001093333333333334]</td><td>image/fits</td><td>https://cdaftp.cfa.harvard.edu/cgi-bin/chaser_ftp_retrieve_file.cgi?filename=science/ao07/cat7/6868/primary/acisf06868N002_full_img2.fits</td><td>436320</td><td>6868</td><td>14.606446671157999</td><td>0.2</td><td>20.0</td><td>C</td><td>CXC</td><td>1.1125462078553294e-06</td><td>11.6851573369264</td></tr>\n",
       "<tr><td>NGC 1365</td><td>ACIS-S</td><td>53845.52392899763</td><td>53.39927012841298</td><td>-36.13952330625918</td><td>[1024 1024]</td><td>[0.0001366666666666667 0.0001366666666666667]</td><td>image/jpeg</td><td>https://cdaftp.cfa.harvard.edu/cgi-bin/chaser_ftp_retrieve_file.cgi?filename=science/ao07/cat7/6869/primary/acisf06869N003_cntr_img2.jpg</td><td>95267</td><td>6869</td><td>15.544932608721</td><td>0.2</td><td>20.0</td><td>C</td><td>CXC</td><td>1.2892710465337158e-06</td><td>12.4359460869768</td></tr>\n",
       "<tr><td>...</td><td>...</td><td>...</td><td>...</td><td>...</td><td>...</td><td>...</td><td>...</td><td>...</td><td>...</td><td>...</td><td>...</td><td>...</td><td>...</td><td>...</td><td>...</td><td>...</td><td>...</td></tr>\n",
       "<tr><td>NGC 1365</td><td>ACIS-S</td><td>53837.619004656364</td><td>53.39910028761424</td><td>-36.13984355285017</td><td>[1024 1024]</td><td>[0.001093333333333334 0.001093333333333334]</td><td>image/jpeg</td><td>https://cdaftp.cfa.harvard.edu/cgi-bin/chaser_ftp_retrieve_file.cgi?filename=science/ao07/cat7/6872/primary/acisf06872N002_full_img2.jpg</td><td>12520</td><td>6872</td><td>14.618934607172</td><td>0.2</td><td>20.0</td><td>C</td><td>CXC</td><td>6.65014081922026e-07</td><td>11.6951476857376</td></tr>\n",
       "<tr><td>NGC 1365</td><td>ACIS-S</td><td>53837.619004656364</td><td>53.39910028761424</td><td>-36.13984355285017</td><td>[1024 1024]</td><td>[0.001093333333333334 0.001093333333333334]</td><td>image/fits</td><td>https://cdaftp.cfa.harvard.edu/cgi-bin/chaser_ftp_retrieve_file.cgi?filename=science/ao07/cat7/6872/primary/acisf06872N002_full_img2.fits</td><td>420480</td><td>6872</td><td>14.618934607172</td><td>0.2</td><td>20.0</td><td>C</td><td>CXC</td><td>6.65014081922026e-07</td><td>11.6951476857376</td></tr>\n",
       "<tr><td>NGC 1365</td><td>ACIS-S</td><td>53840.07111855828</td><td>53.39917368922271</td><td>-36.13978103632769</td><td>[1024 1024]</td><td>[0.0001366666666666667 0.0001366666666666667]</td><td>image/jpeg</td><td>https://cdaftp.cfa.harvard.edu/cgi-bin/chaser_ftp_retrieve_file.cgi?filename=science/ao07/cat7/6873/primary/acisf06873N002_cntr_img2.jpg</td><td>103324</td><td>6873</td><td>14.636138881612002</td><td>0.2</td><td>20.0</td><td>C</td><td>CXC</td><td>7.707307382901607e-07</td><td>11.708911105289603</td></tr>\n",
       "<tr><td>NGC 1365</td><td>ACIS-S</td><td>53840.07111855828</td><td>53.39917368922271</td><td>-36.13978103632769</td><td>[1024 1024]</td><td>[0.0001366666666666667 0.0001366666666666667]</td><td>image/fits</td><td>https://cdaftp.cfa.harvard.edu/cgi-bin/chaser_ftp_retrieve_file.cgi?filename=science/ao07/cat7/6873/primary/acisf06873N002_cntr_img2.fits</td><td>2154240</td><td>6873</td><td>14.636138881612002</td><td>0.2</td><td>20.0</td><td>C</td><td>CXC</td><td>7.707307382901607e-07</td><td>11.708911105289603</td></tr>\n",
       "<tr><td>NGC 1365</td><td>ACIS-S</td><td>53840.07111855828</td><td>53.39917368922271</td><td>-36.13978103632769</td><td>[1024 1024]</td><td>[0.001093333333333334 0.001093333333333334]</td><td>image/jpeg</td><td>https://cdaftp.cfa.harvard.edu/cgi-bin/chaser_ftp_retrieve_file.cgi?filename=science/ao07/cat7/6873/primary/acisf06873N002_full_img2.jpg</td><td>10809</td><td>6873</td><td>14.636138881612002</td><td>0.2</td><td>20.0</td><td>C</td><td>CXC</td><td>7.707307382901607e-07</td><td>11.708911105289603</td></tr>\n",
       "<tr><td>NGC 1365</td><td>ACIS-S</td><td>53840.07111855828</td><td>53.39917368922271</td><td>-36.13978103632769</td><td>[1024 1024]</td><td>[0.001093333333333334 0.001093333333333334]</td><td>image/fits</td><td>https://cdaftp.cfa.harvard.edu/cgi-bin/chaser_ftp_retrieve_file.cgi?filename=science/ao07/cat7/6873/primary/acisf06873N002_full_img2.fits</td><td>429120</td><td>6873</td><td>14.636138881612002</td><td>0.2</td><td>20.0</td><td>C</td><td>CXC</td><td>7.707307382901607e-07</td><td>11.708911105289603</td></tr>\n",
       "<tr><td>NGC 1365</td><td>ACIS-S</td><td>56026.941754994616</td><td>53.40225791111966</td><td>-36.14326853465248</td><td>[1024 1024]</td><td>[0.0001366666666666667 0.0001366666666666667]</td><td>image/jpeg</td><td>https://cdaftp.cfa.harvard.edu/cgi-bin/chaser_ftp_retrieve_file.cgi?filename=science/ao13/cat7/13920/primary/acisf13920N001_cntr_img2.jpg</td><td>261800</td><td>13920</td><td>88.52934726723201</td><td>0.2</td><td>20.0</td><td>C</td><td>CXC</td><td>6.813343560789344e-06</td><td>70.8234778137856</td></tr>\n",
       "<tr><td>NGC 1365</td><td>ACIS-S</td><td>56026.941754994616</td><td>53.40225791111966</td><td>-36.14326853465248</td><td>[1024 1024]</td><td>[0.001093333333333334 0.001093333333333334]</td><td>image/jpeg</td><td>https://cdaftp.cfa.harvard.edu/cgi-bin/chaser_ftp_retrieve_file.cgi?filename=science/ao13/cat7/13920/primary/acisf13920N001_full_img2.jpg</td><td>35913</td><td>13920</td><td>88.52934726723201</td><td>0.2</td><td>20.0</td><td>C</td><td>CXC</td><td>6.813343560789344e-06</td><td>70.8234778137856</td></tr>\n",
       "<tr><td>NGC 1365</td><td>ACIS-S</td><td>56029.68094307366</td><td>53.40225995895184</td><td>-36.14326026522679</td><td>[1024 1024]</td><td>[0.0001366666666666667 0.0001366666666666667]</td><td>image/jpeg</td><td>https://cdaftp.cfa.harvard.edu/cgi-bin/chaser_ftp_retrieve_file.cgi?filename=science/ao13/cat7/13921/primary/acisf13921N001_cntr_img2.jpg</td><td>256382</td><td>13921</td><td>108.19627740117</td><td>0.2</td><td>20.0</td><td>C</td><td>CXC</td><td>6.770241880002123e-06</td><td>86.557021920936</td></tr>\n",
       "<tr><td>NGC 1365</td><td>ACIS-S</td><td>56029.68094307366</td><td>53.40225995895184</td><td>-36.14326026522679</td><td>[1024 1024]</td><td>[0.001093333333333334 0.001093333333333334]</td><td>image/jpeg</td><td>https://cdaftp.cfa.harvard.edu/cgi-bin/chaser_ftp_retrieve_file.cgi?filename=science/ao13/cat7/13921/primary/acisf13921N001_full_img2.jpg</td><td>35016</td><td>13921</td><td>108.19627740117</td><td>0.2</td><td>20.0</td><td>C</td><td>CXC</td><td>6.770241880002123e-06</td><td>86.557021920936</td></tr>\n",
       "</table>"
      ],
      "text/plain": [
       "<ImageTable masked=True length=32>\n",
       "  name   instrument ...         Offset               Score       \n",
       "                    ...          deg                  deg        \n",
       "  str8      str6    ...        float64              float64      \n",
       "-------- ---------- ... ---------------------- ------------------\n",
       "NGC 1365     ACIS-S ...   4.58653018374082e-05    11.687511921788\n",
       "NGC 1365     ACIS-S ...   4.58653018374082e-05    11.687511921788\n",
       "NGC 1365     ACIS-S ...   4.58653018374082e-05    11.687511921788\n",
       "NGC 1365     ACIS-S ...   4.58653018374082e-05    11.687511921788\n",
       "NGC 1365     ACIS-S ... 1.1125462078553294e-06   11.6851573369264\n",
       "NGC 1365     ACIS-S ... 1.1125462078553294e-06   11.6851573369264\n",
       "NGC 1365     ACIS-S ... 1.1125462078553294e-06   11.6851573369264\n",
       "NGC 1365     ACIS-S ... 1.1125462078553294e-06   11.6851573369264\n",
       "NGC 1365     ACIS-S ... 1.2892710465337158e-06   12.4359460869768\n",
       "     ...        ... ...                    ...                ...\n",
       "NGC 1365     ACIS-S ...   6.65014081922026e-07   11.6951476857376\n",
       "NGC 1365     ACIS-S ...   6.65014081922026e-07   11.6951476857376\n",
       "NGC 1365     ACIS-S ...  7.707307382901607e-07 11.708911105289603\n",
       "NGC 1365     ACIS-S ...  7.707307382901607e-07 11.708911105289603\n",
       "NGC 1365     ACIS-S ...  7.707307382901607e-07 11.708911105289603\n",
       "NGC 1365     ACIS-S ...  7.707307382901607e-07 11.708911105289603\n",
       "NGC 1365     ACIS-S ...  6.813343560789344e-06   70.8234778137856\n",
       "NGC 1365     ACIS-S ...  6.813343560789344e-06   70.8234778137856\n",
       "NGC 1365     ACIS-S ...  6.770241880002123e-06    86.557021920936\n",
       "NGC 1365     ACIS-S ...  6.770241880002123e-06    86.557021920936"
      ]
     },
     "execution_count": 11,
     "metadata": {},
     "output_type": "execute_result"
    }
   ],
   "source": [
    "# Do an image search for NGC 1365 in the X-ray CDA service found above\n",
    "xim_table=Image.query(x_tables[0],coords=pos,radius=0.1)\n",
    "xim_table[0]"
   ]
  },
  {
   "cell_type": "code",
   "execution_count": 12,
   "metadata": {},
   "outputs": [
    {
     "data": {
      "text/plain": [
       "(460, 560)"
      ]
     },
     "execution_count": 12,
     "metadata": {},
     "output_type": "execute_result"
    },
    {
     "data": {
      "image/png": "[encoded data removed]",
      "text/plain": [
       "<matplotlib.figure.Figure at 0x10ff4e0b8>"
      ]
     },
     "metadata": {},
     "output_type": "display_data"
    }
   ],
   "source": [
    "# Create an image from the first FITS file (index=1) by downloading:\n",
    "xhdu_list=Image.get_fits(xim_table[0][1])\n",
    "\n",
    "plt.imshow(xhdu_list[0].data, origin='lower', cmap='cool', norm=LogNorm(vmin=0.1, vmax=500.))\n",
    "plt.xlim(460, 560)\n",
    "plt.ylim(460, 560)"
   ]
  },
  {
   "cell_type": "markdown",
   "metadata": {},
   "source": [
    "\n",
    "### Step 3: Make a spectrum: \n",
    "\n",
    "#### Find what Chandra spectral observations exist already for this source. \n",
    "Hint: try searching for X-ray spectral data tables using the registry query"
   ]
  },
  {
   "cell_type": "code",
   "execution_count": 13,
   "metadata": {},
   "outputs": [
    {
     "data": {
      "text/html": [
       "&lt;Table masked=True length=4&gt;\n",
       "<table id=\"table4561679360\" class=\"table-striped table-bordered table-condensed\">\n",
       "<thead><tr><th>waveband</th><th>short_name</th><th>ivoid</th><th>res_description</th><th>access_url</th><th>reference_url</th><th>publisher</th><th>service_type</th></tr></thead>\n",
       "<thead><tr><th>str56</th><th>str14</th><th>str49</th><th>str678</th><th>str71</th><th>str58</th><th>str36</th><th>str20</th></tr></thead>\n",
       "<tr><td>x-ray</td><td>Chandra</td><td>ivo://nasa.heasarc/chanmaster</td><td>No Description Available</td><td>https://heasarc.gsfc.nasa.gov/xamin/vo/ssa?table=chanmaster&amp;amp;</td><td>https://heasarc.gsfc.nasa.gov/W3Browse/all/chanmaster.html</td><td>NASA/GSFC HEASARC</td><td>simplespectralaccess</td></tr>\n",
       "<tr><td>x-ray#gamma-ray</td><td>HEAVENS @ ISDC</td><td>ivo://wfau.roe.ac.uk/heavens_at_isdc/light-curves</td><td>With time, all HEAVENS products should become available on the Virtual Observatory. In some cases this requires an enhancement of the Virtual Observatory standards. For now the following HEAVENS services are available through the VO: - SIAP Image cutout service for INTEGRAL/ISGRI and JEM-X - Timeseries service for INTEGRAL/ISGRI, JEM-X and OMC Wished features include: - Extended Query Parameters for time intervals - Extended Query Parameters for energy bands - Timeseries service for INTEGRAL/IREM and SPI-ACS - Spectra service for all INTEGRAL instruments</td><td>http://www.isdc.unige.ch/vo-services/lc?</td><td>http://www.isdc.unige.ch/heavens/</td><td>WFAU</td><td>simplespectralaccess</td></tr>\n",
       "<tr><td>radio#millimeter#infrared#optical#uv#euv#x-ray#gamma-ray</td><td>NED/SED</td><td>ivo://ned.ipac/sed_data_near_position</td><td>NED SED Information Discovery Request service: The NASA/IPAC Extragalactic Database (NED) provides a comprehensive fusion of multi-wavelength data for hundreds of millions of objects located beyond the Milky Way galaxy. This service retrieves photometry for objects within a specified radius of a given position. The search region is specified by two parameters: POS [RA and DEC in decimal degrees, ICRF/FK5J2000] and SIZE [degrees]. This service returns a list of NED Object Identifiers (Names), the count of photometric SED measurements for each object, and the URI (ACREF) for the SED Data Retrieval request (accessSED). This service is used by the VO SED analysis tool Iris.</td><td>http://vo.ned.ipac.caltech.edu/services/querySED?REQUEST=queryData&amp;amp;</td><td>http://ned.ipac.caltech.edu/help/data_help.html#ptmydat</td><td>The NASA/IPAC Extragalactic Database</td><td>simplespectralaccess</td></tr>\n",
       "<tr><td>gamma-ray#x-ray</td><td>INTEGRAL/BSC</td><td>ivo://nasa.heasarc/intbsc</td><td>No Description Available</td><td>https://heasarc.gsfc.nasa.gov/xamin/vo/ssa?table=intbsc&amp;amp;</td><td>https://heasarc.gsfc.nasa.gov/W3Browse/all/intbsc.html</td><td>NASA/GSFC HEASARC</td><td>simplespectralaccess</td></tr>\n",
       "</table>"
      ],
      "text/plain": [
       "<Table masked=True length=4>\n",
       "                        waveband                         ...\n",
       "                         str56                           ...\n",
       "-------------------------------------------------------- ...\n",
       "                                                   x-ray ...\n",
       "                                         x-ray#gamma-ray ...\n",
       "radio#millimeter#infrared#optical#uv#euv#x-ray#gamma-ray ...\n",
       "                                         gamma-ray#x-ray ..."
      ]
     },
     "execution_count": 13,
     "metadata": {},
     "output_type": "execute_result"
    }
   ],
   "source": [
    "# Use the TAP protocol to list services that contain X-ray spectral data\n",
    "services=Registry.query(service_type='spectr',waveband='x-ray')\n",
    "services"
   ]
  },
  {
   "cell_type": "code",
   "execution_count": 14,
   "metadata": {},
   "outputs": [
    {
     "data": {
      "text/html": [
       "&lt;Table masked=True length=1&gt;\n",
       "<table id=\"table4563135568\" class=\"table-striped table-bordered table-condensed\">\n",
       "<thead><tr><th>short_name</th><th>access_url</th></tr></thead>\n",
       "<thead><tr><th>str14</th><th>str71</th></tr></thead>\n",
       "<tr><td>Chandra</td><td>https://heasarc.gsfc.nasa.gov/xamin/vo/ssa?table=chanmaster&amp;amp;</td></tr>\n",
       "</table>"
      ],
      "text/plain": [
       "<Table masked=True length=1>\n",
       "short_name                            access_url                           \n",
       "  str14                                 str71                              \n",
       "---------- ----------------------------------------------------------------\n",
       "   Chandra https://heasarc.gsfc.nasa.gov/xamin/vo/ssa?table=chanmaster&amp;"
      ]
     },
     "execution_count": 14,
     "metadata": {},
     "output_type": "execute_result"
    }
   ],
   "source": [
    "# We want this last listed service and we can identify this by specifying the short_name\n",
    "chan_tables = services[np.isin(services['short_name'],['Chandra'])]\n",
    "chan_tables['short_name', 'access_url']"
   ]
  },
  {
   "cell_type": "markdown",
   "metadata": {},
   "source": [
    "Hint 2: Take a look at what data exist for our candidate, NGC 1365."
   ]
  },
  {
   "cell_type": "code",
   "execution_count": 15,
   "metadata": {},
   "outputs": [
    {
     "name": "stdout",
     "output_type": "stream",
     "text": [
      "    Querying service https://heasarc.gsfc.nasa.gov/xamin/vo/ssa?table=chanmaster&amp;\n",
      "    Got 2 results for parameters[0]\n"
     ]
    },
    {
     "data": {
      "text/html": [
       "&lt;SpectraTable masked=True length=2&gt;\n",
       "<table id=\"table4562047720-785576\" class=\"table-striped table-bordered table-condensed\">\n",
       "<thead><tr><th>idx</th><th>obsid</th><th>status</th><th>name</th><th>ra</th><th>dec</th><th>time</th><th>detector</th><th>grating</th><th>exposure</th><th>type</th><th>pi</th><th>public_date</th><th>SSA_start_time</th><th>SSA_tmid</th><th>SSA_stop_time</th><th>SSA_duration</th><th>SSA_ra</th><th>SSA_dec</th><th>SSA_coord_obs</th><th>SSA_title</th><th>SSA_reference</th><th>SSA_datalength</th><th>SSA_datamodel</th><th>SSA_instrument</th><th>SSA_publisher</th><th>SSA_format</th><th>SSA_fov</th><th>SSA_wavelength_min</th><th>SSA_wavelength_max</th><th>SSA_bandwidth</th><th>SSA_bandpass</th></tr></thead>\n",
       "<thead><tr><th></th><th></th><th></th><th></th><th>deg</th><th>deg</th><th>mjd</th><th></th><th></th><th>s</th><th></th><th></th><th>mjd</th><th>mjd</th><th>mjd</th><th>mjd</th><th>s</th><th>deg</th><th>deg</th><th>deg</th><th></th><th></th><th></th><th></th><th></th><th></th><th></th><th>deg</th><th>meter</th><th>meter</th><th>meter</th><th>meter</th></tr></thead>\n",
       "<tr><td>0</td><td>13920</td><td>archived</td><td>NGC 1365</td><td>53.40167</td><td>-36.14028</td><td>56026.4065</td><td>ACIS-S</td><td>HETG</td><td>90040</td><td>GO</td><td>Reeves</td><td>56398</td><td>56026.4065</td><td>56026.94252101314</td><td>56027.47776322905</td><td>90040.0</td><td>53.40167</td><td>-36.14028</td><td>--</td><td>acisf13920N001_pha2</td><td>https://heasarc.gsfc.nasa.gov/FTP/chandra/data/science/ao13/cat7/13920/primary/acisf13920N001_pha2.fits.gz</td><td>12.0</td><td>Spectrum-1.0</td><td>ACIS-S</td><td>HEASARC</td><td>application/fits</td><td>0.81</td><td>1.2398e-10</td><td>6.1992e-09</td><td>6.07522e-09</td><td>3.16159e-09</td></tr>\n",
       "<tr><td>1</td><td>13921</td><td>archived</td><td>NGC 1365</td><td>53.40167</td><td>-36.14028</td><td>56029.0272</td><td>ACIS-S</td><td>HETG</td><td>110050</td><td>GO</td><td>Reeves</td><td>56398</td><td>56029.0272</td><td>56029.68170909219</td><td>56030.335490666206</td><td>110050.0</td><td>53.40167</td><td>-36.14028</td><td>--</td><td>acisf13921N001_pha2</td><td>https://heasarc.gsfc.nasa.gov/FTP/chandra/data/science/ao13/cat7/13921/primary/acisf13921N001_pha2.fits.gz</td><td>12.0</td><td>Spectrum-1.0</td><td>ACIS-S</td><td>HEASARC</td><td>application/fits</td><td>0.81</td><td>1.2398e-10</td><td>6.1992e-09</td><td>6.07522e-09</td><td>3.16159e-09</td></tr>\n",
       "</table><style>table.dataTable {clear: both; width: auto !important; margin: 0 !important;}\n",
       ".dataTables_info, .dataTables_length, .dataTables_filter, .dataTables_paginate{\n",
       "display: inline-block; margin-right: 1em; }\n",
       ".paginate_button { margin-right: 5px; }\n",
       "</style>\n",
       "<script>\n",
       "\n",
       "var astropy_sort_num = function(a, b) {\n",
       "    var a_num = parseFloat(a);\n",
       "    var b_num = parseFloat(b);\n",
       "\n",
       "    if (isNaN(a_num) && isNaN(b_num))\n",
       "        return ((a < b) ? -1 : ((a > b) ? 1 : 0));\n",
       "    else if (!isNaN(a_num) && !isNaN(b_num))\n",
       "        return ((a_num < b_num) ? -1 : ((a_num > b_num) ? 1 : 0));\n",
       "    else\n",
       "        return isNaN(a_num) ? -1 : 1;\n",
       "}\n",
       "\n",
       "require.config({paths: {\n",
       "    datatables: 'https://cdn.datatables.net/1.10.12/js/jquery.dataTables.min'\n",
       "}});\n",
       "require([\"datatables\"], function(){\n",
       "    console.log(\"$('#table4562047720-785576').dataTable()\");\n",
       "    \n",
       "jQuery.extend( jQuery.fn.dataTableExt.oSort, {\n",
       "    \"optionalnum-asc\": astropy_sort_num,\n",
       "    \"optionalnum-desc\": function (a,b) { return -astropy_sort_num(a, b); }\n",
       "});\n",
       "\n",
       "    $('#table4562047720-785576').dataTable({\n",
       "        order: [],\n",
       "        pageLength: 50,\n",
       "        lengthMenu: [[10, 25, 50, 100, 500, 1000, -1], [10, 25, 50, 100, 500, 1000, 'All']],\n",
       "        pagingType: \"full_numbers\",\n",
       "        columnDefs: [{targets: [0, 4, 5, 6, 9, 12, 13, 14, 15, 16, 17, 18, 19, 27, 28, 29, 30, 31], type: \"optionalnum\"}]\n",
       "    });\n",
       "});\n",
       "</script>\n"
      ],
      "text/plain": [
       "<IPython.core.display.HTML object>"
      ]
     },
     "execution_count": 15,
     "metadata": {},
     "output_type": "execute_result"
    }
   ],
   "source": [
    "from astropy.coordinates import SkyCoord\n",
    "target=SkyCoord.from_name(\"NGC1365\")\n",
    "pos='{},{}'.format(target.ra.deg,target.dec.deg)\n",
    "\n",
    "spec_tables=Spectra.query(service=chan_tables[0],coords=pos,radius=0.1,verbose=True)\n",
    "\n",
    "spec_tables[0]['time'].format='.4f'\n",
    "spec_tables[0].show_in_notebook()\n",
    "\n"
   ]
  },
  {
   "cell_type": "markdown",
   "metadata": {},
   "source": [
    "Hint 3: Download the data to make a spectrum. Note: you might end here and use Xspec to plot and model the spectrum. Or ... you can also try to take a quick look at the spectrum. "
   ]
  },
  {
   "cell_type": "code",
   "execution_count": 16,
   "metadata": {},
   "outputs": [
    {
     "name": "stdout",
     "output_type": "stream",
     "text": [
      "FITS spectrum written to downloads/ngc1365_spectrum.fits\n",
      "\n"
     ]
    }
   ],
   "source": [
    "hdu_list=Spectra.get_fits(spec_tables[0][1])\n",
    "# Or write it to disk\n",
    "Spectra.get_fits(spec_tables[0][1],filename='downloads/ngc1365_spectrum.fits')"
   ]
  },
  {
   "cell_type": "code",
   "execution_count": 17,
   "metadata": {},
   "outputs": [
    {
     "data": {
      "text/html": [
       "&lt;Table length=12&gt;\n",
       "<table id=\"table4563227088\" class=\"table-striped table-bordered table-condensed\">\n",
       "<thead><tr><th>SPEC_NUM</th><th>TG_M</th><th>TG_PART</th><th>TG_SRCID</th><th>X</th><th>Y</th><th>CHANNEL [8192]</th><th>COUNTS [8192]</th><th>STAT_ERR [8192]</th><th>BACKGROUND_UP [8192]</th><th>BACKGROUND_DOWN [8192]</th><th>BIN_LO [8192]</th><th>BIN_HI [8192]</th></tr></thead>\n",
       "<thead><tr><th>int16</th><th>int16</th><th>int16</th><th>int16</th><th>float32</th><th>float32</th><th>int16</th><th>int16</th><th>float32</th><th>int16</th><th>int16</th><th>float64</th><th>float64</th></tr></thead>\n",
       "<tr><td>1</td><td>-3</td><td>1</td><td>1</td><td>4100.3247</td><td>4115.9844</td><td>1 .. 8192</td><td>0 .. 0</td><td>1.8660254 .. 1.8660254</td><td>0 .. 0</td><td>0 .. 0</td><td>7.159166666667378 .. 0.3333333333333333</td><td>7.160000000000712 .. 0.33416666666666667</td></tr>\n",
       "<tr><td>2</td><td>-2</td><td>1</td><td>1</td><td>4100.3247</td><td>4115.9844</td><td>1 .. 8192</td><td>0 .. 0</td><td>1.8660254 .. 1.8660254</td><td>0 .. 0</td><td>0 .. 0</td><td>10.738750000000886 .. 0.5</td><td>10.740000000000887 .. 0.50125</td></tr>\n",
       "<tr><td>3</td><td>-1</td><td>1</td><td>1</td><td>4100.3247</td><td>4115.9844</td><td>1 .. 8192</td><td>0 .. 0</td><td>1.8660254 .. 1.8660254</td><td>0 .. 0</td><td>0 .. 0</td><td>21.477500000001772 .. 1.0</td><td>21.480000000001773 .. 1.0025</td></tr>\n",
       "<tr><td>4</td><td>1</td><td>1</td><td>1</td><td>4100.3247</td><td>4115.9844</td><td>1 .. 8192</td><td>0 .. 0</td><td>1.8660254 .. 1.8660254</td><td>0 .. 0</td><td>0 .. 0</td><td>21.477500000001772 .. 1.0</td><td>21.480000000001773 .. 1.0025</td></tr>\n",
       "<tr><td>5</td><td>2</td><td>1</td><td>1</td><td>4100.3247</td><td>4115.9844</td><td>1 .. 8192</td><td>0 .. 0</td><td>1.8660254 .. 1.8660254</td><td>0 .. 0</td><td>0 .. 0</td><td>10.738750000000886 .. 0.5</td><td>10.740000000000887 .. 0.50125</td></tr>\n",
       "<tr><td>6</td><td>3</td><td>1</td><td>1</td><td>4100.3247</td><td>4115.9844</td><td>1 .. 8192</td><td>0 .. 0</td><td>1.8660254 .. 1.8660254</td><td>0 .. 0</td><td>0 .. 0</td><td>7.159166666667378 .. 0.3333333333333333</td><td>7.160000000000712 .. 0.33416666666666667</td></tr>\n",
       "<tr><td>7</td><td>-3</td><td>2</td><td>1</td><td>4100.3247</td><td>4115.9844</td><td>1 .. 8192</td><td>0 .. 0</td><td>1.8660254 .. 1.8660254</td><td>0 .. 0</td><td>0 .. 0</td><td>13.985000000001373 .. 0.3333333333333333</td><td>13.98666666666804 .. 0.33499999999999996</td></tr>\n",
       "<tr><td>8</td><td>-2</td><td>2</td><td>1</td><td>4100.3247</td><td>4115.9844</td><td>1 .. 8192</td><td>0 .. 0</td><td>1.8660254 .. 1.8660254</td><td>0 .. 0</td><td>0 .. 0</td><td>20.977500000001505 .. 0.5</td><td>20.980000000001507 .. 0.5025</td></tr>\n",
       "<tr><td>9</td><td>-1</td><td>2</td><td>1</td><td>4100.3247</td><td>4115.9844</td><td>1 .. 8192</td><td>0 .. 0</td><td>1.8660254 .. 1.8660254</td><td>0 .. 0</td><td>0 .. 0</td><td>41.95500000000301 .. 1.0</td><td>41.960000000003014 .. 1.005</td></tr>\n",
       "<tr><td>10</td><td>1</td><td>2</td><td>1</td><td>4100.3247</td><td>4115.9844</td><td>1 .. 8192</td><td>0 .. 0</td><td>1.8660254 .. 1.8660254</td><td>0 .. 0</td><td>0 .. 0</td><td>41.95500000000301 .. 1.0</td><td>41.960000000003014 .. 1.005</td></tr>\n",
       "<tr><td>11</td><td>2</td><td>2</td><td>1</td><td>4100.3247</td><td>4115.9844</td><td>1 .. 8192</td><td>0 .. 0</td><td>1.8660254 .. 1.8660254</td><td>0 .. 0</td><td>0 .. 0</td><td>20.977500000001505 .. 0.5</td><td>20.980000000001507 .. 0.5025</td></tr>\n",
       "<tr><td>12</td><td>3</td><td>2</td><td>1</td><td>4100.3247</td><td>4115.9844</td><td>1 .. 8192</td><td>0 .. 0</td><td>1.8660254 .. 1.8660254</td><td>0 .. 0</td><td>0 .. 0</td><td>13.985000000001373 .. 0.3333333333333333</td><td>13.98666666666804 .. 0.33499999999999996</td></tr>\n",
       "</table>"
      ],
      "text/plain": [
       "<Table length=12>\n",
       "SPEC_NUM  TG_M ...              BIN_HI [8192]              \n",
       " int16   int16 ...                 float64                 \n",
       "-------- ----- ... ----------------------------------------\n",
       "       1    -3 ... 7.160000000000712 .. 0.33416666666666667\n",
       "       2    -2 ...            10.740000000000887 .. 0.50125\n",
       "       3    -1 ...             21.480000000001773 .. 1.0025\n",
       "       4     1 ...             21.480000000001773 .. 1.0025\n",
       "       5     2 ...            10.740000000000887 .. 0.50125\n",
       "       6     3 ... 7.160000000000712 .. 0.33416666666666667\n",
       "       7    -3 ... 13.98666666666804 .. 0.33499999999999996\n",
       "       8    -2 ...             20.980000000001507 .. 0.5025\n",
       "       9    -1 ...              41.960000000003014 .. 1.005\n",
       "      10     1 ...              41.960000000003014 .. 1.005\n",
       "      11     2 ...             20.980000000001507 .. 0.5025\n",
       "      12     3 ... 13.98666666666804 .. 0.33499999999999996"
      ]
     },
     "execution_count": 17,
     "metadata": {},
     "output_type": "execute_result"
    }
   ],
   "source": [
    "spec_table=Table(hdu_list[1].data)\n",
    "spec_table"
   ]
  },
  {
   "cell_type": "markdown",
   "metadata": {},
   "source": [
    "Extension: Making a \"quick look\" spectrum. For our purposes, the 1st order of the HEG grating data would be sufficient."
   ]
  },
  {
   "cell_type": "code",
   "execution_count": 18,
   "metadata": {},
   "outputs": [
    {
     "data": {
      "image/png": "[encoded data removed]",
      "text/plain": [
       "<matplotlib.figure.Figure at 0x1031e68d0>"
      ]
     },
     "metadata": {},
     "output_type": "display_data"
    }
   ],
   "source": [
    "j=1\n",
    "for i in range(len(spec_table)):\n",
    "    matplotlib.rcParams['figure.figsize'] = (8, 3)\n",
    "    if abs(spec_table['TG_M'][i]) == 1 and (spec_table['TG_PART'][i]) == 1:\n",
    "        ax=plt.subplot(1,2,j)\n",
    "        pha = plt.plot( spec_table['CHANNEL'][i],spec_table['COUNTS'][i])\n",
    "        ax.set_yscale('log')\n",
    "        if spec_table['TG_PART'][i] == 1:\n",
    "            instr='HEG'\n",
    "        ax.set_title(\"{grating}{order:+d}\".format(grating=instr, order=spec_table['TG_M'][i]))\n",
    "        plt.tight_layout()\n",
    "        j=j+1\n"
   ]
  },
  {
   "cell_type": "markdown",
   "metadata": {},
   "source": [
    "This can then be analyzed in your favorite spectral analysis tool, e.g., [pyXspec](https://heasarc.gsfc.nasa.gov/xanadu/xspec/python/html/index.html).  (For the winter 2018 AAS workshop, we demonstrated this in a [notebook](https://github.com/NASA-NAVO/aas_workshop_2018/blob/master/heasarc/heasarc_Spectral_Access.ipynb) that you can consult for how to use pyXspec, but the pyXspec documentation will have more information.) "
   ]
  },
  {
   "cell_type": "markdown",
   "metadata": {},
   "source": [
    "Congratulations! You have completed this notebook exercise."
   ]
  }
 ],
 "metadata": {
  "anaconda-cloud": {},
  "kernelspec": {
   "display_name": "Python 3",
   "language": "python",
   "name": "python3"
  },
  "language_info": {
   "codemirror_mode": {
    "name": "ipython",
    "version": 3
   },
   "file_extension": ".py",
   "mimetype": "text/x-python",
   "name": "python",
   "nbconvert_exporter": "python",
   "pygments_lexer": "ipython3",
   "version": "3.6.5"
  },
  "nav_menu": {},
  "toc": {
   "navigate_menu": true,
   "number_sections": true,
   "sideBar": true,
   "threshold": 6,
   "toc_cell": false,
   "toc_section_display": "block",
   "toc_window_display": true
  }
 },
 "nbformat": 4,
 "nbformat_minor": 2
}
