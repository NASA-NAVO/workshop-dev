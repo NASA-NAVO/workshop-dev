{
 "cells": [
  {
   "cell_type": "markdown",
   "metadata": {},
   "source": [
    "# Science User Case - Inspecting a Candidate List"
   ]
  },
  {
   "cell_type": "markdown",
   "metadata": {},
   "source": [
    "Ogle et al. (2016) mined the NASA/IPAC Extragalactic Database (NED) to identify a new type of galaxy: Superluminous Spiral Galaxies. Here's the paper: \n",
    "\n",
    "Here's the paper: https://ui.adsabs.harvard.edu/abs/2016ApJ...817..109O/abstract \n",
    "\n",
    "Table 1 lists the positions of these Super Spirals. Based on those positions, let's create multiwavelength cutouts for each super spiral to see what is unique about this new class of objects."
   ]
  },
  {
   "cell_type": "markdown",
   "metadata": {},
   "source": [
    "Import some python modules so we don't get inundated with unimportant warnings when we run our notebook cells."
   ]
  },
  {
   "cell_type": "code",
   "execution_count": null,
   "metadata": {},
   "outputs": [],
   "source": [
    "import warnings\n",
    "#warnings.filterwarnings(\"ignore\")\n",
    "import sys\n",
    "#sys.path.append('workshop-dev-master')\n",
    "#from navo_utils.image import Image, ImageColumn\n",
    "#from navo_utils.spectra import Spectra, SpectraColumn\n",
    "#from navo_utils.cone import Cone\n",
    "#from navo_utils.tap import Tap\n",
    "#from navo_utils.utils import astropy_table_from_votable_response\n",
    "from astropy.table import Table\n",
    "\n",
    "import pyvo as vo\n",
    "\n",
    "# Utility functions used in the workshop.\n",
    "#import navo_utils.utils"
   ]
  },
  {
   "cell_type": "markdown",
   "metadata": {},
   "source": [
    "## Search NED for objects in this paper."
   ]
  },
  {
   "cell_type": "code",
   "execution_count": null,
   "metadata": {},
   "outputs": [],
   "source": [
    "from astroquery.ned import Ned\n",
    "objects_in_paper = Ned.query_refcode('2016ApJ...817..109O')\n",
    "objects_in_paper.show_in_notebook()"
   ]
  },
  {
   "cell_type": "markdown",
   "metadata": {},
   "source": [
    "## The NED query returns all objects in the paper, not just the galaxies in Table 1. Let's filter these results to only include the galaxies."
   ]
  },
  {
   "cell_type": "markdown",
   "metadata": {},
   "source": [
    "Hint: There is a difference between strings and byte strings"
   ]
  },
  {
   "cell_type": "code",
   "execution_count": null,
   "metadata": {},
   "outputs": [],
   "source": [
    "#Let's see whether we are dealing with strings or byte strings\n",
    "objects_in_paper['Type'].data[0]"
   ]
  },
  {
   "cell_type": "code",
   "execution_count": null,
   "metadata": {},
   "outputs": [],
   "source": [
    "#Byte strings it is!\n",
    "galaxies = objects_in_paper[objects_in_paper['Type'] == b'G']\n",
    "\n",
    "galaxies.show_in_notebook()"
   ]
  },
  {
   "cell_type": "markdown",
   "metadata": {},
   "source": [
    "# Search the NAVO Registry for WISE, GALEX, and SDSS image services"
   ]
  },
  {
   "cell_type": "code",
   "execution_count": null,
   "metadata": {},
   "outputs": [],
   "source": [
    "#from navo_utils.registry import Registry\n",
    "\n",
    "#wise_services = Registry.query(keyword='allwise', service_type='image')\n",
    "\n",
    "#print(f'{len(wise_services)} result(s) found.')\n",
    "\n"
   ]
  },
  {
   "cell_type": "markdown",
   "metadata": {},
   "source": [
    "Let's define a dictionary for storing the services we select."
   ]
  },
  {
   "cell_type": "code",
   "execution_count": null,
   "metadata": {},
   "outputs": [],
   "source": [
    "myservices = {}"
   ]
  },
  {
   "cell_type": "code",
   "execution_count": null,
   "metadata": {},
   "outputs": [],
   "source": [
    "wise_services = vo.regsearch(servicetype='image', keywords=['allwise'])#, 'NASA/IPAC Infrared Science Archive']) #, waveband='uv')\n",
    "\n",
    "wise_services.to_table()['ivoid', 'short_name', 'res_title']"
   ]
  },
  {
   "cell_type": "markdown",
   "metadata": {},
   "source": [
    "It's the one we want! Store this service."
   ]
  },
  {
   "cell_type": "code",
   "execution_count": null,
   "metadata": {},
   "outputs": [],
   "source": [
    "myservices['wise'] = wise_services[0]"
   ]
  },
  {
   "cell_type": "code",
   "execution_count": null,
   "metadata": {},
   "outputs": [],
   "source": [
    "myservices['wise']['access_url']"
   ]
  },
  {
   "cell_type": "code",
   "execution_count": null,
   "metadata": {},
   "outputs": [],
   "source": [
    "# galex_services = Registry.query(keyword='galex', service_type='image')\n",
    "\n",
    "galex_services=vo.regsearch(servicetype='image',keywords=['galex'])\n",
    "\n",
    "galex_services.to_table()['ivoid', 'short_name', 'res_title']"
   ]
  },
  {
   "cell_type": "markdown",
   "metadata": {},
   "source": [
    "Use the first one as it is the general GALEX image service."
   ]
  },
  {
   "cell_type": "code",
   "execution_count": null,
   "metadata": {},
   "outputs": [],
   "source": [
    "myservices['galex'] = galex_services[0]"
   ]
  },
  {
   "cell_type": "code",
   "execution_count": null,
   "metadata": {},
   "outputs": [],
   "source": [
    "myservices['galex']['access_url']"
   ]
  },
  {
   "cell_type": "code",
   "execution_count": null,
   "metadata": {},
   "outputs": [],
   "source": [
    "#sdss_services = Registry.query(keyword='sdss', service_type='image')\n",
    "\n",
    "sdss_services = vo.regsearch(servicetype='image', keywords=['sdss'])\n",
    "\n",
    "sdss_services.to_table()['ivoid', 'short_name', 'res_title']"
   ]
  },
  {
   "cell_type": "code",
   "execution_count": null,
   "metadata": {},
   "outputs": [],
   "source": [
    "myservices['sdss'] = sdss_services[3]"
   ]
  },
  {
   "cell_type": "markdown",
   "metadata": {},
   "source": [
    "# For each position, show the corresponding WISE, GALEX, and SDSS images."
   ]
  },
  {
   "cell_type": "code",
   "execution_count": null,
   "metadata": {},
   "outputs": [],
   "source": [
    "from astropy.coordinates import SkyCoord  # High-level coordinates\n",
    "#from navo_utils.image import Image\n",
    "import astropy.units as u #is this needed?\n",
    "\n",
    "from IPython.display import Image as ipImage, display"
   ]
  },
  {
   "cell_type": "code",
   "execution_count": null,
   "metadata": {},
   "outputs": [],
   "source": [
    "#    missions = ['GALEX', '2MASS', 'AllWISE']\n",
    "\n",
    "#    base_urls = ['http://mast.stsci.edu/portal_vo/Mashup/VoQuery.asmx/SiaV1?MISSION=GALEX&amp;', \n",
    "#             'http://irsa.ipac.caltech.edu/ibe/sia/twomass/allsky/allsky?',\n",
    "#             'https://irsa.ipac.caltech.edu/ibe/sia/wise/allwise/p3am_cdd?']\n",
    "\n",
    "    #Create an astropy table with this info.\n",
    "#    search_list = Table([missions, base_urls], names = ('mission', 'access_url'))\n",
    "\n",
    "#    size = '0'  #diameter in degrees"
   ]
  },
  {
   "cell_type": "code",
   "execution_count": null,
   "metadata": {},
   "outputs": [],
   "source": [
    "from navo_utils.image import Image"
   ]
  },
  {
   "cell_type": "code",
   "execution_count": null,
   "metadata": {},
   "outputs": [],
   "source": [
    "for object in galaxies[:2]:\n",
    "    pos = SkyCoord(object['RA'], object['DEC'], frame=\"icrs\", unit=(u.deg, u.deg))\n",
    "    print('Position: ', pos)\n",
    "    print(Image.query(service=myservices['wise'],coords=pos,radius=0))"
   ]
  },
  {
   "cell_type": "code",
   "execution_count": null,
   "metadata": {},
   "outputs": [],
   "source": [
    "results = {}\n",
    "\n",
    "for object in galaxies[:2]:\n",
    "    pos = SkyCoord(object['RA'], object['DEC'], frame=\"icrs\", unit=(u.deg, u.deg))\n",
    "    print('Position: ', pos)\n",
    "    for mission in ['galex', 'sdss', 'wise']:\n",
    "        \n",
    "        results[mission] = myservices[mission].search(pos=pos,\n",
    "                                                      size=1*u.deg,\n",
    "                                                      #format='image/jpeg',\n",
    "                                                      verbosity=2)\n",
    "        #wise_results = Image.query(coords=pos, radius=size, service=wise_services[0])\n",
    "        im_table = results[mission]\n",
    "        print(mission, len(im_table.to_table()))\n",
    "        for row in im_table:\n",
    "            img = ipImage(url=row.getdataurl())\n",
    "            display(img)\n",
    "        #table.show_in_notebook()\n",
    "        #galex_results = Image.query(coords=pos, radius=size, service=galex_services[0])\n",
    "\n",
    "        #sdss_results = Image.query(coords=pos, radius=size, service=sdss_services[0])\n",
    "        \n",
    "        #xid = SDSS.query_region(pos, spectro=True) #requires matches to have spectroscopy, not just photometry:\n",
    "        #im = SDSS.get_images(matches=xid, band='g')"
   ]
  },
  {
   "cell_type": "markdown",
   "metadata": {},
   "source": [
    "## Grab the SDSS images for each super spiral"
   ]
  },
  {
   "cell_type": "code",
   "execution_count": null,
   "metadata": {},
   "outputs": [],
   "source": [
    "from astroquery.sdss import SDSS\n",
    "from astropy.coordinates import SkyCoord  # High-level coordinates\n",
    "import astropy.units as u\n",
    "\n",
    "for object in galaxies:\n",
    "    pos = SkyCoord(object['RA'], object['DEC'], frame=\"icrs\", unit=(u.deg, u.deg))\n",
    "    xid = SDSS.query_region(pos, spectro=True) #requires matches to have spectroscopy, not just photometry:\n",
    "    im = SDSS.get_images(matches=xid, band='g')"
   ]
  },
  {
   "cell_type": "code",
   "execution_count": null,
   "metadata": {},
   "outputs": [],
   "source": []
  }
 ],
 "metadata": {
  "kernelspec": {
   "display_name": "Python 3",
   "language": "python",
   "name": "python3"
  },
  "language_info": {
   "codemirror_mode": {
    "name": "ipython",
    "version": 3
   },
   "file_extension": ".py",
   "mimetype": "text/x-python",
   "name": "python",
   "nbconvert_exporter": "python",
   "pygments_lexer": "ipython3",
   "version": "3.6.7"
  }
 },
 "nbformat": 4,
 "nbformat_minor": 4
}
